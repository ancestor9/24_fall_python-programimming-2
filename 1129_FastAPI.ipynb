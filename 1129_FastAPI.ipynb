{
  "nbformat": 4,
  "nbformat_minor": 0,
  "metadata": {
    "colab": {
      "provenance": [],
      "authorship_tag": "ABX9TyNQ1E4ZTCks1XuFzPMmZhvV",
      "include_colab_link": true
    },
    "kernelspec": {
      "name": "python3",
      "display_name": "Python 3"
    },
    "language_info": {
      "name": "python"
    }
  },
  "cells": [
    {
      "cell_type": "markdown",
      "metadata": {
        "id": "view-in-github",
        "colab_type": "text"
      },
      "source": [
        "<a href=\"https://colab.research.google.com/github/ancestor9/24_fall_python-programimming-2/blob/main/1129_FastAPI.ipynb\" target=\"_parent\"><img src=\"https://colab.research.google.com/assets/colab-badge.svg\" alt=\"Open In Colab\"/></a>"
      ]
    },
    {
      "cell_type": "code",
      "source": [
        "# 필수 라이브러리 설치\n",
        "!pip install fastapi uvicorn pyngrok nest-asyncio --quiet"
      ],
      "metadata": {
        "id": "z-G4hG4tUToZ",
        "colab": {
          "base_uri": "https://localhost:8080/"
        },
        "outputId": "cfeb9dd2-4e65-4145-9536-7442a78907c4"
      },
      "execution_count": 1,
      "outputs": [
        {
          "output_type": "stream",
          "name": "stdout",
          "text": [
            "\u001b[?25l   \u001b[90m━━━━━━━━━━━━━━━━━━━━━━━━━━━━━━━━━━━━━━━━\u001b[0m \u001b[32m0.0/94.9 kB\u001b[0m \u001b[31m?\u001b[0m eta \u001b[36m-:--:--\u001b[0m\r\u001b[2K   \u001b[90m━━━━━━━━━━━━━━━━━━━━━━━━━━━━━━━━━━━━━━━━\u001b[0m \u001b[32m94.9/94.9 kB\u001b[0m \u001b[31m4.1 MB/s\u001b[0m eta \u001b[36m0:00:00\u001b[0m\n",
            "\u001b[?25h\u001b[?25l   \u001b[90m━━━━━━━━━━━━━━━━━━━━━━━━━━━━━━━━━━━━━━━━\u001b[0m \u001b[32m0.0/63.8 kB\u001b[0m \u001b[31m?\u001b[0m eta \u001b[36m-:--:--\u001b[0m\r\u001b[2K   \u001b[90m━━━━━━━━━━━━━━━━━━━━━━━━━━━━━━━━━━━━━━━━\u001b[0m \u001b[32m63.8/63.8 kB\u001b[0m \u001b[31m3.2 MB/s\u001b[0m eta \u001b[36m0:00:00\u001b[0m\n",
            "\u001b[?25h\u001b[?25l   \u001b[90m━━━━━━━━━━━━━━━━━━━━━━━━━━━━━━━━━━━━━━━━\u001b[0m \u001b[32m0.0/73.2 kB\u001b[0m \u001b[31m?\u001b[0m eta \u001b[36m-:--:--\u001b[0m\r\u001b[2K   \u001b[90m━━━━━━━━━━━━━━━━━━━━━━━━━━━━━━━━━━━━━━━━\u001b[0m \u001b[32m73.2/73.2 kB\u001b[0m \u001b[31m4.0 MB/s\u001b[0m eta \u001b[36m0:00:00\u001b[0m\n",
            "\u001b[?25h"
          ]
        }
      ]
    },
    {
      "cell_type": "code",
      "source": [
        "# 모듈 임포트\n",
        "from fastapi import FastAPI\n",
        "from pyngrok import ngrok, conf\n",
        "import nest_asyncio\n",
        "import uvicorn"
      ],
      "metadata": {
        "id": "6koR_WoK4Hzl"
      },
      "execution_count": 2,
      "outputs": []
    },
    {
      "cell_type": "code",
      "source": [
        "from google.colab import userdata\n",
        "import pyngrok\n",
        "\n",
        "NGROK_AUTHTOKEN = userdata.get('ngrok')\n",
        "# ngrok 인증 토큰 설정\n",
        "pyngrok.conf.get_default().auth_token = NGROK_AUTHTOKEN"
      ],
      "metadata": {
        "id": "vkRFfdVJ4H12"
      },
      "execution_count": 3,
      "outputs": []
    },
    {
      "cell_type": "code",
      "source": [
        "# FastAPI 앱 생성 및 엔드포인트 정의\n",
        "app = FastAPI()\n",
        "\n",
        "@app.get(\"/\")\n",
        "def root():\n",
        "    return {\"message\": \"Hello, FastAPI with ngrok!\"}\n",
        "\n",
        "@app.get(\"/items/{item_id}\")\n",
        "def read_item(item_id: int, q: str = None):\n",
        "    return {\"item_id\": item_id, \"q\": q}\n",
        "\n",
        "# ngrok 및 서버 실행\n",
        "def start_server():\n",
        "    # ngrok 설정 및 FastAPI 실행\n",
        "    ngrok_tunnel = ngrok.connect(8000)\n",
        "    print(f\"Public URL: {ngrok_tunnel}\")\n",
        "    nest_asyncio.apply()\n",
        "    uvicorn.run(app, host=\"0.0.0.0\", port=8000)\n",
        "\n",
        "# 실행\n",
        "start_server()"
      ],
      "metadata": {
        "colab": {
          "base_uri": "https://localhost:8080/"
        },
        "id": "B03XDZxU44wE",
        "outputId": "c0a0cd35-9b4c-4057-80f2-94652f29c734"
      },
      "execution_count": 4,
      "outputs": [
        {
          "output_type": "stream",
          "name": "stdout",
          "text": []
        },
        {
          "output_type": "stream",
          "name": "stderr",
          "text": [
            "INFO:     Started server process [320]\n",
            "INFO:     Waiting for application startup.\n",
            "INFO:     Application startup complete.\n",
            "INFO:     Uvicorn running on http://0.0.0.0:8000 (Press CTRL+C to quit)\n"
          ]
        },
        {
          "output_type": "stream",
          "name": "stdout",
          "text": [
            "Public URL: NgrokTunnel: \"https://43f9-35-204-149-39.ngrok-free.app\" -> \"http://localhost:8000\"\n"
          ]
        },
        {
          "output_type": "stream",
          "name": "stderr",
          "text": [
            "WARNING:pyngrok.process.ngrok:t=2024-11-27T13:10:47+0000 lvl=warn msg=\"Stopping forwarder\" name=http-8000-fedea17d-488e-4ec2-a904-3b0a5e013683 acceptErr=\"failed to accept connection: Listener closed\"\n",
            "WARNING:pyngrok.process.ngrok:t=2024-11-27T13:10:47+0000 lvl=warn msg=\"Error restarting forwarder\" name=http-8000-fedea17d-488e-4ec2-a904-3b0a5e013683 err=\"failed to start tunnel: session closed\"\n",
            "INFO:     Shutting down\n",
            "INFO:     Waiting for application shutdown.\n",
            "INFO:     Application shutdown complete.\n",
            "INFO:     Finished server process [320]\n"
          ]
        }
      ]
    },
    {
      "cell_type": "markdown",
      "source": [
        "### **Perplexity AI로 코딩**"
      ],
      "metadata": {
        "id": "bLphlJbRUWH1"
      }
    },
    {
      "cell_type": "code",
      "source": [
        "import os\n",
        "\n",
        "from google.colab import userdata\n",
        "YOUR_AUTHTOKEN = userdata.get('ngrok')\n",
        "\n",
        "\n",
        "# ngrok authtoken 설정\n",
        "ngrok.set_auth_token(YOUR_AUTHTOKEN)  # 여기에 실제 authtoken을 입력하세요\n",
        "\n",
        "app = FastAPI()\n",
        "\n",
        "@app.get(\"/\")\n",
        "async def root():\n",
        "    return {\"message\": \"안녕하세요, FastAPI!\"}\n",
        "\n",
        "@app.get(\"/items/{item_id}\")\n",
        "def read_item(item_id: int, q: str = None):\n",
        "    return {\"item_id\": item_id, \"q\": q}\n",
        "\n",
        "# ngrok 설정\n",
        "ngrok_tunnel = ngrok.connect(8000)\n",
        "print('공개 URL:', ngrok_tunnel.public_url)\n",
        "\n",
        "# 비동기 실행을 위한 설정\n",
        "nest_asyncio.apply()\n",
        "\n",
        "# FastAPI 애플리케이션 실행\n",
        "if __name__ == \"__main__\":\n",
        "    uvicorn.run(app, port=8000)"
      ],
      "metadata": {
        "id": "rYWfqbxS9BaN"
      },
      "execution_count": null,
      "outputs": []
    }
  ]
}