{
  "nbformat": 4,
  "nbformat_minor": 0,
  "metadata": {
    "colab": {
      "provenance": [],
      "authorship_tag": "ABX9TyPoebFoOM0QKjS70dmHlyZo",
      "include_colab_link": true
    },
    "kernelspec": {
      "name": "python3",
      "display_name": "Python 3"
    },
    "language_info": {
      "name": "python"
    }
  },
  "cells": [
    {
      "cell_type": "markdown",
      "metadata": {
        "id": "view-in-github",
        "colab_type": "text"
      },
      "source": [
        "<a href=\"https://colab.research.google.com/github/ancestor9/24_fall_python-programimming-2/blob/main/1206_unicode.ipynb\" target=\"_parent\"><img src=\"https://colab.research.google.com/assets/colab-badge.svg\" alt=\"Open In Colab\"/></a>"
      ]
    },
    {
      "cell_type": "code",
      "source": [
        "# 아스키 코드 예제\n",
        "ascii_char = 'A'\n",
        "ascii_code = ord(ascii_char)  # ord() 함수는 문자를 아스키 코드로 변환\n",
        "print(f\"Character: {ascii_char}, ASCII Code: {ascii_code}\")  # 출력: Character: A, ASCII Code: 65\n",
        "\n",
        "# 유니코드 예제\n",
        "unicode_char = '가'  # 한글 문자 '가'\n",
        "unicode_code = ord(unicode_char)  # 유니코드 코드 포인트 반환\n",
        "print(f\"Character: {unicode_char}, Unicode Code: {unicode_code}\")  # 출력: Character: 가, Unicode Code: 44032\n",
        "\n",
        "# 유니코드 이모지 출력\n",
        "emoji_char = '😊'\n",
        "emoji_code = ord(emoji_char)\n",
        "print(f\"Character: {emoji_char}, Unicode Code: {emoji_code}\")  # 출력: Character: 😊, Unicode Code: 128522\n",
        "\n",
        "# 코드 포인트를 문자로 변환하기\n",
        "ascii_code_point = 65\n",
        "unicode_code_point = 44032\n",
        "print(f\"ASCII Code Point {ascii_code_point} as Character: {chr(ascii_code_point)}\")  # 출력: ASCII Code Point 65 as Character: A\n",
        "print(f\"Unicode Code Point {unicode_code_point} as Character: {chr(unicode_code_point)}\")  # 출력: Unicode Code Point 44032 as Character: 가\n"
      ],
      "metadata": {
        "colab": {
          "base_uri": "https://localhost:8080/"
        },
        "id": "8va3Gk1ikMxr",
        "outputId": "38caa66c-c813-4a19-b1ba-756276777213"
      },
      "execution_count": null,
      "outputs": [
        {
          "output_type": "stream",
          "name": "stdout",
          "text": [
            "Character: A, ASCII Code: 65\n",
            "Character: 가, Unicode Code: 44032\n",
            "Character: 😊, Unicode Code: 128522\n",
            "ASCII Code Point 65 as Character: A\n",
            "Unicode Code Point 44032 as Character: 가\n"
          ]
        }
      ]
    },
    {
      "cell_type": "markdown",
      "source": [
        "### **Encode**\n",
        "- You **encode a string to bytes**. The string encode() function’s first argument is the encoding name."
      ],
      "metadata": {
        "id": "whkC-rvvmHPc"
      }
    },
    {
      "cell_type": "markdown",
      "source": [
        "유니코드 문자열 정의 및 길이 확인:\n",
        "- snowman이라는 변수에 유니코드 문자를 저장하고, 이 문자열의 길이를 확인합니다.\n",
        "유니코드 문자는 화면상에서 보이는 문자 1개이므로 길이는 1입니다."
      ],
      "metadata": {
        "id": "zroONS07oeE1"
      }
    },
    {
      "cell_type": "code",
      "source": [
        "# 유니코드 문자열 생성\n",
        "snowman = '\\u2603'  # 유니코드 문자 '눈사람'\n",
        "print(f\"Snowman Character: {snowman}\")  # 출력: ☃\n",
        "print(f\"Length of Snowman (as Unicode): {len(snowman)}\")  # 출력: 1"
      ],
      "metadata": {
        "colab": {
          "base_uri": "https://localhost:8080/"
        },
        "id": "RL0C1T_yn4E4",
        "outputId": "23b011c6-d426-430d-efd0-48e3151ad2de"
      },
      "execution_count": null,
      "outputs": [
        {
          "output_type": "stream",
          "name": "stdout",
          "text": [
            "Snowman Character: ☃\n",
            "Length of Snowman (as Unicode): 1\n"
          ]
        }
      ]
    },
    {
      "cell_type": "code",
      "source": [
        "# UTF-8로 인코딩\n",
        "ds = snowman.encode('utf-8')\n",
        "print(f\"UTF-8 Encoded Bytes: {ds}\")  # 출력: b'\\xe2\\x98\\x83'\n",
        "print(f\"Length of UTF-8 Encoded Snowman: {len(ds)}\")  # 출력: 3"
      ],
      "metadata": {
        "colab": {
          "base_uri": "https://localhost:8080/"
        },
        "id": "hWd6r56boVeU",
        "outputId": "79e31495-8040-4986-cc83-2c50e7c16520"
      },
      "execution_count": null,
      "outputs": [
        {
          "output_type": "stream",
          "name": "stdout",
          "text": [
            "UTF-8 Encoded Bytes: b'\\xe2\\x98\\x83'\n",
            "Length of UTF-8 Encoded Snowman: 3\n"
          ]
        }
      ]
    },
    {
      "cell_type": "code",
      "source": [
        "try:\n",
        "    ds_ascii = snowman.encode('ascii')\n",
        "except UnicodeEncodeError as e:\n",
        "    print(f\"Error: {e}\")\n",
        "# 출력: UnicodeEncodeError: 'ascii' codec can't encode character '\\u2603' in position 0: ordinal not in range(128)"
      ],
      "metadata": {
        "colab": {
          "base_uri": "https://localhost:8080/"
        },
        "id": "WM_31yhcopDV",
        "outputId": "3c4d3c2d-502f-4feb-e34f-aabb5c81bf9e"
      },
      "execution_count": null,
      "outputs": [
        {
          "output_type": "stream",
          "name": "stdout",
          "text": [
            "Error: 'ascii' codec can't encode character '\\u2603' in position 0: ordinal not in range(128)\n"
          ]
        }
      ]
    },
    {
      "cell_type": "markdown",
      "source": [
        "### **Decode**\n",
        "We **decode byte strings to Unicode text strings**."
      ],
      "metadata": {
        "id": "koHINR6so1Oa"
      }
    },
    {
      "cell_type": "code",
      "source": [
        "# 유니코드 문자열 생성\n",
        "place = 'caf\\u00e9'  # '\\u00e9'는 'é'의 유니코드 표현입니다.\n",
        "print(place)  # 출력: café\n",
        "\n",
        "# UTF-8로 인코딩\n",
        "place_bytes = place.encode('utf-8')\n",
        "print(place_bytes)  # 출력: b'caf\\xc3\\xa9'\n",
        "print(type(place_bytes))  # 출력: <class 'bytes'>"
      ],
      "metadata": {
        "colab": {
          "base_uri": "https://localhost:8080/"
        },
        "id": "6i-XWliJpY2O",
        "outputId": "45b67b39-e60a-4da4-f5c4-dfe117bc66ac"
      },
      "execution_count": null,
      "outputs": [
        {
          "output_type": "stream",
          "name": "stdout",
          "text": [
            "café\n",
            "b'caf\\xc3\\xa9'\n",
            "<class 'bytes'>\n"
          ]
        }
      ]
    },
    {
      "cell_type": "markdown",
      "source": [
        "### UTF-8로 인코딩된 바이트를 디코딩"
      ],
      "metadata": {
        "id": "VhRKZlyop2FK"
      }
    },
    {
      "cell_type": "code",
      "source": [
        "# UTF-8로 디코딩\n",
        "place2 = place_bytes.decode('utf-8')\n",
        "print(place2)  # 출력: café"
      ],
      "metadata": {
        "colab": {
          "base_uri": "https://localhost:8080/"
        },
        "id": "D-f4VMASqBOP",
        "outputId": "e48dfdcb-0fe7-409d-eb8f-462d428e382d"
      },
      "execution_count": null,
      "outputs": [
        {
          "output_type": "stream",
          "name": "stdout",
          "text": [
            "café\n"
          ]
        }
      ]
    },
    {
      "cell_type": "code",
      "source": [
        "try:\n",
        "    place3 = place_bytes.decode('ascii')\n",
        "except UnicodeDecodeError as e:\n",
        "    print(f\"Error: {e}\")\n",
        "# 출력: UnicodeDecodeError: 'ascii' codec can't decode byte 0xc3 in position 3: ordinal not in range(128)\n"
      ],
      "metadata": {
        "colab": {
          "base_uri": "https://localhost:8080/"
        },
        "id": "7sa8gczgqGG-",
        "outputId": "f834291b-9d5b-44d9-bf22-c64cc6371f63"
      },
      "execution_count": null,
      "outputs": [
        {
          "output_type": "stream",
          "name": "stdout",
          "text": [
            "Error: 'ascii' codec can't decode byte 0xc3 in position 3: ordinal not in range(128)\n"
          ]
        }
      ]
    },
    {
      "cell_type": "markdown",
      "source": [
        "### Python에서는 HTML 엔티티를 이용해 유니코드 문자를 변환"
      ],
      "metadata": {
        "id": "1h7jQB9KqWgi"
      }
    },
    {
      "cell_type": "code",
      "source": [
        "import html\n",
        "\n",
        "# HTML 엔티티에서 유니코드로 변환\n",
        "char = html.unescape(\"&egrave;\")\n",
        "print(char)  # 출력: è\n",
        "\n",
        "# 숫자 엔티티를 유니코드로 변환\n",
        "char_decimal = html.unescape(\"&#233;\")\n",
        "print(char_decimal)  # 출력: é\n"
      ],
      "metadata": {
        "colab": {
          "base_uri": "https://localhost:8080/"
        },
        "id": "8seNFVvUqlr4",
        "outputId": "d94ef4df-8653-4f4e-c6c7-a3e92339e3ac"
      },
      "execution_count": null,
      "outputs": [
        {
          "output_type": "stream",
          "name": "stdout",
          "text": [
            "è\n",
            "é\n"
          ]
        }
      ]
    },
    {
      "cell_type": "code",
      "source": [
        "from html.entities import html5\n",
        "\n",
        "# HTML 엔티티 이름 얻기\n",
        "print(html5[\"egrave\"])  # 출력: è"
      ],
      "metadata": {
        "colab": {
          "base_uri": "https://localhost:8080/"
        },
        "id": "MzslrEytqryg",
        "outputId": "e418848d-2228-4ea4-f7f1-17dce1ad0727"
      },
      "execution_count": null,
      "outputs": [
        {
          "output_type": "stream",
          "name": "stdout",
          "text": [
            "è\n"
          ]
        }
      ]
    },
    {
      "cell_type": "code",
      "source": [
        "import html\n",
        "\n",
        "# HTML 엔티티 문자열을 유니코드 문자열로 변환하기\n",
        "html_string = \"&lt;div&gt;Hello &amp; Welcome to HTML Entities!&lt;/div&gt;\"\n",
        "decoded_string = html.unescape(html_string)\n",
        "\n",
        "print(f\"Original HTML Entity String: {html_string}\")\n",
        "print(f\"Decoded String: {decoded_string}\")\n"
      ],
      "metadata": {
        "colab": {
          "base_uri": "https://localhost:8080/"
        },
        "id": "mto64OFAq0zB",
        "outputId": "6027756e-950f-485b-a9ca-c1b10ce53e6f"
      },
      "execution_count": null,
      "outputs": [
        {
          "output_type": "stream",
          "name": "stdout",
          "text": [
            "Original HTML Entity String: &lt;div&gt;Hello &amp; Welcome to HTML Entities!&lt;/div&gt;\n",
            "Decoded String: <div>Hello & Welcome to HTML Entities!</div>\n"
          ]
        }
      ]
    },
    {
      "cell_type": "code",
      "source": [],
      "metadata": {
        "id": "NA3fukMJrM2Y"
      },
      "execution_count": null,
      "outputs": []
    }
  ]
}