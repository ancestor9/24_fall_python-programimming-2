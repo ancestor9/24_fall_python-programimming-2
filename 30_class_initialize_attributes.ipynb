{
  "nbformat": 4,
  "nbformat_minor": 0,
  "metadata": {
    "colab": {
      "provenance": [],
      "authorship_tag": "ABX9TyN3oDlsft1HKYUzpDFntiUy",
      "include_colab_link": true
    },
    "kernelspec": {
      "name": "python3",
      "display_name": "Python 3"
    },
    "language_info": {
      "name": "python"
    }
  },
  "cells": [
    {
      "cell_type": "markdown",
      "metadata": {
        "id": "view-in-github",
        "colab_type": "text"
      },
      "source": [
        "<a href=\"https://colab.research.google.com/github/ancestor9/24_fall_python-programimming-2/blob/main/30_class_initialize_attributes.ipynb\" target=\"_parent\"><img src=\"https://colab.research.google.com/assets/colab-badge.svg\" alt=\"Open In Colab\"/></a>"
      ]
    },
    {
      "cell_type": "markdown",
      "source": [
        "# **<font color='blue'> Class = Chef**\n",
        "> ### **Understanding Class와 속성, 인스터스**"
      ],
      "metadata": {
        "id": "O86TBWSOL4l0"
      }
    },
    {
      "cell_type": "code",
      "execution_count": null,
      "metadata": {
        "id": "FErywBgV-GCq"
      },
      "outputs": [],
      "source": [
        "class Cheff:\n",
        "    pass"
      ]
    },
    {
      "cell_type": "markdown",
      "source": [
        "- **Cheff** : without parentheses is a class definition.\n",
        ">> It defines a blueprint for creating objects. Cheff is **an empty class with no attributes or methods defined.** It's just a shell that can be used to create instances of the Cheff class.\n",
        "\n",
        "- **Cheff()**:\n",
        ">> Cheff() with parentheses is used **to create an instance (object) of the Cheff class**. When you call Cheff(), it creates a new object based on the blueprint defined by the Cheff class. This object can then be used to store data (attributes) and perform actions (methods) defined within the class."
      ],
      "metadata": {
        "id": "VJLXL_dpK0xN"
      }
    },
    {
      "cell_type": "code",
      "source": [
        "Cheff"
      ],
      "metadata": {
        "colab": {
          "base_uri": "https://localhost:8080/"
        },
        "id": "5z2OUPyJIHeO",
        "outputId": "00a35862-b83c-4e02-9822-8280655433ef"
      },
      "execution_count": null,
      "outputs": [
        {
          "output_type": "execute_result",
          "data": {
            "text/plain": [
              "__main__.Cheff"
            ]
          },
          "metadata": {},
          "execution_count": 2
        }
      ]
    },
    {
      "cell_type": "code",
      "source": [
        "__name__ == '__main__'"
      ],
      "metadata": {
        "colab": {
          "base_uri": "https://localhost:8080/"
        },
        "id": "ZnQ8ewBvm6AT",
        "outputId": "ed0cf4a5-066d-47d4-cad8-6e26e6e589ba"
      },
      "execution_count": null,
      "outputs": [
        {
          "output_type": "execute_result",
          "data": {
            "text/plain": [
              "True"
            ]
          },
          "metadata": {},
          "execution_count": 3
        }
      ]
    },
    {
      "cell_type": "code",
      "source": [
        "Cheff()"
      ],
      "metadata": {
        "colab": {
          "base_uri": "https://localhost:8080/"
        },
        "id": "Vg0g9T2sIOIL",
        "outputId": "cdbb632c-6c6e-427a-e390-d05da8bcb3fc"
      },
      "execution_count": null,
      "outputs": [
        {
          "output_type": "execute_result",
          "data": {
            "text/plain": [
              "<__main__.Cheff at 0x79be007e9ba0>"
            ]
          },
          "metadata": {},
          "execution_count": 4
        }
      ]
    },
    {
      "cell_type": "markdown",
      "source": [
        "\n",
        "\n",
        "\n",
        "#### **함수와 다른 점**"
      ],
      "metadata": {
        "id": "6sa0FFVim_sp"
      }
    },
    {
      "cell_type": "code",
      "source": [
        "def hello():\n",
        "    print('Hi Hello')"
      ],
      "metadata": {
        "id": "5sexsHV1ISMn"
      },
      "execution_count": null,
      "outputs": []
    },
    {
      "cell_type": "code",
      "source": [
        "hello"
      ],
      "metadata": {
        "colab": {
          "base_uri": "https://localhost:8080/",
          "height": 103
        },
        "id": "p6itYi08ISP8",
        "outputId": "09b2f9f7-0f01-40b8-ddaa-86451a7a788b"
      },
      "execution_count": null,
      "outputs": [
        {
          "output_type": "execute_result",
          "data": {
            "text/plain": [
              "<function __main__.hello()>"
            ],
            "text/html": [
              "<div style=\"max-width:800px; border: 1px solid var(--colab-border-color);\"><style>\n",
              "      pre.function-repr-contents {\n",
              "        overflow-x: auto;\n",
              "        padding: 8px 12px;\n",
              "        max-height: 500px;\n",
              "      }\n",
              "\n",
              "      pre.function-repr-contents.function-repr-contents-collapsed {\n",
              "        cursor: pointer;\n",
              "        max-height: 100px;\n",
              "      }\n",
              "    </style>\n",
              "    <pre style=\"white-space: initial; background:\n",
              "         var(--colab-secondary-surface-color); padding: 8px 12px;\n",
              "         border-bottom: 1px solid var(--colab-border-color);\"><b>hello</b><br/>def hello()</pre><pre class=\"function-repr-contents function-repr-contents-collapsed\" style=\"\"><a class=\"filepath\" style=\"display:none\" href=\"#\">/content/&lt;ipython-input-5-b620bea327cf&gt;</a>&lt;no docstring&gt;</pre></div>"
            ]
          },
          "metadata": {},
          "execution_count": 6
        }
      ]
    },
    {
      "cell_type": "code",
      "source": [
        "hello()"
      ],
      "metadata": {
        "colab": {
          "base_uri": "https://localhost:8080/"
        },
        "id": "I64ZDAmZIZ3b",
        "outputId": "d1423a29-9e60-4b65-cfac-dc7268aad989"
      },
      "execution_count": null,
      "outputs": [
        {
          "output_type": "stream",
          "name": "stdout",
          "text": [
            "Hi Hello\n"
          ]
        }
      ]
    },
    {
      "cell_type": "code",
      "source": [
        "Cheff.id = '01'  # Cheff 클래스 자체에 새로운 클래스 속성을 추가"
      ],
      "metadata": {
        "id": "L_LQnFH3IjDU"
      },
      "execution_count": null,
      "outputs": []
    },
    {
      "cell_type": "code",
      "source": [
        "Cheff.id"
      ],
      "metadata": {
        "colab": {
          "base_uri": "https://localhost:8080/",
          "height": 35
        },
        "id": "g32dI_5KIqYU",
        "outputId": "c864b1e7-2a39-47ff-c9fc-e2903b773566"
      },
      "execution_count": null,
      "outputs": [
        {
          "output_type": "execute_result",
          "data": {
            "text/plain": [
              "'01'"
            ],
            "application/vnd.google.colaboratory.intrinsic+json": {
              "type": "string"
            }
          },
          "metadata": {},
          "execution_count": 9
        }
      ]
    },
    {
      "cell_type": "code",
      "source": [
        "Cheff.name = 'Tom'\n",
        "Cheff.name"
      ],
      "metadata": {
        "colab": {
          "base_uri": "https://localhost:8080/",
          "height": 35
        },
        "id": "LAnA9V4QiF4g",
        "outputId": "48176f17-a5ec-496b-94ec-3a089a69bf27"
      },
      "execution_count": null,
      "outputs": [
        {
          "output_type": "execute_result",
          "data": {
            "text/plain": [
              "'Tom'"
            ],
            "application/vnd.google.colaboratory.intrinsic+json": {
              "type": "string"
            }
          },
          "metadata": {},
          "execution_count": 10
        }
      ]
    },
    {
      "cell_type": "markdown",
      "source": [
        "### **Class**\n",
        ">> **class Cheff:**\n",
        ">>> **pass**\n",
        "\n",
        ">> **user_1 = Cheff()**\n",
        "\n",
        "> ##### **1. 두 개의 객체가 생성**\n",
        "> ##### **2. Cheff라는 클라스이름은 클래스 객체를 바인딩(Binding)**\n",
        "> ##### **3. user_1 변수는 Cheff 클래스 타입의 객체를 바인딩**\n",
        "> ##### **<font color='blue'>4. 클래스와 객체가 각자 고유의 메모리 공간을 갖는다**\n",
        "\n",
        "- 클래스는 붕어빵틀(Cheff)로 객체(user_1)는 붕어빵틀로부터 구어진 붕어빵\n"
      ],
      "metadata": {
        "id": "ntva4R54omc_"
      }
    },
    {
      "cell_type": "code",
      "source": [
        "class Cheff:\n",
        "    pass"
      ],
      "metadata": {
        "id": "uFyZ0JAwo4JH"
      },
      "execution_count": null,
      "outputs": []
    },
    {
      "cell_type": "code",
      "source": [
        "user_1 = Cheff()       # Class를 객체화"
      ],
      "metadata": {
        "id": "Bzoaiol5-JHI"
      },
      "execution_count": null,
      "outputs": []
    },
    {
      "cell_type": "code",
      "source": [
        "id(Cheff())"
      ],
      "metadata": {
        "colab": {
          "base_uri": "https://localhost:8080/"
        },
        "id": "No4YH64fi2_p",
        "outputId": "1965a943-f4aa-4c02-beff-52c7e1a320b8"
      },
      "execution_count": null,
      "outputs": [
        {
          "output_type": "execute_result",
          "data": {
            "text/plain": [
              "133856959038224"
            ]
          },
          "metadata": {},
          "execution_count": 13
        }
      ]
    },
    {
      "cell_type": "code",
      "source": [
        "id(Cheff)"
      ],
      "metadata": {
        "colab": {
          "base_uri": "https://localhost:8080/"
        },
        "id": "kTBlqdtqocU4",
        "outputId": "b85846fd-0607-405f-cc7e-b5632cc024cf"
      },
      "execution_count": null,
      "outputs": [
        {
          "output_type": "execute_result",
          "data": {
            "text/plain": [
              "95464490414560"
            ]
          },
          "metadata": {},
          "execution_count": 14
        }
      ]
    },
    {
      "cell_type": "code",
      "source": [
        "id(user_1)"
      ],
      "metadata": {
        "colab": {
          "base_uri": "https://localhost:8080/"
        },
        "id": "Hb7eXKfkohCX",
        "outputId": "4dc3649a-0444-4dee-d6ab-c21862d6c802"
      },
      "execution_count": null,
      "outputs": [
        {
          "output_type": "execute_result",
          "data": {
            "text/plain": [
              "133856959044320"
            ]
          },
          "metadata": {},
          "execution_count": 15
        }
      ]
    },
    {
      "cell_type": "code",
      "source": [
        "user_2 = Cheff()\n",
        "id(user_2)"
      ],
      "metadata": {
        "colab": {
          "base_uri": "https://localhost:8080/"
        },
        "id": "R9MLc4Koihkv",
        "outputId": "2f0fe2de-5ac6-4518-e1d7-48f43256a16c"
      },
      "execution_count": null,
      "outputs": [
        {
          "output_type": "execute_result",
          "data": {
            "text/plain": [
              "133856959043552"
            ]
          },
          "metadata": {},
          "execution_count": 16
        }
      ]
    },
    {
      "cell_type": "markdown",
      "source": [
        "**Why the Memory Addresses are Different:**\n",
        "- **Temporary Instance (id(Cheff())):**\n",
        "> Each call to Cheff() creates a new, unique instance of the Cheff class.\n",
        "When you call id(Cheff()), a new instance is created temporarily for the id function call, and this instance is not stored or referenced after the id call.\n",
        "Since it is a new instance, it has a unique memory address each time you call Cheff().\n",
        "\n",
        "- **Persistent Instance (id(user_1)):**\n",
        "> When you call user_1 = Cheff(), an instance of Cheff is created and stored in the variable user_1.\n",
        "The id(user_1) call retrieves the memory address of this specific, persistent instance."
      ],
      "metadata": {
        "id": "fUMme3hSjuqA"
      }
    },
    {
      "cell_type": "code",
      "source": [
        "# user_1 인스턴스에 새로운 인스턴스 속성을 추가\n",
        "# user의 attributes 'id'를 생성하고 attributes의 값(vlaue)을 '001'이라고 함\n",
        "\n",
        "user_1.id = '001'"
      ],
      "metadata": {
        "id": "lYzFuYOi-SpN"
      },
      "execution_count": null,
      "outputs": []
    },
    {
      "cell_type": "code",
      "source": [
        "user_1.username = 'tom'"
      ],
      "metadata": {
        "id": "ZZGtD2A_q-XM"
      },
      "execution_count": null,
      "outputs": []
    },
    {
      "cell_type": "code",
      "source": [
        "user_1.marry = True"
      ],
      "metadata": {
        "id": "jG7bBor__gmY"
      },
      "execution_count": null,
      "outputs": []
    },
    {
      "cell_type": "code",
      "source": [
        "user_1.age = 25"
      ],
      "metadata": {
        "id": "aXsk2EgE_Um9"
      },
      "execution_count": null,
      "outputs": []
    },
    {
      "cell_type": "code",
      "source": [
        "print(user_1.id)"
      ],
      "metadata": {
        "colab": {
          "base_uri": "https://localhost:8080/"
        },
        "id": "KOkbNzUL-1f6",
        "outputId": "36a0c620-564e-45a5-c646-b377bcdfe450"
      },
      "execution_count": null,
      "outputs": [
        {
          "output_type": "stream",
          "name": "stdout",
          "text": [
            "001\n"
          ]
        }
      ]
    },
    {
      "cell_type": "code",
      "source": [
        "print(user_1.username)"
      ],
      "metadata": {
        "colab": {
          "base_uri": "https://localhost:8080/"
        },
        "id": "9DzEV3lR-aED",
        "outputId": "217887ed-c723-437d-aad9-d5332cb29526"
      },
      "execution_count": null,
      "outputs": [
        {
          "output_type": "stream",
          "name": "stdout",
          "text": [
            "tom\n"
          ]
        }
      ]
    },
    {
      "cell_type": "code",
      "source": [
        "print(user_1.age)"
      ],
      "metadata": {
        "colab": {
          "base_uri": "https://localhost:8080/"
        },
        "id": "-igdpqI0-clD",
        "outputId": "2a7bfc50-4854-4bf0-8441-579832ef2a1e"
      },
      "execution_count": null,
      "outputs": [
        {
          "output_type": "stream",
          "name": "stdout",
          "text": [
            "25\n"
          ]
        }
      ]
    },
    {
      "cell_type": "code",
      "source": [
        "print(user_1.marry)"
      ],
      "metadata": {
        "colab": {
          "base_uri": "https://localhost:8080/"
        },
        "id": "elcQq6dg-fzg",
        "outputId": "f830d3aa-8a08-4bc0-ca3a-ae8ee82c03f0"
      },
      "execution_count": null,
      "outputs": [
        {
          "output_type": "stream",
          "name": "stdout",
          "text": [
            "True\n"
          ]
        }
      ]
    },
    {
      "cell_type": "code",
      "source": [],
      "metadata": {
        "id": "dJ_PAl4Lre8k"
      },
      "execution_count": null,
      "outputs": []
    },
    {
      "cell_type": "markdown",
      "source": [
        "\n",
        "#### **Chef를 쉽게 만드는 방법, 붕어빵 처럼 찍어내기**\n",
        "### **<font color='blue'>Object = Tom, Mary, Henry, Magaret, Edward**\n",
        "<img src= 'https://img.freepik.com/free-vector/cook-collection-concept_23-2148514280.jpg?w=996&t=st=1690469366~exp=1690469966~hmac=1e8376fab19963197a896074cbd6f00d3f5a6e79360a9cd532bc4e5b6d6d8839' width = 700 height= 400>\n",
        "\n",
        "\n",
        "## **<font color='blue'> chef = Chef(), object = Class()**\n",
        "#### 객체(chef)를 만들고 속성(attributes)과 메소드(method) 생성하기"
      ],
      "metadata": {
        "id": "K9WLGCOZLh17"
      }
    },
    {
      "cell_type": "markdown",
      "source": [
        "### **user(cheff)가 수천 명이면 ?? 난감하네**\n",
        "## Constructor\n",
        "### Initialize(in·i·tial·ize/iˈniSHəˌlīz/) verb 가 필요\n",
        "#### COMPUTING\n",
        "- 1. set to the value or put in the condition appropriate to the start of an operation.\n",
        "\"the counter is initialized to one\"\n",
        "- 2. format (a computer disk)."
      ],
      "metadata": {
        "id": "LChnwuReLmki"
      }
    },
    {
      "cell_type": "markdown",
      "source": [
        "> ### Constructor\n",
        "---\n",
        "### **class Car:**\n",
        "> **def __init __ (self):**\n",
        "\n",
        ">   - #### Initialize attributes\n",
        "\n",
        "<img src='https://pynative.com/wp-content/uploads/2021/07/create_declare_instance_variable.png'>\n",
        "\n",
        ">> ### **클래스에 속성을 추가하면 해당 클래스의 모든 인스턴스가 이 새로운 속성을 공유**\n",
        ">> ### **즉, id와 name 속성은 모든 Cheff 인스턴스에 적용**\n",
        "\n",
        "\n"
      ],
      "metadata": {
        "id": "hHBbTEKZ-h2D"
      }
    },
    {
      "cell_type": "code",
      "source": [
        "class User:\n"
      ],
      "metadata": {
        "id": "qD4xDFqnxB6P"
      },
      "execution_count": null,
      "outputs": []
    },
    {
      "cell_type": "code",
      "source": [
        "class User:\n",
        "    def __init__(self, user_id, user_name):\n",
        "        self.id = user_id\n",
        "        self.name = user_name\n",
        "\n",
        "user_1 = User('001', 'Tom')\n",
        "user_2 = User('002', 'Jerry')"
      ],
      "metadata": {
        "id": "CRKz47KGNrrY"
      },
      "execution_count": null,
      "outputs": []
    },
    {
      "cell_type": "code",
      "source": [
        "# prompt: 100명의 user를 만들려면\n",
        "\n",
        "users = []\n",
        "for i in range(100):\n",
        "  user_id = str(i).zfill(3)\n",
        "  user_name = f\"user_{i}\"\n",
        "  user = User(user_id, user_name)\n",
        "  users.append(user)"
      ],
      "metadata": {
        "id": "SRW44FiuklN5"
      },
      "execution_count": null,
      "outputs": []
    },
    {
      "cell_type": "code",
      "source": [
        "users[1].id"
      ],
      "metadata": {
        "colab": {
          "base_uri": "https://localhost:8080/",
          "height": 35
        },
        "id": "bqd7T4bHlKLD",
        "outputId": "1ca24076-76b8-4a70-9d6d-05f38e1e3eb0"
      },
      "execution_count": null,
      "outputs": [
        {
          "output_type": "execute_result",
          "data": {
            "text/plain": [
              "'001'"
            ],
            "application/vnd.google.colaboratory.intrinsic+json": {
              "type": "string"
            }
          },
          "metadata": {},
          "execution_count": 35
        }
      ]
    },
    {
      "cell_type": "code",
      "source": [
        "', '.join([users[i].id for i in range(100)])"
      ],
      "metadata": {
        "colab": {
          "base_uri": "https://localhost:8080/",
          "height": 72
        },
        "id": "E1QRFDCLktpu",
        "outputId": "069810ae-c8c4-430d-b307-83aed84810da"
      },
      "execution_count": null,
      "outputs": [
        {
          "output_type": "execute_result",
          "data": {
            "text/plain": [
              "'000, 001, 002, 003, 004, 005, 006, 007, 008, 009, 010, 011, 012, 013, 014, 015, 016, 017, 018, 019, 020, 021, 022, 023, 024, 025, 026, 027, 028, 029, 030, 031, 032, 033, 034, 035, 036, 037, 038, 039, 040, 041, 042, 043, 044, 045, 046, 047, 048, 049, 050, 051, 052, 053, 054, 055, 056, 057, 058, 059, 060, 061, 062, 063, 064, 065, 066, 067, 068, 069, 070, 071, 072, 073, 074, 075, 076, 077, 078, 079, 080, 081, 082, 083, 084, 085, 086, 087, 088, 089, 090, 091, 092, 093, 094, 095, 096, 097, 098, 099'"
            ],
            "application/vnd.google.colaboratory.intrinsic+json": {
              "type": "string"
            }
          },
          "metadata": {},
          "execution_count": 37
        }
      ]
    },
    {
      "cell_type": "code",
      "source": [
        "', '.join([users[i].name for i in range(100)])"
      ],
      "metadata": {
        "colab": {
          "base_uri": "https://localhost:8080/",
          "height": 108
        },
        "id": "CX7l6OSUlff3",
        "outputId": "05677581-696b-417f-d569-83fada8d3d88"
      },
      "execution_count": null,
      "outputs": [
        {
          "output_type": "execute_result",
          "data": {
            "text/plain": [
              "'user_0, user_1, user_2, user_3, user_4, user_5, user_6, user_7, user_8, user_9, user_10, user_11, user_12, user_13, user_14, user_15, user_16, user_17, user_18, user_19, user_20, user_21, user_22, user_23, user_24, user_25, user_26, user_27, user_28, user_29, user_30, user_31, user_32, user_33, user_34, user_35, user_36, user_37, user_38, user_39, user_40, user_41, user_42, user_43, user_44, user_45, user_46, user_47, user_48, user_49, user_50, user_51, user_52, user_53, user_54, user_55, user_56, user_57, user_58, user_59, user_60, user_61, user_62, user_63, user_64, user_65, user_66, user_67, user_68, user_69, user_70, user_71, user_72, user_73, user_74, user_75, user_76, user_77, user_78, user_79, user_80, user_81, user_82, user_83, user_84, user_85, user_86, user_87, user_88, user_89, user_90, user_91, user_92, user_93, user_94, user_95, user_96, user_97, user_98, user_99'"
            ],
            "application/vnd.google.colaboratory.intrinsic+json": {
              "type": "string"
            }
          },
          "metadata": {},
          "execution_count": 38
        }
      ]
    },
    {
      "cell_type": "code",
      "source": [
        "user_1.id"
      ],
      "metadata": {
        "colab": {
          "base_uri": "https://localhost:8080/",
          "height": 35
        },
        "id": "V2s4OXJ9O9m8",
        "outputId": "aa737315-8352-4bab-bcb6-aa173de7cc75"
      },
      "execution_count": null,
      "outputs": [
        {
          "output_type": "execute_result",
          "data": {
            "text/plain": [
              "'001'"
            ],
            "application/vnd.google.colaboratory.intrinsic+json": {
              "type": "string"
            }
          },
          "metadata": {},
          "execution_count": 26
        }
      ]
    },
    {
      "cell_type": "code",
      "source": [
        "user_2.name"
      ],
      "metadata": {
        "colab": {
          "base_uri": "https://localhost:8080/",
          "height": 35
        },
        "id": "Uj0asFqAKeW0",
        "outputId": "ec3431cb-f812-41c2-bb48-851243e5747e"
      },
      "execution_count": null,
      "outputs": [
        {
          "output_type": "execute_result",
          "data": {
            "text/plain": [
              "'Jerry'"
            ],
            "application/vnd.google.colaboratory.intrinsic+json": {
              "type": "string"
            }
          },
          "metadata": {},
          "execution_count": 3
        }
      ]
    },
    {
      "cell_type": "code",
      "source": [],
      "metadata": {
        "id": "l1arfhnVmw3R"
      },
      "execution_count": null,
      "outputs": []
    },
    {
      "cell_type": "code",
      "source": [],
      "metadata": {
        "id": "hiNe_WAJmw6o"
      },
      "execution_count": null,
      "outputs": []
    },
    {
      "cell_type": "code",
      "source": [
        "class User:\n",
        "    def __init__(self, user_id, user_name, user_age):\n",
        "        self.id = user_id\n",
        "        self.name = user_name\n",
        "        self.age = user_age\n",
        "\n",
        "user_1 = User('001', 'Tom', 35)\n",
        "user_2 = User('002', 'Jerry', 33)"
      ],
      "metadata": {
        "id": "LovXw_txPAp_"
      },
      "execution_count": null,
      "outputs": []
    },
    {
      "cell_type": "code",
      "source": [
        "user_1.age"
      ],
      "metadata": {
        "colab": {
          "base_uri": "https://localhost:8080/"
        },
        "id": "QiWmbIwSPW5D",
        "outputId": "870d9efb-f0ee-469d-f977-36523f5bddec"
      },
      "execution_count": null,
      "outputs": [
        {
          "output_type": "execute_result",
          "data": {
            "text/plain": [
              "35"
            ]
          },
          "metadata": {},
          "execution_count": 26
        }
      ]
    },
    {
      "cell_type": "markdown",
      "source": [
        "## **faker를 사용하여 10000명의 데이터를 class를 이용하여 만들어라**"
      ],
      "metadata": {
        "id": "PlBM-biJKjBR"
      }
    },
    {
      "cell_type": "code",
      "source": [],
      "metadata": {
        "id": "daN_NUM8l36B"
      },
      "execution_count": null,
      "outputs": []
    }
  ]
}