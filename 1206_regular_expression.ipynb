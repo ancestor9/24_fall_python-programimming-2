{
  "nbformat": 4,
  "nbformat_minor": 0,
  "metadata": {
    "colab": {
      "provenance": [],
      "authorship_tag": "ABX9TyPLym9vNSLkpFdl4sBNCxHL",
      "include_colab_link": true
    },
    "kernelspec": {
      "name": "python3",
      "display_name": "Python 3"
    },
    "language_info": {
      "name": "python"
    }
  },
  "cells": [
    {
      "cell_type": "markdown",
      "metadata": {
        "id": "view-in-github",
        "colab_type": "text"
      },
      "source": [
        "<a href=\"https://colab.research.google.com/github/ancestor9/24_fall_python-programimming-2/blob/main/1206_regular_expression.ipynb\" target=\"_parent\"><img src=\"https://colab.research.google.com/assets/colab-badge.svg\" alt=\"Open In Colab\"/></a>"
      ]
    },
    {
      "cell_type": "code",
      "execution_count": null,
      "metadata": {
        "id": "jt1ffMExuQPX"
      },
      "outputs": [],
      "source": [
        "text = '''\n",
        "Hello, my name is John Doe, and my email is john.doe@example.com.\n",
        "You can reach me at 010-1234-5678 or at my office number 02-987-6543.\n",
        "I was born on 1990-05-14, and my colleague Jane Smith was born on 1988-11-23.\n",
        "Please visit our websiteHello at https://www.example.com for more information.\n",
        "Our office address is 123 Main St., New York, NY 10001.\n",
        "There are some special characters like $, %, &, and * that you might want to handle.\n",
        "Here is an example of an IPv4 address: 192.168.0.1, and here is an IPv6 address: 2001:0db8:85a3:0000:0000:8a2e:0370:7334.\n",
        "This is a simple HTML snippet: <div>Hello World!</div>\n",
        "Let's also include some emojis 😊 and special unicode characters like café, naïve, and résumé.\n",
        "'''"
      ]
    },
    {
      "cell_type": "markdown",
      "source": [
        "- 기본 패턴 매칭: 특정 단어나 구를 매칭하는지 확인하기 (예: Hello, John Doe).\n",
        "\n",
        "- 문자 집합: 숫자, 특정 문자를 찾기 (예: [aeiou]로 모든 모음 찾기).\n",
        "\n",
        "- 반복 패턴: 전화번호 형식 (010-1234-5678) 찾기.\n",
        "\n",
        "- 특정 패턴 추출: 이메일 주소, 날짜, URL 등을 추출하기.\n",
        "\n",
        "- 문자열 대체: 특정 문자를 다른 문자로 대체하기 (예: $, % 등을 제거하거나 대체).\n",
        "\n",
        "- 분할하기: 문장을 쉼표, 점, 공백 등을 기준으로 나누기.\n",
        "\n",
        "- 그룹화: 이름과 생년월일 같이 함께 나타나는 정보를 그룹으로 추출하기.\n",
        "\n",
        "- 시작과 끝 검사: 특정 패턴으로 시작하거나 끝나는지 확인하기.\n",
        "\n",
        "- Lookahead와 Lookbehind: 특정 패턴 앞이나 뒤에 오는 문자열을 검색하기.\n",
        "\n",
        "- HTML 태그 처리: HTML 태그를 제거하고 평문만 남기기.\n",
        "\n",
        "이 샘플 텍스트를 이용하면 정규 표현식의 다양한 기능을 체계적으로 연습할 수 있습니다.\n",
        "\n"
      ],
      "metadata": {
        "id": "OErBCw68uU0i"
      }
    },
    {
      "cell_type": "code",
      "source": [],
      "metadata": {
        "id": "rZPSiehquvEa"
      },
      "execution_count": null,
      "outputs": []
    }
  ]
}