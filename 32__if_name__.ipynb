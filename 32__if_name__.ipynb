{
  "nbformat": 4,
  "nbformat_minor": 0,
  "metadata": {
    "colab": {
      "provenance": [],
      "authorship_tag": "ABX9TyOJkMhjfKWM6JKewFNcParU",
      "include_colab_link": true
    },
    "kernelspec": {
      "name": "python3",
      "display_name": "Python 3"
    },
    "language_info": {
      "name": "python"
    }
  },
  "cells": [
    {
      "cell_type": "markdown",
      "metadata": {
        "id": "view-in-github",
        "colab_type": "text"
      },
      "source": [
        "<a href=\"https://colab.research.google.com/github/ancestor9/24_fall_python-programimming-2/blob/main/32__if_name__.ipynb\" target=\"_parent\"><img src=\"https://colab.research.google.com/assets/colab-badge.svg\" alt=\"Open In Colab\"/></a>"
      ]
    },
    {
      "cell_type": "markdown",
      "source": [
        "### 파이썬에서의 네임스페이스**(Namespace)** : 개체를 구분할 수 있는 범위\n",
        "- **어떤 객체를 이름으로 구분할 수 있는 범위를 의미로 파이썬에서는 모든 것이 객체**\n",
        "#### **파이썬 파일을 커맨드라인이나 인터페이스를 통해 직접 실행한 경우 ​​__name__에는 __main__이라는 값(네임스페이스)이 설정**"
      ],
      "metadata": {
        "id": "IzkiI3jPXMgz"
      }
    },
    {
      "cell_type": "code",
      "execution_count": null,
      "metadata": {
        "colab": {
          "base_uri": "https://localhost:8080/",
          "height": 36
        },
        "id": "J5mNbyPdY9lk",
        "outputId": "c747a3e6-bca7-4479-8126-78f6e967af1b"
      },
      "outputs": [
        {
          "output_type": "execute_result",
          "data": {
            "text/plain": [
              "'__main__'"
            ],
            "application/vnd.google.colaboratory.intrinsic+json": {
              "type": "string"
            }
          },
          "metadata": {},
          "execution_count": 1
        }
      ],
      "source": [
        "__name__"
      ]
    },
    {
      "cell_type": "code",
      "source": [
        "if __name__ == \"__main__\":\n",
        "    print('True')"
      ],
      "metadata": {
        "colab": {
          "base_uri": "https://localhost:8080/"
        },
        "id": "8S5sATo1Y-kv",
        "outputId": "6ad38851-01bb-4162-eb7f-5ed87e71b6f5"
      },
      "execution_count": null,
      "outputs": [
        {
          "output_type": "stream",
          "name": "stdout",
          "text": [
            "True\n"
          ]
        }
      ]
    },
    {
      "cell_type": "code",
      "source": [
        "%%writefile test1.py\n",
        "\n",
        "print(\"메롱_test1.py\")"
      ],
      "metadata": {
        "colab": {
          "base_uri": "https://localhost:8080/"
        },
        "id": "UXGoWx2fYSSJ",
        "outputId": "ea684a24-7521-40b5-81c4-d5064d024755"
      },
      "execution_count": null,
      "outputs": [
        {
          "output_type": "stream",
          "name": "stdout",
          "text": [
            "Writing test1.py\n"
          ]
        }
      ]
    },
    {
      "cell_type": "code",
      "source": [
        "import test1"
      ],
      "metadata": {
        "id": "xnN7Mtv9YZZz",
        "colab": {
          "base_uri": "https://localhost:8080/"
        },
        "outputId": "aa031d0a-77c8-4af4-9c01-b03434da6662"
      },
      "execution_count": null,
      "outputs": [
        {
          "output_type": "stream",
          "name": "stdout",
          "text": [
            "메롱_test1.py\n"
          ]
        }
      ]
    },
    {
      "cell_type": "code",
      "source": [
        "%%writefile test2.py\n",
        "if __name__ == \"__main__\":\n",
        "    print(\"메롱_test2.py\")\n"
      ],
      "metadata": {
        "colab": {
          "base_uri": "https://localhost:8080/"
        },
        "id": "0mZmgxqXY2Cz",
        "outputId": "82447377-db8f-4b03-cd0b-a5cd49fcbe93"
      },
      "execution_count": null,
      "outputs": [
        {
          "output_type": "stream",
          "name": "stdout",
          "text": [
            "Writing test2.py\n"
          ]
        }
      ]
    },
    {
      "cell_type": "code",
      "source": [
        "import test2"
      ],
      "metadata": {
        "id": "nx6QuzVFY9_z"
      },
      "execution_count": null,
      "outputs": []
    },
    {
      "cell_type": "code",
      "source": [
        "%%writefile main_sanggoo.py\n",
        "\n",
        "print(\"메롱 main_sanggoo.py\")\n",
        "\n",
        "def s_add(a, b):\n",
        "    return a + b\n",
        "\n",
        "def s_sub(a, b):\n",
        "    return a - b"
      ],
      "metadata": {
        "colab": {
          "base_uri": "https://localhost:8080/"
        },
        "id": "mNXW2x_LZHaa",
        "outputId": "12c98b9c-5975-4d88-f2ed-54cbeb19ffdc"
      },
      "execution_count": null,
      "outputs": [
        {
          "output_type": "stream",
          "name": "stdout",
          "text": [
            "Overwriting main_sanggoo.py\n"
          ]
        }
      ]
    },
    {
      "cell_type": "code",
      "source": [
        "import main_sanggoo"
      ],
      "metadata": {
        "id": "KlPymnVoZHcQ"
      },
      "execution_count": null,
      "outputs": []
    },
    {
      "cell_type": "code",
      "source": [
        "main_sanggoo.s_add(10,20)"
      ],
      "metadata": {
        "colab": {
          "base_uri": "https://localhost:8080/"
        },
        "id": "j4d5MLmUXTdq",
        "outputId": "c1fb67f7-bccf-467c-8670-f47489b3afc9"
      },
      "execution_count": null,
      "outputs": [
        {
          "output_type": "execute_result",
          "data": {
            "text/plain": [
              "30"
            ]
          },
          "metadata": {},
          "execution_count": 15
        }
      ]
    },
    {
      "cell_type": "markdown",
      "source": [
        "#### **아래 스크립트를 직접 실행하면(예: 터미널에서 python script.py 실행) 두 print 문이 모두 실행되고 두 메시지가 모두 인쇄**"
      ],
      "metadata": {
        "id": "dtCMLUKCblhS"
      }
    },
    {
      "cell_type": "code",
      "source": [
        "# This code is defined at the top level of the script\n",
        "print(\"This code is always executed\")\n",
        "\n",
        "# Check if the script is run directly\n",
        "if __name__ == '__main__':\n",
        "    print(\"This code is only executed when the script is run directly\")"
      ],
      "metadata": {
        "id": "HJBNVfi9grkb",
        "colab": {
          "base_uri": "https://localhost:8080/"
        },
        "outputId": "3128a3bc-2e49-4af4-d74d-497d84af59c6"
      },
      "execution_count": null,
      "outputs": [
        {
          "output_type": "stream",
          "name": "stdout",
          "text": [
            "This code is always executed\n",
            "This code is only executed when the script is run directly\n"
          ]
        }
      ]
    },
    {
      "cell_type": "markdown",
      "source": [
        "#### **그러나 아래 스크립트를 다른 Python 스크립트에 모듈로 가져오는 경우 if __name__ == '__main__': 블록의 코드는 실행되지 않지요**"
      ],
      "metadata": {
        "id": "3DggjaUtbuVH"
      }
    },
    {
      "cell_type": "code",
      "source": [
        "%%writefile python_name.py\n",
        "\n",
        "print(\"This code is always executed\")\n",
        "\n",
        "# Check if the script is run directly\n",
        "if __name__ == '__main__':\n",
        "    print(\"This code is only executed when the script is run directly\")"
      ],
      "metadata": {
        "colab": {
          "base_uri": "https://localhost:8080/"
        },
        "id": "XSUNU0YLbTcN",
        "outputId": "95cd880a-8ccd-431f-cc76-bf1072e539a4"
      },
      "execution_count": null,
      "outputs": [
        {
          "output_type": "stream",
          "name": "stdout",
          "text": [
            "Writing python_name.py\n"
          ]
        }
      ]
    },
    {
      "cell_type": "code",
      "source": [
        "import python_name"
      ],
      "metadata": {
        "colab": {
          "base_uri": "https://localhost:8080/"
        },
        "id": "oLnG2OJEbcJE",
        "outputId": "11a38726-247d-45ca-b63e-987000363d97"
      },
      "execution_count": null,
      "outputs": [
        {
          "output_type": "stream",
          "name": "stdout",
          "text": [
            "This code is always executed\n"
          ]
        }
      ]
    },
    {
      "cell_type": "markdown",
      "source": [
        "Python의 if __name__ == '__main__': 블록은 일반적으로 Python 스크립트가 실행될 때 코드 실행을 제어하는 ​​데 사용됩니다. 이 블록은 다른 스크립트에 모듈로 가져오는 것이 아니라 스크립트가 직접 실행될 때만 특정 코드가 실행되도록 작동"
      ],
      "metadata": {
        "id": "bX7zfWoCbebv"
      }
    },
    {
      "cell_type": "markdown",
      "source": [
        "### chat GPT 예제"
      ],
      "metadata": {
        "id": "afcnm8-HDUB3"
      }
    },
    {
      "cell_type": "code",
      "source": [
        "class Calculator:\n",
        "    def add_numbers(self, num1, num2):\n",
        "        return num1 + num2\n",
        "\n",
        "    def subtract_numbers(self, num1, num2):\n",
        "        return num1 - num2\n",
        "\n",
        "\n",
        "def main():\n",
        "    # 객체 생성\n",
        "    calculator = Calculator()\n",
        "\n",
        "    # 사용자로부터 두 개의 수 입력 받기\n",
        "    num1 = float(input(\"Enter the first number: \"))\n",
        "    num2 = float(input(\"Enter the second number: \"))\n",
        "\n",
        "    # 덧셈 메서드 호출 및 결과 출력\n",
        "    sum_result = calculator.add_numbers(num1, num2)\n",
        "    print(f\"The sum of {num1} and {num2} is: {sum_result}\")\n",
        "\n",
        "    # 뺄셈 메서드 호출 및 결과 출력\n",
        "    subtract_result = calculator.subtract_numbers(num1, num2)\n",
        "    print(f\"The result of subtracting {num2} from {num1} is: {subtract_result}\")\n",
        "\n",
        "\n",
        "# 프로그램 실행\n",
        "if __name__ == \"__main__\":\n",
        "    main()\n"
      ],
      "metadata": {
        "id": "YfxM66DpdZZe",
        "colab": {
          "base_uri": "https://localhost:8080/"
        },
        "outputId": "a87815a6-87ee-43c5-8eed-c9c3d2a3b72a"
      },
      "execution_count": null,
      "outputs": [
        {
          "output_type": "stream",
          "name": "stdout",
          "text": [
            "Enter the first number: 10\n",
            "Enter the second number: 20\n",
            "The sum of 10.0 and 20.0 is: 30.0\n",
            "The result of subtracting 20.0 from 10.0 is: -10.0\n"
          ]
        }
      ]
    },
    {
      "cell_type": "code",
      "source": [
        "%%writefile No_main.py\n",
        "class Calculator:\n",
        "    def add_numbers(self, num1, num2):\n",
        "        return num1 + num2\n",
        "\n",
        "    def subtract_numbers(self, num1, num2):\n",
        "        return num1 - num2\n",
        "\n",
        "\n",
        "def main():\n",
        "    # 객체 생성\n",
        "    calculator = Calculator()\n",
        "\n",
        "    # 사용자로부터 두 개의 수 입력 받기\n",
        "    num1 = float(input(\"Enter the first number: \"))\n",
        "    num2 = float(input(\"Enter the second number: \"))\n",
        "\n",
        "    # 덧셈 메서드 호출 및 결과 출력\n",
        "    sum_result = calculator.add_numbers(num1, num2)\n",
        "    print(f\"The sum of {num1} and {num2} is: {sum_result}\")\n",
        "\n",
        "    # 뺄셈 메서드 호출 및 결과 출력\n",
        "    subtract_result = calculator.subtract_numbers(num1, num2)\n",
        "    print(f\"The result of subtracting {num2} from {num1} is: {subtract_result}\")\n",
        "\n",
        "main()"
      ],
      "metadata": {
        "colab": {
          "base_uri": "https://localhost:8080/"
        },
        "id": "EsMRbouzDR7d",
        "outputId": "0d1ba20c-ede4-49c3-fae4-39ef379baa23"
      },
      "execution_count": null,
      "outputs": [
        {
          "output_type": "stream",
          "name": "stdout",
          "text": [
            "Writing No_main.py\n"
          ]
        }
      ]
    },
    {
      "cell_type": "code",
      "source": [
        "import No_main"
      ],
      "metadata": {
        "colab": {
          "base_uri": "https://localhost:8080/"
        },
        "id": "bQoJ09ABDlKG",
        "outputId": "742fc271-3750-4983-a20c-fbce42c4988a"
      },
      "execution_count": null,
      "outputs": [
        {
          "output_type": "stream",
          "name": "stdout",
          "text": [
            "Enter the first number: 10\n",
            "Enter the second number: 20\n",
            "The sum of 10.0 and 20.0 is: 30.0\n",
            "The result of subtracting 20.0 from 10.0 is: -10.0\n"
          ]
        }
      ]
    },
    {
      "cell_type": "code",
      "source": [
        "%%writefile No_main.py\n",
        "class Calculator:\n",
        "    def add_numbers(self, num1, num2):\n",
        "        return num1 + num2\n",
        "\n",
        "    def subtract_numbers(self, num1, num2):\n",
        "        return num1 - num2\n",
        "\n",
        "\n",
        "def main():\n",
        "    # 객체 생성\n",
        "    calculator = Calculator()\n",
        "\n",
        "    # 사용자로부터 두 개의 수 입력 받기\n",
        "    num1 = float(input(\"Enter the first number: \"))\n",
        "    num2 = float(input(\"Enter the second number: \"))\n",
        "\n",
        "    # 덧셈 메서드 호출 및 결과 출력\n",
        "    sum_result = calculator.add_numbers(num1, num2)\n",
        "    print(f\"The sum of {num1} and {num2} is: {sum_result}\")\n",
        "\n",
        "    # 뺄셈 메서드 호출 및 결과 출력\n",
        "    subtract_result = calculator.subtract_numbers(num1, num2)\n",
        "    print(f\"The result of subtracting {num2} from {num1} is: {subtract_result}\")\n",
        "\n",
        "\n",
        "# 프로그램 실행\n",
        "if __name__ == \"__main__\":\n",
        "    main()"
      ],
      "metadata": {
        "colab": {
          "base_uri": "https://localhost:8080/"
        },
        "id": "ViKlc04UDzZ_",
        "outputId": "0cb0b397-3c1e-431a-b314-565241c2c89b"
      },
      "execution_count": null,
      "outputs": [
        {
          "output_type": "stream",
          "name": "stdout",
          "text": [
            "Overwriting No_main.py\n"
          ]
        }
      ]
    },
    {
      "cell_type": "code",
      "source": [
        "import No_main"
      ],
      "metadata": {
        "id": "CjA5jsVoD6Id"
      },
      "execution_count": null,
      "outputs": []
    },
    {
      "cell_type": "code",
      "source": [
        "No_main.main"
      ],
      "metadata": {
        "colab": {
          "base_uri": "https://localhost:8080/"
        },
        "id": "AbAjFKVTD8hj",
        "outputId": "7b43fae4-20a6-4c01-dde8-b7598e686173"
      },
      "execution_count": null,
      "outputs": [
        {
          "output_type": "execute_result",
          "data": {
            "text/plain": [
              "<function No_main.main()>"
            ]
          },
          "metadata": {},
          "execution_count": 7
        }
      ]
    },
    {
      "cell_type": "code",
      "source": [
        "No_main.main()"
      ],
      "metadata": {
        "colab": {
          "base_uri": "https://localhost:8080/"
        },
        "id": "Dba082gaD_f9",
        "outputId": "1375b4ed-9d42-4dd5-fff3-2659433aa4d5"
      },
      "execution_count": null,
      "outputs": [
        {
          "output_type": "stream",
          "name": "stdout",
          "text": [
            "Enter the first number: 10\n",
            "Enter the second number: 20\n",
            "The sum of 10.0 and 20.0 is: 30.0\n",
            "The result of subtracting 20.0 from 10.0 is: -10.0\n"
          ]
        }
      ]
    },
    {
      "cell_type": "code",
      "source": [],
      "metadata": {
        "id": "qn2RbenZEAzM"
      },
      "execution_count": null,
      "outputs": []
    }
  ]
}