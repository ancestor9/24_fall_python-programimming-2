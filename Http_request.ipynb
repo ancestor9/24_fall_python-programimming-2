{
  "nbformat": 4,
  "nbformat_minor": 0,
  "metadata": {
    "colab": {
      "provenance": [],
      "authorship_tag": "ABX9TyN2oKlq733IcGjP4cKrMrg8",
      "include_colab_link": true
    },
    "kernelspec": {
      "name": "python3",
      "display_name": "Python 3"
    },
    "language_info": {
      "name": "python"
    }
  },
  "cells": [
    {
      "cell_type": "markdown",
      "metadata": {
        "id": "view-in-github",
        "colab_type": "text"
      },
      "source": [
        "<a href=\"https://colab.research.google.com/github/ancestor9/24_fall_python-programimming-2/blob/main/Http_request.ipynb\" target=\"_parent\"><img src=\"https://colab.research.google.com/assets/colab-badge.svg\" alt=\"Open In Colab\"/></a>"
      ]
    },
    {
      "cell_type": "markdown",
      "source": [
        "## **How to make a simple HTTP request in Python**\n",
        "- https://html.onlineviewer.net/"
      ],
      "metadata": {
        "id": "RJNsYIPKxvSq"
      }
    },
    {
      "cell_type": "code",
      "execution_count": null,
      "metadata": {
        "colab": {
          "base_uri": "https://localhost:8080/"
        },
        "id": "QIEIbI1ywvN0",
        "outputId": "88e5cdba-5348-4ac3-f796-1e7e82833c79"
      },
      "outputs": [
        {
          "output_type": "stream",
          "name": "stdout",
          "text": [
            "<!doctype html>\n",
            "<html>\n",
            "<head>\n",
            "    <title>Example Domain</title>\n",
            "\n",
            "    <meta charset=\"utf-8\" />\n",
            "    <meta http-equiv=\"Content-type\" content=\"text/html; charset=utf-8\" />\n",
            "    <meta name=\"viewport\" content=\"width=device-width, initial-scale=1\" />\n",
            "    <style type=\"text/css\">\n",
            "    body {\n",
            "        background-color: #f0f0f2;\n",
            "        margin: 0;\n",
            "        padding: 0;\n",
            "        font-family: -apple-system, system-ui, BlinkMacSystemFont, \"Segoe UI\", \"Open Sans\", \"Helvetica Neue\", Helvetica, Arial, sans-serif;\n",
            "        \n",
            "    }\n",
            "    div {\n",
            "        width: 600px;\n",
            "        margin: 5em auto;\n",
            "        padding: 2em;\n",
            "        background-color: #fdfdff;\n",
            "        border-radius: 0.5em;\n",
            "        box-shadow: 2px 3px 7px 2px rgba(0,0,0,0.02);\n",
            "    }\n",
            "    a:link, a:visited {\n",
            "        color: #38488f;\n",
            "        text-decoration: none;\n",
            "    }\n",
            "    @media (max-width: 700px) {\n",
            "        div {\n",
            "            margin: 0 auto;\n",
            "            width: auto;\n",
            "        }\n",
            "    }\n",
            "    </style>    \n",
            "</head>\n",
            "\n",
            "<body>\n",
            "<div>\n",
            "    <h1>Example Domain</h1>\n",
            "    <p>This domain is for use in illustrative examples in documents. You may use this\n",
            "    domain in literature without prior coordination or asking for permission.</p>\n",
            "    <p><a href=\"https://www.iana.org/domains/example\">More information...</a></p>\n",
            "</div>\n",
            "</body>\n",
            "</html>\n",
            "\n"
          ]
        }
      ],
      "source": [
        "import requests\n",
        "\n",
        "response = requests.get('https://www.example.com')\n",
        "\n",
        "# If the request was successful, print the response text\n",
        "if response.status_code == 200:\n",
        "  print(response.text)"
      ]
    },
    {
      "cell_type": "code",
      "source": [
        "data = {\n",
        "  'user': 'John Doe',\n",
        "  'message': 'Hello World'\n",
        "}\n",
        "\n",
        "response = requests.post('https://www.example.com/submit', data=data)"
      ],
      "metadata": {
        "id": "L2SNlfNXwwol"
      },
      "execution_count": null,
      "outputs": []
    },
    {
      "cell_type": "code",
      "source": [
        "response.status_code"
      ],
      "metadata": {
        "colab": {
          "base_uri": "https://localhost:8080/"
        },
        "id": "HYm9ybCow7QP",
        "outputId": "bf4dbcd0-9639-464c-9a6e-9a38c9fd499b"
      },
      "execution_count": null,
      "outputs": [
        {
          "output_type": "execute_result",
          "data": {
            "text/plain": [
              "405"
            ]
          },
          "metadata": {},
          "execution_count": 3
        }
      ]
    },
    {
      "cell_type": "markdown",
      "source": [
        "## Sending headers with the request"
      ],
      "metadata": {
        "id": "ojZZ67nyxXZF"
      }
    },
    {
      "cell_type": "code",
      "source": [
        "headers = {\n",
        "  'User-Agent': 'My-Custom-User-Agent/1.0'\n",
        "}\n",
        "\n",
        "response = requests.get('https://www.example.com', headers=headers)\n",
        "response.status_code"
      ],
      "metadata": {
        "colab": {
          "base_uri": "https://localhost:8080/"
        },
        "id": "IWvAVy1Iw9w9",
        "outputId": "2ac33d6d-7cbc-42af-a191-b5ff66cc25a1"
      },
      "execution_count": null,
      "outputs": [
        {
          "output_type": "execute_result",
          "data": {
            "text/plain": [
              "200"
            ]
          },
          "metadata": {},
          "execution_count": 4
        }
      ]
    },
    {
      "cell_type": "markdown",
      "source": [
        "## Handling errors"
      ],
      "metadata": {
        "id": "TrX0pjQYxRHd"
      }
    },
    {
      "cell_type": "code",
      "source": [
        "import requests\n",
        "\n",
        "try:\n",
        "  response = requests.get('https://www.example.com')\n",
        "except requests.exceptions.RequestException as e:\n",
        "  # Handle the error\n",
        "  print(e)"
      ],
      "metadata": {
        "id": "CBWbF_6vxIHU"
      },
      "execution_count": null,
      "outputs": []
    },
    {
      "cell_type": "markdown",
      "source": [
        "## Other solutions besides using requests modul"
      ],
      "metadata": {
        "id": "OW5p36qYxMJ9"
      }
    },
    {
      "cell_type": "code",
      "source": [
        "from urllib.request import urlopen\n",
        "\n",
        "response = urlopen('https://www.example.com')\n",
        "\n",
        "# If the request was successful, print the response text\n",
        "if response.status == 200:\n",
        "  print(response.read().decode('utf-8'))"
      ],
      "metadata": {
        "colab": {
          "base_uri": "https://localhost:8080/"
        },
        "id": "vXURrFYAxexy",
        "outputId": "213c63e5-1bc3-45c6-a55f-60d767613c1e"
      },
      "execution_count": null,
      "outputs": [
        {
          "output_type": "stream",
          "name": "stdout",
          "text": [
            "<!doctype html>\n",
            "<html>\n",
            "<head>\n",
            "    <title>Example Domain</title>\n",
            "\n",
            "    <meta charset=\"utf-8\" />\n",
            "    <meta http-equiv=\"Content-type\" content=\"text/html; charset=utf-8\" />\n",
            "    <meta name=\"viewport\" content=\"width=device-width, initial-scale=1\" />\n",
            "    <style type=\"text/css\">\n",
            "    body {\n",
            "        background-color: #f0f0f2;\n",
            "        margin: 0;\n",
            "        padding: 0;\n",
            "        font-family: -apple-system, system-ui, BlinkMacSystemFont, \"Segoe UI\", \"Open Sans\", \"Helvetica Neue\", Helvetica, Arial, sans-serif;\n",
            "        \n",
            "    }\n",
            "    div {\n",
            "        width: 600px;\n",
            "        margin: 5em auto;\n",
            "        padding: 2em;\n",
            "        background-color: #fdfdff;\n",
            "        border-radius: 0.5em;\n",
            "        box-shadow: 2px 3px 7px 2px rgba(0,0,0,0.02);\n",
            "    }\n",
            "    a:link, a:visited {\n",
            "        color: #38488f;\n",
            "        text-decoration: none;\n",
            "    }\n",
            "    @media (max-width: 700px) {\n",
            "        div {\n",
            "            margin: 0 auto;\n",
            "            width: auto;\n",
            "        }\n",
            "    }\n",
            "    </style>    \n",
            "</head>\n",
            "\n",
            "<body>\n",
            "<div>\n",
            "    <h1>Example Domain</h1>\n",
            "    <p>This domain is for use in illustrative examples in documents. You may use this\n",
            "    domain in literature without prior coordination or asking for permission.</p>\n",
            "    <p><a href=\"https://www.iana.org/domains/example\">More information...</a></p>\n",
            "</div>\n",
            "</body>\n",
            "</html>\n",
            "\n"
          ]
        }
      ]
    },
    {
      "cell_type": "code",
      "source": [
        "from http.client import HTTPSConnection\n",
        "\n",
        "conn = HTTPSConnection('www.example.com')\n",
        "conn.request('GET', '/')\n",
        "response = conn.getresponse()\n",
        "\n",
        "# If the request was successful, print the response text\n",
        "if response.status == 200:\n",
        "  print(response.read().decode('utf-8'))"
      ],
      "metadata": {
        "colab": {
          "base_uri": "https://localhost:8080/"
        },
        "id": "-00DnemyxfTp",
        "outputId": "ed7bc53b-149b-4e5d-d54e-c4fefcdf0eea"
      },
      "execution_count": null,
      "outputs": [
        {
          "output_type": "stream",
          "name": "stdout",
          "text": [
            "<!doctype html>\n",
            "<html>\n",
            "<head>\n",
            "    <title>Example Domain</title>\n",
            "\n",
            "    <meta charset=\"utf-8\" />\n",
            "    <meta http-equiv=\"Content-type\" content=\"text/html; charset=utf-8\" />\n",
            "    <meta name=\"viewport\" content=\"width=device-width, initial-scale=1\" />\n",
            "    <style type=\"text/css\">\n",
            "    body {\n",
            "        background-color: #f0f0f2;\n",
            "        margin: 0;\n",
            "        padding: 0;\n",
            "        font-family: -apple-system, system-ui, BlinkMacSystemFont, \"Segoe UI\", \"Open Sans\", \"Helvetica Neue\", Helvetica, Arial, sans-serif;\n",
            "        \n",
            "    }\n",
            "    div {\n",
            "        width: 600px;\n",
            "        margin: 5em auto;\n",
            "        padding: 2em;\n",
            "        background-color: #fdfdff;\n",
            "        border-radius: 0.5em;\n",
            "        box-shadow: 2px 3px 7px 2px rgba(0,0,0,0.02);\n",
            "    }\n",
            "    a:link, a:visited {\n",
            "        color: #38488f;\n",
            "        text-decoration: none;\n",
            "    }\n",
            "    @media (max-width: 700px) {\n",
            "        div {\n",
            "            margin: 0 auto;\n",
            "            width: auto;\n",
            "        }\n",
            "    }\n",
            "    </style>    \n",
            "</head>\n",
            "\n",
            "<body>\n",
            "<div>\n",
            "    <h1>Example Domain</h1>\n",
            "    <p>This domain is for use in illustrative examples in documents. You may use this\n",
            "    domain in literature without prior coordination or asking for permission.</p>\n",
            "    <p><a href=\"https://www.iana.org/domains/example\">More information...</a></p>\n",
            "</div>\n",
            "</body>\n",
            "</html>\n",
            "\n"
          ]
        }
      ]
    },
    {
      "cell_type": "markdown",
      "source": [
        "## ChatGPT"
      ],
      "metadata": {
        "id": "VMnwxhftxqYT"
      }
    },
    {
      "cell_type": "code",
      "source": [
        "from google.colab import userdata\n",
        "api_key = userdata.get('openai-api-key')\n",
        "print(api_key[::10])"
      ],
      "metadata": {
        "colab": {
          "base_uri": "https://localhost:8080/"
        },
        "id": "Q2FhrzmozYGD",
        "outputId": "b3a49226-e308-4b21-c0b2-3dc12f84a5ef"
      },
      "execution_count": 35,
      "outputs": [
        {
          "output_type": "stream",
          "name": "stdout",
          "text": [
            "syAvCB4w7rjy1Za0y\n"
          ]
        }
      ]
    },
    {
      "cell_type": "code",
      "source": [
        "import requests\n",
        "\n",
        "# Set the API endpoint and your API key\n",
        "api_url = \"https://api.openai.com/v1/chat/completions\"\n",
        "\n",
        "# Set the headers, including the API key for authorization\n",
        "headers = {\n",
        "    \"Content-Type\": \"application/json\",\n",
        "    \"Authorization\": f\"Bearer {api_key}\"\n",
        "}\n",
        "\n",
        "# Set the prompt and other parameters in the body\n",
        "data = {\n",
        "    \"model\": \"gpt-4o-mini-2024-07-18\",\n",
        "    \"messages\": [\n",
        "        {\"role\": \"system\", \"content\": \"You are a helpful assistant.\"},\n",
        "        {\"role\": \"user\", \"content\": \"Who is Abraham Lincoln?\"}\n",
        "    ],\n",
        "    \"max_tokens\": 50,\n",
        "    \"temperature\": 0.7\n",
        "}\n",
        "\n",
        "# Send the POST request to the API\n",
        "response = requests.post(api_url, headers=headers, json=data)\n",
        "\n",
        "# Check if the request was successful\n",
        "if response.status_code == 200:\n",
        "    # Parse the JSON response\n",
        "    response_data = response.json()\n",
        "    # Extract and print the generated text\n",
        "    print(response_data[\"choices\"][0][\"message\"][\"content\"])\n",
        "else:\n",
        "    print(f\"Request failed with status code: {response.status_code}\")\n",
        "    print(response.text)"
      ],
      "metadata": {
        "colab": {
          "base_uri": "https://localhost:8080/"
        },
        "id": "ubDBCsz7zTQy",
        "outputId": "d51eaadb-224e-4dea-b7fc-b1452c9306ed"
      },
      "execution_count": 27,
      "outputs": [
        {
          "output_type": "stream",
          "name": "stdout",
          "text": [
            "Abraham Lincoln was the 16th President of the United States, serving from March 1861 until his assassination in April 1865. He is best known for leading the country during the American Civil War and for his efforts to abolish slavery\n"
          ]
        }
      ]
    },
    {
      "cell_type": "code",
      "source": [
        "data = {\n",
        "    \"model\": \"gpt-4o-mini-2024-07-18\",\n",
        "    \"messages\": [{\"role\": \"user\", \"content\": \"Tell me a joke\"}],\n",
        "    \"temperature\": 0.6\n",
        "}"
      ],
      "metadata": {
        "id": "mFK_vaIEzlO0"
      },
      "execution_count": 28,
      "outputs": []
    },
    {
      "cell_type": "code",
      "source": [
        "response = requests.post(api_url, headers=headers, json=data, timeout=10)"
      ],
      "metadata": {
        "id": "nZeS4zoMzzdZ"
      },
      "execution_count": 29,
      "outputs": []
    },
    {
      "cell_type": "code",
      "source": [
        "response"
      ],
      "metadata": {
        "colab": {
          "base_uri": "https://localhost:8080/"
        },
        "id": "UwvRWa5_0E1C",
        "outputId": "35fe9a80-0a35-4f15-df7f-b996a70fc0d5"
      },
      "execution_count": 30,
      "outputs": [
        {
          "output_type": "execute_result",
          "data": {
            "text/plain": [
              "<Response [200]>"
            ]
          },
          "metadata": {},
          "execution_count": 30
        }
      ]
    },
    {
      "cell_type": "code",
      "source": [
        "import requests\n",
        "\n",
        "api_url = \"https://api.openai.com/v1/chat/completions\"\n",
        "\n",
        "headers = {\n",
        "    \"Content-Type\": \"application/json\",\n",
        "    \"Authorization\": f\"Bearer {api_key}\"\n",
        "}\n",
        "\n",
        "def get_chatbot_response(user_input):\n",
        "    data = {\n",
        "        \"model\": \"gpt-4o-mini-2024-07-18\",\n",
        "        \"messages\": [\n",
        "            {\"role\": \"system\", \"content\": \"You are a helpful assistant.\"},\n",
        "            {\"role\": \"user\", \"content\": user_input}\n",
        "        ],\n",
        "        \"max_tokens\": 50,\n",
        "        \"temperature\": 0.7\n",
        "    }\n",
        "\n",
        "    response = requests.post(api_url, headers=headers, json=data)\n",
        "\n",
        "    if response.status_code == 200:\n",
        "        response_data = response.json()\n",
        "        return response_data[\"choices\"][0][\"message\"][\"content\"]\n",
        "    else:\n",
        "        return f\"Error: {response.status_code} - {response.text}\"\n",
        "\n",
        "while True:\n",
        "    user_input = input(\"You: \")\n",
        "    if user_input.lower() in ['exit', 'quit']:\n",
        "        break\n",
        "    response = get_chatbot_response(user_input)\n",
        "    print(f\"ChatGPT: {response}\")\n"
      ],
      "metadata": {
        "colab": {
          "base_uri": "https://localhost:8080/"
        },
        "id": "yP5fgdCT0Gtg",
        "outputId": "f6c1ddd6-1687-4cf3-b6e5-24d2693bb47d"
      },
      "execution_count": 36,
      "outputs": [
        {
          "name": "stdout",
          "output_type": "stream",
          "text": [
            "You: Who is Abraham Lincoln?\n",
            "ChatGPT: Abraham Lincoln was the 16th President of the United States, serving from March 1861 until his assassination in April 1865. He is best known for leading the country during the American Civil War, preserving the Union, and working to\n",
            "You: Who is Lee sun sin in Chosun Dynasty\n",
            "ChatGPT: Admiral Yi Sun-sin (이순신) was a prominent Korean military commander during the late Joseon Dynasty, particularly known for his role in the Imjin War (Japanese invasions of Korea from 1592 to 1598).\n",
            "You: exit\n"
          ]
        }
      ]
    },
    {
      "cell_type": "code",
      "source": [
        "user_input = input(\"You: \")\n",
        "response = get_chatbot_response(user_input)\n",
        "print(f\"ChatGPT: {response}\")"
      ],
      "metadata": {
        "colab": {
          "base_uri": "https://localhost:8080/"
        },
        "id": "CNdJWcMD0S6j",
        "outputId": "222e9af0-bb64-4261-8ba5-598310f8d27e"
      },
      "execution_count": 38,
      "outputs": [
        {
          "output_type": "stream",
          "name": "stdout",
          "text": [
            "You: 을지문덕장군은 누구인가?\n",
            "ChatGPT: 을지문덕(乙支文德) 장군은 고구려 시대의 유명한 장군으로, 특히 7세기 중반에 있었던 수나라의 침략에 맞서 싸운 인물로 잘 알려져\n"
          ]
        }
      ]
    },
    {
      "cell_type": "markdown",
      "source": [
        "## **[chatgpt API 가격](https://platform.openai.com/docs/models/gpt-4o-mini)**"
      ],
      "metadata": {
        "id": "dbfmLya3340D"
      }
    },
    {
      "cell_type": "code",
      "source": [],
      "metadata": {
        "id": "sCFZkxbe4eF0"
      },
      "execution_count": null,
      "outputs": []
    }
  ]
}