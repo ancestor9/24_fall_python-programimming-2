{
  "nbformat": 4,
  "nbformat_minor": 0,
  "metadata": {
    "colab": {
      "provenance": [],
      "include_colab_link": true
    },
    "kernelspec": {
      "name": "python3",
      "display_name": "Python 3"
    },
    "language_info": {
      "name": "python"
    }
  },
  "cells": [
    {
      "cell_type": "markdown",
      "metadata": {
        "id": "view-in-github",
        "colab_type": "text"
      },
      "source": [
        "<a href=\"https://colab.research.google.com/github/ancestor9/24_fall_python-programimming-2/blob/main/31_%EC%8B%A4%EC%A0%84_Quiz_fuction_class.ipynb\" target=\"_parent\"><img src=\"https://colab.research.google.com/assets/colab-badge.svg\" alt=\"Open In Colab\"/></a>"
      ]
    },
    {
      "cell_type": "markdown",
      "source": [
        "# **Class (Class는 함수와 변수의 모음)**\n",
        "### **Person이라는 Class(붕어빵 틀)를 만들어 보자. say_hello()라는 함수만 넣어서 아주 초 간단하게 만들자**"
      ],
      "metadata": {
        "id": "4a2mvbKZSqOr"
      }
    },
    {
      "cell_type": "code",
      "source": [
        "a = 3\n",
        "id(a)"
      ],
      "metadata": {
        "id": "Ju6VBei3O8P2",
        "outputId": "90537a93-b776-4de6-9ccd-2a58be7379c8",
        "colab": {
          "base_uri": "https://localhost:8080/"
        }
      },
      "execution_count": null,
      "outputs": [
        {
          "output_type": "execute_result",
          "data": {
            "text/plain": [
              "132584456601904"
            ]
          },
          "metadata": {},
          "execution_count": 1
        }
      ]
    },
    {
      "cell_type": "code",
      "source": [
        "class Person:\n",
        "    def say_hello():\n",
        "        print('Hi!,   Happy Birthday to you !')"
      ],
      "metadata": {
        "id": "Ghhao051SC7T"
      },
      "execution_count": null,
      "outputs": []
    },
    {
      "cell_type": "markdown",
      "source": [
        "###  **Person이라는 Class를 p라는 변수로 객체화**"
      ],
      "metadata": {
        "id": "jBsUhevCWkAq"
      }
    },
    {
      "cell_type": "code",
      "source": [
        "p = Person()"
      ],
      "metadata": {
        "id": "Tw1bM1gQTCJS"
      },
      "execution_count": null,
      "outputs": []
    },
    {
      "cell_type": "code",
      "source": [
        "p.say_hello()"
      ],
      "metadata": {
        "colab": {
          "base_uri": "https://localhost:8080/",
          "height": 182
        },
        "id": "Vch2sSy-6oBj",
        "outputId": "9478fc10-1f9e-4ab5-d3d6-28b15d3acb29"
      },
      "execution_count": null,
      "outputs": [
        {
          "output_type": "error",
          "ename": "TypeError",
          "evalue": "ignored",
          "traceback": [
            "\u001b[0;31m---------------------------------------------------------------------------\u001b[0m",
            "\u001b[0;31mTypeError\u001b[0m                                 Traceback (most recent call last)",
            "\u001b[0;32m<ipython-input-4-b59e5dc06d54>\u001b[0m in \u001b[0;36m<cell line: 1>\u001b[0;34m()\u001b[0m\n\u001b[0;32m----> 1\u001b[0;31m \u001b[0mp\u001b[0m\u001b[0;34m.\u001b[0m\u001b[0msay_hello\u001b[0m\u001b[0;34m(\u001b[0m\u001b[0;34m)\u001b[0m\u001b[0;34m\u001b[0m\u001b[0;34m\u001b[0m\u001b[0m\n\u001b[0m",
            "\u001b[0;31mTypeError\u001b[0m: Person.say_hello() takes 0 positional arguments but 1 was given"
          ]
        }
      ]
    },
    {
      "cell_type": "markdown",
      "source": [
        "### **p의 say_hello()라는 method(함수)를 실행하면 Error 발생, Why?**"
      ],
      "metadata": {
        "id": "uPBev28gXB8q"
      }
    },
    {
      "cell_type": "code",
      "source": [
        "p.say_hello()"
      ],
      "metadata": {
        "colab": {
          "base_uri": "https://localhost:8080/",
          "height": 183
        },
        "id": "LyN6SxOSWWWA",
        "outputId": "e23c297f-eef0-4ee8-94dd-fe3382875d17"
      },
      "execution_count": null,
      "outputs": [
        {
          "output_type": "error",
          "ename": "TypeError",
          "evalue": "ignored",
          "traceback": [
            "\u001b[0;31m---------------------------------------------------------------------------\u001b[0m",
            "\u001b[0;31mTypeError\u001b[0m                                 Traceback (most recent call last)",
            "\u001b[0;32m<ipython-input-10-b59e5dc06d54>\u001b[0m in \u001b[0;36m<cell line: 1>\u001b[0;34m()\u001b[0m\n\u001b[0;32m----> 1\u001b[0;31m \u001b[0mp\u001b[0m\u001b[0;34m.\u001b[0m\u001b[0msay_hello\u001b[0m\u001b[0;34m(\u001b[0m\u001b[0;34m)\u001b[0m\u001b[0;34m\u001b[0m\u001b[0;34m\u001b[0m\u001b[0m\n\u001b[0m",
            "\u001b[0;31mTypeError\u001b[0m: Person.say_hello() takes 0 positional arguments but 1 was given"
          ]
        }
      ]
    },
    {
      "cell_type": "markdown",
      "source": [
        "#### **Person.say_hello()에 인자(파라미터)가 없다고하는데 원래 없어 보이지만 p라는 객체가 Class에서 인스턴스(instance)를 만드는 순간 이 것을 인식하기 위해 1 개의 인자를 달라고 하는 것이니 아무거나 인자(attributes)를 넣으면 됨**"
      ],
      "metadata": {
        "id": "kJbKJnylU8lj"
      }
    },
    {
      "cell_type": "code",
      "source": [
        "class Person:\n",
        "    def say_hello(self):\n",
        "        print('Hi!,   Happy Birthday to you !')"
      ],
      "metadata": {
        "id": "0yYR6mhcX256"
      },
      "execution_count": null,
      "outputs": []
    },
    {
      "cell_type": "code",
      "source": [
        "p = Person()\n",
        "p.say_hello()"
      ],
      "metadata": {
        "colab": {
          "base_uri": "https://localhost:8080/"
        },
        "id": "e9cDHl3kX4WB",
        "outputId": "0dc459b1-89f1-4d13-e763-1c61da41dbde"
      },
      "execution_count": null,
      "outputs": [
        {
          "output_type": "stream",
          "name": "stdout",
          "text": [
            "Hi!,   Happy Birthday to you !\n"
          ]
        }
      ]
    },
    {
      "cell_type": "markdown",
      "source": [
        "### **'self'라는 인자로 사용하도록 하자**"
      ],
      "metadata": {
        "id": "NBsPcRgsYD9D"
      }
    },
    {
      "cell_type": "code",
      "source": [
        "class Person:\n",
        "    def say_hello(self):    # 아래 오브젝트도 하나의 변수로 만들어줘야 함\n",
        "        print('Hi!,   Happy Birthday to you !')"
      ],
      "metadata": {
        "id": "sFJxb8INTHID"
      },
      "execution_count": null,
      "outputs": []
    },
    {
      "cell_type": "code",
      "source": [
        "p = Person()\n",
        "p.say_hello()               # instance 생성시 자동으로 파라미터(인자)가 생성된다. 그래서 아래 구문 참조"
      ],
      "metadata": {
        "colab": {
          "base_uri": "https://localhost:8080/"
        },
        "id": "HTyQMcrjUNXE",
        "outputId": "de5139e5-5e37-4868-8e37-5222043c2a9f"
      },
      "execution_count": null,
      "outputs": [
        {
          "output_type": "stream",
          "name": "stdout",
          "text": [
            "Hi!,   Happy Birthday to you !\n"
          ]
        }
      ]
    },
    {
      "cell_type": "markdown",
      "source": [
        "### **이제는 함수이외 변수를 Class에 넣어보자**"
      ],
      "metadata": {
        "id": "hnT6Kc-6V3kz"
      }
    },
    {
      "cell_type": "code",
      "source": [
        "class Person:\n",
        "    name = '조상구'\n",
        "\n",
        "    def say_hello(self):    # 아래 오브젝트도 하나의 변수로 만들어줘야 함\n",
        "        print('Hi!,   Happy Birthday to you !',  'I am ', name, '.')"
      ],
      "metadata": {
        "id": "R5JMDKHkVKMB"
      },
      "execution_count": null,
      "outputs": []
    },
    {
      "cell_type": "code",
      "source": [
        "p = Person()\n",
        "p.say_hello()"
      ],
      "metadata": {
        "colab": {
          "base_uri": "https://localhost:8080/"
        },
        "id": "21i3WevHVKO7",
        "outputId": "f9bf653b-88c6-4df2-89a0-5240f02c1d37"
      },
      "execution_count": null,
      "outputs": [
        {
          "output_type": "stream",
          "name": "stdout",
          "text": [
            "Hi!,   Happy Birthday to you ! I am  <__main__.Person object at 0x7ab03ec0c550> .\n"
          ]
        }
      ]
    },
    {
      "cell_type": "code",
      "source": [
        "class Person:\n",
        "    name = '조상구'\n",
        "\n",
        "    def say_hello(self):    # 아래 오브젝트도 하나의 변수로 만들어줘야 함\n",
        "        print('Hi!,   Happy Birthday to you !',  'I am ', self.name, '.')"
      ],
      "metadata": {
        "id": "gblKktHfExEH"
      },
      "execution_count": null,
      "outputs": []
    },
    {
      "cell_type": "code",
      "source": [
        "p = Person()\n",
        "p.say_hello()"
      ],
      "metadata": {
        "colab": {
          "base_uri": "https://localhost:8080/"
        },
        "id": "1cmfsP89G4yV",
        "outputId": "657bd11a-dacf-40ee-ea4d-87e447737313"
      },
      "execution_count": null,
      "outputs": [
        {
          "output_type": "stream",
          "name": "stdout",
          "text": [
            "Hi!,   Happy Birthday to you ! I am  조상구 .\n"
          ]
        }
      ]
    },
    {
      "cell_type": "markdown",
      "source": [
        "###  입학생이 40명이면 어떡하지, 일단 3명만"
      ],
      "metadata": {
        "id": "D-eVI4RnZBZi"
      }
    },
    {
      "cell_type": "code",
      "source": [
        "ancestor9 = Person()\n",
        "ancestor8 = Person()\n",
        "ancestor7 = Person()"
      ],
      "metadata": {
        "id": "hrc4SR13VKTC"
      },
      "execution_count": null,
      "outputs": []
    },
    {
      "cell_type": "code",
      "source": [
        "ancestor9.say_hello()\n",
        "ancestor8.say_hello()\n",
        "ancestor7.say_hello()"
      ],
      "metadata": {
        "colab": {
          "base_uri": "https://localhost:8080/"
        },
        "id": "0GCmB_pNUUqD",
        "outputId": "201e60e7-3656-4cf6-a0af-519979897b08"
      },
      "execution_count": null,
      "outputs": [
        {
          "output_type": "stream",
          "name": "stdout",
          "text": [
            "안녕! 입학을 축하해! 나는 조상구\n",
            "안녕! 입학을 축하해! 나는 조상구\n",
            "안녕! 입학을 축하해! 나는 조상구\n"
          ]
        }
      ]
    },
    {
      "cell_type": "code",
      "source": [
        "for i in range(5):\n",
        "    name = f'p{i}'\n",
        "    print(name)\n",
        "    name = Person()\n",
        "    name.say_hello()"
      ],
      "metadata": {
        "colab": {
          "base_uri": "https://localhost:8080/"
        },
        "id": "tyZImFcLAnx5",
        "outputId": "12804090-301a-4b5a-9012-1598e8d99b30"
      },
      "execution_count": null,
      "outputs": [
        {
          "output_type": "stream",
          "name": "stdout",
          "text": [
            "p0\n",
            "Hi!,   Happy Birthday to you ! I am  조상구 .\n",
            "p1\n",
            "Hi!,   Happy Birthday to you ! I am  조상구 .\n",
            "p2\n",
            "Hi!,   Happy Birthday to you ! I am  조상구 .\n",
            "p3\n",
            "Hi!,   Happy Birthday to you ! I am  조상구 .\n",
            "p4\n",
            "Hi!,   Happy Birthday to you ! I am  조상구 .\n"
          ]
        }
      ]
    },
    {
      "cell_type": "code",
      "source": [
        "p0"
      ],
      "metadata": {
        "colab": {
          "base_uri": "https://localhost:8080/",
          "height": 182
        },
        "id": "H_6yVt9iA2cX",
        "outputId": "e673374a-e51a-46ef-9a6a-09eceded8c7d"
      },
      "execution_count": null,
      "outputs": [
        {
          "output_type": "error",
          "ename": "NameError",
          "evalue": "ignored",
          "traceback": [
            "\u001b[0;31m---------------------------------------------------------------------------\u001b[0m",
            "\u001b[0;31mNameError\u001b[0m                                 Traceback (most recent call last)",
            "\u001b[0;32m<ipython-input-39-1a34fec10151>\u001b[0m in \u001b[0;36m<cell line: 1>\u001b[0;34m()\u001b[0m\n\u001b[0;32m----> 1\u001b[0;31m \u001b[0mp0\u001b[0m\u001b[0;34m\u001b[0m\u001b[0;34m\u001b[0m\u001b[0m\n\u001b[0m",
            "\u001b[0;31mNameError\u001b[0m: name 'p0' is not defined"
          ]
        }
      ]
    },
    {
      "cell_type": "code",
      "source": [
        "class Person:\n",
        "    name = '조상구'\n",
        "\n",
        "    def say_hello(self):\n",
        "        print('Hi!, Happy Birthday to you! I am', self.name, '.')\n",
        "\n",
        "for i in range(5):\n",
        "    name_str = f'p{i}'  # Use a different variable name for the string representation\n",
        "    print(name_str)\n",
        "\n",
        "    person_instance = Person()  # Use a different variable name for the Person instance\n",
        "    person_instance.say_hello()\n"
      ],
      "metadata": {
        "colab": {
          "base_uri": "https://localhost:8080/"
        },
        "id": "UJqFVDICCAdK",
        "outputId": "77f50fb7-a8fb-4e17-8e11-a53d7a1b7a4f"
      },
      "execution_count": null,
      "outputs": [
        {
          "output_type": "stream",
          "name": "stdout",
          "text": [
            "p0\n",
            "Hi!, Happy Birthday to you! I am 조상구 .\n",
            "p1\n",
            "Hi!, Happy Birthday to you! I am 조상구 .\n",
            "p2\n",
            "Hi!, Happy Birthday to you! I am 조상구 .\n",
            "p3\n",
            "Hi!, Happy Birthday to you! I am 조상구 .\n",
            "p4\n",
            "Hi!, Happy Birthday to you! I am 조상구 .\n"
          ]
        }
      ]
    },
    {
      "cell_type": "code",
      "source": [
        "p0"
      ],
      "metadata": {
        "colab": {
          "base_uri": "https://localhost:8080/",
          "height": 182
        },
        "id": "t3n7yVdUCCSr",
        "outputId": "6012d1cf-afe3-4c11-aa74-310710a785dd"
      },
      "execution_count": null,
      "outputs": [
        {
          "output_type": "error",
          "ename": "NameError",
          "evalue": "ignored",
          "traceback": [
            "\u001b[0;31m---------------------------------------------------------------------------\u001b[0m",
            "\u001b[0;31mNameError\u001b[0m                                 Traceback (most recent call last)",
            "\u001b[0;32m<ipython-input-36-1a34fec10151>\u001b[0m in \u001b[0;36m<cell line: 1>\u001b[0;34m()\u001b[0m\n\u001b[0;32m----> 1\u001b[0;31m \u001b[0mp0\u001b[0m\u001b[0;34m\u001b[0m\u001b[0;34m\u001b[0m\u001b[0m\n\u001b[0m",
            "\u001b[0;31mNameError\u001b[0m: name 'p0' is not defined"
          ]
        }
      ]
    },
    {
      "cell_type": "markdown",
      "source": [
        "### **초기화(initialize) __init__ 함수를 사용해서 첫번째 인자로 name을 넣는다**\n",
        "- **Person이라는 오브젝트를 만들 때 name이라는 인자를 받아서 name이라는 변수안에 그 값을 넣어보자**"
      ],
      "metadata": {
        "id": "lnxM0kz7aw9p"
      }
    },
    {
      "cell_type": "code",
      "source": [
        "class Person:\n",
        "    def __init__(self, name):\n",
        "        self.name = name\n",
        "\n",
        "    def say_hello(self):    # 아래 오브젝트도 하나의 변수로 만들어줘야 함\n",
        "        print('안녕! 입학을 축하해! 나는',  self.name)"
      ],
      "metadata": {
        "id": "ezpKNSfbas43"
      },
      "execution_count": null,
      "outputs": []
    },
    {
      "cell_type": "code",
      "source": [
        "p0 = Person('Tom')\n",
        "p1 = Person('Jerry')\n",
        "p2 = Person('Jason')"
      ],
      "metadata": {
        "id": "Ve8qsOdobJO3"
      },
      "execution_count": null,
      "outputs": []
    },
    {
      "cell_type": "code",
      "source": [
        "print(p1.name)\n",
        "p1.say_hello()"
      ],
      "metadata": {
        "colab": {
          "base_uri": "https://localhost:8080/"
        },
        "id": "DE6QKc_IjuD9",
        "outputId": "0d83ee89-304c-4c34-dfc5-35ec02dca4ec"
      },
      "execution_count": null,
      "outputs": [
        {
          "output_type": "stream",
          "name": "stdout",
          "text": [
            "Jerry\n",
            "안녕! 입학을 축하해! 나는 Jerry\n"
          ]
        }
      ]
    },
    {
      "cell_type": "markdown",
      "source": [
        "### 서로 서로에게 인사를 해보자"
      ],
      "metadata": {
        "id": "Cl6-dGn-crA4"
      }
    },
    {
      "cell_type": "code",
      "source": [
        "class Person:\n",
        "    def __init__(self, name):\n",
        "        self.name = name\n",
        "\n",
        "    def say_hello(self, to_name):    # 아래 오브젝트도 하나의 변수로 만들어줘야 함\n",
        "        print('안녕! 입학을 축하해!', to_name, '나는',  self.name, '라고 해')"
      ],
      "metadata": {
        "id": "RdmW7c3hb2Xy"
      },
      "execution_count": null,
      "outputs": []
    },
    {
      "cell_type": "code",
      "source": [
        "p0 = Person('Tom')\n",
        "p1 = Person('Jerry')\n",
        "p2 = Person('Jason')"
      ],
      "metadata": {
        "id": "p18UGDd7cn9h"
      },
      "execution_count": null,
      "outputs": []
    },
    {
      "cell_type": "code",
      "source": [
        "p0.say_hello('Jerry')\n",
        "p1.say_hello('Json')"
      ],
      "metadata": {
        "colab": {
          "base_uri": "https://localhost:8080/"
        },
        "id": "-_LoJQRub2bJ",
        "outputId": "0b84df26-0a31-4b81-83b7-3bec10ba6614"
      },
      "execution_count": null,
      "outputs": [
        {
          "output_type": "stream",
          "name": "stdout",
          "text": [
            "안녕! 입학을 축하해! Jerry 나는 Tom 라고 해\n",
            "안녕! 입학을 축하해! Json 나는 Jerry 라고 해\n"
          ]
        }
      ]
    },
    {
      "cell_type": "markdown",
      "source": [
        "### **서로 서로에게 인사도 하고 나이도 알아보자**"
      ],
      "metadata": {
        "id": "6uv8qi8pdvhQ"
      }
    },
    {
      "cell_type": "code",
      "source": [
        "class Person:\n",
        "    def __init__(self, name, age):                     # 기본 속성정보\n",
        "        self.name = name\n",
        "        self.age = age\n",
        "\n",
        "    def say_hello(self, to_name):                      # 타인에게 인사하는 행위\n",
        "        print('안녕! 입학을 축하해!', to_name, ',   ', '나는',  self.name, '라고 해')\n",
        "\n",
        "    def introduce(self):                               # 자신을 소개하는 행위\n",
        "        print('내 이름은 ' + self.name + ',   ', '나는' + str(self.age) + '살이야')"
      ],
      "metadata": {
        "id": "6C3OuoFJdvhV"
      },
      "execution_count": null,
      "outputs": []
    },
    {
      "cell_type": "code",
      "source": [
        "from IPython.core.interactiveshell import InteractiveShell\n",
        "InteractiveShell.ast_node_interactivity = \"all\""
      ],
      "metadata": {
        "id": "q3_3eCD9cMSA"
      },
      "execution_count": null,
      "outputs": []
    },
    {
      "cell_type": "code",
      "source": [
        "p0 = Person('Tom', 15)\n",
        "p1 = Person('Jerry', 34)\n",
        "p2 = Person('Jason', 28)"
      ],
      "metadata": {
        "id": "-gzBN-1bdvhV"
      },
      "execution_count": null,
      "outputs": []
    },
    {
      "cell_type": "code",
      "source": [
        "p0.name\n",
        "p0.age\n",
        "p0.say_hello('Jerry')"
      ],
      "metadata": {
        "colab": {
          "base_uri": "https://localhost:8080/",
          "height": 35
        },
        "id": "h6fYIJ88IcFx",
        "outputId": "8846c605-17d5-47a3-f4c5-785d3c42b45a"
      },
      "execution_count": null,
      "outputs": [
        {
          "output_type": "execute_result",
          "data": {
            "text/plain": [
              "'Tom'"
            ],
            "application/vnd.google.colaboratory.intrinsic+json": {
              "type": "string"
            }
          },
          "metadata": {},
          "execution_count": 7
        },
        {
          "output_type": "execute_result",
          "data": {
            "text/plain": [
              "15"
            ]
          },
          "metadata": {},
          "execution_count": 7
        },
        {
          "output_type": "stream",
          "name": "stdout",
          "text": [
            "안녕! 입학을 축하해! Jerry ,    나는 Tom 라고 해\n"
          ]
        }
      ]
    },
    {
      "cell_type": "code",
      "source": [
        "p0.say_hello('Jerry')"
      ],
      "metadata": {
        "colab": {
          "base_uri": "https://localhost:8080/"
        },
        "outputId": "70771fac-3e26-4b7e-9520-2ece98adb429",
        "id": "Tmu6buqgdvhV"
      },
      "execution_count": null,
      "outputs": [
        {
          "output_type": "stream",
          "name": "stdout",
          "text": [
            "안녕! 입학을 축하해! Jerry ,    나는 Tom 라고 해\n"
          ]
        }
      ]
    },
    {
      "cell_type": "markdown",
      "source": [
        "###  **inroduce 함수에는  인자가 없다**"
      ],
      "metadata": {
        "id": "CmMVKU-TfP8A"
      }
    },
    {
      "cell_type": "code",
      "source": [
        "p0.introduce()"
      ],
      "metadata": {
        "colab": {
          "base_uri": "https://localhost:8080/"
        },
        "id": "wH5tdoGYfBz4",
        "outputId": "350a15a6-77a6-4e0c-b280-eb8bd2155170"
      },
      "execution_count": null,
      "outputs": [
        {
          "output_type": "stream",
          "name": "stdout",
          "text": [
            "내 이름은 Tom,    나는15살이야\n"
          ]
        }
      ]
    },
    {
      "cell_type": "markdown",
      "source": [
        "###  **Why error? introduce함수에는 인자가 필요없음**"
      ],
      "metadata": {
        "id": "o-7aQcoYfH2A"
      }
    },
    {
      "cell_type": "code",
      "source": [
        "ancestor9.introduce()\n",
        "ancestor8.introduce()\n",
        "ancestor7.introduce()"
      ],
      "metadata": {
        "colab": {
          "base_uri": "https://localhost:8080/"
        },
        "id": "FtF6q0xPbhRA",
        "outputId": "426958b8-21fd-4128-b2e3-861660961c1d"
      },
      "execution_count": null,
      "outputs": [
        {
          "output_type": "stream",
          "name": "stdout",
          "text": [
            "내 이름은 ancestor9,    나는9살이야\n",
            "내 이름은 ancestor8,    나는8살이야\n",
            "내 이름은 ancestor7,    나는7살이야\n"
          ]
        }
      ]
    },
    {
      "cell_type": "markdown",
      "source": [
        "### **상속(Inheritance)을 만들어 보자. 즉 경찰과 프로그래머**"
      ],
      "metadata": {
        "id": "GfdVHPWygBN4"
      }
    },
    {
      "cell_type": "markdown",
      "source": [
        "### **class Police(Person)의 의미, 상속의 의미는 아래 코드의 의미, 너무 길어**"
      ],
      "metadata": {
        "id": "1G4MH_9fkR13"
      }
    },
    {
      "cell_type": "code",
      "source": [
        "class Person:\n",
        "\n",
        "    def __init__(self, name, age):                     # 기본 속성정보\n",
        "        self.name = name\n",
        "        self.age = age\n",
        "\n",
        "    def say_hello(self, to_name):                      # 타인에게 인사하는 행위\n",
        "        print('안녕! 입학을 축하해!', to_name, ',   ', '나는',  self.name, '라고 해')\n",
        "\n",
        "    def introduce(self):                               # 자신을 소개하는 행위\n",
        "        print('내 이름은 ' + self.name + ',   ', '나는' + str(self.age) + '살이야')\n",
        "\n",
        "    def arrest(self, to_arrest):\n",
        "        print('넌 체포되었다, ' + to_arrest)\n",
        "\n",
        "    def code(self, to_program):\n",
        "        print('만들어볼까, 요 것을 ' + to_program)"
      ],
      "metadata": {
        "id": "joP02a76iiEj"
      },
      "execution_count": null,
      "outputs": []
    },
    {
      "cell_type": "code",
      "source": [
        "p0 = Person('Tom', 15)\n",
        "p1 = Person('Jerry', 34)\n",
        "p2 = Person('Jason', 28)"
      ],
      "metadata": {
        "id": "2hfsHNbGNmMK"
      },
      "execution_count": null,
      "outputs": []
    },
    {
      "cell_type": "code",
      "source": [
        "p0.arrest('Tom')"
      ],
      "metadata": {
        "colab": {
          "base_uri": "https://localhost:8080/"
        },
        "id": "vGlbJgeHdKow",
        "outputId": "2dad3fd3-4624-4ada-bc02-39eb9d9ac8e4"
      },
      "execution_count": null,
      "outputs": [
        {
          "output_type": "stream",
          "name": "stdout",
          "text": [
            "넌 체포되었다, Tom\n"
          ]
        }
      ]
    },
    {
      "cell_type": "markdown",
      "source": [
        "###  **그냥 class의 모든 속성을 상속을 받아 사용하면**"
      ],
      "metadata": {
        "id": "Wv6q0UUMklI2"
      }
    },
    {
      "cell_type": "code",
      "source": [
        "class Person:\n",
        "\n",
        "    def __init__(self, name, age):                     # 기본 속성정보\n",
        "        self.name = name\n",
        "        self.age = age\n",
        "\n",
        "    def say_hello(self, to_name):                      # 타인에게 인사하는 행위\n",
        "        print('안녕! 입학을 축하해!', to_name, ',   ', '나는',  self.name, '라고 해')\n",
        "\n",
        "    def introduce(self):                               # 자신을 소개하는 행위\n",
        "        print('내 이름은 ' + self.name + ',   ', '나는' + str(self.age) + '살이야')"
      ],
      "metadata": {
        "id": "uLkP7pb7Nm9p"
      },
      "execution_count": null,
      "outputs": []
    },
    {
      "cell_type": "code",
      "source": [
        "class Police(Person):\n",
        "    def arrest(self, to_arrest):\n",
        "        print('넌 체포되었다, ' + to_arrest)\n",
        "\n",
        "class Programmer(Person):\n",
        "    def code(self, to_program):\n",
        "        print('만들어볼까, 요 것을 ' + to_program)"
      ],
      "metadata": {
        "id": "8nGPiUe9is0v"
      },
      "execution_count": null,
      "outputs": []
    },
    {
      "cell_type": "code",
      "source": [
        "p0 = Person('Tom', 15)"
      ],
      "metadata": {
        "id": "Ko9b4zjkLu_S"
      },
      "execution_count": null,
      "outputs": []
    },
    {
      "cell_type": "code",
      "source": [
        "p1 = Police('Jerry', 34)\n",
        "p2 = Programmer('Jason', 28)"
      ],
      "metadata": {
        "id": "Ltfb0mYdL0zK"
      },
      "execution_count": null,
      "outputs": []
    },
    {
      "cell_type": "code",
      "source": [
        "from IPython.core.interactiveshell import InteractiveShell\n",
        "InteractiveShell.ast_node_interactivity = \"all\""
      ],
      "metadata": {
        "id": "6q-VQHlYNBXa"
      },
      "execution_count": null,
      "outputs": []
    },
    {
      "cell_type": "code",
      "source": [
        "p0.introduce()\n",
        "p1.introduce()\n",
        "p2.introduce()"
      ],
      "metadata": {
        "colab": {
          "base_uri": "https://localhost:8080/"
        },
        "id": "7HH0tvNejY--",
        "outputId": "2a636ccf-c524-436c-f02a-f65727770676"
      },
      "execution_count": null,
      "outputs": [
        {
          "output_type": "stream",
          "name": "stdout",
          "text": [
            "내 이름은 Tom,    나는15살이야\n",
            "내 이름은 Jerry,    나는34살이야\n",
            "내 이름은 Jason,    나는28살이야\n"
          ]
        }
      ]
    },
    {
      "cell_type": "code",
      "source": [
        "p0.arrest('Lupin')\n",
        "p1.arrest('Lupin')\n",
        "p2.arrest('Lupin')"
      ],
      "metadata": {
        "colab": {
          "base_uri": "https://localhost:8080/",
          "height": 237
        },
        "id": "TONlTGsFjWJU",
        "outputId": "d04420c4-3528-4fcf-d566-7efbc0a8294e"
      },
      "execution_count": null,
      "outputs": [
        {
          "output_type": "stream",
          "name": "stdout",
          "text": [
            "넌 체포되었다, Lupin\n"
          ]
        },
        {
          "output_type": "error",
          "ename": "AttributeError",
          "evalue": "ignored",
          "traceback": [
            "\u001b[0;31m---------------------------------------------------------------------------\u001b[0m",
            "\u001b[0;31mAttributeError\u001b[0m                            Traceback (most recent call last)",
            "\u001b[0;32m<ipython-input-94-aee60f391526>\u001b[0m in \u001b[0;36m<cell line: 3>\u001b[0;34m()\u001b[0m\n\u001b[1;32m      1\u001b[0m \u001b[0;31m#p0.arrest('Lupin')\u001b[0m\u001b[0;34m\u001b[0m\u001b[0;34m\u001b[0m\u001b[0m\n\u001b[1;32m      2\u001b[0m \u001b[0mp1\u001b[0m\u001b[0;34m.\u001b[0m\u001b[0marrest\u001b[0m\u001b[0;34m(\u001b[0m\u001b[0;34m'Lupin'\u001b[0m\u001b[0;34m)\u001b[0m\u001b[0;34m\u001b[0m\u001b[0;34m\u001b[0m\u001b[0m\n\u001b[0;32m----> 3\u001b[0;31m \u001b[0mp2\u001b[0m\u001b[0;34m.\u001b[0m\u001b[0marrest\u001b[0m\u001b[0;34m(\u001b[0m\u001b[0;34m'Lupin'\u001b[0m\u001b[0;34m)\u001b[0m\u001b[0;34m\u001b[0m\u001b[0;34m\u001b[0m\u001b[0m\n\u001b[0m",
            "\u001b[0;31mAttributeError\u001b[0m: 'Programmer' object has no attribute 'arrest'"
          ]
        }
      ]
    },
    {
      "cell_type": "code",
      "source": [
        "#p0.code('Python')\n",
        "#p1.code('Python')\n",
        "p2.code('Python')"
      ],
      "metadata": {
        "colab": {
          "base_uri": "https://localhost:8080/"
        },
        "id": "y3sHASJyjzud",
        "outputId": "3a28b6c2-bbc7-4903-e0e1-5c9274ad8e4e"
      },
      "execution_count": null,
      "outputs": [
        {
          "output_type": "stream",
          "name": "stdout",
          "text": [
            "만들어볼까, 요 것을 Python\n"
          ]
        }
      ]
    },
    {
      "cell_type": "code",
      "source": [
        "ancestor7.arrest('ancestor12')"
      ],
      "metadata": {
        "colab": {
          "base_uri": "https://localhost:8080/"
        },
        "id": "lJn2OeJ-j7F1",
        "outputId": "db5fcd2b-2712-4720-d072-8f47e350b110"
      },
      "execution_count": null,
      "outputs": [
        {
          "output_type": "stream",
          "name": "stdout",
          "text": [
            "넌 체포되었다, ancestor12\n"
          ]
        }
      ]
    },
    {
      "cell_type": "code",
      "source": [
        "ancestor9.arrest('ancestor12')"
      ],
      "metadata": {
        "colab": {
          "base_uri": "https://localhost:8080/",
          "height": 183
        },
        "id": "CFCFLOMJj90M",
        "outputId": "bdc0931d-41e1-4716-a706-5add9c63eb9e"
      },
      "execution_count": null,
      "outputs": [
        {
          "output_type": "error",
          "ename": "AttributeError",
          "evalue": "ignored",
          "traceback": [
            "\u001b[0;31m---------------------------------------------------------------------------\u001b[0m",
            "\u001b[0;31mAttributeError\u001b[0m                            Traceback (most recent call last)",
            "\u001b[0;32m<ipython-input-77-786ac90971b1>\u001b[0m in \u001b[0;36m<cell line: 1>\u001b[0;34m()\u001b[0m\n\u001b[0;32m----> 1\u001b[0;31m \u001b[0mancestor9\u001b[0m\u001b[0;34m.\u001b[0m\u001b[0marrest\u001b[0m\u001b[0;34m(\u001b[0m\u001b[0;34m'ancestor12'\u001b[0m\u001b[0;34m)\u001b[0m\u001b[0;34m\u001b[0m\u001b[0;34m\u001b[0m\u001b[0m\n\u001b[0m",
            "\u001b[0;31mAttributeError\u001b[0m: 'Person' object has no attribute 'arrest'"
          ]
        }
      ]
    },
    {
      "cell_type": "code",
      "source": [
        "ancestor9.code('이메일 클라이언트')"
      ],
      "metadata": {
        "colab": {
          "base_uri": "https://localhost:8080/",
          "height": 183
        },
        "id": "CbDRhODVkAU0",
        "outputId": "85528ce3-ce06-4a91-9ac8-6d422a77e6e3"
      },
      "execution_count": null,
      "outputs": [
        {
          "output_type": "error",
          "ename": "AttributeError",
          "evalue": "ignored",
          "traceback": [
            "\u001b[0;31m---------------------------------------------------------------------------\u001b[0m",
            "\u001b[0;31mAttributeError\u001b[0m                            Traceback (most recent call last)",
            "\u001b[0;32m<ipython-input-76-a0cbe776517d>\u001b[0m in \u001b[0;36m<cell line: 1>\u001b[0;34m()\u001b[0m\n\u001b[0;32m----> 1\u001b[0;31m \u001b[0mancestor9\u001b[0m\u001b[0;34m.\u001b[0m\u001b[0mcode\u001b[0m\u001b[0;34m(\u001b[0m\u001b[0;34m'이메일 클라이언트'\u001b[0m\u001b[0;34m)\u001b[0m\u001b[0;34m\u001b[0m\u001b[0;34m\u001b[0m\u001b[0m\n\u001b[0m",
            "\u001b[0;31mAttributeError\u001b[0m: 'Person' object has no attribute 'code'"
          ]
        }
      ]
    },
    {
      "cell_type": "markdown",
      "source": [
        "# **Package와 Module**\n",
        "### **Package는 module의 합으로 다른 프로그램에서는 Library임**\n",
        "### **Module은 코드를 모아 모아서 특정 기능을 구현해 놓은 것**"
      ],
      "metadata": {
        "id": "0CLYXltUk3KJ"
      }
    },
    {
      "cell_type": "code",
      "source": [
        "import math\n",
        "print(math.pi)"
      ],
      "metadata": {
        "colab": {
          "base_uri": "https://localhost:8080/"
        },
        "id": "SyS_Y9AAXo0n",
        "outputId": "3da35645-c9ab-4f55-d862-4f28123406f6"
      },
      "execution_count": null,
      "outputs": [
        {
          "output_type": "execute_result",
          "data": {
            "text/plain": [
              "3.141592653589793"
            ]
          },
          "metadata": {},
          "execution_count": 2
        }
      ]
    },
    {
      "cell_type": "code",
      "source": [
        "%%writefile santafe.py\n",
        "\n",
        "text = \"you can use this module.\"\n",
        "number = 2023\n",
        "\n",
        "def add(a, b):\n",
        "    return a + b\n",
        "\n",
        "def mul(a, b):\n",
        "    return a * b\n",
        "\n",
        "class Person:\n",
        "\n",
        "    def __init__(self, name, age):                     # 기본 속성정보\n",
        "        self.name = name\n",
        "        self.age = age\n",
        "\n",
        "    def say_hello(self, to_name):                      # 타인에게 인사하는 행위\n",
        "        print('안녕! 입학을 축하해!', to_name, ',   ', '나는',  self.name, '라고 해')\n",
        "\n",
        "    def introduce(self):                               # 자신을 소개하는 행위\n",
        "        print('내 이름은 ' + self.name + ',   ', '나는' + str(self.age) + '살이야')\n",
        "\n",
        "    def arrest(self, to_arrest):\n",
        "        print('넌 체포되었다, ' + to_arrest)\n",
        "\n",
        "    def code(self, to_program):\n",
        "        print('만들어볼까, 요 것을 ' + to_program)"
      ],
      "metadata": {
        "colab": {
          "base_uri": "https://localhost:8080/"
        },
        "id": "kMNF-88iXNp0",
        "outputId": "77acd5d2-a328-4300-aae6-d1b0e28dc245"
      },
      "execution_count": null,
      "outputs": [
        {
          "output_type": "stream",
          "name": "stdout",
          "text": [
            "Writing santafe.py\n"
          ]
        }
      ]
    },
    {
      "cell_type": "code",
      "source": [
        "pwd"
      ],
      "metadata": {
        "colab": {
          "base_uri": "https://localhost:8080/",
          "height": 35
        },
        "id": "ztx6GvnCfwMn",
        "outputId": "ca42e5c0-5c5f-4a42-c009-f5492f308fd7"
      },
      "execution_count": null,
      "outputs": [
        {
          "output_type": "execute_result",
          "data": {
            "text/plain": [
              "'/content'"
            ],
            "application/vnd.google.colaboratory.intrinsic+json": {
              "type": "string"
            }
          },
          "metadata": {},
          "execution_count": 19
        }
      ]
    },
    {
      "cell_type": "code",
      "source": [
        "import santafe as sf"
      ],
      "metadata": {
        "id": "PMxddah9XNsL"
      },
      "execution_count": null,
      "outputs": []
    },
    {
      "cell_type": "code",
      "source": [
        "sf."
      ],
      "metadata": {
        "id": "cEXGzk2KfH0u"
      },
      "execution_count": null,
      "outputs": []
    },
    {
      "cell_type": "code",
      "source": [
        "p1 = sf.Person('zoro', 33)\n",
        "p1.name"
      ],
      "metadata": {
        "colab": {
          "base_uri": "https://localhost:8080/",
          "height": 35
        },
        "id": "axd6VltgXNvk",
        "outputId": "50d64a91-4a70-43be-fa00-a09624983214"
      },
      "execution_count": null,
      "outputs": [
        {
          "output_type": "execute_result",
          "data": {
            "text/plain": [
              "'zoro'"
            ],
            "application/vnd.google.colaboratory.intrinsic+json": {
              "type": "string"
            }
          },
          "metadata": {},
          "execution_count": 16
        }
      ]
    },
    {
      "cell_type": "code",
      "source": [
        "sf."
      ],
      "metadata": {
        "id": "tiSfsAYkfVW0"
      },
      "execution_count": null,
      "outputs": []
    },
    {
      "cell_type": "code",
      "source": [
        "sf.mul(10, 20)"
      ],
      "metadata": {
        "colab": {
          "base_uri": "https://localhost:8080/"
        },
        "id": "KumI_s7xbFPn",
        "outputId": "a9767578-cd91-48b5-b185-1a61fb8b584c"
      },
      "execution_count": null,
      "outputs": [
        {
          "output_type": "execute_result",
          "data": {
            "text/plain": [
              "200"
            ]
          },
          "metadata": {},
          "execution_count": 9
        }
      ]
    },
    {
      "cell_type": "code",
      "source": [
        "sf.text"
      ],
      "metadata": {
        "colab": {
          "base_uri": "https://localhost:8080/",
          "height": 35
        },
        "id": "6zOwT2u9bFSI",
        "outputId": "8e1134e6-974c-4930-bb8a-7ccde115e436"
      },
      "execution_count": null,
      "outputs": [
        {
          "output_type": "execute_result",
          "data": {
            "text/plain": [
              "'you can use this module.'"
            ],
            "application/vnd.google.colaboratory.intrinsic+json": {
              "type": "string"
            }
          },
          "metadata": {},
          "execution_count": 18
        }
      ]
    },
    {
      "cell_type": "code",
      "source": [
        "zs."
      ],
      "metadata": {
        "id": "GXfiCzrgbFVe"
      },
      "execution_count": null,
      "outputs": []
    },
    {
      "cell_type": "code",
      "source": [],
      "metadata": {
        "id": "PS1mTn9LcEvY"
      },
      "execution_count": null,
      "outputs": []
    },
    {
      "cell_type": "code",
      "source": [
        "from geopy.geocoders import Nominatim\n",
        "geo_local = Nominatim(user_agent='South Korea')\n",
        "address = '서울시 송파구 신천동 올림픽대로 435'\n",
        "geo = geo_local.geocode(address)\n",
        "[geo.latitude, geo.longitude]\n",
        "loc = [geo.latitude, geo.longitude]"
      ],
      "metadata": {
        "id": "cQd3auE4kIS9"
      },
      "execution_count": null,
      "outputs": []
    },
    {
      "cell_type": "code",
      "source": [
        "import folium\n",
        "m = folium.Map(location = loc, zoom_start = 14)\n",
        "m"
      ],
      "metadata": {
        "colab": {
          "base_uri": "https://localhost:8080/",
          "height": 991
        },
        "id": "CQ3yGDzZl_V6",
        "outputId": "cd3eec93-1aaf-4bb2-e4c1-ad04e58ca316"
      },
      "execution_count": null,
      "outputs": [
        {
          "output_type": "execute_result",
          "data": {
            "text/plain": [
              "<folium.folium.Map at 0x7a606008ae60>"
            ],
            "text/html": [
              "<div style=\"width:100%;\"><div style=\"position:relative;width:100%;height:0;padding-bottom:60%;\"><span style=\"color:#565656\">Make this Notebook Trusted to load map: File -> Trust Notebook</span><iframe srcdoc=\"&lt;!DOCTYPE html&gt;\n",
              "&lt;html&gt;\n",
              "&lt;head&gt;\n",
              "    \n",
              "    &lt;meta http-equiv=&quot;content-type&quot; content=&quot;text/html; charset=UTF-8&quot; /&gt;\n",
              "    \n",
              "        &lt;script&gt;\n",
              "            L_NO_TOUCH = false;\n",
              "            L_DISABLE_3D = false;\n",
              "        &lt;/script&gt;\n",
              "    \n",
              "    &lt;style&gt;html, body {width: 100%;height: 100%;margin: 0;padding: 0;}&lt;/style&gt;\n",
              "    &lt;style&gt;#map {position:absolute;top:0;bottom:0;right:0;left:0;}&lt;/style&gt;\n",
              "    &lt;script src=&quot;https://cdn.jsdelivr.net/npm/leaflet@1.9.3/dist/leaflet.js&quot;&gt;&lt;/script&gt;\n",
              "    &lt;script src=&quot;https://code.jquery.com/jquery-1.12.4.min.js&quot;&gt;&lt;/script&gt;\n",
              "    &lt;script src=&quot;https://cdn.jsdelivr.net/npm/bootstrap@5.2.2/dist/js/bootstrap.bundle.min.js&quot;&gt;&lt;/script&gt;\n",
              "    &lt;script src=&quot;https://cdnjs.cloudflare.com/ajax/libs/Leaflet.awesome-markers/2.0.2/leaflet.awesome-markers.js&quot;&gt;&lt;/script&gt;\n",
              "    &lt;link rel=&quot;stylesheet&quot; href=&quot;https://cdn.jsdelivr.net/npm/leaflet@1.9.3/dist/leaflet.css&quot;/&gt;\n",
              "    &lt;link rel=&quot;stylesheet&quot; href=&quot;https://cdn.jsdelivr.net/npm/bootstrap@5.2.2/dist/css/bootstrap.min.css&quot;/&gt;\n",
              "    &lt;link rel=&quot;stylesheet&quot; href=&quot;https://netdna.bootstrapcdn.com/bootstrap/3.0.0/css/bootstrap.min.css&quot;/&gt;\n",
              "    &lt;link rel=&quot;stylesheet&quot; href=&quot;https://cdn.jsdelivr.net/npm/@fortawesome/fontawesome-free@6.2.0/css/all.min.css&quot;/&gt;\n",
              "    &lt;link rel=&quot;stylesheet&quot; href=&quot;https://cdnjs.cloudflare.com/ajax/libs/Leaflet.awesome-markers/2.0.2/leaflet.awesome-markers.css&quot;/&gt;\n",
              "    &lt;link rel=&quot;stylesheet&quot; href=&quot;https://cdn.jsdelivr.net/gh/python-visualization/folium/folium/templates/leaflet.awesome.rotate.min.css&quot;/&gt;\n",
              "    \n",
              "            &lt;meta name=&quot;viewport&quot; content=&quot;width=device-width,\n",
              "                initial-scale=1.0, maximum-scale=1.0, user-scalable=no&quot; /&gt;\n",
              "            &lt;style&gt;\n",
              "                #map_6f06b66d2a1fbdc7eefd78123ad1072d {\n",
              "                    position: relative;\n",
              "                    width: 100.0%;\n",
              "                    height: 100.0%;\n",
              "                    left: 0.0%;\n",
              "                    top: 0.0%;\n",
              "                }\n",
              "                .leaflet-container { font-size: 1rem; }\n",
              "            &lt;/style&gt;\n",
              "        \n",
              "&lt;/head&gt;\n",
              "&lt;body&gt;\n",
              "    \n",
              "    \n",
              "            &lt;div class=&quot;folium-map&quot; id=&quot;map_6f06b66d2a1fbdc7eefd78123ad1072d&quot; &gt;&lt;/div&gt;\n",
              "        \n",
              "&lt;/body&gt;\n",
              "&lt;script&gt;\n",
              "    \n",
              "    \n",
              "            var map_6f06b66d2a1fbdc7eefd78123ad1072d = L.map(\n",
              "                &quot;map_6f06b66d2a1fbdc7eefd78123ad1072d&quot;,\n",
              "                {\n",
              "                    center: [37.521276, 127.0990128],\n",
              "                    crs: L.CRS.EPSG3857,\n",
              "                    zoom: 14,\n",
              "                    zoomControl: true,\n",
              "                    preferCanvas: false,\n",
              "                }\n",
              "            );\n",
              "\n",
              "            \n",
              "\n",
              "        \n",
              "    \n",
              "            var tile_layer_5953e44c76053ee1a5edd0a5d85d621c = L.tileLayer(\n",
              "                &quot;https://{s}.tile.openstreetmap.org/{z}/{x}/{y}.png&quot;,\n",
              "                {&quot;attribution&quot;: &quot;Data by \\u0026copy; \\u003ca target=\\&quot;_blank\\&quot; href=\\&quot;http://openstreetmap.org\\&quot;\\u003eOpenStreetMap\\u003c/a\\u003e, under \\u003ca target=\\&quot;_blank\\&quot; href=\\&quot;http://www.openstreetmap.org/copyright\\&quot;\\u003eODbL\\u003c/a\\u003e.&quot;, &quot;detectRetina&quot;: false, &quot;maxNativeZoom&quot;: 18, &quot;maxZoom&quot;: 18, &quot;minZoom&quot;: 0, &quot;noWrap&quot;: false, &quot;opacity&quot;: 1, &quot;subdomains&quot;: &quot;abc&quot;, &quot;tms&quot;: false}\n",
              "            ).addTo(map_6f06b66d2a1fbdc7eefd78123ad1072d);\n",
              "        \n",
              "&lt;/script&gt;\n",
              "&lt;/html&gt;\" style=\"position:absolute;width:100%;height:100%;left:0;top:0;border:none !important;\" allowfullscreen webkitallowfullscreen mozallowfullscreen></iframe></div></div>"
            ]
          },
          "metadata": {},
          "execution_count": 79
        }
      ]
    },
    {
      "cell_type": "code",
      "source": [
        "from branca.element import Figure\n",
        "fig = Figure(width=1200,height=300)\n",
        "m = folium.Map(location=loc, zoom_start=15)\n",
        "fig.add_child(m)\n",
        "folium.Marker(loc).add_to(m)\n",
        "folium.Marker(loc, popup='<b>우리 집</b>').add_to(m)\n",
        "m"
      ],
      "metadata": {
        "colab": {
          "base_uri": "https://localhost:8080/",
          "height": 320
        },
        "id": "mQZgUcQhncEs",
        "outputId": "20399b27-bb61-4350-cae1-33f654195f3d"
      },
      "execution_count": null,
      "outputs": [
        {
          "output_type": "execute_result",
          "data": {
            "text/plain": [
              "<folium.folium.Map at 0x7a6060088ca0>"
            ],
            "text/html": [
              "<iframe srcdoc=\"&lt;!DOCTYPE html&gt;\n",
              "&lt;html&gt;\n",
              "&lt;head&gt;\n",
              "    \n",
              "    &lt;meta http-equiv=&quot;content-type&quot; content=&quot;text/html; charset=UTF-8&quot; /&gt;\n",
              "    \n",
              "        &lt;script&gt;\n",
              "            L_NO_TOUCH = false;\n",
              "            L_DISABLE_3D = false;\n",
              "        &lt;/script&gt;\n",
              "    \n",
              "    &lt;style&gt;html, body {width: 100%;height: 100%;margin: 0;padding: 0;}&lt;/style&gt;\n",
              "    &lt;style&gt;#map {position:absolute;top:0;bottom:0;right:0;left:0;}&lt;/style&gt;\n",
              "    &lt;script src=&quot;https://cdn.jsdelivr.net/npm/leaflet@1.9.3/dist/leaflet.js&quot;&gt;&lt;/script&gt;\n",
              "    &lt;script src=&quot;https://code.jquery.com/jquery-1.12.4.min.js&quot;&gt;&lt;/script&gt;\n",
              "    &lt;script src=&quot;https://cdn.jsdelivr.net/npm/bootstrap@5.2.2/dist/js/bootstrap.bundle.min.js&quot;&gt;&lt;/script&gt;\n",
              "    &lt;script src=&quot;https://cdnjs.cloudflare.com/ajax/libs/Leaflet.awesome-markers/2.0.2/leaflet.awesome-markers.js&quot;&gt;&lt;/script&gt;\n",
              "    &lt;link rel=&quot;stylesheet&quot; href=&quot;https://cdn.jsdelivr.net/npm/leaflet@1.9.3/dist/leaflet.css&quot;/&gt;\n",
              "    &lt;link rel=&quot;stylesheet&quot; href=&quot;https://cdn.jsdelivr.net/npm/bootstrap@5.2.2/dist/css/bootstrap.min.css&quot;/&gt;\n",
              "    &lt;link rel=&quot;stylesheet&quot; href=&quot;https://netdna.bootstrapcdn.com/bootstrap/3.0.0/css/bootstrap.min.css&quot;/&gt;\n",
              "    &lt;link rel=&quot;stylesheet&quot; href=&quot;https://cdn.jsdelivr.net/npm/@fortawesome/fontawesome-free@6.2.0/css/all.min.css&quot;/&gt;\n",
              "    &lt;link rel=&quot;stylesheet&quot; href=&quot;https://cdnjs.cloudflare.com/ajax/libs/Leaflet.awesome-markers/2.0.2/leaflet.awesome-markers.css&quot;/&gt;\n",
              "    &lt;link rel=&quot;stylesheet&quot; href=&quot;https://cdn.jsdelivr.net/gh/python-visualization/folium/folium/templates/leaflet.awesome.rotate.min.css&quot;/&gt;\n",
              "    \n",
              "            &lt;meta name=&quot;viewport&quot; content=&quot;width=device-width,\n",
              "                initial-scale=1.0, maximum-scale=1.0, user-scalable=no&quot; /&gt;\n",
              "            &lt;style&gt;\n",
              "                #map_d3d640b9ad1941117c34b11a12c063de {\n",
              "                    position: relative;\n",
              "                    width: 100.0%;\n",
              "                    height: 100.0%;\n",
              "                    left: 0.0%;\n",
              "                    top: 0.0%;\n",
              "                }\n",
              "                .leaflet-container { font-size: 1rem; }\n",
              "            &lt;/style&gt;\n",
              "        \n",
              "&lt;/head&gt;\n",
              "&lt;body&gt;\n",
              "    \n",
              "    \n",
              "            &lt;div class=&quot;folium-map&quot; id=&quot;map_d3d640b9ad1941117c34b11a12c063de&quot; &gt;&lt;/div&gt;\n",
              "        \n",
              "&lt;/body&gt;\n",
              "&lt;script&gt;\n",
              "    \n",
              "    \n",
              "            var map_d3d640b9ad1941117c34b11a12c063de = L.map(\n",
              "                &quot;map_d3d640b9ad1941117c34b11a12c063de&quot;,\n",
              "                {\n",
              "                    center: [37.521276, 127.0990128],\n",
              "                    crs: L.CRS.EPSG3857,\n",
              "                    zoom: 15,\n",
              "                    zoomControl: true,\n",
              "                    preferCanvas: false,\n",
              "                }\n",
              "            );\n",
              "\n",
              "            \n",
              "\n",
              "        \n",
              "    \n",
              "            var tile_layer_81dc8ecaab3b745ac4404d3127296520 = L.tileLayer(\n",
              "                &quot;https://{s}.tile.openstreetmap.org/{z}/{x}/{y}.png&quot;,\n",
              "                {&quot;attribution&quot;: &quot;Data by \\u0026copy; \\u003ca target=\\&quot;_blank\\&quot; href=\\&quot;http://openstreetmap.org\\&quot;\\u003eOpenStreetMap\\u003c/a\\u003e, under \\u003ca target=\\&quot;_blank\\&quot; href=\\&quot;http://www.openstreetmap.org/copyright\\&quot;\\u003eODbL\\u003c/a\\u003e.&quot;, &quot;detectRetina&quot;: false, &quot;maxNativeZoom&quot;: 18, &quot;maxZoom&quot;: 18, &quot;minZoom&quot;: 0, &quot;noWrap&quot;: false, &quot;opacity&quot;: 1, &quot;subdomains&quot;: &quot;abc&quot;, &quot;tms&quot;: false}\n",
              "            ).addTo(map_d3d640b9ad1941117c34b11a12c063de);\n",
              "        \n",
              "    \n",
              "            var marker_011ff73d5d307dc6bd086cbd380b5c92 = L.marker(\n",
              "                [37.521276, 127.0990128],\n",
              "                {}\n",
              "            ).addTo(map_d3d640b9ad1941117c34b11a12c063de);\n",
              "        \n",
              "    \n",
              "            var marker_36b101f41f3397f9ec5d1b5d6f0873cb = L.marker(\n",
              "                [37.521276, 127.0990128],\n",
              "                {}\n",
              "            ).addTo(map_d3d640b9ad1941117c34b11a12c063de);\n",
              "        \n",
              "    \n",
              "        var popup_4c90a511e858f2aeed19feb20f767870 = L.popup({&quot;maxWidth&quot;: &quot;100%&quot;});\n",
              "\n",
              "        \n",
              "            \n",
              "                var html_94f790ff63b88e549e6fe6ff9e7aac6d = $(`&lt;div id=&quot;html_94f790ff63b88e549e6fe6ff9e7aac6d&quot; style=&quot;width: 100.0%; height: 100.0%;&quot;&gt;&lt;b&gt;우리 집&lt;/b&gt;&lt;/div&gt;`)[0];\n",
              "                popup_4c90a511e858f2aeed19feb20f767870.setContent(html_94f790ff63b88e549e6fe6ff9e7aac6d);\n",
              "            \n",
              "        \n",
              "\n",
              "        marker_36b101f41f3397f9ec5d1b5d6f0873cb.bindPopup(popup_4c90a511e858f2aeed19feb20f767870)\n",
              "        ;\n",
              "\n",
              "        \n",
              "    \n",
              "&lt;/script&gt;\n",
              "&lt;/html&gt;\" width=\"1200\" height=\"300\"style=\"border:none !important;\" \"allowfullscreen\" \"webkitallowfullscreen\" \"mozallowfullscreen\"></iframe>"
            ]
          },
          "metadata": {},
          "execution_count": 80
        }
      ]
    },
    {
      "cell_type": "code",
      "source": [
        "fig = Figure(width=1200,height=300)\n",
        "\n",
        "# CircleMarker\n",
        "folium.CircleMarker(\n",
        "    loc,\n",
        "    radius=100,\n",
        "    fill=True,\n",
        "    color='#34ebc6',\n",
        "    fill_color='#c634eb',\n",
        "    popup='CircleMarker popup',\n",
        "    tooltip='CircleMarker tooltip'\n",
        ").add_to(m)\n",
        "\n",
        "m"
      ],
      "metadata": {
        "colab": {
          "base_uri": "https://localhost:8080/",
          "height": 320
        },
        "id": "sXZ32nC-nxgF",
        "outputId": "205e1c05-d1d3-4e01-e083-2c54d135229d"
      },
      "execution_count": null,
      "outputs": [
        {
          "output_type": "execute_result",
          "data": {
            "text/plain": [
              "<folium.folium.Map at 0x7a6060088ca0>"
            ],
            "text/html": [
              "<iframe srcdoc=\"&lt;!DOCTYPE html&gt;\n",
              "&lt;html&gt;\n",
              "&lt;head&gt;\n",
              "    \n",
              "    &lt;meta http-equiv=&quot;content-type&quot; content=&quot;text/html; charset=UTF-8&quot; /&gt;\n",
              "    \n",
              "        &lt;script&gt;\n",
              "            L_NO_TOUCH = false;\n",
              "            L_DISABLE_3D = false;\n",
              "        &lt;/script&gt;\n",
              "    \n",
              "    &lt;style&gt;html, body {width: 100%;height: 100%;margin: 0;padding: 0;}&lt;/style&gt;\n",
              "    &lt;style&gt;#map {position:absolute;top:0;bottom:0;right:0;left:0;}&lt;/style&gt;\n",
              "    &lt;script src=&quot;https://cdn.jsdelivr.net/npm/leaflet@1.9.3/dist/leaflet.js&quot;&gt;&lt;/script&gt;\n",
              "    &lt;script src=&quot;https://code.jquery.com/jquery-1.12.4.min.js&quot;&gt;&lt;/script&gt;\n",
              "    &lt;script src=&quot;https://cdn.jsdelivr.net/npm/bootstrap@5.2.2/dist/js/bootstrap.bundle.min.js&quot;&gt;&lt;/script&gt;\n",
              "    &lt;script src=&quot;https://cdnjs.cloudflare.com/ajax/libs/Leaflet.awesome-markers/2.0.2/leaflet.awesome-markers.js&quot;&gt;&lt;/script&gt;\n",
              "    &lt;link rel=&quot;stylesheet&quot; href=&quot;https://cdn.jsdelivr.net/npm/leaflet@1.9.3/dist/leaflet.css&quot;/&gt;\n",
              "    &lt;link rel=&quot;stylesheet&quot; href=&quot;https://cdn.jsdelivr.net/npm/bootstrap@5.2.2/dist/css/bootstrap.min.css&quot;/&gt;\n",
              "    &lt;link rel=&quot;stylesheet&quot; href=&quot;https://netdna.bootstrapcdn.com/bootstrap/3.0.0/css/bootstrap.min.css&quot;/&gt;\n",
              "    &lt;link rel=&quot;stylesheet&quot; href=&quot;https://cdn.jsdelivr.net/npm/@fortawesome/fontawesome-free@6.2.0/css/all.min.css&quot;/&gt;\n",
              "    &lt;link rel=&quot;stylesheet&quot; href=&quot;https://cdnjs.cloudflare.com/ajax/libs/Leaflet.awesome-markers/2.0.2/leaflet.awesome-markers.css&quot;/&gt;\n",
              "    &lt;link rel=&quot;stylesheet&quot; href=&quot;https://cdn.jsdelivr.net/gh/python-visualization/folium/folium/templates/leaflet.awesome.rotate.min.css&quot;/&gt;\n",
              "    \n",
              "            &lt;meta name=&quot;viewport&quot; content=&quot;width=device-width,\n",
              "                initial-scale=1.0, maximum-scale=1.0, user-scalable=no&quot; /&gt;\n",
              "            &lt;style&gt;\n",
              "                #map_d3d640b9ad1941117c34b11a12c063de {\n",
              "                    position: relative;\n",
              "                    width: 100.0%;\n",
              "                    height: 100.0%;\n",
              "                    left: 0.0%;\n",
              "                    top: 0.0%;\n",
              "                }\n",
              "                .leaflet-container { font-size: 1rem; }\n",
              "            &lt;/style&gt;\n",
              "        \n",
              "&lt;/head&gt;\n",
              "&lt;body&gt;\n",
              "    \n",
              "    \n",
              "            &lt;div class=&quot;folium-map&quot; id=&quot;map_d3d640b9ad1941117c34b11a12c063de&quot; &gt;&lt;/div&gt;\n",
              "        \n",
              "&lt;/body&gt;\n",
              "&lt;script&gt;\n",
              "    \n",
              "    \n",
              "            var map_d3d640b9ad1941117c34b11a12c063de = L.map(\n",
              "                &quot;map_d3d640b9ad1941117c34b11a12c063de&quot;,\n",
              "                {\n",
              "                    center: [37.521276, 127.0990128],\n",
              "                    crs: L.CRS.EPSG3857,\n",
              "                    zoom: 15,\n",
              "                    zoomControl: true,\n",
              "                    preferCanvas: false,\n",
              "                }\n",
              "            );\n",
              "\n",
              "            \n",
              "\n",
              "        \n",
              "    \n",
              "            var tile_layer_81dc8ecaab3b745ac4404d3127296520 = L.tileLayer(\n",
              "                &quot;https://{s}.tile.openstreetmap.org/{z}/{x}/{y}.png&quot;,\n",
              "                {&quot;attribution&quot;: &quot;Data by \\u0026copy; \\u003ca target=\\&quot;_blank\\&quot; href=\\&quot;http://openstreetmap.org\\&quot;\\u003eOpenStreetMap\\u003c/a\\u003e, under \\u003ca target=\\&quot;_blank\\&quot; href=\\&quot;http://www.openstreetmap.org/copyright\\&quot;\\u003eODbL\\u003c/a\\u003e.&quot;, &quot;detectRetina&quot;: false, &quot;maxNativeZoom&quot;: 18, &quot;maxZoom&quot;: 18, &quot;minZoom&quot;: 0, &quot;noWrap&quot;: false, &quot;opacity&quot;: 1, &quot;subdomains&quot;: &quot;abc&quot;, &quot;tms&quot;: false}\n",
              "            ).addTo(map_d3d640b9ad1941117c34b11a12c063de);\n",
              "        \n",
              "    \n",
              "            var marker_011ff73d5d307dc6bd086cbd380b5c92 = L.marker(\n",
              "                [37.521276, 127.0990128],\n",
              "                {}\n",
              "            ).addTo(map_d3d640b9ad1941117c34b11a12c063de);\n",
              "        \n",
              "    \n",
              "            var marker_36b101f41f3397f9ec5d1b5d6f0873cb = L.marker(\n",
              "                [37.521276, 127.0990128],\n",
              "                {}\n",
              "            ).addTo(map_d3d640b9ad1941117c34b11a12c063de);\n",
              "        \n",
              "    \n",
              "        var popup_4c90a511e858f2aeed19feb20f767870 = L.popup({&quot;maxWidth&quot;: &quot;100%&quot;});\n",
              "\n",
              "        \n",
              "            \n",
              "                var html_94f790ff63b88e549e6fe6ff9e7aac6d = $(`&lt;div id=&quot;html_94f790ff63b88e549e6fe6ff9e7aac6d&quot; style=&quot;width: 100.0%; height: 100.0%;&quot;&gt;&lt;b&gt;우리 집&lt;/b&gt;&lt;/div&gt;`)[0];\n",
              "                popup_4c90a511e858f2aeed19feb20f767870.setContent(html_94f790ff63b88e549e6fe6ff9e7aac6d);\n",
              "            \n",
              "        \n",
              "\n",
              "        marker_36b101f41f3397f9ec5d1b5d6f0873cb.bindPopup(popup_4c90a511e858f2aeed19feb20f767870)\n",
              "        ;\n",
              "\n",
              "        \n",
              "    \n",
              "    \n",
              "            var circle_marker_ea0fb6c508cd638b8133ca2eab42cbcf = L.circleMarker(\n",
              "                [37.521276, 127.0990128],\n",
              "                {&quot;bubblingMouseEvents&quot;: true, &quot;color&quot;: &quot;#34ebc6&quot;, &quot;dashArray&quot;: null, &quot;dashOffset&quot;: null, &quot;fill&quot;: true, &quot;fillColor&quot;: &quot;#c634eb&quot;, &quot;fillOpacity&quot;: 0.2, &quot;fillRule&quot;: &quot;evenodd&quot;, &quot;lineCap&quot;: &quot;round&quot;, &quot;lineJoin&quot;: &quot;round&quot;, &quot;opacity&quot;: 1.0, &quot;radius&quot;: 100, &quot;stroke&quot;: true, &quot;weight&quot;: 3}\n",
              "            ).addTo(map_d3d640b9ad1941117c34b11a12c063de);\n",
              "        \n",
              "    \n",
              "        var popup_3ed3c5a0cd495af1e280f70fb5c29d50 = L.popup({&quot;maxWidth&quot;: &quot;100%&quot;});\n",
              "\n",
              "        \n",
              "            \n",
              "                var html_fc8d0aca5dda8108cc4a647b09d7f6da = $(`&lt;div id=&quot;html_fc8d0aca5dda8108cc4a647b09d7f6da&quot; style=&quot;width: 100.0%; height: 100.0%;&quot;&gt;CircleMarker popup&lt;/div&gt;`)[0];\n",
              "                popup_3ed3c5a0cd495af1e280f70fb5c29d50.setContent(html_fc8d0aca5dda8108cc4a647b09d7f6da);\n",
              "            \n",
              "        \n",
              "\n",
              "        circle_marker_ea0fb6c508cd638b8133ca2eab42cbcf.bindPopup(popup_3ed3c5a0cd495af1e280f70fb5c29d50)\n",
              "        ;\n",
              "\n",
              "        \n",
              "    \n",
              "    \n",
              "            circle_marker_ea0fb6c508cd638b8133ca2eab42cbcf.bindTooltip(\n",
              "                `&lt;div&gt;\n",
              "                     CircleMarker tooltip\n",
              "                 &lt;/div&gt;`,\n",
              "                {&quot;sticky&quot;: true}\n",
              "            );\n",
              "        \n",
              "&lt;/script&gt;\n",
              "&lt;/html&gt;\" width=\"1200\" height=\"300\"style=\"border:none !important;\" \"allowfullscreen\" \"webkitallowfullscreen\" \"mozallowfullscreen\"></iframe>"
            ]
          },
          "metadata": {},
          "execution_count": 81
        }
      ]
    },
    {
      "cell_type": "markdown",
      "source": [
        "# End"
      ],
      "metadata": {
        "id": "MqaNCGPKoiGx"
      }
    },
    {
      "cell_type": "code",
      "source": [
        "import inspect\n",
        "\n",
        "# sum 함수의 소스 코드 확인\n",
        "inspect.getsource(sum)"
      ],
      "metadata": {
        "id": "crBgLAgBou_U",
        "outputId": "32ae8886-0e13-4f8f-a57a-fa65aab13de7",
        "colab": {
          "base_uri": "https://localhost:8080/",
          "height": 370
        }
      },
      "execution_count": null,
      "outputs": [
        {
          "output_type": "error",
          "ename": "TypeError",
          "evalue": "ignored",
          "traceback": [
            "\u001b[0;31m---------------------------------------------------------------------------\u001b[0m",
            "\u001b[0;31mTypeError\u001b[0m                                 Traceback (most recent call last)",
            "\u001b[0;32m<ipython-input-98-b9028862e5b1>\u001b[0m in \u001b[0;36m<cell line: 4>\u001b[0;34m()\u001b[0m\n\u001b[1;32m      2\u001b[0m \u001b[0;34m\u001b[0m\u001b[0m\n\u001b[1;32m      3\u001b[0m \u001b[0;31m# sum 함수의 소스 코드 확인\u001b[0m\u001b[0;34m\u001b[0m\u001b[0;34m\u001b[0m\u001b[0m\n\u001b[0;32m----> 4\u001b[0;31m \u001b[0minspect\u001b[0m\u001b[0;34m.\u001b[0m\u001b[0mgetsource\u001b[0m\u001b[0;34m(\u001b[0m\u001b[0msum\u001b[0m\u001b[0;34m)\u001b[0m\u001b[0;34m\u001b[0m\u001b[0;34m\u001b[0m\u001b[0m\n\u001b[0m",
            "\u001b[0;32m/usr/lib/python3.10/inspect.py\u001b[0m in \u001b[0;36mgetsource\u001b[0;34m(object)\u001b[0m\n\u001b[1;32m   1137\u001b[0m     \u001b[0;32mor\u001b[0m \u001b[0mcode\u001b[0m \u001b[0mobject\u001b[0m\u001b[0;34m.\u001b[0m  \u001b[0mThe\u001b[0m \u001b[0msource\u001b[0m \u001b[0mcode\u001b[0m \u001b[0;32mis\u001b[0m \u001b[0mreturned\u001b[0m \u001b[0;32mas\u001b[0m \u001b[0ma\u001b[0m \u001b[0msingle\u001b[0m \u001b[0mstring\u001b[0m\u001b[0;34m.\u001b[0m  \u001b[0mAn\u001b[0m\u001b[0;34m\u001b[0m\u001b[0;34m\u001b[0m\u001b[0m\n\u001b[1;32m   1138\u001b[0m     OSError is raised if the source code cannot be retrieved.\"\"\"\n\u001b[0;32m-> 1139\u001b[0;31m     \u001b[0mlines\u001b[0m\u001b[0;34m,\u001b[0m \u001b[0mlnum\u001b[0m \u001b[0;34m=\u001b[0m \u001b[0mgetsourcelines\u001b[0m\u001b[0;34m(\u001b[0m\u001b[0mobject\u001b[0m\u001b[0;34m)\u001b[0m\u001b[0;34m\u001b[0m\u001b[0;34m\u001b[0m\u001b[0m\n\u001b[0m\u001b[1;32m   1140\u001b[0m     \u001b[0;32mreturn\u001b[0m \u001b[0;34m''\u001b[0m\u001b[0;34m.\u001b[0m\u001b[0mjoin\u001b[0m\u001b[0;34m(\u001b[0m\u001b[0mlines\u001b[0m\u001b[0;34m)\u001b[0m\u001b[0;34m\u001b[0m\u001b[0;34m\u001b[0m\u001b[0m\n\u001b[1;32m   1141\u001b[0m \u001b[0;34m\u001b[0m\u001b[0m\n",
            "\u001b[0;32m/usr/lib/python3.10/inspect.py\u001b[0m in \u001b[0;36mgetsourcelines\u001b[0;34m(object)\u001b[0m\n\u001b[1;32m   1119\u001b[0m     raised if the source code cannot be retrieved.\"\"\"\n\u001b[1;32m   1120\u001b[0m     \u001b[0mobject\u001b[0m \u001b[0;34m=\u001b[0m \u001b[0munwrap\u001b[0m\u001b[0;34m(\u001b[0m\u001b[0mobject\u001b[0m\u001b[0;34m)\u001b[0m\u001b[0;34m\u001b[0m\u001b[0;34m\u001b[0m\u001b[0m\n\u001b[0;32m-> 1121\u001b[0;31m     \u001b[0mlines\u001b[0m\u001b[0;34m,\u001b[0m \u001b[0mlnum\u001b[0m \u001b[0;34m=\u001b[0m \u001b[0mfindsource\u001b[0m\u001b[0;34m(\u001b[0m\u001b[0mobject\u001b[0m\u001b[0;34m)\u001b[0m\u001b[0;34m\u001b[0m\u001b[0;34m\u001b[0m\u001b[0m\n\u001b[0m\u001b[1;32m   1122\u001b[0m \u001b[0;34m\u001b[0m\u001b[0m\n\u001b[1;32m   1123\u001b[0m     \u001b[0;32mif\u001b[0m \u001b[0mistraceback\u001b[0m\u001b[0;34m(\u001b[0m\u001b[0mobject\u001b[0m\u001b[0;34m)\u001b[0m\u001b[0;34m:\u001b[0m\u001b[0;34m\u001b[0m\u001b[0;34m\u001b[0m\u001b[0m\n",
            "\u001b[0;32m/usr/lib/python3.10/inspect.py\u001b[0m in \u001b[0;36mfindsource\u001b[0;34m(object)\u001b[0m\n\u001b[1;32m    938\u001b[0m     is raised if the source code cannot be retrieved.\"\"\"\n\u001b[1;32m    939\u001b[0m \u001b[0;34m\u001b[0m\u001b[0m\n\u001b[0;32m--> 940\u001b[0;31m     \u001b[0mfile\u001b[0m \u001b[0;34m=\u001b[0m \u001b[0mgetsourcefile\u001b[0m\u001b[0;34m(\u001b[0m\u001b[0mobject\u001b[0m\u001b[0;34m)\u001b[0m\u001b[0;34m\u001b[0m\u001b[0;34m\u001b[0m\u001b[0m\n\u001b[0m\u001b[1;32m    941\u001b[0m     \u001b[0;32mif\u001b[0m \u001b[0mfile\u001b[0m\u001b[0;34m:\u001b[0m\u001b[0;34m\u001b[0m\u001b[0;34m\u001b[0m\u001b[0m\n\u001b[1;32m    942\u001b[0m         \u001b[0;31m# Invalidate cache if needed.\u001b[0m\u001b[0;34m\u001b[0m\u001b[0;34m\u001b[0m\u001b[0m\n",
            "\u001b[0;32m/usr/lib/python3.10/inspect.py\u001b[0m in \u001b[0;36mgetsourcefile\u001b[0;34m(object)\u001b[0m\n\u001b[1;32m    815\u001b[0m     \u001b[0mReturn\u001b[0m \u001b[0;32mNone\u001b[0m \u001b[0;32mif\u001b[0m \u001b[0mno\u001b[0m \u001b[0mway\u001b[0m \u001b[0mcan\u001b[0m \u001b[0mbe\u001b[0m \u001b[0midentified\u001b[0m \u001b[0mto\u001b[0m \u001b[0mget\u001b[0m \u001b[0mthe\u001b[0m \u001b[0msource\u001b[0m\u001b[0;34m.\u001b[0m\u001b[0;34m\u001b[0m\u001b[0;34m\u001b[0m\u001b[0m\n\u001b[1;32m    816\u001b[0m     \"\"\"\n\u001b[0;32m--> 817\u001b[0;31m     \u001b[0mfilename\u001b[0m \u001b[0;34m=\u001b[0m \u001b[0mgetfile\u001b[0m\u001b[0;34m(\u001b[0m\u001b[0mobject\u001b[0m\u001b[0;34m)\u001b[0m\u001b[0;34m\u001b[0m\u001b[0;34m\u001b[0m\u001b[0m\n\u001b[0m\u001b[1;32m    818\u001b[0m     \u001b[0mall_bytecode_suffixes\u001b[0m \u001b[0;34m=\u001b[0m \u001b[0mimportlib\u001b[0m\u001b[0;34m.\u001b[0m\u001b[0mmachinery\u001b[0m\u001b[0;34m.\u001b[0m\u001b[0mDEBUG_BYTECODE_SUFFIXES\u001b[0m\u001b[0;34m[\u001b[0m\u001b[0;34m:\u001b[0m\u001b[0;34m]\u001b[0m\u001b[0;34m\u001b[0m\u001b[0;34m\u001b[0m\u001b[0m\n\u001b[1;32m    819\u001b[0m     \u001b[0mall_bytecode_suffixes\u001b[0m \u001b[0;34m+=\u001b[0m \u001b[0mimportlib\u001b[0m\u001b[0;34m.\u001b[0m\u001b[0mmachinery\u001b[0m\u001b[0;34m.\u001b[0m\u001b[0mOPTIMIZED_BYTECODE_SUFFIXES\u001b[0m\u001b[0;34m[\u001b[0m\u001b[0;34m:\u001b[0m\u001b[0;34m]\u001b[0m\u001b[0;34m\u001b[0m\u001b[0;34m\u001b[0m\u001b[0m\n",
            "\u001b[0;32m/usr/lib/python3.10/inspect.py\u001b[0m in \u001b[0;36mgetfile\u001b[0;34m(object)\u001b[0m\n\u001b[1;32m    795\u001b[0m     \u001b[0;32mif\u001b[0m \u001b[0miscode\u001b[0m\u001b[0;34m(\u001b[0m\u001b[0mobject\u001b[0m\u001b[0;34m)\u001b[0m\u001b[0;34m:\u001b[0m\u001b[0;34m\u001b[0m\u001b[0;34m\u001b[0m\u001b[0m\n\u001b[1;32m    796\u001b[0m         \u001b[0;32mreturn\u001b[0m \u001b[0mobject\u001b[0m\u001b[0;34m.\u001b[0m\u001b[0mco_filename\u001b[0m\u001b[0;34m\u001b[0m\u001b[0;34m\u001b[0m\u001b[0m\n\u001b[0;32m--> 797\u001b[0;31m     raise TypeError('module, class, method, function, traceback, frame, or '\n\u001b[0m\u001b[1;32m    798\u001b[0m                     'code object was expected, got {}'.format(\n\u001b[1;32m    799\u001b[0m                     type(object).__name__))\n",
            "\u001b[0;31mTypeError\u001b[0m: module, class, method, function, traceback, frame, or code object was expected, got builtin_function_or_method"
          ]
        }
      ]
    },
    {
      "cell_type": "code",
      "source": [],
      "metadata": {
        "id": "WknHVq4ZPMrI"
      },
      "execution_count": null,
      "outputs": []
    }
  ]
}