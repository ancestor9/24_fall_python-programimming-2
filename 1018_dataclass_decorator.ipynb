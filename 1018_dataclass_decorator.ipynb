{
  "nbformat": 4,
  "nbformat_minor": 0,
  "metadata": {
    "colab": {
      "provenance": [],
      "authorship_tag": "ABX9TyMRahEntrlWgSbEHALDOtws",
      "include_colab_link": true
    },
    "kernelspec": {
      "name": "python3",
      "display_name": "Python 3"
    },
    "language_info": {
      "name": "python"
    }
  },
  "cells": [
    {
      "cell_type": "markdown",
      "metadata": {
        "id": "view-in-github",
        "colab_type": "text"
      },
      "source": [
        "<a href=\"https://colab.research.google.com/github/ancestor9/24_fall_python-programimming-2/blob/main/1018_dataclass_decorator.ipynb\" target=\"_parent\"><img src=\"https://colab.research.google.com/assets/colab-badge.svg\" alt=\"Open In Colab\"/></a>"
      ]
    },
    {
      "cell_type": "markdown",
      "source": [
        "## **[Python: Why DataClasses are Awesome](https://medium.com/@pravash-techie/python-why-dataclasses-are-awesome-ff6463b091f9)**"
      ],
      "metadata": {
        "id": "cXcNP8mrQoIS"
      }
    },
    {
      "source": [
        "class Person:\n",
        "  def __init__(self, name:str, address:str):\n",
        "    self.name = name\n",
        "    self.address = address\n",
        "\n",
        "  def __str__(self):\n",
        "    # Change: Return the formatted string instead of printing it\n",
        "    return f\"{self.name}, {self.address}\"\n",
        "\n",
        "def main() -> None:\n",
        "  person = Person(name=\"Jack\", address=\"New York\")\n",
        "  print(person)\n",
        "\n",
        "if __name__ == '__main__':\n",
        "  main()"
      ],
      "cell_type": "code",
      "metadata": {
        "colab": {
          "base_uri": "https://localhost:8080/"
        },
        "id": "ibYXGn8GNfeh",
        "outputId": "e4a84e45-ee17-48f5-ef12-1849d85190e2"
      },
      "execution_count": 1,
      "outputs": [
        {
          "output_type": "stream",
          "name": "stdout",
          "text": [
            "Jack, New York\n"
          ]
        }
      ]
    },
    {
      "cell_type": "code",
      "source": [
        "Person(name=\"Jack\", address=\"New York\")"
      ],
      "metadata": {
        "colab": {
          "base_uri": "https://localhost:8080/"
        },
        "id": "UnDsI8QrM-PQ",
        "outputId": "b7b043b6-4efc-400b-d79c-ed308aeca4ce"
      },
      "execution_count": 2,
      "outputs": [
        {
          "output_type": "execute_result",
          "data": {
            "text/plain": [
              "<__main__.Person at 0x7f28fc12a560>"
            ]
          },
          "metadata": {},
          "execution_count": 2
        }
      ]
    },
    {
      "cell_type": "code",
      "source": [
        "print(Person(name=\"Jack\", address=\"New York\"))"
      ],
      "metadata": {
        "colab": {
          "base_uri": "https://localhost:8080/"
        },
        "id": "rp5Vk37ANrkx",
        "outputId": "fa58ad30-0be4-4654-99d7-5be6888df7d8"
      },
      "execution_count": 3,
      "outputs": [
        {
          "output_type": "stream",
          "name": "stdout",
          "text": [
            "Jack, New York\n"
          ]
        }
      ]
    },
    {
      "cell_type": "code",
      "source": [
        "from dataclasses import dataclass\n",
        "\n",
        "# @dataclass는 Python에서 3.7 버전부터 지원되는 데코레이터입니다. 이 데코레이터를 사용하면, 아래와 같은 작업들을 자동으로 수행:\n",
        "\n",
        "# __init__ 메서드 생성: 클래스 생성 시 필요한 필드(name, address)에 대해 자동으로 초기화 메서드를 만들어 줍니다.\n",
        "#  객체를 출력할 때 사람이 읽기 쉽게 출력할 수 있는 문자열 표현을 자동으로 만들어 줍니다.\n",
        "# __eq__ 메서드 생성: 객체 간의 동등성 비교를 할 수 있는 메서드도 자동으로 생성됩니다. 두 객체가 같은 값의 필드를 가지면 같은 객체로 판단됩니다.\n",
        "\n",
        "@dataclass\n",
        "class Humnan:\n",
        "  name: str\n",
        "  address: str"
      ],
      "metadata": {
        "id": "WQPXH5S4Nzwg"
      },
      "execution_count": 4,
      "outputs": []
    },
    {
      "cell_type": "code",
      "source": [
        "person = Person(name=\"Jack\", address=\"New York\")"
      ],
      "metadata": {
        "id": "8zicIuzSPVVe"
      },
      "execution_count": 5,
      "outputs": []
    },
    {
      "cell_type": "code",
      "source": [
        "def main() -> None:\n",
        "  person = Person(name=\"Jack\", address=\"New York\")\n",
        "  print(person)\n",
        "\n",
        "if __name__ == '__main__':\n",
        "  main()"
      ],
      "metadata": {
        "colab": {
          "base_uri": "https://localhost:8080/"
        },
        "id": "UdNEyPWdOBC2",
        "outputId": "da9540c7-06f5-4ef6-871a-217c84f151fd"
      },
      "execution_count": 6,
      "outputs": [
        {
          "output_type": "stream",
          "name": "stdout",
          "text": [
            "Jack, New York\n"
          ]
        }
      ]
    },
    {
      "cell_type": "markdown",
      "source": [
        "### **파이썬의 모든 객체는 클라스다.**"
      ],
      "metadata": {
        "id": "d-O07QFkPbnA"
      }
    },
    {
      "cell_type": "code",
      "source": [
        "a = 10\n",
        "a.__add__(20)"
      ],
      "metadata": {
        "colab": {
          "base_uri": "https://localhost:8080/"
        },
        "id": "icu0Giw6O9iW",
        "outputId": "701e5d4d-72f5-4697-9288-add4acfbc6b0"
      },
      "execution_count": null,
      "outputs": [
        {
          "output_type": "execute_result",
          "data": {
            "text/plain": [
              "30"
            ]
          },
          "metadata": {},
          "execution_count": 19
        }
      ]
    },
    {
      "cell_type": "code",
      "source": [
        "dir(a)"
      ],
      "metadata": {
        "colab": {
          "base_uri": "https://localhost:8080/"
        },
        "id": "eiM1Rt8nPHcy",
        "outputId": "fd4d1c75-b453-412c-f981-27cd199840b6"
      },
      "execution_count": null,
      "outputs": [
        {
          "output_type": "execute_result",
          "data": {
            "text/plain": [
              "['__abs__',\n",
              " '__add__',\n",
              " '__and__',\n",
              " '__bool__',\n",
              " '__ceil__',\n",
              " '__class__',\n",
              " '__delattr__',\n",
              " '__dir__',\n",
              " '__divmod__',\n",
              " '__doc__',\n",
              " '__eq__',\n",
              " '__float__',\n",
              " '__floor__',\n",
              " '__floordiv__',\n",
              " '__format__',\n",
              " '__ge__',\n",
              " '__getattribute__',\n",
              " '__getnewargs__',\n",
              " '__gt__',\n",
              " '__hash__',\n",
              " '__index__',\n",
              " '__init__',\n",
              " '__init_subclass__',\n",
              " '__int__',\n",
              " '__invert__',\n",
              " '__le__',\n",
              " '__lshift__',\n",
              " '__lt__',\n",
              " '__mod__',\n",
              " '__mul__',\n",
              " '__ne__',\n",
              " '__neg__',\n",
              " '__new__',\n",
              " '__or__',\n",
              " '__pos__',\n",
              " '__pow__',\n",
              " '__radd__',\n",
              " '__rand__',\n",
              " '__rdivmod__',\n",
              " '__reduce__',\n",
              " '__reduce_ex__',\n",
              " '__repr__',\n",
              " '__rfloordiv__',\n",
              " '__rlshift__',\n",
              " '__rmod__',\n",
              " '__rmul__',\n",
              " '__ror__',\n",
              " '__round__',\n",
              " '__rpow__',\n",
              " '__rrshift__',\n",
              " '__rshift__',\n",
              " '__rsub__',\n",
              " '__rtruediv__',\n",
              " '__rxor__',\n",
              " '__setattr__',\n",
              " '__sizeof__',\n",
              " '__str__',\n",
              " '__sub__',\n",
              " '__subclasshook__',\n",
              " '__truediv__',\n",
              " '__trunc__',\n",
              " '__xor__',\n",
              " 'as_integer_ratio',\n",
              " 'bit_count',\n",
              " 'bit_length',\n",
              " 'conjugate',\n",
              " 'denominator',\n",
              " 'from_bytes',\n",
              " 'imag',\n",
              " 'numerator',\n",
              " 'real',\n",
              " 'to_bytes']"
            ]
          },
          "metadata": {},
          "execution_count": 20
        }
      ]
    },
    {
      "cell_type": "code",
      "source": [
        "# __repr__ 메서드: 이 메서드는 객체를 출력하거나 repr() 함수가 호출될 때 해당 객체의 문자열 표현을 반환하는 내장함수(메서드)\n",
        "a.__repr__()"
      ],
      "metadata": {
        "colab": {
          "base_uri": "https://localhost:8080/",
          "height": 35
        },
        "id": "hT0zV1HWPQvM",
        "outputId": "35d8a585-4d36-4d3c-943c-59f34980dd87"
      },
      "execution_count": null,
      "outputs": [
        {
          "output_type": "execute_result",
          "data": {
            "text/plain": [
              "'MyNumber(value=10)'"
            ],
            "application/vnd.google.colaboratory.intrinsic+json": {
              "type": "string"
            }
          },
          "metadata": {},
          "execution_count": 24
        }
      ]
    },
    {
      "cell_type": "code",
      "source": [
        "class MyNumber:\n",
        "    def __init__(self, value: int):\n",
        "        self.value = value\n",
        "\n",
        "    # __repr__ 메서드 정의\n",
        "    def __repr__(self):\n",
        "        return f\"MyNumber(value={self.value})\"\n",
        "\n",
        "# 인스턴스 생성\n",
        "a = MyNumber(10)\n",
        "\n",
        "# __repr__ 호출 (자동으로 호출됨)\n",
        "print(a)  # 출력: MyNumber(value=10)\n",
        "\n",
        "# __repr__을 명시적으로 호출\n",
        "print(a.__repr__())  # 출력: MyNumber(value=10)"
      ],
      "metadata": {
        "colab": {
          "base_uri": "https://localhost:8080/"
        },
        "id": "ZihwuNCVP-QT",
        "outputId": "1d77b511-e440-4ba6-e28f-f83e94bf7d75"
      },
      "execution_count": null,
      "outputs": [
        {
          "output_type": "stream",
          "name": "stdout",
          "text": [
            "MyNumber(value=10)\n",
            "MyNumber(value=10)\n"
          ]
        }
      ]
    },
    {
      "cell_type": "code",
      "source": [
        "# For further Study\n",
        "# https://medium.com/gitconnected/mastering-dataclass-in-python-makes-your-code-more-concise-and-elegant-6efa823d7530"
      ],
      "metadata": {
        "id": "Udmwkhg6QJRi"
      },
      "execution_count": null,
      "outputs": []
    },
    {
      "cell_type": "code",
      "source": [],
      "metadata": {
        "id": "2IllUhNmRLNm"
      },
      "execution_count": null,
      "outputs": []
    }
  ]
}