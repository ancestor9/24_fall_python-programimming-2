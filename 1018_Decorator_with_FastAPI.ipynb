{
  "nbformat": 4,
  "nbformat_minor": 0,
  "metadata": {
    "colab": {
      "provenance": [],
      "authorship_tag": "ABX9TyN+3+1l+g7D1tycz/G/HxJl",
      "include_colab_link": true
    },
    "kernelspec": {
      "name": "python3",
      "display_name": "Python 3"
    },
    "language_info": {
      "name": "python"
    }
  },
  "cells": [
    {
      "cell_type": "markdown",
      "metadata": {
        "id": "view-in-github",
        "colab_type": "text"
      },
      "source": [
        "<a href=\"https://colab.research.google.com/github/ancestor9/24_fall_python-programimming-2/blob/main/1018_Decorator_with_FastAPI.ipynb\" target=\"_parent\"><img src=\"https://colab.research.google.com/assets/colab-badge.svg\" alt=\"Open In Colab\"/></a>"
      ]
    },
    {
      "cell_type": "markdown",
      "source": [
        "## 1. 파이썬 데코레이터란?\n",
        "- 파이썬 데코레이터는 함수의 구조를 변경하지 않고 함수에 새로운 기능을 추가하는 역할\n",
        "- 데코레이터를 사용하면 더 깨끗하고 재사용 가능한 코드를 작성\n",
        "- 데코레이터는 원래 함수의 실행 전후로 추가 로직을 삽입하여 해당 함수를 감싸는 역할"
      ],
      "metadata": {
        "id": "mLqSiQa64Ack"
      }
    },
    {
      "cell_type": "code",
      "source": [
        "def my_decorator(func):\n",
        "    def wrapper():\n",
        "        print(\"함수 호출 전\")\n",
        "        func()  # 원래 함수 실행\n",
        "        print(\"함수 호출 후\")\n",
        "    return wrapper\n",
        "\n",
        "@my_decorator\n",
        "def say_hello():\n",
        "    print(\"안녕하세요!\")\n",
        "\n",
        "say_hello()\n"
      ],
      "metadata": {
        "colab": {
          "base_uri": "https://localhost:8080/"
        },
        "id": "PKrIL-Fx4Mc8",
        "outputId": "a80a5fd4-f909-438b-8100-8bc765f57774"
      },
      "execution_count": null,
      "outputs": [
        {
          "output_type": "stream",
          "name": "stdout",
          "text": [
            "함수 호출 전\n",
            "안녕하세요!\n",
            "함수 호출 후\n"
          ]
        }
      ]
    },
    {
      "cell_type": "markdown",
      "source": [
        "### 위에서 say_hello() 함수는 my_decorator로 감싸져서 함수 호출 전후에 추가적인 기능이 더해졌습니다."
      ],
      "metadata": {
        "id": "GwSlieYN-QrI"
      }
    },
    {
      "cell_type": "markdown",
      "source": [
        "## 2. **args와 ****kwargs로 인자 처리\n",
        "- 데코레이터는 *args와 **kwargs를 사용하여 다양한 인자를 처리\n",
        "- 이를 통해 데코레이터를 더욱 유연하게 만들며, 여러 함수에 적용 가능"
      ],
      "metadata": {
        "id": "Ik-KAaQt-aPh"
      }
    },
    {
      "cell_type": "code",
      "source": [
        "def my_decorator(func):\n",
        "    def wrapper(*args, **kwargs):\n",
        "        print(f\"{func.__name__} 함수 호출 전\")\n",
        "        result = func(*args, **kwargs)  # 원래 함수 호출\n",
        "        print(f\"{func.__name__} 함수 호출 후\")\n",
        "        return result\n",
        "    return wrapper\n",
        "\n",
        "@my_decorator\n",
        "def greet(name, age=None):\n",
        "    if age:\n",
        "        print(f\"안녕하세요, {name}. 나이는 {age}살입니다.\")\n",
        "    else:\n",
        "        print(f\"안녕하세요, {name}!\")\n",
        "\n",
        "greet(\"John\", age=30)\n"
      ],
      "metadata": {
        "colab": {
          "base_uri": "https://localhost:8080/"
        },
        "id": "0_Np1Plw-qnJ",
        "outputId": "eb36dab2-5a29-4448-c72b-a160274eb719"
      },
      "execution_count": null,
      "outputs": [
        {
          "output_type": "stream",
          "name": "stdout",
          "text": [
            "greet 함수 호출 전\n",
            "안녕하세요, John. 나이는 30살입니다.\n",
            "greet 함수 호출 후\n"
          ]
        }
      ]
    },
    {
      "cell_type": "code",
      "source": [],
      "metadata": {
        "id": "Tk_zCKE4Olj2"
      },
      "execution_count": null,
      "outputs": []
    },
    {
      "cell_type": "markdown",
      "source": [
        "### 인자와 키워드 인자를 받는 함수에 데코레이터를 적용하여 재사용 가능성을 높였습니다.\n",
        "\n"
      ],
      "metadata": {
        "id": "zxZdVJNo_EI6"
      }
    },
    {
      "cell_type": "markdown",
      "source": [
        "## 3. 데코레이터의 활용 사례\n",
        "- 로깅: 함수 호출과 결과를 자동으로 기록.\n",
        "- 유효성 검사: 함수에 들어오는 데이터를 검사.\n",
        "- 캐싱: 함수 결과를 저장해 재계산을 피함.\n",
        "- 권한 확인: 웹 애플리케이션에서 사용자의 권한을 확인.\n",
        "     - 예제: 권한 확인 데코레이터"
      ],
      "metadata": {
        "id": "P1vl1OGr_ti_"
      }
    },
    {
      "cell_type": "code",
      "source": [],
      "metadata": {
        "id": "8hdvYR4l66jw"
      },
      "execution_count": null,
      "outputs": []
    }
  ]
}