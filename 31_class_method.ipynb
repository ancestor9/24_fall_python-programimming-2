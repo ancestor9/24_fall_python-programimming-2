{
  "nbformat": 4,
  "nbformat_minor": 0,
  "metadata": {
    "colab": {
      "provenance": [],
      "authorship_tag": "ABX9TyNtsWgm9/pJZFUvxirgdv8A",
      "include_colab_link": true
    },
    "kernelspec": {
      "name": "python3",
      "display_name": "Python 3"
    },
    "language_info": {
      "name": "python"
    }
  },
  "cells": [
    {
      "cell_type": "markdown",
      "metadata": {
        "id": "view-in-github",
        "colab_type": "text"
      },
      "source": [
        "<a href=\"https://colab.research.google.com/github/ancestor9/24_fall_python-programimming-2/blob/main/31_class_method.ipynb\" target=\"_parent\"><img src=\"https://colab.research.google.com/assets/colab-badge.svg\" alt=\"Open In Colab\"/></a>"
      ]
    },
    {
      "cell_type": "markdown",
      "source": [
        "> ### Method\n",
        "\n",
        ">> ### Cheff 대신 차량을 가정하여 Class를 만들어 보자\n",
        "---\n",
        "### **class Car:**\n",
        "> **def __init __ (self):**\n",
        ">   - ##### Initialize attributes (seats = 5)\n",
        ">   - **HAS (Attiributes)**\n",
        "\n",
        "> **def enter_race_mode():**\n",
        ">   - ##### chage attributes (seats = 1) for entering F1\n",
        ">   - **Does (Method, Change the attributes)**\n",
        "\n",
        "\n",
        "---\n",
        "\n",
        "- car = Carbluprint()라면 자동차의 좌석수, 문짝 개수 등의 기본 속성을 정의\n",
        "- F1에 출전하려면 좌석을 1개로 줄여야 한다(method)\n",
        "\n",
        "<img src='https://media.istockphoto.com/id/1263896499/ko/%EC%82%AC%EC%A7%84/%EC%9D%BC%EB%AA%B0%EC%97%90-%EA%B7%B8%EB%9E%9C%EB%93%9C-%EC%8A%A4%ED%83%A0%EB%93%9C-%EA%B7%BC%EC%B2%98-%EA%B2%BD%EB%A7%88%EC%9E%A5%EC%97%90%EC%84%9C-%EB%B9%A0%EB%A5%B4%EA%B2%8C-%EC%9D%B4%EB%8F%99-%EA%B2%BD%EC%A3%BC-%EC%9E%90%EB%8F%99%EC%B0%A8.webp?b=1&s=170667a&w=0&k=20&c=Yi_YSedv8Cebb9AbZzFYaLEx0bzW4pYqzA2MD5yQHN0='>\n",
        "\n",
        "\n"
      ],
      "metadata": {
        "id": "hHBbTEKZ-h2D"
      }
    },
    {
      "cell_type": "code",
      "source": [
        "class Car:\n",
        "    def __init__(self, user_id, user_name, sheetno):\n",
        "        self.id = user_id                  # 운전자 id, object.attributes를 user_id라는 속성(변수)로 정의\n",
        "        self.name = user_name              # 운전자 이름\n",
        "        self.sheetno = sheetno             # 차량 좌석 갯 수"
      ],
      "metadata": {
        "id": "8VYRnV-2Tx8H"
      },
      "execution_count": null,
      "outputs": []
    },
    {
      "cell_type": "code",
      "source": [
        "car1 = Car(0, 'BMW5', '4')"
      ],
      "metadata": {
        "id": "AhEq7irvUAPE"
      },
      "execution_count": null,
      "outputs": []
    },
    {
      "cell_type": "code",
      "source": [
        "car2 = Car(0, 'BENZ', '5')"
      ],
      "metadata": {
        "id": "cMVzzujiUASZ"
      },
      "execution_count": null,
      "outputs": []
    },
    {
      "cell_type": "code",
      "source": [
        "car1.name"
      ],
      "metadata": {
        "colab": {
          "base_uri": "https://localhost:8080/",
          "height": 35
        },
        "id": "gaK98pGLUWfY",
        "outputId": "f91865f9-874c-42cd-f659-c000db0aea8f"
      },
      "execution_count": null,
      "outputs": [
        {
          "output_type": "execute_result",
          "data": {
            "text/plain": [
              "'BMW5'"
            ],
            "application/vnd.google.colaboratory.intrinsic+json": {
              "type": "string"
            }
          },
          "metadata": {},
          "execution_count": 4
        }
      ]
    },
    {
      "cell_type": "markdown",
      "source": [
        "### **Tom이 Jerry를 쫒아가는 행위를 method(함수)로 만들어 보자**\n",
        "\n",
        "### **class User:**\n",
        "> **def __init __ (self):**\n",
        ">   - ##### Initialize attributes\n",
        ">   - **HAS (Attiributes)**\n",
        "\n",
        "> **def following_mode():**\n",
        ">   - ##### change attributes (following, follower) for chasing\n",
        ">   - **Does (Method, Change the attributes)**"
      ],
      "metadata": {
        "id": "PcvgCMOgUcTn"
      }
    },
    {
      "cell_type": "markdown",
      "source": [
        "<img src= 'https://pbs.twimg.com/profile_images/810136393/tom-jerry-pic_400x400.jpg' width=300>"
      ],
      "metadata": {
        "id": "zzxBdI7qRbwY"
      }
    },
    {
      "cell_type": "code",
      "source": [
        "class User:\n",
        "    def __init__(self, user_id, user_name):\n",
        "        self.id = user_id                  # object.attributes를 user_id라는 속성(변수)로 정의\n",
        "        self.name = user_name              # 상동\n",
        "        self.followers = 0                 # object.attributes를 '0'이라는 상수로 정의(follow 함수에 의해 변동 예정)\n",
        "        self.following = 0                 # 상동\n",
        "\n",
        "    def follow(self, user):                # follow함수를 호출할 때 불려지는 object가 self라는 의미, user는 인자\n",
        "        user.followers += 1\n",
        "        self.following += 1\n"
      ],
      "metadata": {
        "id": "CRKz47KGNrrY"
      },
      "execution_count": null,
      "outputs": []
    },
    {
      "cell_type": "code",
      "source": [
        "user_1 = User('001', 'Tom')\n",
        "user_2 = User('002', 'Jerry')"
      ],
      "metadata": {
        "id": "6yc7kNYPBoh0"
      },
      "execution_count": null,
      "outputs": []
    },
    {
      "cell_type": "code",
      "source": [
        "user_1.name"
      ],
      "metadata": {
        "colab": {
          "base_uri": "https://localhost:8080/",
          "height": 35
        },
        "id": "lV3LVrG2Rtir",
        "outputId": "abe50918-4aba-48b1-87ab-79b680dc4cd6"
      },
      "execution_count": null,
      "outputs": [
        {
          "output_type": "execute_result",
          "data": {
            "text/plain": [
              "'Tom'"
            ],
            "application/vnd.google.colaboratory.intrinsic+json": {
              "type": "string"
            }
          },
          "metadata": {},
          "execution_count": 3
        }
      ]
    },
    {
      "cell_type": "code",
      "source": [
        "user_1.followers"
      ],
      "metadata": {
        "colab": {
          "base_uri": "https://localhost:8080/"
        },
        "id": "3Lt_ffrTR_4C",
        "outputId": "de156877-b412-491a-b996-2b557ff50c08"
      },
      "execution_count": null,
      "outputs": [
        {
          "output_type": "execute_result",
          "data": {
            "text/plain": [
              "0"
            ]
          },
          "metadata": {},
          "execution_count": 4
        }
      ]
    },
    {
      "cell_type": "code",
      "source": [
        "user_1.following"
      ],
      "metadata": {
        "colab": {
          "base_uri": "https://localhost:8080/"
        },
        "id": "mXgQQIroSDHL",
        "outputId": "3c20d012-82ed-40ae-99ce-04c7de443e63"
      },
      "execution_count": null,
      "outputs": [
        {
          "output_type": "execute_result",
          "data": {
            "text/plain": [
              "0"
            ]
          },
          "metadata": {},
          "execution_count": 7
        }
      ]
    },
    {
      "cell_type": "code",
      "source": [
        "user_2.name"
      ],
      "metadata": {
        "colab": {
          "base_uri": "https://localhost:8080/",
          "height": 35
        },
        "id": "OjwSYNXoRwce",
        "outputId": "5cd19ca5-6153-45a1-9b28-dd16c8d2a419"
      },
      "execution_count": null,
      "outputs": [
        {
          "output_type": "execute_result",
          "data": {
            "text/plain": [
              "'Jerry'"
            ],
            "application/vnd.google.colaboratory.intrinsic+json": {
              "type": "string"
            }
          },
          "metadata": {},
          "execution_count": 6
        }
      ]
    },
    {
      "cell_type": "markdown",
      "source": [
        ">> ### user_1.follow(user_2)의 의미는\n",
        ">>> #### cheeta를 follwers"
      ],
      "metadata": {
        "id": "HjrRYGZjNz-2"
      }
    },
    {
      "cell_type": "code",
      "source": [
        "user_1.follow(user_2)             # Tom이 Jerry를 follow하라"
      ],
      "metadata": {
        "id": "Ob5jJ87KVGy6"
      },
      "execution_count": null,
      "outputs": []
    },
    {
      "cell_type": "code",
      "source": [
        "print(f'Tom을 따라오는 것은 {user_1.followers} 건')   # TOM을 따라오는 숫자\n",
        "print(f'Tome이 쫒아가는 것은 {user_1.following} 건')   # TOM이 따라가는 숫자"
      ],
      "metadata": {
        "colab": {
          "base_uri": "https://localhost:8080/"
        },
        "id": "GlO56NuFVhV6",
        "outputId": "90f93969-17f6-4eb7-8467-a0fda7e8ba33"
      },
      "execution_count": null,
      "outputs": [
        {
          "output_type": "stream",
          "name": "stdout",
          "text": [
            "Tom을 따라오는 것은 0 건\n",
            "Tome이 쫒아가는 것은 1 건\n"
          ]
        }
      ]
    },
    {
      "cell_type": "code",
      "source": [
        "print(user_2.followers)   # Jerry를 따라오는 숫자\n",
        "print(user_2.following)   # Jerry가 따라가는 숫자"
      ],
      "metadata": {
        "colab": {
          "base_uri": "https://localhost:8080/"
        },
        "id": "Q1xKDl27WNph",
        "outputId": "f5c3c8be-e1a0-4b12-84e0-a09f993af935"
      },
      "execution_count": null,
      "outputs": [
        {
          "output_type": "stream",
          "name": "stdout",
          "text": [
            "1\n",
            "0\n"
          ]
        }
      ]
    },
    {
      "cell_type": "code",
      "source": [
        "for _ in range(10):\n",
        "    user_1.follow(user_2)"
      ],
      "metadata": {
        "id": "IE0ztZPsTG9H"
      },
      "execution_count": null,
      "outputs": []
    },
    {
      "cell_type": "code",
      "source": [
        "print(f'Tom을 따라오는 것은 {user_1.followers} 건')   # TOM을 따라오는 숫자\n",
        "print(f'Tome이 쫒아가는 것은 {user_1.following} 건')   # TOM이 따라가는 숫자"
      ],
      "metadata": {
        "colab": {
          "base_uri": "https://localhost:8080/"
        },
        "id": "OnewqULkTNzl",
        "outputId": "d4d046c1-5b64-4097-f866-49dd616e8305"
      },
      "execution_count": null,
      "outputs": [
        {
          "output_type": "stream",
          "name": "stdout",
          "text": [
            "Tom을 따라오는 것은 0 건\n",
            "Tome이 쫒아가는 것은 11 건\n"
          ]
        }
      ]
    },
    {
      "cell_type": "code",
      "source": [
        "print(user_2.followers)   # Jerry를 따라오는 숫자\n",
        "print(user_2.following)   # Jerry가 따라가는 숫자"
      ],
      "metadata": {
        "id": "CSMOI9HJ4id2",
        "outputId": "b9faf405-08dd-4964-cf68-8c1e92bec005",
        "colab": {
          "base_uri": "https://localhost:8080/"
        }
      },
      "execution_count": null,
      "outputs": [
        {
          "output_type": "stream",
          "name": "stdout",
          "text": [
            "11\n",
            "0\n"
          ]
        }
      ]
    },
    {
      "cell_type": "markdown",
      "source": [
        "### Thonny로 이해해 보자"
      ],
      "metadata": {
        "id": "5Kjdd4x8WRt9"
      }
    },
    {
      "cell_type": "code",
      "source": [
        "user_1.follow(user_3)             # user 매개변수의 인자는 user2"
      ],
      "metadata": {
        "colab": {
          "base_uri": "https://localhost:8080/",
          "height": 183
        },
        "id": "b6Yws01eV_OT",
        "outputId": "e4789383-6867-4ac3-b345-72c18e17a3bf"
      },
      "execution_count": null,
      "outputs": [
        {
          "output_type": "error",
          "ename": "NameError",
          "evalue": "ignored",
          "traceback": [
            "\u001b[0;31m---------------------------------------------------------------------------\u001b[0m",
            "\u001b[0;31mNameError\u001b[0m                                 Traceback (most recent call last)",
            "\u001b[0;32m<ipython-input-19-0054f60eed57>\u001b[0m in \u001b[0;36m<cell line: 1>\u001b[0;34m()\u001b[0m\n\u001b[0;32m----> 1\u001b[0;31m \u001b[0muser_1\u001b[0m\u001b[0;34m.\u001b[0m\u001b[0mfollow\u001b[0m\u001b[0;34m(\u001b[0m\u001b[0muser_3\u001b[0m\u001b[0;34m)\u001b[0m             \u001b[0;31m# user 매개변수의 인자는 user2\u001b[0m\u001b[0;34m\u001b[0m\u001b[0;34m\u001b[0m\u001b[0m\n\u001b[0m",
            "\u001b[0;31mNameError\u001b[0m: name 'user_3' is not defined"
          ]
        }
      ]
    },
    {
      "cell_type": "code",
      "source": [],
      "metadata": {
        "id": "ER-IjPpfYPHI"
      },
      "execution_count": null,
      "outputs": []
    }
  ]
}