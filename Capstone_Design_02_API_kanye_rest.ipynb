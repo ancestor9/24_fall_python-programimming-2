{
  "nbformat": 4,
  "nbformat_minor": 0,
  "metadata": {
    "colab": {
      "provenance": [],
      "authorship_tag": "ABX9TyMUi6s/GLBqw5D8hNkmGx0x",
      "include_colab_link": true
    },
    "kernelspec": {
      "name": "python3",
      "display_name": "Python 3"
    },
    "language_info": {
      "name": "python"
    }
  },
  "cells": [
    {
      "cell_type": "markdown",
      "metadata": {
        "id": "view-in-github",
        "colab_type": "text"
      },
      "source": [
        "<a href=\"https://colab.research.google.com/github/ancestor9/24_fall_python-programimming-2/blob/main/Capstone_Design_02_API_kanye_rest.ipynb\" target=\"_parent\"><img src=\"https://colab.research.google.com/assets/colab-badge.svg\" alt=\"Open In Colab\"/></a>"
      ]
    },
    {
      "cell_type": "code",
      "execution_count": 1,
      "metadata": {
        "colab": {
          "base_uri": "https://localhost:8080/",
          "height": 846
        },
        "id": "aR6HY0WQDbfe",
        "outputId": "a5cd6ab5-e301-4da5-a1c5-e006ec1e47bb"
      },
      "outputs": [
        {
          "output_type": "stream",
          "name": "stdout",
          "text": [
            "\u001b[2K     \u001b[90m━━━━━━━━━━━━━━━━━━━━━━━━━━━━━━━━━━━━━━━━\u001b[0m \u001b[32m50.4/50.4 kB\u001b[0m \u001b[31m640.5 kB/s\u001b[0m eta \u001b[36m0:00:00\u001b[0m\n",
            "\u001b[2K   \u001b[90m━━━━━━━━━━━━━━━━━━━━━━━━━━━━━━━━━━━━━━━━\u001b[0m \u001b[32m18.1/18.1 MB\u001b[0m \u001b[31m38.2 MB/s\u001b[0m eta \u001b[36m0:00:00\u001b[0m\n",
            "\u001b[2K   \u001b[90m━━━━━━━━━━━━━━━━━━━━━━━━━━━━━━━━━━━━━━━━\u001b[0m \u001b[32m318.7/318.7 kB\u001b[0m \u001b[31m14.7 MB/s\u001b[0m eta \u001b[36m0:00:00\u001b[0m\n",
            "\u001b[2K   \u001b[90m━━━━━━━━━━━━━━━━━━━━━━━━━━━━━━━━━━━━━━━━\u001b[0m \u001b[32m94.6/94.6 kB\u001b[0m \u001b[31m5.5 MB/s\u001b[0m eta \u001b[36m0:00:00\u001b[0m\n",
            "\u001b[2K   \u001b[90m━━━━━━━━━━━━━━━━━━━━━━━━━━━━━━━━━━━━━━━━\u001b[0m \u001b[32m76.4/76.4 kB\u001b[0m \u001b[31m4.3 MB/s\u001b[0m eta \u001b[36m0:00:00\u001b[0m\n",
            "\u001b[2K   \u001b[90m━━━━━━━━━━━━━━━━━━━━━━━━━━━━━━━━━━━━━━━━\u001b[0m \u001b[32m77.9/77.9 kB\u001b[0m \u001b[31m3.8 MB/s\u001b[0m eta \u001b[36m0:00:00\u001b[0m\n",
            "\u001b[2K   \u001b[90m━━━━━━━━━━━━━━━━━━━━━━━━━━━━━━━━━━━━━━━━\u001b[0m \u001b[32m141.9/141.9 kB\u001b[0m \u001b[31m6.9 MB/s\u001b[0m eta \u001b[36m0:00:00\u001b[0m\n",
            "\u001b[2K   \u001b[90m━━━━━━━━━━━━━━━━━━━━━━━━━━━━━━━━━━━━━━━━\u001b[0m \u001b[32m10.3/10.3 MB\u001b[0m \u001b[31m63.4 MB/s\u001b[0m eta \u001b[36m0:00:00\u001b[0m\n",
            "\u001b[2K   \u001b[90m━━━━━━━━━━━━━━━━━━━━━━━━━━━━━━━━━━━━━━━━\u001b[0m \u001b[32m62.8/62.8 kB\u001b[0m \u001b[31m3.4 MB/s\u001b[0m eta \u001b[36m0:00:00\u001b[0m\n",
            "\u001b[2K   \u001b[90m━━━━━━━━━━━━━━━━━━━━━━━━━━━━━━━━━━━━━━━━\u001b[0m \u001b[32m58.3/58.3 kB\u001b[0m \u001b[31m3.2 MB/s\u001b[0m eta \u001b[36m0:00:00\u001b[0m\n",
            "\u001b[2K   \u001b[90m━━━━━━━━━━━━━━━━━━━━━━━━━━━━━━━━━━━━━━━━\u001b[0m \u001b[32m71.4/71.4 kB\u001b[0m \u001b[31m3.9 MB/s\u001b[0m eta \u001b[36m0:00:00\u001b[0m\n",
            "\u001b[2K   \u001b[90m━━━━━━━━━━━━━━━━━━━━━━━━━━━━━━━━━━━━━━━━\u001b[0m \u001b[32m130.2/130.2 kB\u001b[0m \u001b[31m8.1 MB/s\u001b[0m eta \u001b[36m0:00:00\u001b[0m\n",
            "\u001b[?25hSetting queue=True in a Colab notebook requires sharing enabled. Setting `share=True` (you can turn this off by setting `share=False` in `launch()` explicitly).\n",
            "\n",
            "Colab notebook detected. To show errors in colab notebook, set debug=True in launch()\n",
            "Running on public URL: https://d78ad458754b33132b.gradio.live\n",
            "\n",
            "This share link expires in 72 hours. For free permanent hosting and GPU upgrades, run `gradio deploy` from Terminal to deploy to Spaces (https://huggingface.co/spaces)\n"
          ]
        },
        {
          "output_type": "display_data",
          "data": {
            "text/plain": [
              "<IPython.core.display.HTML object>"
            ],
            "text/html": [
              "<div><iframe src=\"https://d78ad458754b33132b.gradio.live\" width=\"100%\" height=\"500\" allow=\"autoplay; camera; microphone; clipboard-read; clipboard-write;\" frameborder=\"0\" allowfullscreen></iframe></div>"
            ]
          },
          "metadata": {}
        },
        {
          "output_type": "execute_result",
          "data": {
            "text/plain": []
          },
          "metadata": {},
          "execution_count": 1
        }
      ],
      "source": [
        "!pip install -q gradio\n",
        "import requests\n",
        "import gradio as gr\n",
        "\n",
        "# Function to fetch a quote from the Kanye Rest API\n",
        "def fetch_kanye_quote():\n",
        "    response = requests.get(\"https://api.kanye.rest/\")\n",
        "    if response.status_code == 200:\n",
        "        return response.json()['quote']\n",
        "    else:\n",
        "        return \"Failed to fetch quote.\"\n",
        "\n",
        "# Gradio interface\n",
        "def display_quote():\n",
        "    quote = fetch_kanye_quote()\n",
        "    return quote\n",
        "\n",
        "interface = gr.Interface(\n",
        "    fn=display_quote,\n",
        "    inputs=[],\n",
        "    outputs=\"text\",\n",
        "    title=\"Kanye Rest Quotes\",\n",
        "    description=\"Click the button to get a random quote from Kanye West.\",\n",
        "    live=True\n",
        ")\n",
        "\n",
        "# Launch the interface\n",
        "interface.launch()\n"
      ]
    },
    {
      "cell_type": "code",
      "source": [
        "# prompt: api.sunrise-sunset.org.json 에서 일출과 일몰을 확인하는 것을 gradio로 만들어줘\n",
        "\n",
        "import requests\n",
        "import gradio as gr\n",
        "\n",
        "def get_sun_times(lat, lng):\n",
        "  url = f\"https://api.sunrise-sunset.org/json?lat={lat}&lng={lng}\"\n",
        "  response = requests.get(url)\n",
        "  data = response.json()\n",
        "  sunrise = data['results']['sunrise']\n",
        "  sunset = data['results']['sunset']\n",
        "  return sunrise, sunset\n",
        "\n",
        "with gr.Blocks() as demo:\n",
        "  with gr.Row():\n",
        "    lat = gr.Number(label=\"Latitude\")\n",
        "    lng = gr.Number(label=\"Longitude\")\n",
        "  btn = gr.Button(\"Get Sunrise & Sunset\")\n",
        "  with gr.Row():\n",
        "    sunrise_output = gr.Textbox(label=\"Sunrise\")\n",
        "    sunset_output = gr.Textbox(label=\"Sunset\")\n",
        "\n",
        "  btn.click(get_sun_times, inputs=[lat, lng], outputs=[sunrise_output, sunset_output])\n",
        "\n",
        "demo.launch()\n"
      ],
      "metadata": {
        "id": "Y4FScNP7DcZv",
        "colab": {
          "base_uri": "https://localhost:8080/",
          "height": 629
        },
        "outputId": "2713f7b5-4ca0-4244-c49a-4e03005a31c5"
      },
      "execution_count": null,
      "outputs": [
        {
          "output_type": "stream",
          "name": "stdout",
          "text": [
            "Setting queue=True in a Colab notebook requires sharing enabled. Setting `share=True` (you can turn this off by setting `share=False` in `launch()` explicitly).\n",
            "\n",
            "Colab notebook detected. To show errors in colab notebook, set debug=True in launch()\n",
            "Running on public URL: https://8eb882a9eda58ce020.gradio.live\n",
            "\n",
            "This share link expires in 72 hours. For free permanent hosting and GPU upgrades, run `gradio deploy` from Terminal to deploy to Spaces (https://huggingface.co/spaces)\n"
          ]
        },
        {
          "output_type": "display_data",
          "data": {
            "text/plain": [
              "<IPython.core.display.HTML object>"
            ],
            "text/html": [
              "<div><iframe src=\"https://8eb882a9eda58ce020.gradio.live\" width=\"100%\" height=\"500\" allow=\"autoplay; camera; microphone; clipboard-read; clipboard-write;\" frameborder=\"0\" allowfullscreen></iframe></div>"
            ]
          },
          "metadata": {}
        },
        {
          "output_type": "execute_result",
          "data": {
            "text/plain": []
          },
          "metadata": {},
          "execution_count": 4
        }
      ]
    },
    {
      "cell_type": "code",
      "source": [
        "# prompt: 주소를 입력하면 위경도로 바꾸어 일출몰시간을 알려줘\n",
        "\n",
        "import requests\n",
        "import gradio as gr\n",
        "from geopy.geocoders import Nominatim\n",
        "\n",
        "!pip install -q geopy\n",
        "\n",
        "def get_sun_times(address):\n",
        "  geolocator = Nominatim(user_agent=\"sun_time_app\")\n",
        "  location = geolocator.geocode(address)\n",
        "  if location:\n",
        "    lat = location.latitude\n",
        "    lng = location.longitude\n",
        "    url = f\"https://api.sunrise-sunset.org/json?lat={lat}&lng={lng}\"\n",
        "    response = requests.get(url)\n",
        "    data = response.json()\n",
        "    sunrise = data['results']['sunrise']\n",
        "    sunset = data['results']['sunset']\n",
        "    return sunrise, sunset\n",
        "  else:\n",
        "    return \"주소를 찾을 수 없습니다.\", \"주소를 찾을 수 없습니다.\"\n",
        "\n",
        "with gr.Blocks() as demo:\n",
        "  address_input = gr.Textbox(label=\"주소를 입력하세요\")\n",
        "  btn = gr.Button(\"일출몰 시간 확인\")\n",
        "  with gr.Row():\n",
        "    sunrise_output = gr.Textbox(label=\"일출 시간\")\n",
        "    sunset_output = gr.Textbox(label=\"일몰 시간\")\n",
        "\n",
        "  btn.click(get_sun_times, inputs=address_input, outputs=[sunrise_output, sunset_output])\n",
        "\n",
        "demo.launch()\n"
      ],
      "metadata": {
        "colab": {
          "base_uri": "https://localhost:8080/",
          "height": 629
        },
        "id": "LJC4egscEh79",
        "outputId": "fe03ef3c-dff9-46b4-e3d5-734365addb58"
      },
      "execution_count": null,
      "outputs": [
        {
          "output_type": "stream",
          "name": "stdout",
          "text": [
            "Setting queue=True in a Colab notebook requires sharing enabled. Setting `share=True` (you can turn this off by setting `share=False` in `launch()` explicitly).\n",
            "\n",
            "Colab notebook detected. To show errors in colab notebook, set debug=True in launch()\n",
            "Running on public URL: https://bc43a0ac5305909767.gradio.live\n",
            "\n",
            "This share link expires in 72 hours. For free permanent hosting and GPU upgrades, run `gradio deploy` from Terminal to deploy to Spaces (https://huggingface.co/spaces)\n"
          ]
        },
        {
          "output_type": "display_data",
          "data": {
            "text/plain": [
              "<IPython.core.display.HTML object>"
            ],
            "text/html": [
              "<div><iframe src=\"https://bc43a0ac5305909767.gradio.live\" width=\"100%\" height=\"500\" allow=\"autoplay; camera; microphone; clipboard-read; clipboard-write;\" frameborder=\"0\" allowfullscreen></iframe></div>"
            ]
          },
          "metadata": {}
        },
        {
          "output_type": "execute_result",
          "data": {
            "text/plain": []
          },
          "metadata": {},
          "execution_count": 6
        }
      ]
    },
    {
      "cell_type": "code",
      "source": [],
      "metadata": {
        "id": "vZpOamQ_E0SY"
      },
      "execution_count": null,
      "outputs": []
    }
  ]
}