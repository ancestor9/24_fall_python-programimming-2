{
  "nbformat": 4,
  "nbformat_minor": 0,
  "metadata": {
    "colab": {
      "provenance": [],
      "authorship_tag": "ABX9TyNxz3FKboUKCEBlortWU63r",
      "include_colab_link": true
    },
    "kernelspec": {
      "name": "python3",
      "display_name": "Python 3"
    },
    "language_info": {
      "name": "python"
    }
  },
  "cells": [
    {
      "cell_type": "markdown",
      "metadata": {
        "id": "view-in-github",
        "colab_type": "text"
      },
      "source": [
        "<a href=\"https://colab.research.google.com/github/ancestor9/24_fall_python-programimming-2/blob/main/Decorator_with_FastAPI.ipynb\" target=\"_parent\"><img src=\"https://colab.research.google.com/assets/colab-badge.svg\" alt=\"Open In Colab\"/></a>"
      ]
    },
    {
      "cell_type": "markdown",
      "source": [
        "## 1. 파이썬 데코레이터란?\n",
        "- 파이썬 데코레이터는 함수의 구조를 변경하지 않고 함수에 새로운 기능을 추가하는 역할\n",
        "- 데코레이터를 사용하면 더 깨끗하고 재사용 가능한 코드를 작성\n",
        "- 데코레이터는 원래 함수의 실행 전후로 추가 로직을 삽입하여 해당 함수를 감싸는 역할"
      ],
      "metadata": {
        "id": "mLqSiQa64Ack"
      }
    },
    {
      "cell_type": "code",
      "source": [
        "def my_decorator(func):\n",
        "    def wrapper():\n",
        "        print(\"함수 호출 전\")\n",
        "        func()  # 원래 함수 실행\n",
        "        print(\"함수 호출 후\")\n",
        "    return wrapper\n",
        "\n",
        "@my_decorator\n",
        "def say_hello():\n",
        "    print(\"안녕하세요!\")\n",
        "\n",
        "say_hello()\n"
      ],
      "metadata": {
        "colab": {
          "base_uri": "https://localhost:8080/"
        },
        "id": "PKrIL-Fx4Mc8",
        "outputId": "a80a5fd4-f909-438b-8100-8bc765f57774"
      },
      "execution_count": null,
      "outputs": [
        {
          "output_type": "stream",
          "name": "stdout",
          "text": [
            "함수 호출 전\n",
            "안녕하세요!\n",
            "함수 호출 후\n"
          ]
        }
      ]
    },
    {
      "cell_type": "markdown",
      "source": [
        "### 위에서 say_hello() 함수는 my_decorator로 감싸져서 함수 호출 전후에 추가적인 기능이 더해졌습니다."
      ],
      "metadata": {
        "id": "GwSlieYN-QrI"
      }
    },
    {
      "cell_type": "markdown",
      "source": [
        "## 2. **args와 ****kwargs로 인자 처리\n",
        "- 데코레이터는 *args와 **kwargs를 사용하여 다양한 인자를 처리\n",
        "- 이를 통해 데코레이터를 더욱 유연하게 만들며, 여러 함수에 적용 가능"
      ],
      "metadata": {
        "id": "Ik-KAaQt-aPh"
      }
    },
    {
      "cell_type": "code",
      "source": [
        "def my_decorator(func):\n",
        "    def wrapper(*args, **kwargs):\n",
        "        print(f\"{func.__name__} 함수 호출 전\")\n",
        "        result = func(*args, **kwargs)  # 원래 함수 호출\n",
        "        print(f\"{func.__name__} 함수 호출 후\")\n",
        "        return result\n",
        "    return wrapper\n",
        "\n",
        "@my_decorator\n",
        "def greet(name, age=None):\n",
        "    if age:\n",
        "        print(f\"안녕하세요, {name}. 나이는 {age}살입니다.\")\n",
        "    else:\n",
        "        print(f\"안녕하세요, {name}!\")\n",
        "\n",
        "greet(\"John\", age=30)\n"
      ],
      "metadata": {
        "colab": {
          "base_uri": "https://localhost:8080/"
        },
        "id": "0_Np1Plw-qnJ",
        "outputId": "eb36dab2-5a29-4448-c72b-a160274eb719"
      },
      "execution_count": null,
      "outputs": [
        {
          "output_type": "stream",
          "name": "stdout",
          "text": [
            "greet 함수 호출 전\n",
            "안녕하세요, John. 나이는 30살입니다.\n",
            "greet 함수 호출 후\n"
          ]
        }
      ]
    },
    {
      "cell_type": "markdown",
      "source": [
        "### 인자와 키워드 인자를 받는 함수에 데코레이터를 적용하여 재사용 가능성을 높였습니다.\n",
        "\n"
      ],
      "metadata": {
        "id": "zxZdVJNo_EI6"
      }
    },
    {
      "cell_type": "markdown",
      "source": [
        "## 3. 데코레이터의 활용 사례\n",
        "- 로깅: 함수 호출과 결과를 자동으로 기록.\n",
        "- 유효성 검사: 함수에 들어오는 데이터를 검사.\n",
        "- 캐싱: 함수 결과를 저장해 재계산을 피함.\n",
        "- 권한 확인: 웹 애플리케이션에서 사용자의 권한을 확인.\n",
        "     - 예제: 권한 확인 데코레이터"
      ],
      "metadata": {
        "id": "P1vl1OGr_ti_"
      }
    },
    {
      "cell_type": "code",
      "source": [
        "def requires_admin(func):\n",
        "    def wrapper(user, *args, **kwargs):\n",
        "        if user.role != \"admin\":\n",
        "            raise PermissionError(\"관리자 권한이 필요합니다.\")\n",
        "        return func(*args, **kwargs)\n",
        "    return wrapper\n"
      ],
      "metadata": {
        "id": "oCUb4NHD_3iY"
      },
      "execution_count": null,
      "outputs": []
    },
    {
      "cell_type": "code",
      "source": [
        "! pip install -q fastapi"
      ],
      "metadata": {
        "colab": {
          "base_uri": "https://localhost:8080/"
        },
        "id": "vf6WodT9AW9t",
        "outputId": "0d4581e1-040e-4ee1-b233-0115fef061bb"
      },
      "execution_count": null,
      "outputs": [
        {
          "output_type": "stream",
          "name": "stdout",
          "text": [
            "\u001b[?25l   \u001b[90m━━━━━━━━━━━━━━━━━━━━━━━━━━━━━━━━━━━━━━━━\u001b[0m \u001b[32m0.0/94.6 kB\u001b[0m \u001b[31m?\u001b[0m eta \u001b[36m-:--:--\u001b[0m\r\u001b[2K   \u001b[91m━━━━━━━━━━━━━━━━━\u001b[0m\u001b[90m╺\u001b[0m\u001b[90m━━━━━━━━━━━━━━━━━━━━━━\u001b[0m \u001b[32m41.0/94.6 kB\u001b[0m \u001b[31m970.9 kB/s\u001b[0m eta \u001b[36m0:00:01\u001b[0m\r\u001b[2K   \u001b[90m━━━━━━━━━━━━━━━━━━━━━━━━━━━━━━━━━━━━━━━━\u001b[0m \u001b[32m94.6/94.6 kB\u001b[0m \u001b[31m1.5 MB/s\u001b[0m eta \u001b[36m0:00:00\u001b[0m\n",
            "\u001b[?25h\u001b[?25l   \u001b[90m━━━━━━━━━━━━━━━━━━━━━━━━━━━━━━━━━━━━━━━━\u001b[0m \u001b[32m0.0/71.5 kB\u001b[0m \u001b[31m?\u001b[0m eta \u001b[36m-:--:--\u001b[0m\r\u001b[2K   \u001b[90m━━━━━━━━━━━━━━━━━━━━━━━━━━━━━━━━━━━━━━━━\u001b[0m \u001b[32m71.5/71.5 kB\u001b[0m \u001b[31m3.8 MB/s\u001b[0m eta \u001b[36m0:00:00\u001b[0m\n",
            "\u001b[?25h"
          ]
        }
      ]
    },
    {
      "cell_type": "code",
      "source": [
        "from functools import wraps\n",
        "from fastapi import Depends, Query\n",
        "from sqlalchemy.orm import Session\n",
        "\n",
        "def get_db():\n",
        "    db = SessionLocal()\n",
        "    try:\n",
        "        yield db\n",
        "    finally:\n",
        "        db.close()\n",
        "\n",
        "def paginate_decorator(model: Type):\n",
        "    def decorator(func):\n",
        "        @wraps(func)\n",
        "        def wrapper(*args, db: Session = Depends(get_db), page: int = Query(1), per_page: int = Query(10), **kwargs):\n",
        "            total_items = db.query(model).count()\n",
        "            total_pages = (total_items + per_page - 1) // per_page\n",
        "            offset = (page - 1) * per_page\n",
        "            items = db.query(model).offset(offset).limit(per_page).all()\n",
        "            return func(items, total_pages, page, **kwargs)\n",
        "        return wrapper\n",
        "    return decorator\n"
      ],
      "metadata": {
        "colab": {
          "base_uri": "https://localhost:8080/",
          "height": 399
        },
        "id": "3A9vLmFP_8UC",
        "outputId": "967d69d8-54e3-48d9-bd6c-ebf03cddfdf7"
      },
      "execution_count": null,
      "outputs": [
        {
          "output_type": "error",
          "ename": "ModuleNotFoundError",
          "evalue": "No module named 'fastapi'",
          "traceback": [
            "\u001b[0;31m---------------------------------------------------------------------------\u001b[0m",
            "\u001b[0;31mModuleNotFoundError\u001b[0m                       Traceback (most recent call last)",
            "\u001b[0;32m<ipython-input-12-11541667b1e2>\u001b[0m in \u001b[0;36m<cell line: 2>\u001b[0;34m()\u001b[0m\n\u001b[1;32m      1\u001b[0m \u001b[0;32mfrom\u001b[0m \u001b[0mfunctools\u001b[0m \u001b[0;32mimport\u001b[0m \u001b[0mwraps\u001b[0m\u001b[0;34m\u001b[0m\u001b[0;34m\u001b[0m\u001b[0m\n\u001b[0;32m----> 2\u001b[0;31m \u001b[0;32mfrom\u001b[0m \u001b[0mfastapi\u001b[0m \u001b[0;32mimport\u001b[0m \u001b[0mDepends\u001b[0m\u001b[0;34m,\u001b[0m \u001b[0mQuery\u001b[0m\u001b[0;34m\u001b[0m\u001b[0;34m\u001b[0m\u001b[0m\n\u001b[0m\u001b[1;32m      3\u001b[0m \u001b[0;32mfrom\u001b[0m \u001b[0msqlalchemy\u001b[0m\u001b[0;34m.\u001b[0m\u001b[0morm\u001b[0m \u001b[0;32mimport\u001b[0m \u001b[0mSession\u001b[0m\u001b[0;34m\u001b[0m\u001b[0;34m\u001b[0m\u001b[0m\n\u001b[1;32m      4\u001b[0m \u001b[0;34m\u001b[0m\u001b[0m\n\u001b[1;32m      5\u001b[0m \u001b[0;32mdef\u001b[0m \u001b[0mget_db\u001b[0m\u001b[0;34m(\u001b[0m\u001b[0;34m)\u001b[0m\u001b[0;34m:\u001b[0m\u001b[0;34m\u001b[0m\u001b[0;34m\u001b[0m\u001b[0m\n",
            "\u001b[0;31mModuleNotFoundError\u001b[0m: No module named 'fastapi'",
            "",
            "\u001b[0;31m---------------------------------------------------------------------------\u001b[0;32m\nNOTE: If your import is failing due to a missing package, you can\nmanually install dependencies using either !pip or !apt.\n\nTo view examples of installing some common dependencies, click the\n\"Open Examples\" button below.\n\u001b[0;31m---------------------------------------------------------------------------\u001b[0m\n"
          ],
          "errorDetails": {
            "actions": [
              {
                "action": "open_url",
                "actionText": "Open Examples",
                "url": "/notebooks/snippets/importing_libraries.ipynb"
              }
            ]
          }
        }
      ]
    },
    {
      "cell_type": "code",
      "source": [
        "def my_function():\n",
        "    print(\"This is a function\")\n",
        "\n",
        "my_function()  # Calling the function\n"
      ],
      "metadata": {
        "id": "BfkFhV6eAVSg",
        "colab": {
          "base_uri": "https://localhost:8080/"
        },
        "outputId": "1ba1c448-a982-4309-9bcd-bdde92517352"
      },
      "execution_count": null,
      "outputs": [
        {
          "output_type": "stream",
          "name": "stdout",
          "text": [
            "This is a function\n"
          ]
        }
      ]
    },
    {
      "cell_type": "code",
      "source": [
        "class MyClass:\n",
        "    def my_method(self):\n",
        "        print(\"This is a method\")\n",
        "\n",
        "obj = MyClass()\n",
        "obj.my_method()  # Calling the method\n"
      ],
      "metadata": {
        "colab": {
          "base_uri": "https://localhost:8080/"
        },
        "id": "EP5Ln7GJ6n9B",
        "outputId": "bf976ac8-cc5f-4806-bac6-a4bcb119edce"
      },
      "execution_count": null,
      "outputs": [
        {
          "output_type": "stream",
          "name": "stdout",
          "text": [
            "This is a method\n"
          ]
        }
      ]
    },
    {
      "cell_type": "code",
      "source": [
        "class MyClass:\n",
        "    pass\n",
        "\n",
        "obj = MyClass()  # Calling the class creates an instance\n"
      ],
      "metadata": {
        "id": "V0akKIjt6r1J"
      },
      "execution_count": null,
      "outputs": []
    },
    {
      "cell_type": "code",
      "source": [
        "class CallableClass:\n",
        "    def __call__(self):\n",
        "        print(\"This instance is callable\")\n",
        "\n",
        "obj = CallableClass()\n",
        "obj()  # Calling the instance\n"
      ],
      "metadata": {
        "colab": {
          "base_uri": "https://localhost:8080/"
        },
        "id": "XB2bmmuG6wXR",
        "outputId": "35e976d0-62c7-414a-f2a8-50561af10a34"
      },
      "execution_count": null,
      "outputs": [
        {
          "output_type": "stream",
          "name": "stdout",
          "text": [
            "This instance is callable\n"
          ]
        }
      ]
    },
    {
      "cell_type": "code",
      "source": [
        "print(callable(my_function))  # True, since it's a function\n",
        "print(callable(42))  # False, since an integer is not callable\n"
      ],
      "metadata": {
        "colab": {
          "base_uri": "https://localhost:8080/"
        },
        "id": "2NjMd8YC6y7w",
        "outputId": "b57f51ac-6138-43be-80e1-b9d4184cefa9"
      },
      "execution_count": null,
      "outputs": [
        {
          "output_type": "stream",
          "name": "stdout",
          "text": [
            "True\n",
            "False\n"
          ]
        }
      ]
    },
    {
      "cell_type": "code",
      "source": [],
      "metadata": {
        "id": "8hdvYR4l66jw"
      },
      "execution_count": null,
      "outputs": []
    }
  ]
}