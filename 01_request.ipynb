{
  "nbformat": 4,
  "nbformat_minor": 0,
  "metadata": {
    "colab": {
      "provenance": [],
      "authorship_tag": "ABX9TyPQ7xRMCVpGhT47uq4X5qSg",
      "include_colab_link": true
    },
    "kernelspec": {
      "name": "python3",
      "display_name": "Python 3"
    },
    "language_info": {
      "name": "python"
    }
  },
  "cells": [
    {
      "cell_type": "markdown",
      "metadata": {
        "id": "view-in-github",
        "colab_type": "text"
      },
      "source": [
        "<a href=\"https://colab.research.google.com/github/ancestor9/24_fall_python-programimming-2/blob/main/01_request.ipynb\" target=\"_parent\"><img src=\"https://colab.research.google.com/assets/colab-badge.svg\" alt=\"Open In Colab\"/></a>"
      ]
    },
    {
      "cell_type": "markdown",
      "source": [
        "# **API Request**\n",
        "<img src='https://media.geeksforgeeks.org/wp-content/uploads/20230216170349/What-is-an-API.png'>\n",
        "\n",
        ">##### API(application programming interface 애플리케이션 프로그래밍 인터페이스, 응용 프로그램 프로그래밍 인터페이스)는 컴퓨터나 컴퓨터 프로그램 사이의 연결이다. 일종의 소프트웨어 인터페이스이며 다른 종류의 소프트웨어에 서비스를 제공한다.(wiki)\n",
        ">> - 1. 서로 다른 소프트웨어시스템간의 통신 (print('Hello'), document.write('Hello'), Scikit-learn의 Estimators API)\n",
        "<img src = 'https://scikit-learn.org/stable/_static/ml_map.png'>\n",
        "- https://scikit-learn.org/stable/modules/classes.html\n",
        ">> - 2. 인터넷 환경에서 특정 유형의 서버에 상주하며 일종의 데이터베이스를 조작한다\n",
        "<img src='https://miro.medium.com/v2/resize:fit:1100/format:webp/1*OcmVkcsM5BWRHrg8GC17iw.png'>\n",
        "- An API is not a database. It is an access point to an app that can access a database."
      ],
      "metadata": {
        "id": "F2lo4aFffn0N"
      }
    },
    {
      "cell_type": "markdown",
      "source": [
        "\n",
        "- https://requests.readthedocs.io/en/latest/"
      ],
      "metadata": {
        "id": "pCxxG9B6kqQk"
      }
    },
    {
      "cell_type": "code",
      "source": [
        "import requests"
      ],
      "metadata": {
        "id": "FcfjZju-fpwk"
      },
      "execution_count": null,
      "outputs": []
    },
    {
      "cell_type": "code",
      "source": [
        "r = requests.get('https://api.github.com/events')\n",
        "r.status_code"
      ],
      "metadata": {
        "colab": {
          "base_uri": "https://localhost:8080/"
        },
        "id": "0_-1vUQKfpza",
        "outputId": "0a8a7f7c-3d66-4489-bc19-22f4b4dfa932"
      },
      "execution_count": null,
      "outputs": [
        {
          "output_type": "execute_result",
          "data": {
            "text/plain": [
              "200"
            ]
          },
          "metadata": {},
          "execution_count": 2
        }
      ]
    },
    {
      "cell_type": "markdown",
      "source": [
        "\n",
        ">>> - https://developer.mozilla.org/en-US/docs/Web/HTTP/Status#successful_responses"
      ],
      "metadata": {
        "id": "MgFu2c6s9n_n"
      }
    },
    {
      "cell_type": "code",
      "source": [
        "r.headers['content-type']\n",
        "# 응답 객체 r에서 Content Type 헤더의 값으로 응답으로 전송되는 리소스의 미디어 유형\n",
        "# 예를 들어, 응답 본문이 JSON 형식 (application/json)이거나 HTML 형식 (text/html) 등"
      ],
      "metadata": {
        "colab": {
          "base_uri": "https://localhost:8080/",
          "height": 35
        },
        "id": "WRv8Mvp2g6Lj",
        "outputId": "9a305993-9e46-4c84-f949-bea909fa39f8"
      },
      "execution_count": null,
      "outputs": [
        {
          "output_type": "execute_result",
          "data": {
            "text/plain": [
              "'application/json; charset=utf-8'"
            ],
            "application/vnd.google.colaboratory.intrinsic+json": {
              "type": "string"
            }
          },
          "metadata": {},
          "execution_count": 31
        }
      ]
    },
    {
      "cell_type": "code",
      "source": [
        "r.encoding"
      ],
      "metadata": {
        "colab": {
          "base_uri": "https://localhost:8080/",
          "height": 35
        },
        "id": "fAlsX2OQg-Xw",
        "outputId": "4ad31266-5c64-45b1-c365-fec1774eebb7"
      },
      "execution_count": null,
      "outputs": [
        {
          "output_type": "execute_result",
          "data": {
            "text/plain": [
              "'utf-8'"
            ],
            "application/vnd.google.colaboratory.intrinsic+json": {
              "type": "string"
            }
          },
          "metadata": {},
          "execution_count": 32
        }
      ]
    },
    {
      "cell_type": "code",
      "source": [
        "r.text"
      ],
      "metadata": {
        "colab": {
          "base_uri": "https://localhost:8080/",
          "height": 126
        },
        "id": "NCeVDgeiiUOt",
        "outputId": "7b007c15-5410-4678-9fad-efc53c523320"
      },
      "execution_count": null,
      "outputs": [
        {
          "output_type": "execute_result",
          "data": {
            "text/plain": [
              "'[{\"id\":\"31393702321\",\"type\":\"PullRequestReviewCommentEvent\",\"actor\":{\"id\":194984,\"login\":\"sideshowbarker\",\"display_login\":\"sideshowbarker\",\"gravatar_id\":\"\",\"url\":\"https://api.github.com/users/sideshowbarker\",\"avatar_url\":\"https://avatars.githubusercontent.com/u/194984?\"},\"repo\":{\"id\":320636477,\"name\":\"WebKit/WebKit\",\"url\":\"https://api.github.com/repos/WebKit/WebKit\"},\"payload\":{\"action\":\"created\",\"comment\":{\"url\":\"https://api.github.com/repos/WebKit/WebKit/pulls/comments/1306490162\",\"pull_request_review_id\":1596954691,\"id\":1306490162,\"node_id\":\"PRRC_kwDOExyGPc5N33Uy\",\"diff_hunk\":\"@@ -98,10 +100,30 @@ bool HTMLSummaryElement::isActiveSummary() const\\\\n \\\\n static bool isClickableControl(EventTarget* target)\",\"path\":\"Source/WebCore/html/HTMLSummaryElement.cpp\",\"commit_id\":\"c3f8a5717793e32623586ceed677a7d53640c1f9\",\"original_commit_id\":\"98d3a8b3ec260fe52b57487458e6b35b58fc9961\",\"user\":{\"login\":\"sideshowbarker\",\"id\":194984,\"node_id\":\"MDQ6VXNlcjE5NDk4NA==\",\"avatar_url\":\"https://avatars.githubusercontent.com/u/194984?v=4\",\"gravatar_id\":\"\",\"url\":\"https://api.github.com/users/sideshowbarker\",\"html_url\":\"https://github.com/sideshowbarker\",\"followers_url\":\"https://api.github.com/users/sideshowbarker/followers\",\"following_url\":\"https://api.github.com/users/sideshowbarker/following{/other_user}\",\"gists_url\":\"https://api.github.com/users/sideshowbarker/gists{/gist_id}\",\"starred_url\":\"https://api.github.com/users/sideshowbarker/starred{/owner}{/repo}\",\"subscriptions_url\":\"https://api.github.com/users/sideshowbarker/subscriptions\",\"organizations_url\":\"https://api.github.com/users/sideshowbarker/orgs\",\"repos_url\":\"https://api.github.com/users/sideshowbarker/repos\",\"events_url\":\"https://api.github.com/users/sideshowbarker/events{/privacy}\",\"received_events_url\":\"https://api.github.com/users/sideshowbarker/received_events\",\"type\":\"User\",\"site_admin\":false},\"body\":\"```c++\\\\r\\\\nstatic bool isClickableControl(EventTarget* target)\\\\r\\\\n```\\\\r\\\\n> It would be nice to get a link to the spec defining this function\\\\r\\\\n\\\\r\\\\nThe spec doesn’t actually define “clickable control”. What it does define is “interactive content”, at https://html.spec.whatwg.org/multipage/dom.html#interactive-content.\\\\r\\\\n\\\\r\\\\nShould I maybe rename the function to `isInteractiveContent(…)`?\",\"created_at\":\"2023-08-26T17:07:47Z\",\"updated_at\":\"2023-08-26T17:07:47Z\",\"html_url\":\"https://github.com/WebKit/WebKit/pull/17106#discussion_r1306490162\",\"pull_request_url\":\"https://api.github.com/repos/WebKit/WebKit/pulls/17106\",\"author_association\":\"CONTRIBUTOR\",\"_links\":{\"self\":{\"href\":\"https://api.github.com/repos/WebKit/WebKit/pulls/comments/1306490162\"},\"html\":{\"href\":\"https://github.com/WebKit/WebKit/pull/17106#discussion_r1306490162\"},\"pull_request\":{\"href\":\"https://api.github.com/repos/WebKit/WebKit/pulls/17106\"}},\"reactions\":{\"url\":\"https://api.github.com/repos/WebKit/WebKit/pulls/comments/1306490162/reactions\",\"total_count\":0,\"+1\":0,\"-1\":0,\"laugh\":0,\"hooray\":0,\"confused\":0,\"heart\":0,\"rocket\":0,\"eyes\":0},\"start_line\":null,\"original_start_line\":null,\"start_side\":null,\"line\":null,\"original_line\":101,\"side\":\"RIGHT\",\"in_reply_to_id\":1306483985,\"original_position\":11,\"position\":null,\"subject_type\":\"line\"},\"pull_request\":{\"url\":\"https://api.github.com/repos/WebKit/WebKit/pulls/17106\",\"id\":1490707700,\"node_id\":\"PR_kwDOExyGPc5Y2mT0\",\"html_url\":\"https://github.com/WebKit/WebKit/pull/17106\",\"diff_url\":\"https://github.com/WebKit/WebKit/pull/17106.diff\",\"patch_url\":\"https://github.com/WebKit/WebKit/pull/17106.patch\",\"issue_url\":\"https://api.github.com/repos/WebKit/WebKit/issues/17106\",\"number\":17106,\"state\":\"open\",\"locked\":false,\"title\":\"Don’t open “details” when interacting with interactive “summary” descendants\",\"user\":{\"login\":\"sideshowbarker\",\"id\":194984,\"node_id\":\"MDQ6VXNlcjE5NDk4NA==\",\"avatar_url\":\"https://avatars.githubusercontent.com/u/194984?v=4\",\"gravatar_id\":\"\",\"url\":\"https://api.github.com/users/sideshowbarker\",\"html_url\":\"https://github.com/sideshowbarker\",\"followers_url\":\"https://api.github.com/users/sideshowbarker/followers\",\"following_url\":\"https://api.github.com/users/sideshowbarker/following{/other_user}\",\"gists_url\":\"https://api.github.com/users/sideshowbarker/gists{/gist_id}\",\"starred_url\":\"https://api.github.com/users/sideshowbarker/starred{/owner}{/repo}\",\"subscriptions_url\":\"https://api.github.com/users/sideshowbarker/subscriptions\",\"organizations_url\":\"https://api.github.com/users/sideshowbarker/orgs\",\"repos_url\":\"https://api.github.com/users/sideshowbarker/repos\",\"events_url\":\"https://api.github.com/users/sideshowbarker/events{/privacy}\",\"received_events_url\":\"https://api.github.com/users/sideshowbarker/received_events\",\"type\":\"User\",\"site_admin\":false},\"body\":\"#### 98d3a8b3ec260fe52b57487458e6b35b58fc9961\\\\n<pre>\\\\nDon’t open “details” when interacting with interactive “summary” descendants\\\\n<a href=\\\\\"https://bugs.webkit.org/show_bug.cgi?id=218758\\\\\">https://bugs.webkit.org/show_bug.cgi?id=218758</a>\\\\n\\\\nReviewed by NOBODY (OOPS!).\\\\n\\\\nThis change ensures that interacting with (clicking/pressing/etc.) any\\\\ninteractive descendants of a “summary” element will trigger the\\\\nactivation behavior of those descendants themselves — rather than\\\\ninstead triggering the “summary” element’s “details” parent to open.\\\\n\\\\nOtherwise, without this change, the activation behavior of interactive\\\\ncontent within a “summary” element will get triggered only if that\\\\ninteractive content is a direct child of the “summary” element.\\\\n\\\\n* LayoutTests/TestExpectations:\\\\n* LayoutTests/imported/w3c/web-platform-tests/html/semantics/interactive-elements/the-summary-element/anchor-with-inline-element-expected.txt:\\\\n* Source/WebCore/html/HTMLSummaryElement.cpp:\\\\n(WebCore::isClickableControl):\\\\n</pre><!--EWS-Status-Bubble-Start-->\\\\nhttps://github.com/WebKit/WebKit/commit/c3f8a5717793e32623586ceed677a7d53640c1f9\\\\n\\\\n| Misc | iOS, tvOS & watchOS  | macOS  | Linux |  Windows |\\\\n| ----- | ---------------------- | ------- |  ----- |  --------- |\\\\n| [✅ 🧪 style](https://ews-build.webkit.org/#/builders/38/builds/16302 \\\\\"Passed style check\\\\\") | [![loading](https://user-images.githubusercontent.com/3098702/171232313-daa606f1-8fd6-4b0f-a20b-2cb93c43d19b.png) 🛠 ios](https://ews-build.webkit.org/#/builders/26/builds/16621 \\\\\"Build is in progress. Recent messages:OS: Ventura (13.4.1), Xcode: 14.3; Skipping applying patch since patch_id isn\\'t provided; Checked out pull request; Running compile-webkit\\\\\") | [![loading](https://user-images.githubusercontent.com/3098702/171232313-daa606f1-8fd6-4b0f-a20b-2cb93c43d19b.png) 🛠 mac](https://ews-build.webkit.org/#/builders/14/builds/17042 \\\\\"Build is in progress. Recent messages:OS: Monterey (12.6.8), Xcode: 13.4.1; Skipping applying patch since patch_id isn\\'t provided; Checked out pull request; Running compile-webkit\\\\\") | [![loading](https://user-images.githubusercontent.com/3098702/171232313-daa606f1-8fd6-4b0f-a20b-2cb93c43d19b.png) 🛠 wpe](https://ews-build.webkit.org/#/builders/5/builds/18070 \\\\\"Build is in progress. Recent messages:Failed to print configuration; Skipping applying patch since patch_id isn\\'t provided; Checked out pull request; Running compile-webkit\\\\\") | [![loading](https://user-images.githubusercontent.com/3098702/171232313-daa606f1-8fd6-4b0f-a20b-2cb93c43d19b.png) 🛠 wincairo](https://ews-build.webkit.org/#/builders/32/builds/15289 \\\\\"Build is in progress. Recent messages:Printed configuration; Skipping applying patch since patch_id isn\\'t provided; Checked out pull request; Running compile-webkit\\\\\") \\\\n| [![loading](https://user-images.githubusercontent.com/3098702/171232313-daa606f1-8fd6-4b0f-a20b-2cb93c43d19b.png) 🧪 bindings](https://ews-build.webkit.org/#/builders/9/builds/16491 \\\\\"Build is in progress. Recent messages:OS: Unknown (10.15.7), Xcode: 11.7; Skipping applying patch since patch_id isn\\'t provided; Checked out pull request; Running bindings-tests\\\\\") | [![loading](https://user-images.githubusercontent.com/3098702/171232313-daa606f1-8fd6-4b0f-a20b-2cb93c43d19b.png) 🛠 ios-sim](https://ews-build.webkit.org/#/builders/23/builds/19705 \\\\\"Build is in progress. Recent messages:OS: Ventura (13.4.1), Xcode: 14.3\\\\\") | [![loading](https://user-images.githubusercontent.com/3098702/171232313-daa606f1-8fd6-4b0f-a20b-2cb93c43d19b.png) 🛠 mac-AS-debug](https://ews-build.webkit.org/#/builders/16/builds/16739 \\\\\"Build is in progress. Recent messages:OS: Ventura (13.4.1), Xcode: 14.3; Skipping applying patch since patch_id isn\\'t provided; Checked out pull request; Running compile-webkit\\\\\") | [![loading](https://user-images.githubusercontent.com/3098702/171232313-daa606f1-8fd6-4b0f-a20b-2cb93c43d19b.png) 🧪 wpe-wk2](https://ews-build.webkit.org/#/builders/5/builds/18070 \\\\\"Build is in progress. Recent messages:Failed to print configuration; Skipping applying patch since patch_id isn\\'t provided; Checked out pull request; Running compile-webkit\\\\\") | \\\\n| [✅ 🧪 webkitperl](https://ews-build.webkit.org/#/builders/11/builds/16496 \\\\\"Passed tests\\\\\") | [![loading](https://user-images.githubusercontent.com/3098702/171232313-daa606f1-8fd6-4b0f-a20b-2cb93c43d19b.png) 🧪 ios-wk2](https://ews-build.webkit.org/#/builders/23/builds/19705 \\\\\"Build is in progress. Recent messages:OS: Ventura (13.4.1), Xcode: 14.3\\\\\") | [![loading](https://user-images.githubusercontent.com/3098702/171232313-daa606f1-8fd6-4b0f-a20b-2cb93c43d19b.png) 🧪 api-mac](https://ews-build.webkit.org/#/builders/14/builds/17042 \\\\\"Build is in progress. Recent messages:OS: Monterey (12.6.8), Xcode: 13.4.1; Skipping applying patch since patch_id isn\\'t provided; Checked out pull request; Running compile-webkit\\\\\") | [✅ 🛠 gtk](https://ews-build.webkit.org/#/builders/2/builds/18837 \\\\\"Built successfully\\\\\") | \\\\n| | [![loading](https://user-images.githubusercontent.com/3098702/171232313-daa606f1-8fd6-4b0f-a20b-2cb93c43d19b.png) 🧪 ios-wk2-wpt](https://ews-build.webkit.org/#/builders/23/builds/19705 \\\\\"Build is in progress. Recent messages:OS: Ventura (13.4.1), Xcode: 14.3\\\\\") | [![loading](https://user-images.githubusercontent.com/3098702/171232313-daa606f1-8fd6-4b0f-a20b-2cb93c43d19b.png) 🧪 mac-wk1](https://ews-build.webkit.org/#/builders/14/builds/17042 \\\\\"Build is in progress. Recent messages:OS: Monterey (12.6.8), Xcode: 13.4.1; Skipping applying patch since patch_id isn\\'t provided; Checked out pull request; Running compile-webkit\\\\\") | [![loading](https://user-images.githubusercontent.com/3098702/171232313-daa606f1-8fd6-4b0f-a20b-2cb93c43d19b.png) 🧪 gtk-wk2](https://ews-build.webkit.org/#/builders/1/builds/21573 \\\\\"Build is in progress. Recent messages:Printed configuration\\\\\") | \\\\n| | [![loading](https://user-images.githubusercontent.com/3098702/171232313-daa606f1-8fd6-4b0f-a20b-2cb93c43d19b.png) 🧪 api-ios](https://ews-build.webkit.org/#/builders/23/builds/19705 \\\\\"Build is in progress. Recent messages:OS: Ventura (13.4.1), Xcode: 14.3\\\\\") | [![loading](https://user-images.githubusercontent.com/3098702/171232313-daa606f1-8fd6-4b0f-a20b-2cb93c43d19b.png) 🧪 mac-wk2](https://ews-build.webkit.org/#/builders/14/builds/17042 \\\\\"Build is in progress. Recent messages:OS: Monterey (12.6.8), Xcode: 13.4.1; Skipping applying patch since patch_id isn\\'t provided; Checked out pull request; Running compile-webkit\\\\\") | [⏳ 🧪 api-gtk](https://ews-build.webkit.org/#/builders/API-Tests-GTK-EWS \\\\\"Waiting to run tests\\\\\") | \\\\n| | [✅ 🛠 tv](https://ews-build.webkit.org/#/builders/7/builds/15516 \\\\\"Built successfully\\\\\") | [![loading](https://user-images.githubusercontent.com/3098702/171232313-daa606f1-8fd6-4b0f-a20b-2cb93c43d19b.png) 🧪 mac-AS-debug-wk2](https://ews-build.webkit.org/#/builders/16/builds/16739 \\\\\"Build is in progress. Recent messages:OS: Ventura (13.4.1), Xcode: 14.3; Skipping applying patch since patch_id isn\\'t provided; Checked out pull request; Running compile-webkit\\\\\") | | \\\\n| | [✅ 🛠 tv-sim](https://ews-build.webkit.org/#/builders/30/builds/14734 \\\\\"Built successfully\\\\\") | [![loading](https://user-images.githubusercontent.com/3098702/171232313-daa606f1-8fd6-4b0f-a20b-2cb93c43d19b.png) 🧪 mac-wk2-stress](https://ews-build.webkit.org/#/builders/14/builds/17042 \\\\\"Build is in progress. Recent messages:OS: Monterey (12.6.8), Xcode: 13.4.1; Skipping applying patch since patch_id isn\\'t provided; Checked out pull request; Running compile-webkit\\\\\") | | \\\\n| | [✅ 🛠 watch](https://ews-build.webkit.org/#/builders/4/builds/19100 \\\\\"Built successfully\\\\\") | | | \\\\n| | [✅ 🛠 watch-sim](https://ews-build.webkit.org/#/builders/31/builds/15343 \\\\\"Built successfully\\\\\") | | | \\\\n<!--EWS-Status-Bubble-End-->\",\"created_at\":\"2023-08-26T16:24:46Z\",\"updated_at\":\"2023-08-26T17:07:48Z\",\"closed_at\":null,\"merged_at\":null,\"merge_commit_sha\":\"aaa085f7d97f3ee88d709fe37b4fef037236316f\",\"assignee\":{\"login\":\"sideshowbarker\",\"id\":194984,\"node_id\":\"MDQ6VXNlcjE5NDk4NA==\",\"avatar_url\":\"https://avatars.githubusercontent.com/u/194984?v=4\",\"gravatar_id\":\"\",\"url\":\"https://api.github.com/users/sideshowbarker\",\"html_url\":\"https://github.com/sideshowbarker\",\"followers_url\":\"https://api.github.com/users/sideshowbarker/followers\",\"following_url\":\"https://api.github.com/users/sideshowbarker/following{/other_user}\",\"gists_url\":\"https://api.github.com/users/sideshowbarker/gists{/gist_id}\",\"starred_url\":\"https://api.github.com/users/sideshowbarker/starred{/owner}{/repo}\",\"subscriptions_url\":\"https://api.github.com/users/sideshowbarker/subscriptions\",\"organizations_url\":\"https://api.github.com/users/sideshowbarker/orgs\",\"repos_url\":\"https://api.github.com/users/sideshowbarker/repos\",\"events_url\":\"https://api.github.com/users/sideshowbarker/events{/privacy}\",\"received_events_url\":\"https://api.github.com/users/sideshowbarker/received_events\",\"type\":\"User\",\"site_admin\":false},\"assignees\":[{\"login\":\"sideshowbarker\",\"id\":194984,\"node_id\":\"MDQ6VXNlcjE5NDk4NA==\",\"avatar_url\":\"https://avatars.githubusercontent.com/u/194984?v=4\",\"gravatar_id\":\"\",\"url\":\"https://api.github.com/users/sideshowbarker\",\"html_url\":\"https://github.com/sideshowbarker\",\"followers_url\":\"https://api.github.com/users/sideshowbarker/followers\",\"following_url\":\"https://api.github.com/users/sideshowbarker/following{/other_user}\",\"gists_url\":\"https://api.github.com/users/sideshowbarker/gists{/gist_id}\",\"starred_url\":\"https://api.github.com/users/sideshowbarker/starred{/owner}{/repo}\",\"subscriptions_url\":\"https://api.github.com/users/sideshowbarker/subscriptions\",\"organizations_url\":\"https://api.github.com/users/sideshowbarker/orgs\",\"repos_url\":\"https://api.github.com/users/sideshowbarker/repos\",\"events_url\":\"https://api.github.com/users/sideshowbarker/events{/privacy}\",\"received_events_url\":\"https://api.github.com/users/sideshowbarker/received_events\",\"type\":\"User\",\"site_admin\":false}],\"requested_reviewers\":[{\"login\":\"rniwa\",\"id\":285965,\"node_id\":\"MDQ6VXNlcjI4NTk2NQ==\",\"avatar_url\":\"https://avatars.githubusercontent.com/u/285965?v=4\",\"gravatar_id\":\"\",\"url\":\"https://api.github.com/users/rniwa\",\"html_url\":\"https://github.com/rniwa\",\"followers_url\":\"https://api.github.com/users/rniwa/followers\",\"following_url\":\"https://api.github.com/users/rniwa/following{/other_user}\",\"gists_url\":\"https://api.github.com/users/rniwa/gists{/gist_id}\",\"starred_url\":\"https://api.github.com/users/rniwa/starred{/owner}{/repo}\",\"subscriptions_url\":\"https://api.github.com/users/rniwa/subscriptions\",\"organizations_url\":\"https://api.github.com/users/rniwa/orgs\",\"repos_url\":\"https://api.github.com/users/rniwa/repos\",\"events_url\":\"https://api.github.com/users/rniwa/events{/privacy}\",\"received_events_url\":\"https://api.github.com/users/rniwa/received_events\",\"type\":\"User\",\"site_admin\":false},{\"login\":\"cdumez\",\"id\":995975,\"node_id\":\"MDQ6VXNlcjk5NTk3NQ==\",\"avatar_url\":\"https://avatars.githubusercontent.com/u/995975?v=4\",\"gravatar_id\":\"\",\"url\":\"https://api.github.com/users/cdumez\",\"html_url\":\"https://github.com/cdumez\",\"followers_url\":\"https://api.github.com/users/cdumez/followers\",\"following_url\":\"https://api.github.com/users/cdumez/following{/other_user}\",\"gists_url\":\"https://api.github.com/users/cdumez/gists{/gist_id}\",\"starred_url\":\"https://api.github.com/users/cdumez/starred{/owner}{/repo}\",\"subscriptions_url\":\"https://api.github.com/users/cdumez/subscriptions\",\"organizations_url\":\"https://api.github.com/users/cdumez/orgs\",\"repos_url\":\"https://api.github.com/users/cdumez/repos\",\"events_url\":\"https://api.github.com/users/cdumez/events{/privacy}\",\"received_events_url\":\"https://api.github.com/users/cdumez/received_events\",\"type\":\"User\",\"site_admin\":false}],\"requested_teams\":[],\"labels\":[{\"id\":3939231294,\"node_id\":\"LA_kwDOExyGPc7qy-Y-\",\"url\":\"https://api.github.com/repos/WebKit/WebKit/labels/DOM\",\"name\":\"DOM\",\"color\":\"FFFFFF\",\"default\":false,\"description\":\"For bugs specific to XML/HTML DOM elements (including parsing).\"}],\"milestone\":null,\"draft\":false,\"commits_url\":\"https://api.github.com/repos/WebKit/WebKit/pulls/17106/commits\",\"review_comments_url\":\"https://api.github.com/repos/WebKit/WebKit/pulls/17106/comments\",\"review_comment_url\":\"https://api.github.com/repos/WebKit/WebKit/pulls/comments{/number}\",\"comments_url\":\"https://api.github.com/repos/WebKit/WebKit/issues/17106/comments\",\"statuses_url\":\"https://api.github.com/repos/WebKit/WebKit/statuses/c3f8a5717793e32623586ceed677a7d53640c1f9\",\"head\":{\"label\":\"sideshowbarker:interactive-summary-descendants-do-not-open-details\",\"ref\":\"interactive-summary-descendants-do-not-open-details\",\"sha\":\"c3f8a5717793e32623586ceed677a7d53640c1f9\",\"user\":{\"login\":\"sideshowbarker\",\"id\":194984,\"node_id\":\"MDQ6VXNlcjE5NDk4NA==\",\"avatar_url\":\"https://avatars.githubusercontent.com/u/194984?v=4\",\"gravatar_id\":\"\",\"url\":\"https://api.github.com/users/sideshowbarker\",\"html_url\":\"https://github.com/sideshowbarker\",\"followers_url\":\"https://api.github.com/users/sideshowbarker/followers\",\"following_url\":\"https://api.github.com/users/sideshowbarker/following{/other_user}\",\"gists_url\":\"https://api.github.com/users/sideshowbarker/gists{/gist_id}\",\"starred_url\":\"https://api.github.com/users/sideshowbarker/starred{/owner}{/repo}\",\"subscriptions_url\":\"https://api.github.com/users/sideshowbarker/subscriptions\",\"organizations_url\":\"https://api.github.com/users/sideshowbarker/orgs\",\"repos_url\":\"https://api.github.com/users/sideshowbarker/repos\",\"events_url\":\"https://api.github.com/users/sideshowbarker/events{/privacy}\",\"received_events_url\":\"https://api.github.com/users/sideshowbarker/received_events\",\"type\":\"User\",\"site_admin\":false},\"repo\":{\"id\":508586911,\"node_id\":\"R_kgDOHlBrnw\",\"name\":\"WebKit\",\"full_name\":\"sideshowbarker/WebKit\",\"private\":false,\"owner\":{\"login\":\"sideshowbarker\",\"id\":194984,\"node_id\":\"MDQ6VXNlcjE5NDk4NA==\",\"avatar_url\":\"https://avatars.githubusercontent.com/u/194984?v=4\",\"gravatar_id\":\"\",\"url\":\"https://api.github.com/users/sideshowbarker\",\"html_url\":\"https://github.com/sideshowbarker\",\"followers_url\":\"https://api.github.com/users/sideshowbarker/followers\",\"following_url\":\"https://api.github.com/users/sideshowbarker/following{/other_user}\",\"gists_url\":\"https://api.github.com/users/sideshowbarker/gists{/gist_id}\",\"starred_url\":\"https://api.github.com/users/sideshowbarker/starred{/owner}{/repo}\",\"subscriptions_url\":\"https://api.github.com/users/sideshowbarker/subscriptions\",\"organizations_url\":\"https://api.github.com/users/sideshowbarker/orgs\",\"repos_url\":\"https://api.github.com/users/sideshowbarker/repos\",\"events_url\":\"https://api.github.com/users/sideshowbarker/events{/privacy}\",\"received_events_url\":\"https://api.github.com/users/sideshowbarker/received_events\",\"type\":\"User\",\"site_admin\":false},\"html_url\":\"https://github.com/sideshowbarker/WebKit\",\"description\":null,\"fork\":true,\"url\":\"https://api.github.com/repos/sideshowbarker/WebKit\",\"forks_url\":\"https://api.github.com/repos/sideshowbarker/WebKit/forks\",\"keys_url\":\"https://api.github.com/repos/sideshowbarker/WebKit/keys{/key_id}\",\"collaborators_url\":\"https://api.github.com/repos/sideshowbarker/WebKit/collaborators{/collaborator}\",\"teams_url\":\"https://api.github.com/repos/sideshowbarker/WebKit/teams\",\"hooks_url\":\"https://api.github.com/repos/sideshowbarker/WebKit/hooks\",\"issue_events_url\":\"https://api.github.com/repos/sideshowbarker/WebKit/issues/events{/number}\",\"events_url\":\"https://api.github.com/repos/sideshowbarker/WebKit/events\",\"assignees_url\":\"https://api.github.com/repos/sideshowbarker/WebKit/assignees{/user}\",\"branches_url\":\"https://api.github.com/repos/sideshowbarker/WebKit/branches{/branch}\",\"tags_url\":\"https://api.github.com/repos/sideshowbarker/WebKit/tags\",\"blobs_url\":\"https://api.github.com/repos/sideshowbarker/WebKit/git/blobs{/sha}\",\"git_tags_url\":\"https://api.github.com/repos/sideshowbarker/WebKit/git/tags{/sha}\",\"git_refs_url\":\"https://api.github.com/repos/sideshowbarker/WebKit/git/refs{/sha}\",\"trees_url\":\"https://api.github.com/repos/sideshowbarker/WebKit/git/trees{/sha}\",\"statuses_url\":\"https://api.github.com/repos/sideshowbarker/WebKit/statuses/{sha}\",\"languages_url\":\"https://api.github.com/repos/sideshowbarker/WebKit/languages\",\"stargazers_url\":\"https://api.github.com/repos/sideshowbarker/WebKit/stargazers\",\"contributors_url\":\"https://api.github.com/repos/sideshowbarker/WebKit/contributors\",\"subscribers_url\":\"https://api.github.com/repos/sideshowbarker/WebKit/subscribers\",\"subscription_url\":\"https://api.github.com/repos/sideshowbarker/WebKit/subscription\",\"commits_url\":\"https://api.github.com/repos/sideshowbarker/WebKit/commits{/sha}\",\"git_commits_url\":\"https://api.github.com/repos/sideshowbarker/WebKit/git/commits{/sha}\",\"comments_url\":\"https://api.github.com/repos/sideshowbarker/WebKit/comments{/number}\",\"issue_comment_url\":\"https://api.github.com/repos/sideshowbarker/WebKit/issues/comments{/number}\",\"contents_url\":\"https://api.github.com/repos/sideshowbarker/WebKit/contents/{+path}\",\"compare_url\":\"https://api.github.com/repos/sideshowbarker/WebKit/compare/{base}...{head}\",\"merges_url\":\"https://api.github.com/repos/sideshowbarker/WebKit/merges\",\"archive_url\":\"https://api.github.com/repos/sideshowbarker/WebKit/{archive_format}{/ref}\",\"downloads_url\":\"https://api.github.com/repos/sideshowbarker/WebKit/downloads\",\"issues_url\":\"https://api.github.com/repos/sideshowbarker/WebKit/issues{/number}\",\"pulls_url\":\"https://api.github.com/repos/sideshowbarker/WebKit/pulls{/number}\",\"milestones_url\":\"https://api.github.com/repos/sideshowbarker/WebKit/milestones{/number}\",\"notifications_url\":\"https://api.github.com/repos/sideshowbarker/WebKit/notifications{?since,all,participating}\",\"labels_url\":\"https://api.github.com/repos/sideshowbarker/WebKit/labels{/name}\",\"releases_url\":\"https://api.github.com/repos/sideshowbarker/WebKit/releases{/id}\",\"deployments_url\":\"https://api.github.com/repos/sideshowbarker/WebKit/deployments\",\"created_at\":\"2022-06-29T07:17:31Z\",\"updated_at\":\"2023-08-18T01:01:23Z\",\"pushed_at\":\"2023-08-26T17:03:25Z\",\"git_url\":\"git://github.com/sideshowbarker/WebKit.git\",\"ssh_url\":\"git@github.com:sideshowbarker/WebKit.git\",\"clone_url\":\"https://github.com/sideshowbarker/WebKit.git\",\"svn_url\":\"https://github.com/sideshowbarker/WebKit\",\"homepage\":\"\",\"size\":9654344,\"stargazers_count\":0,\"watchers_count\":0,\"language\":null,\"has_issues\":false,\"has_projects\":false,\"has_downloads\":true,\"has_wiki\":false,\"has_pages\":false,\"has_discussions\":false,\"forks_count\":0,\"mirror_url\":null,\"archived\":false,\"disabled\":false,\"open_issues_count\":0,\"license\":null,\"allow_forking\":true,\"is_template\":false,\"web_commit_signoff_required\":false,\"topics\":[],\"visibility\":\"public\",\"forks\":0,\"open_issues\":0,\"watchers\":0,\"default_branch\":\"main\"}},\"base\":{\"label\":\"WebKit:main\",\"ref\":\"main\",\"sha\":\"7c6597e7925ebf7ecaf706dec148bfb56d1f31b0\",\"user\":{\"login\":\"WebKit\",\"id\":6458,\"node_id\":\"MDEyOk9yZ2FuaXphdGlvbjY0NTg=\",\"avatar_url\":\"https://avatars.githubusercontent.com/u/6458?v=4\",\"gravatar_id\":\"\",\"url\":\"https://api.github.com/users/WebKit\",\"html_url\":\"https://github.com/WebKit\",\"followers_url\":\"https://api.github.com/users/WebKit/followers\",\"following_url\":\"https://api.github.com/users/WebKit/following{/other_user}\",\"gists_url\":\"https://api.github.com/users/WebKit/gists{/gist_id}\",\"starred_url\":\"https://api.github.com/users/WebKit/starred{/owner}{/repo}\",\"subscriptions_url\":\"https://api.github.com/users/WebKit/subscriptions\",\"organizations_url\":\"https://api.github.com/users/WebKit/orgs\",\"repos_url\":\"https://api.github.com/users/WebKit/repos\",\"events_url\":\"https://api.github.com/users/WebKit/events{/privacy}\",\"received_events_url\":\"https://api.github.com/users/WebKit/received_events\",\"type\":\"Organization\",\"site_admin\":false},\"repo\":{\"id\":320636477,\"node_id\":\"MDEwOlJlcG9zaXRvcnkzMjA2MzY0Nzc=\",\"name\":\"WebKit\",\"full_name\":\"WebKit/WebKit\",\"private\":false,\"owner\":{\"login\":\"WebKit\",\"id\":6458,\"node_id\":\"MDEyOk9yZ2FuaXphdGlvbjY0NTg=\",\"avatar_url\":\"https://avatars.githubusercontent.com/u/6458?v=4\",\"gravatar_id\":\"\",\"url\":\"https://api.github.com/users/WebKit\",\"html_url\":\"https://github.com/WebKit\",\"followers_url\":\"https://api.github.com/users/WebKit/followers\",\"following_url\":\"https://api.github.com/users/WebKit/following{/other_user}\",\"gists_url\":\"https://api.github.com/users/WebKit/gists{/gist_id}\",\"starred_url\":\"https://api.github.com/users/WebKit/starred{/owner}{/repo}\",\"subscriptions_url\":\"https://api.github.com/users/WebKit/subscriptions\",\"organizations_url\":\"https://api.github.com/users/WebKit/orgs\",\"repos_url\":\"https://api.github.com/users/WebKit/repos\",\"events_url\":\"https://api.github.com/users/WebKit/events{/privacy}\",\"received_events_url\":\"https://api.github.com/users/WebKit/received_events\",\"type\":\"Organization\",\"site_admin\":false},\"html_url\":\"https://github.com/WebKit/WebKit\",\"description\":\"Home of the WebKit project, the browser engine used by Safari, Mail, App Store and many other applications on macOS, iOS and Linux.\",\"fork\":false,\"url\":\"https://api.github.com/repos/WebKit/WebKit\",\"forks_url\":\"https://api.github.com/repos/WebKit/WebKit/forks\",\"keys_url\":\"https://api.github.com/repos/WebKit/WebKit/keys{/key_id}\",\"collaborators_url\":\"https://api.github.com/repos/WebKit/WebKit/collaborators{/collaborator}\",\"teams_url\":\"https://api.github.com/repos/WebKit/WebKit/teams\",\"hooks_url\":\"https://api.github.com/repos/WebKit/WebKit/hooks\",\"issue_events_url\":\"https://api.github.com/repos/WebKit/WebKit/issues/events{/number}\",\"events_url\":\"https://api.github.com/repos/WebKit/WebKit/events\",\"assignees_url\":\"https://api.github.com/repos/WebKit/WebKit/assignees{/user}\",\"branches_url\":\"https://api.github.com/repos/WebKit/WebKit/branches{/branch}\",\"tags_url\":\"https://api.github.com/repos/WebKit/WebKit/tags\",\"blobs_url\":\"https://api.github.com/repos/WebKit/WebKit/git/blobs{/sha}\",\"git_tags_url\":\"https://api.github.com/repos/WebKit/WebKit/git/tags{/sha}\",\"git_refs_url\":\"https://api.github.com/repos/WebKit/WebKit/git/refs{/sha}\",\"trees_url\":\"https://api.github.com/repos/WebKit/WebKit/git/trees{/sha}\",\"statuses_url\":\"https://api.github.com/repos/WebKit/WebKit/statuses/{sha}\",\"languages_url\":\"https://api.github.com/repos/WebKit/WebKit/languages\",\"stargazers_url\":\"https://api.github.com/repos/WebKit/WebKit/stargazers\",\"contributors_url\":\"https://api.github.com/repos/WebKit/WebKit/contributors\",\"subscribers_url\":\"https://api.github.com/repos/WebKit/WebKit/subscribers\",\"subscription_url\":\"https://api.github.com/repos/WebKit/WebKit/subscription\",\"commits_url\":\"https://api.github.com/repos/WebKit/WebKit/commits{/sha}\",\"git_commits_url\":\"https://api.github.com/repos/WebKit/WebKit/git/commits{/sha}\",\"comments_url\":\"https://api.github.com/repos/WebKit/WebKit/comments{/number}\",\"issue_comment_url\":\"https://api.github.com/repos/WebKit/WebKit/issues/comments{/number}\",\"contents_url\":\"https://api.github.com/repos/WebKit/WebKit/contents/{+path}\",\"compare_url\":\"https://api.github.com/repos/WebKit/WebKit/compare/{base}...{head}\",\"merges_url\":\"https://api.github.com/repos/WebKit/WebKit/merges\",\"archive_url\":\"https://api.github.com/repos/WebKit/WebKit/{archive_format}{/ref}\",\"downloads_url\":\"https://api.github.com/repos/WebKit/WebKit/downloads\",\"issues_url\":\"https://api.github.com/repos/WebKit/WebKit/issues{/number}\",\"pulls_url\":\"https://api.github.com/repos/WebKit/WebKit/pulls{/number}\",\"milestones_url\":\"https://api.github.com/repos/WebKit/WebKit/milestones{/number}\",\"notifications_url\":\"https://api.github.com/repos/WebKit/WebKit/notifications{?since,all,participating}\",\"labels_url\":\"https://api.github.com/repos/WebKit/WebKit/labels{/name}\",\"releases_url\":\"https://api.github.com/repos/WebKit/WebKit/releases{/id}\",\"deployments_url\":\"https://api.github.com/repos/WebKit/WebKit/deployments\",\"created_at\":\"2020-12-11T17:11:43Z\",\"updated_at\":\"2023-08-26T01:54:54Z\",\"pushed_at\":\"2023-08-26T17:03:29Z\",\"git_url\":\"git://github.com/WebKit/WebKit.git\",\"ssh_url\":\"git@github.com:WebKit/WebKit.git\",\"clone_url\":\"https://github.com/WebKit/WebKit.git\",\"svn_url\":\"https://github.com/WebKit/WebKit\",\"homepage\":\"\",\"size\":9845957,\"stargazers_count\":6538,\"watchers_count\":6538,\"language\":null,\"has_issues\":false,\"has_projects\":false,\"has_downloads\":true,\"has_wiki\":true,\"has_pages\":false,\"has_discussions\":false,\"forks_count\":1012,\"mirror_url\":null,\"archived\":false,\"disabled\":false,\"open_issues_count\":619,\"license\":null,\"allow_forking\":true,\"is_template\":false,\"web_commit_signoff_required\":false,\"topics\":[\"browser\",\"gtk\",\"ios\",\"javascript\",\"macos\",\"web\",\"webkit\"],\"visibility\":\"public\",\"forks\":1012,\"open_issues\":619,\"watchers\":6538,\"default_branch\":\"main\"}},\"_links\":{\"self\":{\"href\":\"https://api.github.com/repos/WebKit/WebKit/pulls/17106\"},\"html\":{\"href\":\"https://github.com/WebKit/WebKit/pull/17106\"},\"issue\":{\"href\":\"https://api.github.com/repos/WebKit/WebKit/issues/17106\"},\"comments\":{\"href\":\"https://api.github.com/repos/WebKit/WebKit/issues/17106/comments\"},\"review_comments\":{\"href\":\"https://api.github.com/repos/WebKit/WebKit/pulls/17106/comments\"},\"review_comment\":{\"href\":\"https://api.github.com/repos/WebKit/WebKit/pulls/comments{/number}\"},\"commits\":{\"href\":\"https://api.github.com/repos/WebKit/WebKit/pulls/17106/commits\"},\"statuses\":{\"href\":\"https://api.github.com/repos/WebKit/WebKit/statuses/c3f8a5717793e32623586ceed677a7d53640c1f9\"}},\"author_association\":\"CONTRIBUTOR\",\"auto_merge\":null,\"active_lock_reason\":null}},\"public\":true,\"created_at\":\"2023-08-26T17:07:47Z\",\"org\":{\"id\":6458,\"login\":\"WebKit\",\"gravatar_id\":\"\",\"url\":\"https://api.github.com/orgs/WebKit\",\"avatar_url\":\"https://avatars.githubusercontent.com/u/6458?\"}},{\"id\":\"31393702328\",\"type\":\"CreateEvent\",\"actor\":{\"id\":10810283,\"login\":\"direwolf-github\",\"display_login\":\"direwolf-github\",\"gravatar_id\":\"\",\"url\":\"https://api.github.com/users/direwolf-github\",\"avatar_url\":\"https://avatars.githubusercontent.com/u/10810283?\"},\"repo\":{\"id\":683468596,\"name\":\"direwolf-github/ephemeral-ci-7ba97175\",\"url\":\"https://api.github.com/repos/direwolf-github/ephemeral-ci-7ba97175\"},\"payload\":{\"ref\":null,\"ref_type\":\"repository\",\"master_branch\":\"main\",\"description\":null,\"pusher_type\":\"user\"},\"public\":true,\"created_at\":\"2023-08-26T17:07:48Z\"},{\"id\":\"31393702313\",\"type\":\"PushEvent\",\"actor\":{\"id\":64309668,\"login\":\"shaheedams\",\"display_login\":\"shaheedams\",\"gravatar_id\":\"\",\"url\":\"https://api.github.com/users/shaheedams\",\"avatar_url\":\"https://avatars.githubusercontent.com/u/64309668?\"},\"repo\":{\"id\":683466337,\"name\":\"shaheedams/bill-gen\",\"url\":\"https://api.github.com/repos/shaheedams/bill-gen\"},\"payload\":{\"repository_id\":683466337,\"push_id\":14816511976,\"size\":1,\"distinct_size\":1,\"ref\":\"refs/heads/main\",\"head\":\"d09807556cac20906873d86b441186a0165bba04\",\"before\":\"95263e1f4bb2dfe0ed743dc2a6b991c0c13fd401\",\"commits\":[{\"sha\":\"d09807556cac20906873d86b441186a0165bba04\",\"author\":{\"email\":\"64309668+shaheedams@users.noreply.github.com\",\"name\":\"Mohamed Shaheed\"},\"message\":\"Update script.js\",\"distinct\":true,\"url\":\"https://api.github.com/repos/shaheedams/bill-gen/commits/d09807556cac20906873d86b441186a0165bba04\"}]},\"public\":true,\"created_at\":\"2023-08-26T17:07:48Z\"},{\"id\":\"31393702312\",\"type\":\"PushEvent\",\"actor\":{\"id\":46835298,\"login\":\"zheniagnedchik\",\"display_login\":\"zheniagnedchik\",\"gravatar_id\":\"\",\"url\":\"https://api.github.com/users/zheniagnedchik\",\"avatar_url\":\"https://avatars.githubusercontent.com/u/46835298?\"},\"repo\":{\"id\":676833211,\"name\":\"zheniagnedchik/heroServ\",\"url\":\"https://api.github.com/repos/zheniagnedchik/heroServ\"},\"payload\":{\"repository_id\":676833211,\"push_id\":14816511971,\"size\":1,\"distinct_size\":1,\"ref\":\"refs/heads/main\",\"head\":\"c660d0c86cf04c0ad7097f9c6a238ad2a02ad847\",\"before\":\"2fa24784345c3da50784b0d06b29c4a2e229e199\",\"commits\":[{\"sha\":\"c660d0c86cf04c0ad7097f9c6a238ad2a02ad847\",\"author\":{\"email\":\"46835298+zheniagnedchik@users.noreply.github.com\",\"name\":\"zheniagnedchik\"},\"message\":\"add\",\"distinct\":true,\"url\":\"https://api.github.com/repos/zheniagnedchik/heroServ/commits/c660d0c86cf04c0ad7097f9c6a238ad2a02ad847\"}]},\"public\":true,\"created_at\":\"2023-08-26T17:07:48Z\"},{\"id\":\"31393702301\",\"type\":\"DeleteEvent\",\"actor\":{\"id\":49699333,\"login\":\"dependabot[bot]\",\"display_login\":\"dependabot\",\"gravatar_id\":\"\",\"url\":\"https://api.github.com/users/dependabot[bot]\",\"avatar_url\":\"https://avatars.githubusercontent.com/u/49699333?\"},\"repo\":{\"id\":114226140,\"name\":\"dictyBase/genomepage\",\"url\":\"https://api.github.com/repos/dictyBase/genomepage\"},\"payload\":{\"ref\":\"dependabot/npm_and_yarn/types/node-20.5.6\",\"ref_type\":\"branch\",\"pusher_type\":\"user\"},\"public\":true,\"created_at\":\"2023-08-26T17:07:48Z\",\"org\":{\"id\":664001,\"login\":\"dictyBase\",\"gravatar_id\":\"\",\"url\":\"https://api.github.com/orgs/dictyBase\",\"avatar_url\":\"https://avatars.githubusercontent.com/u/664001?\"}},{\"id\":\"31393702287\",\"type\":\"PullRequestEvent\",\"actor\":{\"id\":49699333,\"login\":\"dependabot[bot]\",\"display_login\":\"dependabot\",\"gravatar_id\":\"\",\"url\":\"https://api.github.com/users/dependabot[bot]\",\"avatar_url\":\"https://avatars.githubusercontent.com/u/49699333?\"},\"repo\":{\"id\":683468477,\"name\":\"Exp-Intro-to-GitHub-Flow-Cohort-1/series-intro-to-github-flow-HridayDev\",\"url\":\"https://api.github.com/repos/Exp-Intro-to-GitHub-Flow-Cohort-1/series-intro-to-github-flow-HridayDev\"},\"payload\":{\"action\":\"opened\",\"number\":1,\"pull_request\":{\"url\":\"https://api.github.com/repos/Exp-Intro-to-GitHub-Flow-Cohort-1/series-intro-to-github-flow-HridayDev/pulls/1\",\"id\":1490717761,\"node_id\":\"PR_kwDOKLzmvc5Y2oxB\",\"html_url\":\"https://github.com/Exp-Intro-to-GitHub-Flow-Cohort-1/series-intro-to-github-flow-HridayDev/pull/1\",\"diff_url\":\"https://github.com/Exp-Intro-to-GitHub-Flow-Cohort-1/series-intro-to-github-flow-HridayDev/pull/1.diff\",\"patch_url\":\"https://github.com/Exp-Intro-to-GitHub-Flow-Cohort-1/series-intro-to-github-flow-HridayDev/pull/1.patch\",\"issue_url\":\"https://api.github.com/repos/Exp-Intro-to-GitHub-Flow-Cohort-1/series-intro-to-github-flow-HridayDev/issues/1\",\"number\":1,\"state\":\"open\",\"locked\":false,\"title\":\"Bump actions/checkout from 2 to 3\",\"user\":{\"login\":\"dependabot[bot]\",\"id\":49699333,\"node_id\":\"MDM6Qm90NDk2OTkzMzM=\",\"avatar_url\":\"https://avatars.githubusercontent.com/in/29110?v=4\",\"gravatar_id\":\"\",\"url\":\"https://api.github.com/users/dependabot%5Bbot%5D\",\"html_url\":\"https://github.com/apps/dependabot\",\"followers_url\":\"https://api.github.com/users/dependabot%5Bbot%5D/followers\",\"following_url\":\"https://api.github.com/users/dependabot%5Bbot%5D/following{/other_user}\",\"gists_url\":\"https://api.github.com/users/dependabot%5Bbot%5D/gists{/gist_id}\",\"starred_url\":\"https://api.github.com/users/dependabot%5Bbot%5D/starred{/owner}{/repo}\",\"subscriptions_url\":\"https://api.github.com/users/dependabot%5Bbot%5D/subscriptions\",\"organizations_url\":\"https://api.github.com/users/dependabot%5Bbot%5D/orgs\",\"repos_url\":\"https://api.github.com/users/dependabot%5Bbot%5D/repos\",\"events_url\":\"https://api.github.com/users/dependabot%5Bbot%5D/events{/privacy}\",\"received_events_url\":\"https://api.github.com/users/dependabot%5Bbot%5D/received_events\",\"type\":\"Bot\",\"site_admin\":false},\"body\":\"Bumps [actions/checkout](https://github.com/actions/checkout) from 2 to 3.\\\\n<details>\\\\n<summary>Release notes</summary>\\\\n<p><em>Sourced from <a href=\\\\\"https://github.com/actions/checkout/releases\\\\\">actions/checkout\\'s releases</a>.</em></p>\\\\n<blockquote>\\\\n<h2>v3.0.0</h2>\\\\n<ul>\\\\n<li>Updated to the node16 runtime by default\\\\n<ul>\\\\n<li>This requires a minimum <a href=\\\\\"https://github.com/actions/runner/releases/tag/v2.285.0\\\\\">Actions Runner</a> version of v2.285.0 to run, which is by default available in GHES 3.4 or later.</li>\\\\n</ul>\\\\n</li>\\\\n</ul>\\\\n<h2>v2.7.0</h2>\\\\n<h2>What\\'s Changed</h2>\\\\n<ul>\\\\n<li>Add new public key for known_hosts (<a href=\\\\\"https://redirect.github.com/actions/checkout/issues/1237\\\\\">#1237</a>) by <a href=\\\\\"https://github.com/TingluoHuang\\\\\"><code>@\\u200bTingluoHuang</code></a> in <a href=\\\\\"https://redirect.github.com/actions/checkout/pull/1238\\\\\">actions/checkout#1238</a></li>\\\\n</ul>\\\\n<p><strong>Full Changelog</strong>: <a href=\\\\\"https://github.com/actions/checkout/compare/v2.6.0...v2.7.0\\\\\">https://github.com/actions/checkout/compare/v2.6.0...v2.7.0</a></p>\\\\n<h2>v2.6.0</h2>\\\\n<h2>What\\'s Changed</h2>\\\\n<ul>\\\\n<li>Add backports to v2 branch by <a href=\\\\\"https://github.com/cory-miller\\\\\"><code>@\\u200bcory-miller</code></a> in <a href=\\\\\"https://redirect.github.com/actions/checkout/pull/1040\\\\\">actions/checkout#1040</a>\\\\n<ul>\\\\n<li>Includes backports from the following changes: <a href=\\\\\"https://redirect.github.com/actions/checkout/pull/964\\\\\">actions/checkout#964</a>, <a href=\\\\\"https://redirect.github.com/actions/checkout/pull/1002\\\\\">actions/checkout#1002</a>, <a href=\\\\\"https://redirect.github.com/actions/checkout/pull/1029\\\\\">actions/checkout#1029</a></li>\\\\n<li>Upgraded the licensed version to match what is used in v3.</li>\\\\n</ul>\\\\n</li>\\\\n</ul>\\\\n<p><strong>Full Changelog</strong>: <a href=\\\\\"https://github.com/actions/checkout/compare/v2.5.0...v2.6.0\\\\\">https://github.com/actions/checkout/compare/v2.5.0...v2.6.0</a></p>\\\\n<h2>v2.5.0</h2>\\\\n<h2>What\\'s Changed</h2>\\\\n<ul>\\\\n<li>Update <code>@\\u200bactions/core</code> to 1.10.0 by <a href=\\\\\"https://github.com/rentziass\\\\\"><code>@\\u200brentziass</code></a> in <a href=\\\\\"https://redirect.github.com/actions/checkout/pull/962\\\\\">actions/checkout#962</a></li>\\\\n</ul>\\\\n<p><strong>Full Changelog</strong>: <a href=\\\\\"https://github.com/actions/checkout/compare/v2...v2.5.0\\\\\">https://github.com/actions/checkout/compare/v2...v2.5.0</a></p>\\\\n<h2>v2.4.2</h2>\\\\n<h2>What\\'s Changed</h2>\\\\n<ul>\\\\n<li>Add set-safe-directory input to allow customers to take control. (<a href=\\\\\"https://redirect.github.com/actions/checkout/issues/770\\\\\">#770</a>) by <a href=\\\\\"https://github.com/TingluoHuang\\\\\"><code>@\\u200bTingluoHuang</code></a> in <a href=\\\\\"https://redirect.github.com/actions/checkout/pull/776\\\\\">actions/checkout#776</a></li>\\\\n<li>Prepare changelog for v2.4.2. by <a href=\\\\\"https://github.com/TingluoHuang\\\\\"><code>@\\u200bTingluoHuang</code></a> in <a href=\\\\\"https://redirect.github.com/actions/checkout/pull/778\\\\\">actions/checkout#778</a></li>\\\\n</ul>\\\\n<p><strong>Full Changelog</strong>: <a href=\\\\\"https://github.com/actions/checkout/compare/v2...v2.4.2\\\\\">https://github.com/actions/checkout/compare/v2...v2.4.2</a></p>\\\\n<h2>v2.4.1</h2>\\\\n<ul>\\\\n<li>Fixed an issue where checkout failed to run in container jobs due to the new git setting <code>safe.directory</code></li>\\\\n</ul>\\\\n<h2>v2.4.0</h2>\\\\n<ul>\\\\n<li>Convert SSH URLs like <code>org-&lt;ORG_ID&gt;@github.com:</code> to <code>https://github.com/</code> - <a href=\\\\\"https://redirect.github.com/actions/checkout/pull/621\\\\\">pr</a></li>\\\\n</ul>\\\\n<h2>v2.3.5</h2>\\\\n<p>Update dependencies</p>\\\\n<h2>v2.3.4</h2>\\\\n<ul>\\\\n<li><a href=\\\\\"https://redirect.github.com/actions/checkout/pull/379\\\\\">Add missing <code>await</code>s</a></li>\\\\n<li><a href=\\\\\"https://redirect.github.com/actions/checkout/pull/360\\\\\">Swap to Environment Files</a></li>\\\\n</ul>\\\\n<h2>v2.3.3</h2>\\\\n<ul>\\\\n<li><a href=\\\\\"https://redirect.github.com/actions/checkout/pull/345\\\\\">Remove Unneeded commit information from build logs</a></li>\\\\n<li><a href=\\\\\"https://redirect.github.com/actions/checkout/pull/326\\\\\">Add Licensed to verify third party dependencies</a></li>\\\\n</ul>\\\\n<!-- raw HTML omitted -->\\\\n</blockquote>\\\\n<p>... (truncated)</p>\\\\n</details>\\\\n<details>\\\\n<summary>Changelog</summary>\\\\n<p><em>Sourced from <a href=\\\\\"https://github.com/actions/checkout/blob/main/CHANGELOG.md\\\\\">actions/checkout\\'s changelog</a>.</em></p>\\\\n<blockquote>\\\\n<h1>Changelog</h1>\\\\n<h2>v3.6.0</h2>\\\\n<ul>\\\\n<li><a href=\\\\\"https://redirect.github.com/actions/checkout/pull/1377\\\\\">Fix: Mark test scripts with Bash\\'isms to be run via Bash</a></li>\\\\n<li><a href=\\\\\"https://redirect.github.com/actions/checkout/pull/579\\\\\">Add option to fetch tags even if fetch-depth &gt; 0</a></li>\\\\n</ul>\\\\n<h2>v3.5.3</h2>\\\\n<ul>\\\\n<li><a href=\\\\\"https://redirect.github.com/actions/checkout/pull/1196\\\\\">Fix: Checkout fail in self-hosted runners when faulty submodule are checked-in</a></li>\\\\n<li><a href=\\\\\"https://redirect.github.com/actions/checkout/pull/1287\\\\\">Fix typos found by codespell</a></li>\\\\n<li><a href=\\\\\"https://redirect.github.com/actions/checkout/pull/1369\\\\\">Add support for sparse checkouts</a></li>\\\\n</ul>\\\\n<h2>v3.5.2</h2>\\\\n<ul>\\\\n<li><a href=\\\\\"https://redirect.github.com/actions/checkout/pull/1289\\\\\">Fix api endpoint for GHES</a></li>\\\\n</ul>\\\\n<h2>v3.5.1</h2>\\\\n<ul>\\\\n<li><a href=\\\\\"https://redirect.github.com/actions/checkout/pull/1246\\\\\">Fix slow checkout on Windows</a></li>\\\\n</ul>\\\\n<h2>v3.5.0</h2>\\\\n<ul>\\\\n<li><a href=\\\\\"https://redirect.github.com/actions/checkout/pull/1237\\\\\">Add new public key for known_hosts</a></li>\\\\n</ul>\\\\n<h2>v3.4.0</h2>\\\\n<ul>\\\\n<li><a href=\\\\\"https://redirect.github.com/actions/checkout/pull/1209\\\\\">Upgrade codeql actions to v2</a></li>\\\\n<li><a href=\\\\\"https://redirect.github.com/actions/checkout/pull/1210\\\\\">Upgrade dependencies</a></li>\\\\n<li><a href=\\\\\"https://redirect.github.com/actions/checkout/pull/1225\\\\\">Upgrade <code>@\\u200bactions/io</code></a></li>\\\\n</ul>\\\\n<h2>v3.3.0</h2>\\\\n<ul>\\\\n<li><a href=\\\\\"https://redirect.github.com/actions/checkout/pull/1045\\\\\">Implement branch list using callbacks from exec function</a></li>\\\\n<li><a href=\\\\\"https://redirect.github.com/actions/checkout/pull/1050\\\\\">Add in explicit reference to private checkout options</a></li>\\\\n<li>[Fix comment typos (that got added in <a href=\\\\\"https://redirect.github.com/actions/checkout/issues/770\\\\\">#770</a>)](<a href=\\\\\"https://redirect.github.com/actions/checkout/pull/1057\\\\\">actions/checkout#1057</a>)</li>\\\\n</ul>\\\\n<h2>v3.2.0</h2>\\\\n<ul>\\\\n<li><a href=\\\\\"https://redirect.github.com/actions/checkout/pull/942\\\\\">Add GitHub Action to perform release</a></li>\\\\n<li><a href=\\\\\"https://redirect.github.com/actions/checkout/pull/967\\\\\">Fix status badge</a></li>\\\\n<li><a href=\\\\\"https://redirect.github.com/actions/checkout/pull/1002\\\\\">Replace datadog/squid with ubuntu/squid Docker image</a></li>\\\\n<li><a href=\\\\\"https://redirect.github.com/actions/checkout/pull/964\\\\\">Wrap pipeline commands for submoduleForeach in quotes</a></li>\\\\n<li><a href=\\\\\"https://redirect.github.com/actions/checkout/pull/1029\\\\\">Update <code>@\\u200bactions/io</code> to 1.1.2</a></li>\\\\n<li><a href=\\\\\"https://redirect.github.com/actions/checkout/pull/1039\\\\\">Upgrading version to 3.2.0</a></li>\\\\n</ul>\\\\n<h2>v3.1.0</h2>\\\\n<ul>\\\\n<li><a href=\\\\\"https://redirect.github.com/actions/checkout/pull/939\\\\\">Use <code>@\\u200bactions/core</code> <code>saveState</code> and <code>getState</code></a></li>\\\\n<li><a href=\\\\\"https://redirect.github.com/actions/checkout/pull/922\\\\\">Add <code>github-server-url</code> input</a></li>\\\\n</ul>\\\\n<h2>v3.0.2</h2>\\\\n<ul>\\\\n<li><a href=\\\\\"https://redirect.github.com/actions/checkout/pull/770\\\\\">Add input <code>set-safe-directory</code></a></li>\\\\n</ul>\\\\n<h2>v3.0.1</h2>\\\\n<ul>\\\\n<li><a href=\\\\\"https://redirect.github.com/actions/checkout/pull/762\\\\\">Fixed an issue where checkout failed to run in container jobs due to the new git setting <code>safe.directory</code></a></li>\\\\n<li><a href=\\\\\"https://redirect.github.com/actions/checkout/pull/744\\\\\">Bumped various npm package versions</a></li>\\\\n</ul>\\\\n<h2>v3.0.0</h2>\\\\n<!-- raw HTML omitted -->\\\\n</blockquote>\\\\n<p>... (truncated)</p>\\\\n</details>\\\\n<details>\\\\n<summary>Commits</summary>\\\\n<ul>\\\\n<li><a href=\\\\\"https://github.com/actions/checkout/commit/f43a0e5ff2bd294095638e18286ca9a3d1956744\\\\\"><code>f43a0e5</code></a> Release 3.6.0 (<a href=\\\\\"https://redirect.github.com/actions/checkout/issues/1437\\\\\">#1437</a>)</li>\\\\n<li><a href=\\\\\"https://github.com/actions/checkout/commit/7739b9ba2efcda9dde65ad1e3c2dbe65b41dfba7\\\\\"><code>7739b9b</code></a> Add option to fetch tags even if fetch-depth &gt; 0 (<a href=\\\\\"https://redirect.github.com/actions/checkout/issues/579\\\\\">#579</a>)</li>\\\\n<li><a href=\\\\\"https://github.com/actions/checkout/commit/96f53100ba2a5449eb71d2e6604bbcd94b9449b5\\\\\"><code>96f5310</code></a> Mark test scripts with Bash\\'isms to be run via Bash (<a href=\\\\\"https://redirect.github.com/actions/checkout/issues/1377\\\\\">#1377</a>)</li>\\\\n<li><a href=\\\\\"https://github.com/actions/checkout/commit/c85c95e3d7251135ab7dc9ce3241c5835cc595a9\\\\\"><code>c85c95e</code></a> Release v3.5.3 (<a href=\\\\\"https://redirect.github.com/actions/checkout/issues/1376\\\\\">#1376</a>)</li>\\\\n<li><a href=\\\\\"https://github.com/actions/checkout/commit/d106d4669b3bfcb17f11f83f98e1cab478e9f635\\\\\"><code>d106d46</code></a> Add support for sparse checkouts (<a href=\\\\\"https://redirect.github.com/actions/checkout/issues/1369\\\\\">#1369</a>)</li>\\\\n<li><a href=\\\\\"https://github.com/actions/checkout/commit/f095bcc56b7c2baf48f3ac70d6d6782f4f553222\\\\\"><code>f095bcc</code></a> Fix typos found by codespell (<a href=\\\\\"https://redirect.github.com/actions/checkout/issues/1287\\\\\">#1287</a>)</li>\\\\n<li><a href=\\\\\"https://github.com/actions/checkout/commit/47fbe2df0ad0e27efb67a70beac3555f192b062f\\\\\"><code>47fbe2d</code></a> Fix: Checkout fail in self-hosted runners when faulty submodule are checked-i...</li>\\\\n<li><a href=\\\\\"https://github.com/actions/checkout/commit/8e5e7e5ab8b370d6c329ec480221332ada57f0ab\\\\\"><code>8e5e7e5</code></a> Release v3.5.2 (<a href=\\\\\"https://redirect.github.com/actions/checkout/issues/1291\\\\\">#1291</a>)</li>\\\\n<li><a href=\\\\\"https://github.com/actions/checkout/commit/eb35239ec22e9029a5be28f8c41e67452f615f0f\\\\\"><code>eb35239</code></a> Fix: convert baseUrl to serverApiUrl \\'formatted\\' (<a href=\\\\\"https://redirect.github.com/actions/checkout/issues/1289\\\\\">#1289</a>)</li>\\\\n<li><a href=\\\\\"https://github.com/actions/checkout/commit/83b7061638ee4956cf7545a6f7efe594e5ad0247\\\\\"><code>83b7061</code></a> Release v3.5.1 (<a href=\\\\\"https://redirect.github.com/actions/checkout/issues/1284\\\\\">#1284</a>)</li>\\\\n<li>Additional commits viewable in <a href=\\\\\"https://github.com/actions/checkout/compare/v2...v3\\\\\">compare view</a></li>\\\\n</ul>\\\\n</details>\\\\n<br />\\\\n\\\\n\\\\n[![Dependabot compatibility score](https://dependabot-badges.githubapp.com/badges/compatibility_score?dependency-name=actions/checkout&package-manager=github_actions&previous-version=2&new-version=3)](https://docs.github.com/en/github/managing-security-vulnerabilities/about-dependabot-security-updates#about-compatibility-scores)\\\\n\\\\nDependabot will resolve any conflicts with this PR as long as you don\\'t alter it yourself. You can also trigger a rebase manually by commenting `@dependabot rebase`.\\\\n\\\\n[//]: # (dependabot-automerge-start)\\\\n[//]: # (dependabot-automerge-end)\\\\n\\\\n---\\\\n\\\\n<details>\\\\n<summary>Dependabot commands and options</summary>\\\\n<br />\\\\n\\\\nYou can trigger Dependabot actions by commenting on this PR:\\\\n- `@dependabot rebase` will rebase this PR\\\\n- `@dependabot recreate` will recreate this PR, overwriting any edits that have been made to it\\\\n- `@dependabot merge` will merge this PR after your CI passes on it\\\\n- `@dependabot squash and merge` will squash and merge this PR after your CI passes on it\\\\n- `@dependabot cancel merge` will cancel a previously requested merge and block automerging\\\\n- `@dependabot reopen` will reopen this PR if it is closed\\\\n- `@dependabot close` will close this PR and stop Dependabot recreating it. You can achieve the same result by closing it manually\\\\n- `@dependabot show <dependency name> ignore conditions` will show all of the ignore conditions of the specified dependency\\\\n- `@dependabot ignore this major version` will close this PR and stop Dependabot creating any more for this major version (unless you reopen the PR or upgrade to it yourself)\\\\n- `@dependabot ignore this minor version` will close this PR and stop Dependabot creating any more for this minor version (unless you reopen the PR or upgrade to it yourself)\\\\n- `@dependabot ignore this dependency` will close this PR and stop Dependabot creating any more for this dependency (unless you reopen the PR or upgrade to it yourself)\\\\n\\\\n\\\\n</details>\",\"created_at\":\"2023-08-26T17:07:47Z\",\"updated_at\":\"2023-08-26T17:07:47Z\",\"closed_at\":null,\"merged_at\":null,\"merge_commit_sha\":null,\"assignee\":null,\"assignees\":[],\"requested_reviewers\":[],\"requested_teams\":[],\"labels\":[],\"milestone\":null,\"draft\":false,\"commits_url\":\"https://api.github.com/repos/Exp-Intro-to-GitHub-Flow-Cohort-1/series-intro-to-github-flow-HridayDev/pulls/1/commits\",\"review_comments_url\":\"https://api.github.com/repos/Exp-Intro-to-GitHub-Flow-Cohort-1/series-intro-to-github-flow-HridayDev/pulls/1/comments\",\"review_comment_url\":\"https://api.github.com/repos/Exp-Intro-to-GitHub-Flow-Cohort-1/series-intro-to-github-flow-HridayDev/pulls/comments{/number}\",\"comments_url\":\"https://api.github.com/repos/Exp-Intro-to-GitHub-Flow-Cohort-1/series-intro-to-github-flow-HridayDev/issues/1/comments\",\"statuses_url\":\"https://api.github.com/repos/Exp-Intro-to-GitHub-Flow-Cohort-1/series-intro-to-github-flow-HridayDev/statuses/4eccf857b1ece3f1c0f276c17c47352842178a45\",\"head\":{\"label\":\"Exp-Intro-to-GitHub-Flow-Cohort-1:dependabot/github_actions/actions/checkout-3\",\"ref\":\"dependabot/github_actions/actions/checkout-3\",\"sha\":\"4eccf857b1ece3f1c0f276c17c47352842178a45\",\"user\":{\"login\":\"Exp-Intro-to-GitHub-Flow-Cohort-1\",\"id\":141875263,\"node_id\":\"O_kgDOCHTYPw\",\"avatar_url\":\"https://avatars.githubusercontent.com/u/141875263?v=4\",\"gravatar_id\":\"\",\"url\":\"https://api.github.com/users/Exp-Intro-to-GitHub-Flow-Cohort-1\",\"html_url\":\"https://github.com/Exp-Intro-to-GitHub-Flow-Cohort-1\",\"followers_url\":\"https://api.github.com/users/Exp-Intro-to-GitHub-Flow-Cohort-1/followers\",\"following_url\":\"https://api.github.com/users/Exp-Intro-to-GitHub-Flow-Cohort-1/following{/other_user}\",\"gists_url\":\"https://api.github.com/users/Exp-Intro-to-GitHub-Flow-Cohort-1/gists{/gist_id}\",\"starred_url\":\"https://api.github.com/users/Exp-Intro-to-GitHub-Flow-Cohort-1/starred{/owner}{/repo}\",\"subscriptions_url\":\"https://api.github.com/users/Exp-Intro-to-GitHub-Flow-Cohort-1/subscriptions\",\"organizations_url\":\"https://api.github.com/users/Exp-Intro-to-GitHub-Flow-Cohort-1/orgs\",\"repos_url\":\"https://api.github.com/users/Exp-Intro-to-GitHub-Flow-Cohort-1/repos\",\"events_url\":\"https://api.github.com/users/Exp-Intro-to-GitHub-Flow-Cohort-1/events{/privacy}\",\"received_events_url\":\"https://api.github.com/users/Exp-Intro-to-GitHub-Flow-Cohort-1/received_events\",\"type\":\"Organization\",\"site_admin\":false},\"repo\":{\"id\":683468477,\"node_id\":\"R_kgDOKLzmvQ\",\"name\":\"series-intro-to-github-flow-HridayDev\",\"full_name\":\"Exp-Intro-to-GitHub-Flow-Cohort-1/series-intro-to-github-flow-HridayDev\",\"private\":false,\"owner\":{\"login\":\"Exp-Intro-to-GitHub-Flow-Cohort-1\",\"id\":141875263,\"node_id\":\"O_kgDOCHTYPw\",\"avatar_url\":\"https://avatars.githubusercontent.com/u/141875263?v=4\",\"gravatar_id\":\"\",\"url\":\"https://api.github.com/users/Exp-Intro-to-GitHub-Flow-Cohort-1\",\"html_url\":\"https://github.com/Exp-Intro-to-GitHub-Flow-Cohort-1\",\"followers_url\":\"https://api.github.com/users/Exp-Intro-to-GitHub-Flow-Cohort-1/followers\",\"following_url\":\"https://api.github.com/users/Exp-Intro-to-GitHub-Flow-Cohort-1/following{/other_user}\",\"gists_url\":\"https://api.github.com/users/Exp-Intro-to-GitHub-Flow-Cohort-1/gists{/gist_id}\",\"starred_url\":\"https://api.github.com/users/Exp-Intro-to-GitHub-Flow-Cohort-1/starred{/owner}{/repo}\",\"subscriptions_url\":\"https://api.github.com/users/Exp-Intro-to-GitHub-Flow-Cohort-1/subscriptions\",\"organizations_url\":\"https://api.github.com/users/Exp-Intro-to-GitHub-Flow-Cohort-1/orgs\",\"repos_url\":\"https://api.github.com/users/Exp-Intro-to-GitHub-Flow-Cohort-1/repos\",\"events_url\":\"https://api.github.com/users/Exp-Intro-to-GitHub-Flow-Cohort-1/events{/privacy}\",\"received_events_url\":\"https://api.github.com/users/Exp-Intro-to-GitHub-Flow-Cohort-1/received_events\",\"type\":\"Organization\",\"site_admin\":false},\"html_url\":\"https://github.com/Exp-Intro-to-GitHub-Flow-Cohort-1/series-intro-to-github-flow-HridayDev\",\"description\":\"series-intro-to-github-flow-HridayDev created by GitHub Classroom\",\"fork\":false,\"url\":\"https://api.github.com/repos/Exp-Intro-to-GitHub-Flow-Cohort-1/series-intro-to-github-flow-HridayDev\",\"forks_url\":\"https://api.github.com/repos/Exp-Intro-to-GitHub-Flow-Cohort-1/series-intro-to-github-flow-HridayDev/forks\",\"keys_url\":\"https://api.github.com/repos/Exp-Intro-to-GitHub-Flow-Cohort-1/series-intro-to-github-flow-HridayDev/keys{/key_id}\",\"collaborators_url\":\"https://api.github.com/repos/Exp-Intro-to-GitHub-Flow-Cohort-1/series-intro-to-github-flow-HridayDev/collaborators{/collaborator}\",\"teams_url\":\"https://api.github.com/repos/Exp-Intro-to-GitHub-Flow-Cohort-1/series-intro-to-github-flow-HridayDev/teams\",\"hooks_url\":\"https://api.github.com/repos/Exp-Intro-to-GitHub-Flow-Cohort-1/series-intro-to-github-flow-HridayDev/hooks\",\"issue_events_url\":\"https://api.github.com/repos/Exp-Intro-to-GitHub-Flow-Cohort-1/series-intro-to-github-flow-HridayDev/issues/events{/number}\",\"events_url\":\"https://api.github.com/repos/Exp-Intro-to-GitHub-Flow-Cohort-1/series-intro-to-github-flow-HridayDev/events\",\"assignees_url\":\"https://api.github.com/repos/Exp-Intro-to-GitHub-Flow-Cohort-1/series-intro-to-github-flow-HridayDev/assignees{/user}\",\"branches_url\":\"https://api.github.com/repos/Exp-Intro-to-GitHub-Flow-Cohort-1/series-intro-to-github-flow-HridayDev/branches{/branch}\",\"tags_url\":\"https://api.github.com/repos/Exp-Intro-to-GitHub-Flow-Cohort-1/series-intro-to-github-flow-HridayDev/tags\",\"blobs_url\":\"https://api.github.com/repos/Exp-Intro-to-GitHub-Flow-Cohort-1/series-intro-to-github-flow-HridayDev/git/blobs{/sha}\",\"git_tags_url\":\"https://api.github.com/repos/Exp-Intro-to-GitHub-Flow-Cohort-1/series-intro-to-github-flow-HridayDev/git/tags{/sha}\",\"git_refs_url\":\"https://api.github.com/repos/Exp-Intro-to-GitHub-Flow-Cohort-1/series-intro-to-github-flow-HridayDev/git/refs{/sha}\",\"trees_url\":\"https://api.github.com/repos/Exp-Intro-to-GitHub-Flow-Cohort-1/series-intro-to-github-flow-HridayDev/git/trees{/sha}\",\"statuses_url\":\"https://api.github.com/repos/Exp-Intro-to-GitHub-Flow-Cohort-1/series-intro-to-github-flow-HridayDev/statuses/{sha}\",\"languages_url\":\"https://api.github.com/repos/Exp-Intro-to-GitHub-Flow-Cohort-1/series-intro-to-github-flow-HridayDev/languages\",\"stargazers_url\":\"https://api.github.com/repos/Exp-Intro-to-GitHub-Flow-Cohort-1/series-intro-to-github-flow-HridayDev/stargazers\",\"contributors_url\":\"https://api.github.com/repos/Exp-Intro-to-GitHub-Flow-Cohort-1/series-intro-to-github-flow-HridayDev/contributors\",\"subscribers_url\":\"https://api.github.com/repos/Exp-Intro-to-GitHub-Flow-Cohort-1/series-intro-to-github-flow-HridayDev/subscribers\",\"subscription_url\":\"https://api.github.com/repos/Exp-Intro-to-GitHub-Flow-Cohort-1/series-intro-to-github-flow-HridayDev/subscription\",\"commits_url\":\"https://api.github.com/repos/Exp-Intro-to-GitHub-Flow-Cohort-1/series-intro-to-github-flow-HridayDev/commits{/sha}\",\"git_commits_url\":\"https://api.github.com/repos/Exp-Intro-to-GitHub-Flow-Cohort-1/series-intro-to-github-flow-HridayDev/git/commits{/sha}\",\"comments_url\":\"https://api.github.com/repos/Exp-Intro-to-GitHub-Flow-Cohort-1/series-intro-to-github-flow-HridayDev/comments{/number}\",\"issue_comment_url\":\"https://api.github.com/repos/Exp-Intro-to-GitHub-Flow-Cohort-1/series-intro-to-github-flow-HridayDev/issues/comments{/number}\",\"contents_url\":\"https://api.github.com/repos/Exp-Intro-to-GitHub-Flow-Cohort-1/series-intro-to-github-flow-HridayDev/contents/{+path}\",\"compare_url\":\"https://api.github.com/repos/Exp-Intro-to-GitHub-Flow-Cohort-1/series-intro-to-github-flow-HridayDev/compare/{base}...{head}\",\"merges_url\":\"https://api.github.com/repos/Exp-Intro-to-GitHub-Flow-Cohort-1/series-intro-to-github-flow-HridayDev/merges\",\"archive_url\":\"https://api.github.com/repos/Exp-Intro-to-GitHub-Flow-Cohort-1/series-intro-to-github-flow-HridayDev/{archive_format}{/ref}\",\"downloads_url\":\"https://api.github.com/repos/Exp-Intro-to-GitHub-Flow-Cohort-1/series-intro-to-github-flow-HridayDev/downloads\",\"issues_url\":\"https://api.github.com/repos/Exp-Intro-to-GitHub-Flow-Cohort-1/series-intro-to-github-flow-HridayDev/issues{/number}\",\"pulls_url\":\"https://api.github.com/repos/Exp-Intro-to-GitHub-Flow-Cohort-1/series-intro-to-github-flow-HridayDev/pulls{/number}\",\"milestones_url\":\"https://api.github.com/repos/Exp-Intro-to-GitHub-Flow-Cohort-1/series-intro-to-github-flow-HridayDev/milestones{/number}\",\"notifications_url\":\"https://api.github.com/repos/Exp-Intro-to-GitHub-Flow-Cohort-1/series-intro-to-github-flow-HridayDev/notifications{?since,all,participating}\",\"labels_url\":\"https://api.github.com/repos/Exp-Intro-to-GitHub-Flow-Cohort-1/series-intro-to-github-flow-HridayDev/labels{/name}\",\"releases_url\":\"https://api.github.com/repos/Exp-Intro-to-GitHub-Flow-Cohort-1/series-intro-to-github-flow-HridayDev/releases{/id}\",\"deployments_url\":\"https://api.github.com/repos/Exp-Intro-to-GitHub-Flow-Cohort-1/series-intro-to-github-flow-HridayDev/deployments\",\"created_at\":\"2023-08-26T17:07:21Z\",\"updated_at\":\"2023-08-26T17:07:21Z\",\"pushed_at\":\"2023-08-26T17:07:48Z\",\"git_url\":\"git://github.com/Exp-Intro-to-GitHub-Flow-Cohort-1/series-intro-to-github-flow-HridayDev.git\",\"ssh_url\":\"git@github.com:Exp-Intro-to-GitHub-Flow-Cohort-1/series-intro-to-github-flow-HridayDev.git\",\"clone_url\":\"https://github.com/Exp-Intro-to-GitHub-Flow-Cohort-1/series-intro-to-github-flow-HridayDev.git\",\"svn_url\":\"https://github.com/Exp-Intro-to-GitHub-Flow-Cohort-1/series-intro-to-github-flow-HridayDev\",\"homepage\":null,\"size\":0,\"stargazers_count\":0,\"watchers_count\":0,\"language\":null,\"has_issues\":true,\"has_projects\":true,\"has_downloads\":true,\"has_wiki\":true,\"has_pages\":false,\"has_discussions\":false,\"forks_count\":0,\"mirror_url\":null,\"archived\":false,\"disabled\":false,\"open_issues_count\":1,\"license\":{\"key\":\"mit\",\"name\":\"MIT License\",\"spdx_id\":\"MIT\",\"url\":\"https://api.github.com/licenses/mit\",\"node_id\":\"MDc6TGljZW5zZTEz\"},\"allow_forking\":true,\"is_template\":false,\"web_commit_signoff_required\":false,\"topics\":[],\"visibility\":\"public\",\"forks\":0,\"open_issues\":1,\"watchers\":0,\"default_branch\":\"main\"}},\"base\":{\"label\":\"Exp-Intro-to-GitHub-Flow-Cohort-1:main\",\"ref\":\"main\",\"sha\":\"5485afc9eeaaea62481c0040ebf36541c4dc3947\",\"user\":{\"login\":\"Exp-Intro-to-GitHub-Flow-Cohort-1\",\"id\":141875263,\"node_id\":\"O_kgDOCHTYPw\",\"avatar_url\":\"https://avatars.githubusercontent.com/u/141875263?v=4\",\"gravatar_id\":\"\",\"url\":\"https://api.github.com/users/Exp-Intro-to-GitHub-Flow-Cohort-1\",\"html_url\":\"https://github.com/Exp-Intro-to-GitHub-Flow-Cohort-1\",\"followers_url\":\"https://api.github.com/users/Exp-Intro-to-GitHub-Flow-Cohort-1/followers\",\"following_url\":\"https://api.github.com/users/Exp-Intro-to-GitHub-Flow-Cohort-1/following{/other_user}\",\"gists_url\":\"https://api.github.com/users/Exp-Intro-to-GitHub-Flow-Cohort-1/gists{/gist_id}\",\"starred_url\":\"https://api.github.com/users/Exp-Intro-to-GitHub-Flow-Cohort-1/starred{/owner}{/repo}\",\"subscriptions_url\":\"https://api.github.com/users/Exp-Intro-to-GitHub-Flow-Cohort-1/subscriptions\",\"organizations_url\":\"https://api.github.com/users/Exp-Intro-to-GitHub-Flow-Cohort-1/orgs\",\"repos_url\":\"https://api.github.com/users/Exp-Intro-to-GitHub-Flow-Cohort-1/repos\",\"events_url\":\"https://api.github.com/users/Exp-Intro-to-GitHub-Flow-Cohort-1/events{/privacy}\",\"received_events_url\":\"https://api.github.com/users/Exp-Intro-to-GitHub-Flow-Cohort-1/received_events\",\"type\":\"Organization\",\"site_admin\":false},\"repo\":{\"id\":683468477,\"node_id\":\"R_kgDOKLzmvQ\",\"name\":\"series-intro-to-github-flow-HridayDev\",\"full_name\":\"Exp-Intro-to-GitHub-Flow-Cohort-1/series-intro-to-github-flow-HridayDev\",\"private\":false,\"owner\":{\"login\":\"Exp-Intro-to-GitHub-Flow-Cohort-1\",\"id\":141875263,\"node_id\":\"O_kgDOCHTYPw\",\"avatar_url\":\"https://avatars.githubusercontent.com/u/141875263?v=4\",\"gravatar_id\":\"\",\"url\":\"https://api.github.com/users/Exp-Intro-to-GitHub-Flow-Cohort-1\",\"html_url\":\"https://github.com/Exp-Intro-to-GitHub-Flow-Cohort-1\",\"followers_url\":\"https://api.github.com/users/Exp-Intro-to-GitHub-Flow-Cohort-1/followers\",\"following_url\":\"https://api.github.com/users/Exp-Intro-to-GitHub-Flow-Cohort-1/following{/other_user}\",\"gists_url\":\"https://api.github.com/users/Exp-Intro-to-GitHub-Flow-Cohort-1/gists{/gist_id}\",\"starred_url\":\"https://api.github.com/users/Exp-Intro-to-GitHub-Flow-Cohort-1/starred{/owner}{/repo}\",\"subscriptions_url\":\"https://api.github.com/users/Exp-Intro-to-GitHub-Flow-Cohort-1/subscriptions\",\"organizations_url\":\"https://api.github.com/users/Exp-Intro-to-GitHub-Flow-Cohort-1/orgs\",\"repos_url\":\"https://api.github.com/users/Exp-Intro-to-GitHub-Flow-Cohort-1/repos\",\"events_url\":\"https://api.github.com/users/Exp-Intro-to-GitHub-Flow-Cohort-1/events{/privacy}\",\"received_events_url\":\"https://api.github.com/users/Exp-Intro-to-GitHub-Flow-Cohort-1/received_events\",\"type\":\"Organization\",\"site_admin\":false},\"html_url\":\"https://github.com/Exp-Intro-to-GitHub-Flow-Cohort-1/series-intro-to-github-flow-HridayDev\",\"description\":\"series-intro-to-github-flow-HridayDev created by GitHub Classroom\",\"fork\":false,\"url\":\"https://api.github.com/repos/Exp-Intro-to-GitHub-Flow-Cohort-1/series-intro-to-github-flow-HridayDev\",\"forks_url\":\"https://api.github.com/repos/Exp-Intro-to-GitHub-Flow-Cohort-1/series-intro-to-github-flow-HridayDev/forks\",\"keys_url\":\"https://api.github.com/repos/Exp-Intro-to-GitHub-Flow-Cohort-1/series-intro-to-github-flow-HridayDev/keys{/key_id}\",\"collaborators_url\":\"https://api.github.com/repos/Exp-Intro-to-GitHub-Flow-Cohort-1/series-intro-to-github-flow-HridayDev/collaborators{/collaborator}\",\"teams_url\":\"https://api.github.com/repos/Exp-Intro-to-GitHub-Flow-Cohort-1/series-intro-to-github-flow-HridayDev/teams\",\"hooks_url\":\"https://api.github.com/repos/Exp-Intro-to-GitHub-Flow-Cohort-1/series-intro-to-github-flow-HridayDev/hooks\",\"issue_events_url\":\"https://api.github.com/repos/Exp-Intro-to-GitHub-Flow-Cohort-1/series-intro-to-github-flow-HridayDev/issues/events{/number}\",\"events_url\":\"https://api.github.com/repos/Exp-Intro-to-GitHub-Flow-Cohort-1/series-intro-to-github-flow-HridayDev/events\",\"assignees_url\":\"https://api.github.com/repos/Exp-Intro-to-GitHub-Flow-Cohort-1/series-intro-to-github-flow-HridayDev/assignees{/user}\",\"branches_url\":\"https://api.github.com/repos/Exp-Intro-to-GitHub-Flow-Cohort-1/series-intro-to-github-flow-HridayDev/branches{/branch}\",\"tags_url\":\"https://api.github.com/repos/Exp-Intro-to-GitHub-Flow-Cohort-1/series-intro-to-github-flow-HridayDev/tags\",\"blobs_url\":\"https://api.github.com/repos/Exp-Intro-to-GitHub-Flow-Cohort-1/series-intro-to-github-flow-HridayDev/git/blobs{/sha}\",\"git_tags_url\":\"https://api.github.com/repos/Exp-Intro-to-GitHub-Flow-Cohort-1/series-intro-to-github-flow-HridayDev/git/tags{/sha}\",\"git_refs_url\":\"https://api.github.com/repos/Exp-Intro-to-GitHub-Flow-Cohort-1/series-intro-to-github-flow-HridayDev/git/refs{/sha}\",\"trees_url\":\"https://api.github.com/repos/Exp-Intro-to-GitHub-Flow-Cohort-1/series-intro-to-github-flow-HridayDev/git/trees{/sha}\",\"statuses_url\":\"https://api.github.com/repos/Exp-Intro-to-GitHub-Flow-Cohort-1/series-intro-to-github-flow-HridayDev/statuses/{sha}\",\"languages_url\":\"https://api.github.com/repos/Exp-Intro-to-GitHub-Flow-Cohort-1/series-intro-to-github-flow-HridayDev/languages\",\"stargazers_url\":\"https://api.github.com/repos/Exp-Intro-to-GitHub-Flow-Cohort-1/series-intro-to-github-flow-HridayDev/stargazers\",\"contributors_url\":\"https://api.github.com/repos/Exp-Intro-to-GitHub-Flow-Cohort-1/series-intro-to-github-flow-HridayDev/contributors\",\"subscribers_url\":\"https://api.github.com/repos/Exp-Intro-to-GitHub-Flow-Cohort-1/series-intro-to-github-flow-HridayDev/subscribers\",\"subscription_url\":\"https://api.github.com/repos/Exp-Intro-to-GitHub-Flow-Cohort-1/series-intro-to-github-flow-HridayDev/subscription\",\"commits_url\":\"https://api.github.com/repos/Exp-Intro-to-GitHub-Flow-Cohort-1/series-intro-to-github-flow-HridayDev/commits{/sha}\",\"git_commits_url\":\"https://api.github.com/repos/Exp-Intro-to-GitHub-Flow-Cohort-1/series-intro-to-github-flow-HridayDev/git/commits{/sha}\",\"comments_url\":\"https://api.github.com/repos/Exp-Intro-to-GitHub-Flow-Cohort-1/series-intro-to-github-flow-HridayDev/comments{/number}\",\"issue_comment_url\":\"https://api.github.com/repos/Exp-Intro-to-GitHub-Flow-Cohort-1/series-intro-to-github-flow-HridayDev/issues/comments{/number}\",\"contents_url\":\"https://api.github.com/repos/Exp-Intro-to-GitHub-Flow-Cohort-1/series-intro-to-github-flow-HridayDev/contents/{+path}\",\"compare_url\":\"https://api.github.com/repos/Exp-Intro-to-GitHub-Flow-Cohort-1/series-intro-to-github-flow-HridayDev/compare/{base}...{head}\",\"merges_url\":\"https://api.github.com/repos/Exp-Intro-to-GitHub-Flow-Cohort-1/series-intro-to-github-flow-HridayDev/merges\",\"archive_url\":\"https://api.github.com/repos/Exp-Intro-to-GitHub-Flow-Cohort-1/series-intro-to-github-flow-HridayDev/{archive_format}{/ref}\",\"downloads_url\":\"https://api.github.com/repos/Exp-Intro-to-GitHub-Flow-Cohort-1/series-intro-to-github-flow-HridayDev/downloads\",\"issues_url\":\"https://api.github.com/repos/Exp-Intro-to-GitHub-Flow-Cohort-1/series-intro-to-github-flow-HridayDev/issues{/number}\",\"pulls_url\":\"https://api.github.com/repos/Exp-Intro-to-GitHub-Flow-Cohort-1/series-intro-to-github-flow-HridayDev/pulls{/number}\",\"milestones_url\":\"https://api.github.com/repos/Exp-Intro-to-GitHub-Flow-Cohort-1/series-intro-to-github-flow-HridayDev/milestones{/number}\",\"notifications_url\":\"https://api.github.com/repos/Exp-Intro-to-GitHub-Flow-Cohort-1/series-intro-to-github-flow-HridayDev/notifications{?since,all,participating}\",\"labels_url\":\"https://api.github.com/repos/Exp-Intro-to-GitHub-Flow-Cohort-1/series-intro-to-github-flow-HridayDev/labels{/name}\",\"releases_url\":\"https://api.github.com/repos/Exp-Intro-to-GitHub-Flow-Cohort-1/series-intro-to-github-flow-HridayDev/releases{/id}\",\"deployments_url\":\"https://api.github.com/repos/Exp-Intro-to-GitHub-Flow-Cohort-1/series-intro-to-github-flow-HridayDev/deployments\",\"created_at\":\"2023-08-26T17:07:21Z\",\"updated_at\":\"2023-08-26T17:07:21Z\",\"pushed_at\":\"2023-08-26T17:07:48Z\",\"git_url\":\"git://github.com/Exp-Intro-to-GitHub-Flow-Cohort-1/series-intro-to-github-flow-HridayDev.git\",\"ssh_url\":\"git@github.com:Exp-Intro-to-GitHub-Flow-Cohort-1/series-intro-to-github-flow-HridayDev.git\",\"clone_url\":\"https://github.com/Exp-Intro-to-GitHub-Flow-Cohort-1/series-intro-to-github-flow-HridayDev.git\",\"svn_url\":\"https://github.com/Exp-Intro-to-GitHub-Flow-Cohort-1/series-intro-to-github-flow-HridayDev\",\"homepage\":null,\"size\":0,\"stargazers_count\":0,\"watchers_count\":0,\"language\":null,\"has_issues\":true,\"has_projects\":true,\"has_downloads\":true,\"has_wiki\":true,\"has_pages\":false,\"has_discussions\":false,\"forks_count\":0,\"mirror_url\":null,\"archived\":false,\"disabled\":false,\"open_issues_count\":1,\"license\":{\"key\":\"mit\",\"name\":\"MIT License\",\"spdx_id\":\"MIT\",\"url\":\"https://api.github.com/licenses/mit\",\"node_id\":\"MDc6TGljZW5zZTEz\"},\"allow_forking\":true,\"is_template\":false,\"web_commit_signoff_required\":false,\"topics\":[],\"visibility\":\"public\",\"forks\":0,\"open_issues\":1,\"watchers\":0,\"default_branch\":\"main\"}},\"_links\":{\"self\":{\"href\":\"https://api.github.com/repos/Exp-Intro-to-GitHub-Flow-Cohort-1/series-intro-to-github-flow-HridayDev/pulls/1\"},\"html\":{\"href\":\"https://github.com/Exp-Intro-to-GitHub-Flow-Cohort-1/series-intro-to-github-flow-HridayDev/pull/1\"},\"issue\":{\"href\":\"https://api.github.com/repos/Exp-Intro-to-GitHub-Flow-Cohort-1/series-intro-to-github-flow-HridayDev/issues/1\"},\"comments\":{\"href\":\"https://api.github.com/repos/Exp-Intro-to-GitHub-Flow-Cohort-1/series-intro-to-github-flow-HridayDev/issues/1/comments\"},\"review_comments\":{\"href\":\"https://api.github.com/repos/Exp-Intro-to-GitHub-Flow-Cohort-1/series-intro-to-github-flow-HridayDev/pulls/1/comments\"},\"review_comment\":{\"href\":\"https://api.github.com/repos/Exp-Intro-to-GitHub-Flow-Cohort-1/series-intro-to-github-flow-HridayDev/pulls/comments{/number}\"},\"commits\":{\"href\":\"https://api.github.com/repos/Exp-Intro-to-GitHub-Flow-Cohort-1/series-intro-to-github-flow-HridayDev/pulls/1/commits\"},\"statuses\":{\"href\":\"https://api.github.com/repos/Exp-Intro-to-GitHub-Flow-Cohort-1/series-intro-to-github-flow-HridayDev/statuses/4eccf857b1ece3f1c0f276c17c47352842178a45\"}},\"author_association\":\"NONE\",\"auto_merge\":null,\"active_lock_reason\":null,\"merged\":false,\"mergeable\":null,\"rebaseable\":null,\"mergeable_state\":\"unknown\",\"merged_by\":null,\"comments\":0,\"review_comments\":0,\"maintainer_can_modify\":false,\"commits\":1,\"additions\":1,\"deletions\":1,\"changed_files\":1}},\"public\":true,\"created_at\":\"2023-08-26T17:07:48Z\",\"org\":{\"id\":141875263,\"login\":\"Exp-Intro-to-GitHub-Flow-Cohort-1\",\"gravatar_id\":\"\",\"url\":\"https://api.github.com/orgs/Exp-Intro-to-GitHub-Flow-Cohort-1\",\"avatar_url\":\"https://avatars.githubusercontent.com/u/141875263?\"}},{\"id\":\"31393702291\",\"type\":\"CreateEvent\",\"actor\":{\"id\":107148599,\"login\":\"tf-vcs-testing-staging\",\"display_login\":\"tf-vcs-testing-staging\",\"gravatar_id\":\"\",\"url\":\"https://api.github.com/users/tf-vcs-testing-staging\",\"avatar_url\":\"https://avatars.githubusercontent.com/u/107148599?\"},\"repo\":{\"id\":683468595,\"name\":\"tf-vcs-e2e/e2e-gh-f884ec0b-b583-ab0c-baef-2f3b07e465c9\",\"url\":\"https://api.github.com/repos/tf-vcs-e2e/e2e-gh-f884ec0b-b583-ab0c-baef-2f3b07e465c9\"},\"payload\":{\"ref\":null,\"ref_type\":\"repository\",\"master_branch\":\"main\",\"description\":null,\"pusher_type\":\"user\"},\"public\":true,\"created_at\":\"2023-08-26T17:07:48Z\",\"org\":{\"id\":94930388,\"login\":\"tf-vcs-e2e\",\"gravatar_id\":\"\",\"url\":\"https://api.github.com/orgs/tf-vcs-e2e\",\"avatar_url\":\"https://avatars.githubusercontent.com/u/94930388?\"}},{\"id\":\"31393702294\",\"type\":\"PushEvent\",\"actor\":{\"id\":22331084,\"login\":\"MaksimPegov\",\"display_login\":\"MaksimPegov\",\"gravatar_id\":\"\",\"url\":\"https://api.github.com/users/MaksimPegov\",\"avatar_url\":\"https://avatars.githubusercontent.com/u/22331084?\"},\"repo\":{\"id\":638980785,\"name\":\"MaksimPegov/todo-service\",\"url\":\"https://api.github.com/repos/MaksimPegov/todo-service\"},\"payload\":{\"repository_id\":638980785,\"push_id\":14816511969,\"size\":1,\"distinct_size\":1,\"ref\":\"refs/heads/deployment\",\"head\":\"c380c670cf95b25d4a4b9540a006c330c2896da9\",\"before\":\"e42ff28c5fbc65bae538562402c92545923273df\",\"commits\":[{\"sha\":\"c380c670cf95b25d4a4b9540a006c330c2896da9\",\"author\":{\"email\":\"maksim.peg@gmail.com\",\"name\":\"Maksim Pegov\"},\"message\":\"port changes\",\"distinct\":true,\"url\":\"https://api.github.com/repos/MaksimPegov/todo-service/commits/c380c670cf95b25d4a4b9540a006c330c2896da9\"}]},\"public\":true,\"created_at\":\"2023-08-26T17:07:48Z\"},{\"id\":\"31393702297\",\"type\":\"PushEvent\",\"actor\":{\"id\":41898282,\"login\":\"github-actions[bot]\",\"display_login\":\"github-actions\",\"gravatar_id\":\"\",\"url\":\"https://api.github.com/users/github-actions[bot]\",\"avatar_url\":\"https://avatars.githubusercontent.com/u/41898282?\"},\"repo\":{\"id\":394571444,\"name\":\"bluebot08/bluebot08\",\"url\":\"https://api.github.com/repos/bluebot08/bluebot08\"},\"payload\":{\"repository_id\":394571444,\"push_id\":14816511962,\"size\":1,\"distinct_size\":1,\"ref\":\"refs/heads/main\",\"head\":\"918384674897bbd2f9dc34ed65233dab7edb266a\",\"before\":\"f16f6ad4c8dc61980391ab9cfcdcb00e54de1e7b\",\"commits\":[{\"sha\":\"918384674897bbd2f9dc34ed65233dab7edb266a\",\"author\":{\"email\":\"41898282+github-actions[bot]@users.noreply.github.com\",\"name\":\"github-actions[bot]\"},\"message\":\"Update github-metrics.svg - [Skip GitHub Action]\",\"distinct\":true,\"url\":\"https://api.github.com/repos/bluebot08/bluebot08/commits/918384674897bbd2f9dc34ed65233dab7edb266a\"}]},\"public\":true,\"created_at\":\"2023-08-26T17:07:48Z\"},{\"id\":\"31393702305\",\"type\":\"PullRequestEvent\",\"actor\":{\"id\":121097084,\"login\":\"wolfi-bot\",\"display_login\":\"wolfi-bot\",\"gravatar_id\":\"\",\"url\":\"https://api.github.com/users/wolfi-bot\",\"avatar_url\":\"https://avatars.githubusercontent.com/u/121097084?\"},\"repo\":{\"id\":533917104,\"name\":\"wolfi-dev/os\",\"url\":\"https://api.github.com/repos/wolfi-dev/os\"},\"payload\":{\"action\":\"opened\",\"number\":4840,\"pull_request\":{\"url\":\"https://api.github.com/repos/wolfi-dev/os/pulls/4840\",\"id\":1490717763,\"node_id\":\"PR_kwDOH9LtsM5Y2oxD\",\"html_url\":\"https://github.com/wolfi-dev/os/pull/4840\",\"diff_url\":\"https://github.com/wolfi-dev/os/pull/4840.diff\",\"patch_url\":\"https://github.com/wolfi-dev/os/pull/4840.patch\",\"issue_url\":\"https://api.github.com/repos/wolfi-dev/os/issues/4840\",\"number\":4840,\"state\":\"open\",\"locked\":false,\"title\":\"node-problem-detector/0.8.14 package update\",\"user\":{\"login\":\"wolfi-bot\",\"id\":121097084,\"node_id\":\"U_kgDOBzfLfA\",\"avatar_url\":\"https://avatars.githubusercontent.com/u/121097084?v=4\",\"gravatar_id\":\"\",\"url\":\"https://api.github.com/users/wolfi-bot\",\"html_url\":\"https://github.com/wolfi-bot\",\"followers_url\":\"https://api.github.com/users/wolfi-bot/followers\",\"following_url\":\"https://api.github.com/users/wolfi-bot/following{/other_user}\",\"gists_url\":\"https://api.github.com/users/wolfi-bot/gists{/gist_id}\",\"starred_url\":\"https://api.github.com/users/wolfi-bot/starred{/owner}{/repo}\",\"subscriptions_url\":\"https://api.github.com/users/wolfi-bot/subscriptions\",\"organizations_url\":\"https://api.github.com/users/wolfi-bot/orgs\",\"repos_url\":\"https://api.github.com/users/wolfi-bot/repos\",\"events_url\":\"https://api.github.com/users/wolfi-bot/events{/privacy}\",\"received_events_url\":\"https://api.github.com/users/wolfi-bot/received_events\",\"type\":\"User\",\"site_admin\":false},\"body\":\"\\\\n<p align=\\\\\"center\\\\\">\\\\n  <img src=\\\\\"https://raw.githubusercontent.com/wolfi-dev/.github/b535a42419ce0edb3c144c0edcff55a62b8ec1f8/profile/wolfi-logo-light-mode.svg\\\\\" />\\\\n</p>\\\\n\",\"created_at\":\"2023-08-26T17:07:47Z\",\"updated_at\":\"2023-08-26T17:07:48Z\",\"closed_at\":null,\"merged_at\":null,\"merge_commit_sha\":null,\"assignee\":null,\"assignees\":[],\"requested_reviewers\":[],\"requested_teams\":[{\"name\":\"Wolfi repository maintainers\",\"id\":7031670,\"node_id\":\"T_kwDOBruvKs4Aa0t2\",\"slug\":\"wolfi-repository-maintainers\",\"description\":\"\",\"privacy\":\"closed\",\"notification_setting\":\"notifications_enabled\",\"url\":\"https://api.github.com/organizations/112963370/team/7031670\",\"html_url\":\"https://github.com/orgs/wolfi-dev/teams/wolfi-repository-maintainers\",\"members_url\":\"https://api.github.com/organizations/112963370/team/7031670/members{/member}\",\"repositories_url\":\"https://api.github.com/organizations/112963370/team/7031670/repos\",\"permission\":\"pull\",\"parent\":null}],\"labels\":[],\"milestone\":null,\"draft\":false,\"commits_url\":\"https://api.github.com/repos/wolfi-dev/os/pulls/4840/commits\",\"review_comments_url\":\"https://api.github.com/repos/wolfi-dev/os/pulls/4840/comments\",\"review_comment_url\":\"https://api.github.com/repos/wolfi-dev/os/pulls/comments{/number}\",\"comments_url\":\"https://api.github.com/repos/wolfi-dev/os/issues/4840/comments\",\"statuses_url\":\"https://api.github.com/repos/wolfi-dev/os/statuses/4a0e9354ad30ae1439b0e0117e3fd316ec111187\",\"head\":{\"label\":\"wolfi-dev:wolfictl-506234be-1787-4987-abe3-6578c85b58fe\",\"ref\":\"wolfictl-506234be-1787-4987-abe3-6578c85b58fe\",\"sha\":\"4a0e9354ad30ae1439b0e0117e3fd316ec111187\",\"user\":{\"login\":\"wolfi-dev\",\"id\":112963370,\"node_id\":\"O_kgDOBruvKg\",\"avatar_url\":\"https://avatars.githubusercontent.com/u/112963370?v=4\",\"gravatar_id\":\"\",\"url\":\"https://api.github.com/users/wolfi-dev\",\"html_url\":\"https://github.com/wolfi-dev\",\"followers_url\":\"https://api.github.com/users/wolfi-dev/followers\",\"following_url\":\"https://api.github.com/users/wolfi-dev/following{/other_user}\",\"gists_url\":\"https://api.github.com/users/wolfi-dev/gists{/gist_id}\",\"starred_url\":\"https://api.github.com/users/wolfi-dev/starred{/owner}{/repo}\",\"subscriptions_url\":\"https://api.github.com/users/wolfi-dev/subscriptions\",\"organizations_url\":\"https://api.github.com/users/wolfi-dev/orgs\",\"repos_url\":\"https://api.github.com/users/wolfi-dev/repos\",\"events_url\":\"https://api.github.com/users/wolfi-dev/events{/privacy}\",\"received_events_url\":\"https://api.github.com/users/wolfi-dev/received_events\",\"type\":\"Organization\",\"site_admin\":false},\"repo\":{\"id\":533917104,\"node_id\":\"R_kgDOH9LtsA\",\"name\":\"os\",\"full_name\":\"wolfi-dev/os\",\"private\":false,\"owner\":{\"login\":\"wolfi-dev\",\"id\":112963370,\"node_id\":\"O_kgDOBruvKg\",\"avatar_url\":\"https://avatars.githubusercontent.com/u/112963370?v=4\",\"gravatar_id\":\"\",\"url\":\"https://api.github.com/users/wolfi-dev\",\"html_url\":\"https://github.com/wolfi-dev\",\"followers_url\":\"https://api.github.com/users/wolfi-dev/followers\",\"following_url\":\"https://api.github.com/users/wolfi-dev/following{/other_user}\",\"gists_url\":\"https://api.github.com/users/wolfi-dev/gists{/gist_id}\",\"starred_url\":\"https://api.github.com/users/wolfi-dev/starred{/owner}{/repo}\",\"subscriptions_url\":\"https://api.github.com/users/wolfi-dev/subscriptions\",\"organizations_url\":\"https://api.github.com/users/wolfi-dev/orgs\",\"repos_url\":\"https://api.github.com/users/wolfi-dev/repos\",\"events_url\":\"https://api.github.com/users/wolfi-dev/events{/privacy}\",\"received_events_url\":\"https://api.github.com/users/wolfi-dev/received_events\",\"type\":\"Organization\",\"site_admin\":false},\"html_url\":\"https://github.com/wolfi-dev/os\",\"description\":\"Main package repository for production Wolfi images\",\"fork\":false,\"url\":\"https://api.github.com/repos/wolfi-dev/os\",\"forks_url\":\"https://api.github.com/repos/wolfi-dev/os/forks\",\"keys_url\":\"https://api.github.com/repos/wolfi-dev/os/keys{/key_id}\",\"collaborators_url\":\"https://api.github.com/repos/wolfi-dev/os/collaborators{/collaborator}\",\"teams_url\":\"https://api.github.com/repos/wolfi-dev/os/teams\",\"hooks_url\":\"https://api.github.com/repos/wolfi-dev/os/hooks\",\"issue_events_url\":\"https://api.github.com/repos/wolfi-dev/os/issues/events{/number}\",\"events_url\":\"https://api.github.com/repos/wolfi-dev/os/events\",\"assignees_url\":\"https://api.github.com/repos/wolfi-dev/os/assignees{/user}\",\"branches_url\":\"https://api.github.com/repos/wolfi-dev/os/branches{/branch}\",\"tags_url\":\"https://api.github.com/repos/wolfi-dev/os/tags\",\"blobs_url\":\"https://api.github.com/repos/wolfi-dev/os/git/blobs{/sha}\",\"git_tags_url\":\"https://api.github.com/repos/wolfi-dev/os/git/tags{/sha}\",\"git_refs_url\":\"https://api.github.com/repos/wolfi-dev/os/git/refs{/sha}\",\"trees_url\":\"https://api.github.com/repos/wolfi-dev/os/git/trees{/sha}\",\"statuses_url\":\"https://api.github.com/repos/wolfi-dev/os/statuses/{sha}\",\"languages_url\":\"https://api.github.com/repos/wolfi-dev/os/languages\",\"stargazers_url\":\"https://api.github.com/repos/wolfi-dev/os/stargazers\",\"contributors_url\":\"https://api.github.com/repos/wolfi-dev/os/contributors\",\"subscribers_url\":\"https://api.github.com/repos/wolfi-dev/os/subscribers\",\"subscription_url\":\"https://api.github.com/repos/wolfi-dev/os/subscription\",\"commits_url\":\"https://api.github.com/repos/wolfi-dev/os/commits{/sha}\",\"git_commits_url\":\"https://api.github.com/repos/wolfi-dev/os/git/commits{/sha}\",\"comments_url\":\"https://api.github.com/repos/wolfi-dev/os/comments{/number}\",\"issue_comment_url\":\"https://api.github.com/repos/wolfi-dev/os/issues/comments{/number}\",\"contents_url\":\"https://api.github.com/repos/wolfi-dev/os/contents/{+path}\",\"compare_url\":\"https://api.github.com/repos/wolfi-dev/os/compare/{base}...{head}\",\"merges_url\":\"https://api.github.com/repos/wolfi-dev/os/merges\",\"archive_url\":\"https://api.github.com/repos/wolfi-dev/os/{archive_format}{/ref}\",\"downloads_url\":\"https://api.github.com/repos/wolfi-dev/os/downloads\",\"issues_url\":\"https://api.github.com/repos/wolfi-dev/os/issues{/number}\",\"pulls_url\":\"https://api.github.com/repos/wolfi-dev/os/pulls{/number}\",\"milestones_url\":\"https://api.github.com/repos/wolfi-dev/os/milestones{/number}\",\"notifications_url\":\"https://api.github.com/repos/wolfi-dev/os/notifications{?since,all,participating}\",\"labels_url\":\"https://api.github.com/repos/wolfi-dev/os/labels{/name}\",\"releases_url\":\"https://api.github.com/repos/wolfi-dev/os/releases{/id}\",\"deployments_url\":\"https://api.github.com/repos/wolfi-dev/os/deployments\",\"created_at\":\"2022-09-07T19:46:09Z\",\"updated_at\":\"2023-08-25T08:10:53Z\",\"pushed_at\":\"2023-08-26T17:07:48Z\",\"git_url\":\"git://github.com/wolfi-dev/os.git\",\"ssh_url\":\"git@github.com:wolfi-dev/os.git\",\"clone_url\":\"https://github.com/wolfi-dev/os.git\",\"svn_url\":\"https://github.com/wolfi-dev/os\",\"homepage\":\"\",\"size\":25637,\"stargazers_count\":486,\"watchers_count\":486,\"language\":\"Shell\",\"has_issues\":true,\"has_projects\":true,\"has_downloads\":true,\"has_wiki\":true,\"has_pages\":false,\"has_discussions\":true,\"forks_count\":82,\"mirror_url\":null,\"archived\":false,\"disabled\":false,\"open_issues_count\":128,\"license\":{\"key\":\"other\",\"name\":\"Other\",\"spdx_id\":\"NOASSERTION\",\"url\":null,\"node_id\":\"MDc6TGljZW5zZTA=\"},\"allow_forking\":true,\"is_template\":false,\"web_commit_signoff_required\":true,\"topics\":[\"wolfi\"],\"visibility\":\"public\",\"forks\":82,\"open_issues\":128,\"watchers\":486,\"default_branch\":\"main\"}},\"base\":{\"label\":\"wolfi-dev:main\",\"ref\":\"main\",\"sha\":\"e5764ec44f2818c8a2378fb83ebf7e7f2e26fe7e\",\"user\":{\"login\":\"wolfi-dev\",\"id\":112963370,\"node_id\":\"O_kgDOBruvKg\",\"avatar_url\":\"https://avatars.githubusercontent.com/u/112963370?v=4\",\"gravatar_id\":\"\",\"url\":\"https://api.github.com/users/wolfi-dev\",\"html_url\":\"https://github.com/wolfi-dev\",\"followers_url\":\"https://api.github.com/users/wolfi-dev/followers\",\"following_url\":\"https://api.github.com/users/wolfi-dev/following{/other_user}\",\"gists_url\":\"https://api.github.com/users/wolfi-dev/gists{/gist_id}\",\"starred_url\":\"https://api.github.com/users/wolfi-dev/starred{/owner}{/repo}\",\"subscriptions_url\":\"https://api.github.com/users/wolfi-dev/subscriptions\",\"organizations_url\":\"https://api.github.com/users/wolfi-dev/orgs\",\"repos_url\":\"https://api.github.com/users/wolfi-dev/repos\",\"events_url\":\"https://api.github.com/users/wolfi-dev/events{/privacy}\",\"received_events_url\":\"https://api.github.com/users/wolfi-dev/received_events\",\"type\":\"Organization\",\"site_admin\":false},\"repo\":{\"id\":533917104,\"node_id\":\"R_kgDOH9LtsA\",\"name\":\"os\",\"full_name\":\"wolfi-dev/os\",\"private\":false,\"owner\":{\"login\":\"wolfi-dev\",\"id\":112963370,\"node_id\":\"O_kgDOBruvKg\",\"avatar_url\":\"https://avatars.githubusercontent.com/u/112963370?v=4\",\"gravatar_id\":\"\",\"url\":\"https://api.github.com/users/wolfi-dev\",\"html_url\":\"https://github.com/wolfi-dev\",\"followers_url\":\"https://api.github.com/users/wolfi-dev/followers\",\"following_url\":\"https://api.github.com/users/wolfi-dev/following{/other_user}\",\"gists_url\":\"https://api.github.com/users/wolfi-dev/gists{/gist_id}\",\"starred_url\":\"https://api.github.com/users/wolfi-dev/starred{/owner}{/repo}\",\"subscriptions_url\":\"https://api.github.com/users/wolfi-dev/subscriptions\",\"organizations_url\":\"https://api.github.com/users/wolfi-dev/orgs\",\"repos_url\":\"https://api.github.com/users/wolfi-dev/repos\",\"events_url\":\"https://api.github.com/users/wolfi-dev/events{/privacy}\",\"received_events_url\":\"https://api.github.com/users/wolfi-dev/received_events\",\"type\":\"Organization\",\"site_admin\":false},\"html_url\":\"https://github.com/wolfi-dev/os\",\"description\":\"Main package repository for production Wolfi images\",\"fork\":false,\"url\":\"https://api.github.com/repos/wolfi-dev/os\",\"forks_url\":\"https://api.github.com/repos/wolfi-dev/os/forks\",\"keys_url\":\"https://api.github.com/repos/wolfi-dev/os/keys{/key_id}\",\"collaborators_url\":\"https://api.github.com/repos/wolfi-dev/os/collaborators{/collaborator}\",\"teams_url\":\"https://api.github.com/repos/wolfi-dev/os/teams\",\"hooks_url\":\"https://api.github.com/repos/wolfi-dev/os/hooks\",\"issue_events_url\":\"https://api.github.com/repos/wolfi-dev/os/issues/events{/number}\",\"events_url\":\"https://api.github.com/repos/wolfi-dev/os/events\",\"assignees_url\":\"https://api.github.com/repos/wolfi-dev/os/assignees{/user}\",\"branches_url\":\"https://api.github.com/repos/wolfi-dev/os/branches{/branch}\",\"tags_url\":\"https://api.github.com/repos/wolfi-dev/os/tags\",\"blobs_url\":\"https://api.github.com/repos/wolfi-dev/os/git/blobs{/sha}\",\"git_tags_url\":\"https://api.github.com/repos/wolfi-dev/os/git/tags{/sha}\",\"git_refs_url\":\"https://api.github.com/repos/wolfi-dev/os/git/refs{/sha}\",\"trees_url\":\"https://api.github.com/repos/wolfi-dev/os/git/trees{/sha}\",\"statuses_url\":\"https://api.github.com/repos/wolfi-dev/os/statuses/{sha}\",\"languages_url\":\"https://api.github.com/repos/wolfi-dev/os/languages\",\"stargazers_url\":\"https://api.github.com/repos/wolfi-dev/os/stargazers\",\"contributors_url\":\"https://api.github.com/repos/wolfi-dev/os/contributors\",\"subscribers_url\":\"https://api.github.com/repos/wolfi-dev/os/subscribers\",\"subscription_url\":\"https://api.github.com/repos/wolfi-dev/os/subscription\",\"commits_url\":\"https://api.github.com/repos/wolfi-dev/os/commits{/sha}\",\"git_commits_url\":\"https://api.github.com/repos/wolfi-dev/os/git/commits{/sha}\",\"comments_url\":\"https://api.github.com/repos/wolfi-dev/os/comments{/number}\",\"issue_comment_url\":\"https://api.github.com/repos/wolfi-dev/os/issues/comments{/number}\",\"contents_url\":\"https://api.github.com/repos/wolfi-dev/os/contents/{+path}\",\"compare_url\":\"https://api.github.com/repos/wolfi-dev/os/compare/{base}...{head}\",\"merges_url\":\"https://api.github.com/repos/wolfi-dev/os/merges\",\"archive_url\":\"https://api.github.com/repos/wolfi-dev/os/{archive_format}{/ref}\",\"downloads_url\":\"https://api.github.com/repos/wolfi-dev/os/downloads\",\"issues_url\":\"https://api.github.com/repos/wolfi-dev/os/issues{/number}\",\"pulls_url\":\"https://api.github.com/repos/wolfi-dev/os/pulls{/number}\",\"milestones_url\":\"https://api.github.com/repos/wolfi-dev/os/milestones{/number}\",\"notifications_url\":\"https://api.github.com/repos/wolfi-dev/os/notifications{?since,all,participating}\",\"labels_url\":\"https://api.github.com/repos/wolfi-dev/os/labels{/name}\",\"releases_url\":\"https://api.github.com/repos/wolfi-dev/os/releases{/id}\",\"deployments_url\":\"https://api.github.com/repos/wolfi-dev/os/deployments\",\"created_at\":\"2022-09-07T19:46:09Z\",\"updated_at\":\"2023-08-25T08:10:53Z\",\"pushed_at\":\"2023-08-26T17:07:48Z\",\"git_url\":\"git://github.com/wolfi-dev/os.git\",\"ssh_url\":\"git@github.com:wolfi-dev/os.git\",\"clone_url\":\"https://github.com/wolfi-dev/os.git\",\"svn_url\":\"https://github.com/wolfi-dev/os\",\"homepage\":\"\",\"size\":25637,\"stargazers_count\":486,\"watchers_count\":486,\"language\":\"Shell\",\"has_issues\":true,\"has_projects\":true,\"has_downloads\":true,\"has_wiki\":true,\"has_pages\":false,\"has_discussions\":true,\"forks_count\":82,\"mirror_url\":null,\"archived\":false,\"disabled\":false,\"open_issues_count\":128,\"license\":{\"key\":\"other\",\"name\":\"Other\",\"spdx_id\":\"NOASSERTION\",\"url\":null,\"node_id\":\"MDc6TGljZW5zZTA=\"},\"allow_forking\":true,\"is_template\":false,\"web_commit_signoff_required\":true,\"topics\":[\"wolfi\"],\"visibility\":\"public\",\"forks\":82,\"open_issues\":128,\"watchers\":486,\"default_branch\":\"main\"}},\"_links\":{\"self\":{\"href\":\"https://api.github.com/repos/wolfi-dev/os/pulls/4840\"},\"html\":{\"href\":\"https://github.com/wolfi-dev/os/pull/4840\"},\"issue\":{\"href\":\"https://api.github.com/repos/wolfi-dev/os/issues/4840\"},\"comments\":{\"href\":\"https://api.github.com/repos/wolfi-dev/os/issues/4840/comments\"},\"review_comments\":{\"href\":\"https://api.github.com/repos/wolfi-dev/os/pulls/4840/comments\"},\"review_comment\":{\"href\":\"https://api.github.com/repos/wolfi-dev/os/pulls/comments{/number}\"},\"commits\":{\"href\":\"https://api.github.com/repos/wolfi-dev/os/pulls/4840/commits\"},\"statuses\":{\"href\":\"https://api.github.com/repos/wolfi-dev/os/statuses/4a0e9354ad30ae1439b0e0117e3fd316ec111187\"}},\"author_association\":\"CONTRIBUTOR\",\"auto_merge\":null,\"active_lock_reason\":null,\"merged\":false,\"mergeable\":null,\"rebaseable\":null,\"mergeable_state\":\"unknown\",\"merged_by\":null,\"comments\":0,\"review_comments\":0,\"maintainer_can_modify\":false,\"commits\":1,\"additions\":3,\"deletions\":3,\"changed_files\":1}},\"public\":true,\"created_at\":\"2023-08-26T17:07:48Z\",\"org\":{\"id\":112963370,\"login\":\"wolfi-dev\",\"gravatar_id\":\"\",\"url\":\"https://api.github.com/orgs/wolfi-dev\",\"avatar_url\":\"https://avatars.githubusercontent.com/u/112963370?\"}},{\"id\":\"31393702306\",\"type\":\"CreateEvent\",\"actor\":{\"id\":10810283,\"login\":\"direwolf-github\",\"display_login\":\"direwolf-github\",\"gravatar_id\":\"\",\"url\":\"https://api.github.com/users/direwolf-github\",\"avatar_url\":\"https://avatars.githubusercontent.com/u/10810283?\"},\"repo\":{\"id\":683468576,\"name\":\"direwolf-github/ephemeral-ci-cfd47fbe\",\"url\":\"https://api.github.com/repos/direwolf-github/ephemeral-ci-cfd47fbe\"},\"payload\":{\"ref\":\"master\",\"ref_type\":\"branch\",\"master_branch\":\"master\",\"description\":null,\"pusher_type\":\"user\"},\"public\":true,\"created_at\":\"2023-08-26T17:07:48Z\"},{\"id\":\"31393702288\",\"type\":\"CreateEvent\",\"actor\":{\"id\":10810283,\"login\":\"direwolf-github\",\"display_login\":\"direwolf-github\",\"gravatar_id\":\"\",\"url\":\"https://api.github.com/users/direwolf-github\",\"avatar_url\":\"https://avatars.githubusercontent.com/u/10810283?\"},\"repo\":{\"id\":683468581,\"name\":\"direwolf-github/ephemeral-ci-286e5bfb\",\"url\":\"https://api.github.com/repos/direwolf-github/ephemeral-ci-286e5bfb\"},\"payload\":{\"ref\":\"master\",\"ref_type\":\"branch\",\"master_branch\":\"master\",\"description\":null,\"pusher_type\":\"user\"},\"public\":true,\"created_at\":\"2023-08-26T17:07:48Z\"},{\"id\":\"31393702293\",\"type\":\"PushEvent\",\"actor\":{\"id\":127470787,\"login\":\"Ruid-AI\",\"display_login\":\"Ruid-AI\",\"gravatar_id\":\"\",\"url\":\"https://api.github.com/users/Ruid-AI\",\"avatar_url\":\"https://avatars.githubusercontent.com/u/127470787?\"},\"repo\":{\"id\":667224559,\"name\":\"Ruid-AI/Fast\",\"url\":\"https://api.github.com/repos/Ruid-AI/Fast\"},\"payload\":{\"repository_id\":667224559,\"push_id\":14816511959,\"size\":1,\"distinct_size\":1,\"ref\":\"refs/heads/master\",\"head\":\"cb764fb747402676e8672ab339d298794365ce78\",\"before\":\"645d20d439897797ca28f64907cbab073e55b559\",\"commits\":[{\"sha\":\"cb764fb747402676e8672ab339d298794365ce78\",\"author\":{\"email\":\"127470787+Ruid-AI@users.noreply.github.com\",\"name\":\"Ruid-AI\"},\"message\":\"Update chat_gpt_bot.py\",\"distinct\":true,\"url\":\"https://api.github.com/repos/Ruid-AI/Fast/commits/cb764fb747402676e8672ab339d298794365ce78\"}]},\"public\":true,\"created_at\":\"2023-08-26T17:07:48Z\"},{\"id\":\"31393702296\",\"type\":\"PushEvent\",\"actor\":{\"id\":49793724,\"login\":\"MandarinSmell\",\"display_login\":\"MandarinSmell\",\"gravatar_id\":\"\",\"url\":\"https://api.github.com/users/MandarinSmell\",\"avatar_url\":\"https://avatars.githubusercontent.com/u/49793724?\"},\"repo\":{\"id\":193132482,\"name\":\"battlecatsultimate/BCU_java_util_common\",\"url\":\"https://api.github.com/repos/battlecatsultimate/BCU_java_util_common\"},\"payload\":{\"repository_id\":193132482,\"push_id\":14816511960,\"size\":1,\"distinct_size\":1,\"ref\":\"refs/heads/slow_kotlin\",\"head\":\"3532cd1da5b88eba338df05736eb4438e16a6797\",\"before\":\"4c5b85a5c4b7a832860d1032c6b7361f7eaa0bbb\",\"commits\":[{\"sha\":\"3532cd1da5b88eba338df05736eb4438e16a6797\",\"author\":{\"email\":\"49793724+MandarinSmell@users.noreply.github.com\",\"name\":\"MandarinSmell\"},\"message\":\"separate 60fps mode for animation and battle\",\"distinct\":true,\"url\":\"https://api.github.com/repos/battlecatsultimate/BCU_java_util_common/commits/3532cd1da5b88eba338df05736eb4438e16a6797\"}]},\"public\":true,\"created_at\":\"2023-08-26T17:07:48Z\",\"org\":{\"id\":50503903,\"login\":\"battlecatsultimate\",\"gravatar_id\":\"\",\"url\":\"https://api.github.com/orgs/battlecatsultimate\",\"avatar_url\":\"https://avatars.githubusercontent.com/u/50503903?\"}},{\"id\":\"31393702278\",\"type\":\"PushEvent\",\"actor\":{\"id\":25008934,\"login\":\"pengxurui\",\"display_login\":\"pengxurui\",\"gravatar_id\":\"\",\"url\":\"https://api.github.com/users/pengxurui\",\"avatar_url\":\"https://avatars.githubusercontent.com/u/25008934?\"},\"repo\":{\"id\":351810459,\"name\":\"pengxurui/AlgorithmPractice\",\"url\":\"https://api.github.com/repos/pengxurui/AlgorithmPractice\"},\"payload\":{\"repository_id\":351810459,\"push_id\":14816511953,\"size\":1,\"distinct_size\":1,\"ref\":\"refs/heads/main\",\"head\":\"a59c6a745ca6409e93213356adc1552c188732ef\",\"before\":\"aead98fd7850a69bcde48662138ff080742e860f\",\"commits\":[{\"sha\":\"a59c6a745ca6409e93213356adc1552c188732ef\",\"author\":{\"email\":\"809072649@qq.com\",\"name\":\"彭旭锐\"},\"message\":\"Update 0056. 合并区间.md\",\"distinct\":true,\"url\":\"https://api.github.com/repos/pengxurui/AlgorithmPractice/commits/a59c6a745ca6409e93213356adc1552c188732ef\"}]},\"public\":true,\"created_at\":\"2023-08-26T17:07:48Z\"},{\"id\":\"31393702290\",\"type\":\"PullRequestReviewEvent\",\"actor\":{\"id\":194984,\"login\":\"sideshowbarker\",\"display_login\":\"sideshowbarker\",\"gravatar_id\":\"\",\"url\":\"https://api.github.com/users/sideshowbarker\",\"avatar_url\":\"https://avatars.githubusercontent.com/u/194984?\"},\"repo\":{\"id\":320636477,\"name\":\"WebKit/WebKit\",\"url\":\"https://api.github.com/repos/WebKit/WebKit\"},\"payload\":{\"action\":\"created\",\"review\":{\"id\":1596954691,\"node_id\":\"PRR_kwDOExyGPc5fL5hD\",\"user\":{\"login\":\"sideshowbarker\",\"id\":194984,\"node_id\":\"MDQ6VXNlcjE5NDk4NA==\",\"avatar_url\":\"https://avatars.githubusercontent.com/u/194984?v=4\",\"gravatar_id\":\"\",\"url\":\"https://api.github.com/users/sideshowbarker\",\"html_url\":\"https://github.com/sideshowbarker\",\"followers_url\":\"https://api.github.com/users/sideshowbarker/followers\",\"following_url\":\"https://api.github.com/users/sideshowbarker/following{/other_user}\",\"gists_url\":\"https://api.github.com/users/sideshowbarker/gists{/gist_id}\",\"starred_url\":\"https://api.github.com/users/sideshowbarker/starred{/owner}{/repo}\",\"subscriptions_url\":\"https://api.github.com/users/sideshowbarker/subscriptions\",\"organizations_url\":\"https://api.github.com/users/sideshowbarker/orgs\",\"repos_url\":\"https://api.github.com/users/sideshowbarker/repos\",\"events_url\":\"https://api.github.com/users/sideshowbarker/events{/privacy}\",\"received_events_url\":\"https://api.github.com/users/sideshowbarker/received_events\",\"type\":\"User\",\"site_admin\":false},\"body\":null,\"commit_id\":\"98d3a8b3ec260fe52b57487458e6b35b58fc9961\",\"submitted_at\":\"2023-08-26T17:07:47Z\",\"state\":\"commented\",\"html_url\":\"https://github.com/WebKit/WebKit/pull/17106#pullrequestreview-1596954691\",\"pull_request_url\":\"https://api.github.com/repos/WebKit/WebKit/pulls/17106\",\"author_association\":\"CONTRIBUTOR\",\"_links\":{\"html\":{\"href\":\"https://github.com/WebKit/WebKit/pull/17106#pullrequestreview-1596954691\"},\"pull_request\":{\"href\":\"https://api.github.com/repos/WebKit/WebKit/pulls/17106\"}}},\"pull_request\":{\"url\":\"https://api.github.com/repos/WebKit/WebKit/pulls/17106\",\"id\":1490707700,\"node_id\":\"PR_kwDOExyGPc5Y2mT0\",\"html_url\":\"https://github.com/WebKit/WebKit/pull/17106\",\"diff_url\":\"https://github.com/WebKit/WebKit/pull/17106.diff\",\"patch_url\":\"https://github.com/WebKit/WebKit/pull/17106.patch\",\"issue_url\":\"https://api.github.com/repos/WebKit/WebKit/issues/17106\",\"number\":17106,\"state\":\"open\",\"locked\":false,\"title\":\"Don’t open “details” when interacting with interactive “summary” descendants\",\"user\":{\"login\":\"sideshowbarker\",\"id\":194984,\"node_id\":\"MDQ6VXNlcjE5NDk4NA==\",\"avatar_url\":\"https://avatars.githubusercontent.com/u/194984?v=4\",\"gravatar_id\":\"\",\"url\":\"https://api.github.com/users/sideshowbarker\",\"html_url\":\"https://github.com/sideshowbarker\",\"followers_url\":\"https://api.github.com/users/sideshowbarker/followers\",\"following_url\":\"https://api.github.com/users/sideshowbarker/following{/other_user}\",\"gists_url\":\"https://api.github.com/users/sideshowbarker/gists{/gist_id}\",\"starred_url\":\"https://api.github.com/users/sideshowbarker/starred{/owner}{/repo}\",\"subscriptions_url\":\"https://api.github.com/users/sideshowbarker/subscriptions\",\"organizations_url\":\"https://api.github.com/users/sideshowbarker/orgs\",\"repos_url\":\"https://api.github.com/users/sideshowbarker/repos\",\"events_url\":\"https://api.github.com/users/sideshowbarker/events{/privacy}\",\"received_events_url\":\"https://api.github.com/users/sideshowbarker/received_events\",\"type\":\"User\",\"site_admin\":false},\"body\":\"#### 98d3a8b3ec260fe52b57487458e6b35b58fc9961\\\\n<pre>\\\\nDon’t open “details” when interacting with interactive “summary” descendants\\\\n<a href=\\\\\"https://bugs.webkit.org/show_bug.cgi?id=218758\\\\\">https://bugs.webkit.org/show_bug.cgi?id=218758</a>\\\\n\\\\nReviewed by NOBODY (OOPS!).\\\\n\\\\nThis change ensures that interacting with (clicking/pressing/etc.) any\\\\ninteractive descendants of a “summary” element will trigger the\\\\nactivation behavior of those descendants themselves — rather than\\\\ninstead triggering the “summary” element’s “details” parent to open.\\\\n\\\\nOtherwise, without this change, the activation behavior of interactive\\\\ncontent within a “summary” element will get triggered only if that\\\\ninteractive content is a direct child of the “summary” element.\\\\n\\\\n* LayoutTests/TestExpectations:\\\\n* LayoutTests/imported/w3c/web-platform-tests/html/semantics/interactive-elements/the-summary-element/anchor-with-inline-element-expected.txt:\\\\n* Source/WebCore/html/HTMLSummaryElement.cpp:\\\\n(WebCore::isClickableControl):\\\\n</pre><!--EWS-Status-Bubble-Start-->\\\\nhttps://github.com/WebKit/WebKit/commit/c3f8a5717793e32623586ceed677a7d53640c1f9\\\\n\\\\n| Misc | iOS, tvOS & watchOS  | macOS  | Linux |  Windows |\\\\n| ----- | ---------------------- | ------- |  ----- |  --------- |\\\\n| [✅ 🧪 style](https://ews-build.webkit.org/#/builders/38/builds/16302 \\\\\"Passed style check\\\\\") | [![loading](https://user-images.githubusercontent.com/3098702/171232313-daa606f1-8fd6-4b0f-a20b-2cb93c43d19b.png) 🛠 ios](https://ews-build.webkit.org/#/builders/26/builds/16621 \\\\\"Build is in progress. Recent messages:OS: Ventura (13.4.1), Xcode: 14.3; Skipping applying patch since patch_id isn\\'t provided; Checked out pull request; Running compile-webkit\\\\\") | [![loading](https://user-images.githubusercontent.com/3098702/171232313-daa606f1-8fd6-4b0f-a20b-2cb93c43d19b.png) 🛠 mac](https://ews-build.webkit.org/#/builders/14/builds/17042 \\\\\"Build is in progress. Recent messages:OS: Monterey (12.6.8), Xcode: 13.4.1; Skipping applying patch since patch_id isn\\'t provided; Checked out pull request; Running compile-webkit\\\\\") | [![loading](https://user-images.githubusercontent.com/3098702/171232313-daa606f1-8fd6-4b0f-a20b-2cb93c43d19b.png) 🛠 wpe](https://ews-build.webkit.org/#/builders/5/builds/18070 \\\\\"Build is in progress. Recent messages:Failed to print configuration; Skipping applying patch since patch_id isn\\'t provided; Checked out pull request; Running compile-webkit\\\\\") | [![loading](https://user-images.githubusercontent.com/3098702/171232313-daa606f1-8fd6-4b0f-a20b-2cb93c43d19b.png) 🛠 wincairo](https://ews-build.webkit.org/#/builders/32/builds/15289 \\\\\"Build is in progress. Recent messages:Printed configuration; Skipping applying patch since patch_id isn\\'t provided; Checked out pull request; Running compile-webkit\\\\\") \\\\n| [![loading](https://user-images.githubusercontent.com/3098702/171232313-daa606f1-8fd6-4b0f-a20b-2cb93c43d19b.png) 🧪 bindings](https://ews-build.webkit.org/#/builders/9/builds/16491 \\\\\"Build is in progress. Recent messages:OS: Unknown (10.15.7), Xcode: 11.7; Skipping applying patch since patch_id isn\\'t provided; Checked out pull request; Running bindings-tests\\\\\") | [![loading](https://user-images.githubusercontent.com/3098702/171232313-daa606f1-8fd6-4b0f-a20b-2cb93c43d19b.png) 🛠 ios-sim](https://ews-build.webkit.org/#/builders/23/builds/19705 \\\\\"Build is in progress. Recent messages:OS: Ventura (13.4.1), Xcode: 14.3\\\\\") | [![loading](https://user-images.githubusercontent.com/3098702/171232313-daa606f1-8fd6-4b0f-a20b-2cb93c43d19b.png) 🛠 mac-AS-debug](https://ews-build.webkit.org/#/builders/16/builds/16739 \\\\\"Build is in progress. Recent messages:OS: Ventura (13.4.1), Xcode: 14.3; Skipping applying patch since patch_id isn\\'t provided; Checked out pull request; Running compile-webkit\\\\\") | [![loading](https://user-images.githubusercontent.com/3098702/171232313-daa606f1-8fd6-4b0f-a20b-2cb93c43d19b.png) 🧪 wpe-wk2](https://ews-build.webkit.org/#/builders/5/builds/18070 \\\\\"Build is in progress. Recent messages:Failed to print configuration; Skipping applying patch since patch_id isn\\'t provided; Checked out pull request; Running compile-webkit\\\\\") | \\\\n| [✅ 🧪 webkitperl](https://ews-build.webkit.org/#/builders/11/builds/16496 \\\\\"Passed tests\\\\\") | [![loading](https://user-images.githubusercontent.com/3098702/171232313-daa606f1-8fd6-4b0f-a20b-2cb93c43d19b.png) 🧪 ios-wk2](https://ews-build.webkit.org/#/builders/23/builds/19705 \\\\\"Build is in progress. Recent messages:OS: Ventura (13.4.1), Xcode: 14.3\\\\\") | [![loading](https://user-images.githubusercontent.com/3098702/171232313-daa606f1-8fd6-4b0f-a20b-2cb93c43d19b.png) 🧪 api-mac](https://ews-build.webkit.org/#/builders/14/builds/17042 \\\\\"Build is in progress. Recent messages:OS: Monterey (12.6.8), Xcode: 13.4.1; Skipping applying patch since patch_id isn\\'t provided; Checked out pull request; Running compile-webkit\\\\\") | [✅ 🛠 gtk](https://ews-build.webkit.org/#/builders/2/builds/18837 \\\\\"Built successfully\\\\\") | \\\\n| | [![loading](https://user-images.githubusercontent.com/3098702/171232313-daa606f1-8fd6-4b0f-a20b-2cb93c43d19b.png) 🧪 ios-wk2-wpt](https://ews-build.webkit.org/#/builders/23/builds/19705 \\\\\"Build is in progress. Recent messages:OS: Ventura (13.4.1), Xcode: 14.3\\\\\") | [![loading](https://user-images.githubusercontent.com/3098702/171232313-daa606f1-8fd6-4b0f-a20b-2cb93c43d19b.png) 🧪 mac-wk1](https://ews-build.webkit.org/#/builders/14/builds/17042 \\\\\"Build is in progress. Recent messages:OS: Monterey (12.6.8), Xcode: 13.4.1; Skipping applying patch since patch_id isn\\'t provided; Checked out pull request; Running compile-webkit\\\\\") | [![loading](https://user-images.githubusercontent.com/3098702/171232313-daa606f1-8fd6-4b0f-a20b-2cb93c43d19b.png) 🧪 gtk-wk2](https://ews-build.webkit.org/#/builders/1/builds/21573 \\\\\"Build is in progress. Recent messages:Printed configuration\\\\\") | \\\\n| | [![loading](https://user-images.githubusercontent.com/3098702/171232313-daa606f1-8fd6-4b0f-a20b-2cb93c43d19b.png) 🧪 api-ios](https://ews-build.webkit.org/#/builders/23/builds/19705 \\\\\"Build is in progress. Recent messages:OS: Ventura (13.4.1), Xcode: 14.3\\\\\") | [![loading](https://user-images.githubusercontent.com/3098702/171232313-daa606f1-8fd6-4b0f-a20b-2cb93c43d19b.png) 🧪 mac-wk2](https://ews-build.webkit.org/#/builders/14/builds/17042 \\\\\"Build is in progress. Recent messages:OS: Monterey (12.6.8), Xcode: 13.4.1; Skipping applying patch since patch_id isn\\'t provided; Checked out pull request; Running compile-webkit\\\\\") | [⏳ 🧪 api-gtk](https://ews-build.webkit.org/#/builders/API-Tests-GTK-EWS \\\\\"Waiting to run tests\\\\\") | \\\\n| | [✅ 🛠 tv](https://ews-build.webkit.org/#/builders/7/builds/15516 \\\\\"Built successfully\\\\\") | [![loading](https://user-images.githubusercontent.com/3098702/171232313-daa606f1-8fd6-4b0f-a20b-2cb93c43d19b.png) 🧪 mac-AS-debug-wk2](https://ews-build.webkit.org/#/builders/16/builds/16739 \\\\\"Build is in progress. Recent messages:OS: Ventura (13.4.1), Xcode: 14.3; Skipping applying patch since patch_id isn\\'t provided; Checked out pull request; Running compile-webkit\\\\\") | | \\\\n| | [✅ 🛠 tv-sim](https://ews-build.webkit.org/#/builders/30/builds/14734 \\\\\"Built successfully\\\\\") | [![loading](https://user-images.githubusercontent.com/3098702/171232313-daa606f1-8fd6-4b0f-a20b-2cb93c43d19b.png) 🧪 mac-wk2-stress](https://ews-build.webkit.org/#/builders/14/builds/17042 \\\\\"Build is in progress. Recent messages:OS: Monterey (12.6.8), Xcode: 13.4.1; Skipping applying patch since patch_id isn\\'t provided; Checked out pull request; Running compile-webkit\\\\\") | | \\\\n| | [✅ 🛠 watch](https://ews-build.webkit.org/#/builders/4/builds/19100 \\\\\"Built successfully\\\\\") | | | \\\\n| | [✅ 🛠 watch-sim](https://ews-build.webkit.org/#/builders/31/builds/15343 \\\\\"Built successfully\\\\\") | | | \\\\n<!--EWS-Status-Bubble-End-->\",\"created_at\":\"2023-08-26T16:24:46Z\",\"updated_at\":\"2023-08-26T17:07:48Z\",\"closed_at\":null,\"merged_at\":null,\"merge_commit_sha\":\"aaa085f7d97f3ee88d709fe37b4fef037236316f\",\"assignee\":{\"login\":\"sideshowbarker\",\"id\":194984,\"node_id\":\"MDQ6VXNlcjE5NDk4NA==\",\"avatar_url\":\"https://avatars.githubusercontent.com/u/194984?v=4\",\"gravatar_id\":\"\",\"url\":\"https://api.github.com/users/sideshowbarker\",\"html_url\":\"https://github.com/sideshowbarker\",\"followers_url\":\"https://api.github.com/users/sideshowbarker/followers\",\"following_url\":\"https://api.github.com/users/sideshowbarker/following{/other_user}\",\"gists_url\":\"https://api.github.com/users/sideshowbarker/gists{/gist_id}\",\"starred_url\":\"https://api.github.com/users/sideshowbarker/starred{/owner}{/repo}\",\"subscriptions_url\":\"https://api.github.com/users/sideshowbarker/subscriptions\",\"organizations_url\":\"https://api.github.com/users/sideshowbarker/orgs\",\"repos_url\":\"https://api.github.com/users/sideshowbarker/repos\",\"events_url\":\"https://api.github.com/users/sideshowbarker/events{/privacy}\",\"received_events_url\":\"https://api.github.com/users/sideshowbarker/received_events\",\"type\":\"User\",\"site_admin\":false},\"assignees\":[{\"login\":\"sideshowbarker\",\"id\":194984,\"node_id\":\"MDQ6VXNlcjE5NDk4NA==\",\"avatar_url\":\"https://avatars.githubusercontent.com/u/194984?v=4\",\"gravatar_id\":\"\",\"url\":\"https://api.github.com/users/sideshowbarker\",\"html_url\":\"https://github.com/sideshowbarker\",\"followers_url\":\"https://api.github.com/users/sideshowbarker/followers\",\"following_url\":\"https://api.github.com/users/sideshowbarker/following{/other_user}\",\"gists_url\":\"https://api.github.com/users/sideshowbarker/gists{/gist_id}\",\"starred_url\":\"https://api.github.com/users/sideshowbarker/starred{/owner}{/repo}\",\"subscriptions_url\":\"https://api.github.com/users/sideshowbarker/subscriptions\",\"organizations_url\":\"https://api.github.com/users/sideshowbarker/orgs\",\"repos_url\":\"https://api.github.com/users/sideshowbarker/repos\",\"events_url\":\"https://api.github.com/users/sideshowbarker/events{/privacy}\",\"received_events_url\":\"https://api.github.com/users/sideshowbarker/received_events\",\"type\":\"User\",\"site_admin\":false}],\"requested_reviewers\":[{\"login\":\"rniwa\",\"id\":285965,\"node_id\":\"MDQ6VXNlcjI4NTk2NQ==\",\"avatar_url\":\"https://avatars.githubusercontent.com/u/285965?v=4\",\"gravatar_id\":\"\",\"url\":\"https://api.github.com/users/rniwa\",\"html_url\":\"https://github.com/rniwa\",\"followers_url\":\"https://api.github.com/users/rniwa/followers\",\"following_url\":\"https://api.github.com/users/rniwa/following{/other_user}\",\"gists_url\":\"https://api.github.com/users/rniwa/gists{/gist_id}\",\"starred_url\":\"https://api.github.com/users/rniwa/starred{/owner}{/repo}\",\"subscriptions_url\":\"https://api.github.com/users/rniwa/subscriptions\",\"organizations_url\":\"https://api.github.com/users/rniwa/orgs\",\"repos_url\":\"https://api.github.com/users/rniwa/repos\",\"events_url\":\"https://api.github.com/users/rniwa/events{/privacy}\",\"received_events_url\":\"https://api.github.com/users/rniwa/received_events\",\"type\":\"User\",\"site_admin\":false},{\"login\":\"cdumez\",\"id\":995975,\"node_id\":\"MDQ6VXNlcjk5NTk3NQ==\",\"avatar_url\":\"https://avatars.githubusercontent.com/u/995975?v=4\",\"gravatar_id\":\"\",\"url\":\"https://api.github.com/users/cdumez\",\"html_url\":\"https://github.com/cdumez\",\"followers_url\":\"https://api.github.com/users/cdumez/followers\",\"following_url\":\"https://api.github.com/users/cdumez/following{/other_user}\",\"gists_url\":\"https://api.github.com/users/cdumez/gists{/gist_id}\",\"starred_url\":\"https://api.github.com/users/cdumez/starred{/owner}{/repo}\",\"subscriptions_url\":\"https://api.github.com/users/cdumez/subscriptions\",\"organizations_url\":\"https://api.github.com/users/cdumez/orgs\",\"repos_url\":\"https://api.github.com/users/cdumez/repos\",\"events_url\":\"https://api.github.com/users/cdumez/events{/privacy}\",\"received_events_url\":\"https://api.github.com/users/cdumez/received_events\",\"type\":\"User\",\"site_admin\":false}],\"requested_teams\":[],\"labels\":[{\"id\":3939231294,\"node_id\":\"LA_kwDOExyGPc7qy-Y-\",\"url\":\"https://api.github.com/repos/WebKit/WebKit/labels/DOM\",\"name\":\"DOM\",\"color\":\"FFFFFF\",\"default\":false,\"description\":\"For bugs specific to XML/HTML DOM elements (including parsing).\"}],\"milestone\":null,\"draft\":false,\"commits_url\":\"https://api.github.com/repos/WebKit/WebKit/pulls/17106/commits\",\"review_comments_url\":\"https://api.github.com/repos/WebKit/WebKit/pulls/17106/comments\",\"review_comment_url\":\"https://api.github.com/repos/WebKit/WebKit/pulls/comments{/number}\",\"comments_url\":\"https://api.github.com/repos/WebKit/WebKit/issues/17106/comments\",\"statuses_url\":\"https://api.github.com/repos/WebKit/WebKit/statuses/c3f8a5717793e32623586ceed677a7d53640c1f9\",\"head\":{\"label\":\"sideshowbarker:interactive-summary-descendants-do-not-open-details\",\"ref\":\"interactive-summary-descendants-do-not-open-details\",\"sha\":\"c3f8a5717793e32623586ceed677a7d53640c1f9\",\"user\":{\"login\":\"sideshowbarker\",\"id\":194984,\"node_id\":\"MDQ6VXNlcjE5NDk4NA==\",\"avatar_url\":\"https://avatars.githubusercontent.com/u/194984?v=4\",\"gravatar_id\":\"\",\"url\":\"https://api.github.com/users/sideshowbarker\",\"html_url\":\"https://github.com/sideshowbarker\",\"followers_url\":\"https://api.github.com/users/sideshowbarker/followers\",\"following_url\":\"https://api.github.com/users/sideshowbarker/following{/other_user}\",\"gists_url\":\"https://api.github.com/users/sideshowbarker/gists{/gist_id}\",\"starred_url\":\"https://api.github.com/users/sideshowbarker/starred{/owner}{/repo}\",\"subscriptions_url\":\"https://api.github.com/users/sideshowbarker/subscriptions\",\"organizations_url\":\"https://api.github.com/users/sideshowbarker/orgs\",\"repos_url\":\"https://api.github.com/users/sideshowbarker/repos\",\"events_url\":\"https://api.github.com/users/sideshowbarker/events{/privacy}\",\"received_events_url\":\"https://api.github.com/users/sideshowbarker/received_events\",\"type\":\"User\",\"site_admin\":false},\"repo\":{\"id\":508586911,\"node_id\":\"R_kgDOHlBrnw\",\"name\":\"WebKit\",\"full_name\":\"sideshowbarker/WebKit\",\"private\":false,\"owner\":{\"login\":\"sideshowbarker\",\"id\":194984,\"node_id\":\"MDQ6VXNlcjE5NDk4NA==\",\"avatar_url\":\"https://avatars.githubusercontent.com/u/194984?v=4\",\"gravatar_id\":\"\",\"url\":\"https://api.github.com/users/sideshowbarker\",\"html_url\":\"https://github.com/sideshowbarker\",\"followers_url\":\"https://api.github.com/users/sideshowbarker/followers\",\"following_url\":\"https://api.github.com/users/sideshowbarker/following{/other_user}\",\"gists_url\":\"https://api.github.com/users/sideshowbarker/gists{/gist_id}\",\"starred_url\":\"https://api.github.com/users/sideshowbarker/starred{/owner}{/repo}\",\"subscriptions_url\":\"https://api.github.com/users/sideshowbarker/subscriptions\",\"organizations_url\":\"https://api.github.com/users/sideshowbarker/orgs\",\"repos_url\":\"https://api.github.com/users/sideshowbarker/repos\",\"events_url\":\"https://api.github.com/users/sideshowbarker/events{/privacy}\",\"received_events_url\":\"https://api.github.com/users/sideshowbarker/received_events\",\"type\":\"User\",\"site_admin\":false},\"html_url\":\"https://github.com/sideshowbarker/WebKit\",\"description\":null,\"fork\":true,\"url\":\"https://api.github.com/repos/sideshowbarker/WebKit\",\"forks_url\":\"https://api.github.com/repos/sideshowbarker/WebKit/forks\",\"keys_url\":\"https://api.github.com/repos/sideshowbarker/WebKit/keys{/key_id}\",\"collaborators_url\":\"https://api.github.com/repos/sideshowbarker/WebKit/collaborators{/collaborator}\",\"teams_url\":\"https://api.github.com/repos/sideshowbarker/WebKit/teams\",\"hooks_url\":\"https://api.github.com/repos/sideshowbarker/WebKit/hooks\",\"issue_events_url\":\"https://api.github.com/repos/sideshowbarker/WebKit/issues/events{/number}\",\"events_url\":\"https://api.github.com/repos/sideshowbarker/WebKit/events\",\"assignees_url\":\"https://api.github.com/repos/sideshowbarker/WebKit/assignees{/user}\",\"branches_url\":\"https://api.github.com/repos/sideshowbarker/WebKit/branches{/branch}\",\"tags_url\":\"https://api.github.com/repos/sideshowbarker/WebKit/tags\",\"blobs_url\":\"https://api.github.com/repos/sideshowbarker/WebKit/git/blobs{/sha}\",\"git_tags_url\":\"https://api.github.com/repos/sideshowbarker/WebKit/git/tags{/sha}\",\"git_refs_url\":\"https://api.github.com/repos/sideshowbarker/WebKit/git/refs{/sha}\",\"trees_url\":\"https://api.github.com/repos/sideshowbarker/WebKit/git/trees{/sha}\",\"statuses_url\":\"https://api.github.com/repos/sideshowbarker/WebKit/statuses/{sha}\",\"languages_url\":\"https://api.github.com/repos/sideshowbarker/WebKit/languages\",\"stargazers_url\":\"https://api.github.com/repos/sideshowbarker/WebKit/stargazers\",\"contributors_url\":\"https://api.github.com/repos/sideshowbarker/WebKit/contributors\",\"subscribers_url\":\"https://api.github.com/repos/sideshowbarker/WebKit/subscribers\",\"subscription_url\":\"https://api.github.com/repos/sideshowbarker/WebKit/subscription\",\"commits_url\":\"https://api.github.com/repos/sideshowbarker/WebKit/commits{/sha}\",\"git_commits_url\":\"https://api.github.com/repos/sideshowbarker/WebKit/git/commits{/sha}\",\"comments_url\":\"https://api.github.com/repos/sideshowbarker/WebKit/comments{/number}\",\"issue_comment_url\":\"https://api.github.com/repos/sideshowbarker/WebKit/issues/comments{/number}\",\"contents_url\":\"https://api.github.com/repos/sideshowbarker/WebKit/contents/{+path}\",\"compare_url\":\"https://api.github.com/repos/sideshowbarker/WebKit/compare/{base}...{head}\",\"merges_url\":\"https://api.github.com/repos/sideshowbarker/WebKit/merges\",\"archive_url\":\"https://api.github.com/repos/sideshowbarker/WebKit/{archive_format}{/ref}\",\"downloads_url\":\"https://api.github.com/repos/sideshowbarker/WebKit/downloads\",\"issues_url\":\"https://api.github.com/repos/sideshowbarker/WebKit/issues{/number}\",\"pulls_url\":\"https://api.github.com/repos/sideshowbarker/WebKit/pulls{/number}\",\"milestones_url\":\"https://api.github.com/repos/sideshowbarker/WebKit/milestones{/number}\",\"notifications_url\":\"https://api.github.com/repos/sideshowbarker/WebKit/notifications{?since,all,participating}\",\"labels_url\":\"https://api.github.com/repos/sideshowbarker/WebKit/labels{/name}\",\"releases_url\":\"https://api.github.com/repos/sideshowbarker/WebKit/releases{/id}\",\"deployments_url\":\"https://api.github.com/repos/sideshowbarker/WebKit/deployments\",\"created_at\":\"2022-06-29T07:17:31Z\",\"updated_at\":\"2023-08-18T01:01:23Z\",\"pushed_at\":\"2023-08-26T17:03:25Z\",\"git_url\":\"git://github.com/sideshowbarker/WebKit.git\",\"ssh_url\":\"git@github.com:sideshowbarker/WebKit.git\",\"clone_url\":\"https://github.com/sideshowbarker/WebKit.git\",\"svn_url\":\"https://github.com/sideshowbarker/WebKit\",\"homepage\":\"\",\"size\":9654344,\"stargazers_count\":0,\"watchers_count\":0,\"language\":null,\"has_issues\":false,\"has_projects\":false,\"has_downloads\":true,\"has_wiki\":false,\"has_pages\":false,\"has_discussions\":false,\"forks_count\":0,\"mirror_url\":null,\"archived\":false,\"disabled\":false,\"open_issues_count\":0,\"license\":null,\"allow_forking\":true,\"is_template\":false,\"web_commit_signoff_required\":false,\"topics\":[],\"visibility\":\"public\",\"forks\":0,\"open_issues\":0,\"watchers\":0,\"default_branch\":\"main\"}},\"base\":{\"label\":\"WebKit:main\",\"ref\":\"main\",\"sha\":\"7c6597e7925ebf7ecaf706dec148bfb56d1f31b0\",\"user\":{\"login\":\"WebKit\",\"id\":6458,\"node_id\":\"MDEyOk9yZ2FuaXphdGlvbjY0NTg=\",\"avatar_url\":\"https://avatars.githubusercontent.com/u/6458?v=4\",\"gravatar_id\":\"\",\"url\":\"https://api.github.com/users/WebKit\",\"html_url\":\"https://github.com/WebKit\",\"followers_url\":\"https://api.github.com/users/WebKit/followers\",\"following_url\":\"https://api.github.com/users/WebKit/following{/other_user}\",\"gists_url\":\"https://api.github.com/users/WebKit/gists{/gist_id}\",\"starred_url\":\"https://api.github.com/users/WebKit/starred{/owner}{/repo}\",\"subscriptions_url\":\"https://api.github.com/users/WebKit/subscriptions\",\"organizations_url\":\"https://api.github.com/users/WebKit/orgs\",\"repos_url\":\"https://api.github.com/users/WebKit/repos\",\"events_url\":\"https://api.github.com/users/WebKit/events{/privacy}\",\"received_events_url\":\"https://api.github.com/users/WebKit/received_events\",\"type\":\"Organization\",\"site_admin\":false},\"repo\":{\"id\":320636477,\"node_id\":\"MDEwOlJlcG9zaXRvcnkzMjA2MzY0Nzc=\",\"name\":\"WebKit\",\"full_name\":\"WebKit/WebKit\",\"private\":false,\"owner\":{\"login\":\"WebKit\",\"id\":6458,\"node_id\":\"MDEyOk9yZ2FuaXphdGlvbjY0NTg=\",\"avatar_url\":\"https://avatars.githubusercontent.com/u/6458?v=4\",\"gravatar_id\":\"\",\"url\":\"https://api.github.com/users/WebKit\",\"html_url\":\"https://github.com/WebKit\",\"followers_url\":\"https://api.github.com/users/WebKit/followers\",\"following_url\":\"https://api.github.com/users/WebKit/following{/other_user}\",\"gists_url\":\"https://api.github.com/users/WebKit/gists{/gist_id}\",\"starred_url\":\"https://api.github.com/users/WebKit/starred{/owner}{/repo}\",\"subscriptions_url\":\"https://api.github.com/users/WebKit/subscriptions\",\"organizations_url\":\"https://api.github.com/users/WebKit/orgs\",\"repos_url\":\"https://api.github.com/users/WebKit/repos\",\"events_url\":\"https://api.github.com/users/WebKit/events{/privacy}\",\"received_events_url\":\"https://api.github.com/users/WebKit/received_events\",\"type\":\"Organization\",\"site_admin\":false},\"html_url\":\"https://github.com/WebKit/WebKit\",\"description\":\"Home of the WebKit project, the browser engine used by Safari, Mail, App Store and many other applications on macOS, iOS and Linux.\",\"fork\":false,\"url\":\"https://api.github.com/repos/WebKit/WebKit\",\"forks_url\":\"https://api.github.com/repos/WebKit/WebKit/forks\",\"keys_url\":\"https://api.github.com/repos/WebKit/WebKit/keys{/key_id}\",\"collaborators_url\":\"https://api.github.com/repos/WebKit/WebKit/collaborators{/collaborator}\",\"teams_url\":\"https://api.github.com/repos/WebKit/WebKit/teams\",\"hooks_url\":\"https://api.github.com/repos/WebKit/WebKit/hooks\",\"issue_events_url\":\"https://api.github.com/repos/WebKit/WebKit/issues/events{/number}\",\"events_url\":\"https://api.github.com/repos/WebKit/WebKit/events\",\"assignees_url\":\"https://api.github.com/repos/WebKit/WebKit/assignees{/user}\",\"branches_url\":\"https://api.github.com/repos/WebKit/WebKit/branches{/branch}\",\"tags_url\":\"https://api.github.com/repos/WebKit/WebKit/tags\",\"blobs_url\":\"https://api.github.com/repos/WebKit/WebKit/git/blobs{/sha}\",\"git_tags_url\":\"https://api.github.com/repos/WebKit/WebKit/git/tags{/sha}\",\"git_refs_url\":\"https://api.github.com/repos/WebKit/WebKit/git/refs{/sha}\",\"trees_url\":\"https://api.github.com/repos/WebKit/WebKit/git/trees{/sha}\",\"statuses_url\":\"https://api.github.com/repos/WebKit/WebKit/statuses/{sha}\",\"languages_url\":\"https://api.github.com/repos/WebKit/WebKit/languages\",\"stargazers_url\":\"https://api.github.com/repos/WebKit/WebKit/stargazers\",\"contributors_url\":\"https://api.github.com/repos/WebKit/WebKit/contributors\",\"subscribers_url\":\"https://api.github.com/repos/WebKit/WebKit/subscribers\",\"subscription_url\":\"https://api.github.com/repos/WebKit/WebKit/subscription\",\"commits_url\":\"https://api.github.com/repos/WebKit/WebKit/commits{/sha}\",\"git_commits_url\":\"https://api.github.com/repos/WebKit/WebKit/git/commits{/sha}\",\"comments_url\":\"https://api.github.com/repos/WebKit/WebKit/comments{/number}\",\"issue_comment_url\":\"https://api.github.com/repos/WebKit/WebKit/issues/comments{/number}\",\"contents_url\":\"https://api.github.com/repos/WebKit/WebKit/contents/{+path}\",\"compare_url\":\"https://api.github.com/repos/WebKit/WebKit/compare/{base}...{head}\",\"merges_url\":\"https://api.github.com/repos/WebKit/WebKit/merges\",\"archive_url\":\"https://api.github.com/repos/WebKit/WebKit/{archive_format}{/ref}\",\"downloads_url\":\"https://api.github.com/repos/WebKit/WebKit/downloads\",\"issues_url\":\"https://api.github.com/repos/WebKit/WebKit/issues{/number}\",\"pulls_url\":\"https://api.github.com/repos/WebKit/WebKit/pulls{/number}\",\"milestones_url\":\"https://api.github.com/repos/WebKit/WebKit/milestones{/number}\",\"notifications_url\":\"https://api.github.com/repos/WebKit/WebKit/notifications{?since,all,participating}\",\"labels_url\":\"https://api.github.com/repos/WebKit/WebKit/labels{/name}\",\"releases_url\":\"https://api.github.com/repos/WebKit/WebKit/releases{/id}\",\"deployments_url\":\"https://api.github.com/repos/WebKit/WebKit/deployments\",\"created_at\":\"2020-12-11T17:11:43Z\",\"updated_at\":\"2023-08-26T01:54:54Z\",\"pushed_at\":\"2023-08-26T17:03:29Z\",\"git_url\":\"git://github.com/WebKit/WebKit.git\",\"ssh_url\":\"git@github.com:WebKit/WebKit.git\",\"clone_url\":\"https://github.com/WebKit/WebKit.git\",\"svn_url\":\"https://github.com/WebKit/WebKit\",\"homepage\":\"\",\"size\":9845957,\"stargazers_count\":6538,\"watchers_count\":6538,\"language\":null,\"has_issues\":false,\"has_projects\":false,\"has_downloads\":true,\"has_wiki\":true,\"has_pages\":false,\"has_discussions\":false,\"forks_count\":1012,\"mirror_url\":null,\"archived\":false,\"disabled\":false,\"open_issues_count\":619,\"license\":null,\"allow_forking\":true,\"is_template\":false,\"web_commit_signoff_required\":false,\"topics\":[\"browser\",\"gtk\",\"ios\",\"javascript\",\"macos\",\"web\",\"webkit\"],\"visibility\":\"public\",\"forks\":1012,\"open_issues\":619,\"watchers\":6538,\"default_branch\":\"main\"}},\"_links\":{\"self\":{\"href\":\"https://api.github.com/repos/WebKit/WebKit/pulls/17106\"},\"html\":{\"href\":\"https://github.com/WebKit/WebKit/pull/17106\"},\"issue\":{\"href\":\"https://api.github.com/repos/WebKit/WebKit/issues/17106\"},\"comments\":{\"href\":\"https://api.github.com/repos/WebKit/WebKit/issues/17106/comments\"},\"review_comments\":{\"href\":\"https://api.github.com/repos/WebKit/WebKit/pulls/17106/comments\"},\"review_comment\":{\"href\":\"https://api.github.com/repos/WebKit/WebKit/pulls/comments{/number}\"},\"commits\":{\"href\":\"https://api.github.com/repos/WebKit/WebKit/pulls/17106/commits\"},\"statuses\":{\"href\":\"https://api.github.com/repos/WebKit/WebKit/statuses/c3f8a5717793e32623586ceed677a7d53640c1f9\"}},\"author_association\":\"CONTRIBUTOR\",\"auto_merge\":null,\"active_lock_reason\":null}},\"public\":true,\"created_at\":\"2023-08-26T17:07:48Z\",\"org\":{\"id\":6458,\"login\":\"WebKit\",\"gravatar_id\":\"\",\"url\":\"https://api.github.com/orgs/WebKit\",\"avatar_url\":\"https://avatars.githubusercontent.com/u/6458?\"}},{\"id\":\"31393702272\",\"type\":\"CreateEvent\",\"actor\":{\"id\":49699333,\"login\":\"dependabot[bot]\",\"display_login\":\"dependabot\",\"gravatar_id\":\"\",\"url\":\"https://api.github.com/users/dependabot[bot]\",\"avatar_url\":\"https://avatars.githubusercontent.com/u/49699333?\"},\"repo\":{\"id\":683468477,\"name\":\"Exp-Intro-to-GitHub-Flow-Cohort-1/series-intro-to-github-flow-HridayDev\",\"url\":\"https://api.github.com/repos/Exp-Intro-to-GitHub-Flow-Cohort-1/series-intro-to-github-flow-HridayDev\"},\"payload\":{\"ref\":\"dependabot/github_actions/actions/checkout-3\",\"ref_type\":\"branch\",\"master_branch\":\"main\",\"description\":\"series-intro-to-github-flow-HridayDev created by GitHub Classroom\",\"pusher_type\":\"user\"},\"public\":true,\"created_at\":\"2023-08-26T17:07:48Z\",\"org\":{\"id\":141875263,\"login\":\"Exp-Intro-to-GitHub-Flow-Cohort-1\",\"gravatar_id\":\"\",\"url\":\"https://api.github.com/orgs/Exp-Intro-to-GitHub-Flow-Cohort-1\",\"avatar_url\":\"https://avatars.githubusercontent.com/u/141875263?\"}},{\"id\":\"31393702270\",\"type\":\"CreateEvent\",\"actor\":{\"id\":143283195,\"login\":\"emreylmz17\",\"display_login\":\"emreylmz17\",\"gravatar_id\":\"\",\"url\":\"https://api.github.com/users/emreylmz17\",\"avatar_url\":\"https://avatars.githubusercontent.com/u/143283195?\"},\"repo\":{\"id\":683468594,\"name\":\"emreylmz17/React-App\",\"url\":\"https://api.github.com/repos/emreylmz17/React-App\"},\"payload\":{\"ref\":null,\"ref_type\":\"repository\",\"master_branch\":\"main\",\"description\":\"React deneme\",\"pusher_type\":\"user\"},\"public\":true,\"created_at\":\"2023-08-26T17:07:48Z\"},{\"id\":\"31393702262\",\"type\":\"PushEvent\",\"actor\":{\"id\":50808352,\"login\":\"seragu9\",\"display_login\":\"seragu9\",\"gravatar_id\":\"\",\"url\":\"https://api.github.com/users/seragu9\",\"avatar_url\":\"https://avatars.githubusercontent.com/u/50808352?\"},\"repo\":{\"id\":626675442,\"name\":\"seragu9/botch\",\"url\":\"https://api.github.com/repos/seragu9/botch\"},\"payload\":{\"repository_id\":626675442,\"push_id\":14816511935,\"size\":1,\"distinct_size\":1,\"ref\":\"refs/heads/main\",\"head\":\"17ed8698f19b25087210ac5b336020d26cc04b01\",\"before\":\"9713f06e9aef17e08dc65cfbc855329f607a4e61\",\"commits\":[{\"sha\":\"17ed8698f19b25087210ac5b336020d26cc04b01\",\"author\":{\"email\":\"50808352+seragu9@users.noreply.github.com\",\"name\":\"seragu9\"},\"message\":\"Actualización de uids.json\",\"distinct\":true,\"url\":\"https://api.github.com/repos/seragu9/botch/commits/17ed8698f19b25087210ac5b336020d26cc04b01\"}]},\"public\":true,\"created_at\":\"2023-08-26T17:07:48Z\"},{\"id\":\"31393702263\",\"type\":\"PushEvent\",\"actor\":{\"id\":143281492,\"login\":\"DengerCOder\",\"display_login\":\"DengerCOder\",\"gravatar_id\":\"\",\"url\":\"https://api.github.com/users/DengerCOder\",\"avatar_url\":\"https://avatars.githubusercontent.com/u/143281492?\"},\"repo\":{\"id\":683460755,\"name\":\"DengerCOder/bhoj\",\"url\":\"https://api.github.com/repos/DengerCOder/bhoj\"},\"payload\":{\"repository_id\":683460755,\"push_id\":14816511945,\"size\":1,\"distinct_size\":1,\"ref\":\"refs/heads/main\",\"head\":\"29785181ce787859f6856beb053336f2aa2c255a\",\"before\":\"1c0a73a7fb1aad70dea7dc979417233e1f84435e\",\"commits\":[{\"sha\":\"29785181ce787859f6856beb053336f2aa2c255a\",\"author\":{\"email\":\"143281492+DengerCOder@users.noreply.github.com\",\"name\":\"Bhushan\"},\"message\":\"Add files via upload\",\"distinct\":true,\"url\":\"https://api.github.com/repos/DengerCOder/bhoj/commits/29785181ce787859f6856beb053336f2aa2c255a\"}]},\"public\":true,\"created_at\":\"2023-08-26T17:07:48Z\"},{\"id\":\"31393702264\",\"type\":\"WatchEvent\",\"actor\":{\"id\":120283928,\"login\":\"ajsauthor\",\"display_login\":\"ajsauthor\",\"gravatar_id\":\"\",\"url\":\"https://api.github.com/users/ajsauthor\",\"avatar_url\":\"https://avatars.githubusercontent.com/u/120283928?\"},\"repo\":{\"id\":73648678,\"name\":\"forem/forem\",\"url\":\"https://api.github.com/repos/forem/forem\"},\"payload\":{\"action\":\"started\"},\"public\":true,\"created_at\":\"2023-08-26T17:07:48Z\",\"org\":{\"id\":65030610,\"login\":\"forem\",\"gravatar_id\":\"\",\"url\":\"https://api.github.com/orgs/forem\",\"avatar_url\":\"https://avatars.githubusercontent.com/u/65030610?\"}},{\"id\":\"31393702261\",\"type\":\"PullRequestEvent\",\"actor\":{\"id\":130973567,\"login\":\"CHOWTHA-PAVANI\",\"display_login\":\"CHOWTHA-PAVANI\",\"gravatar_id\":\"\",\"url\":\"https://api.github.com/users/CHOWTHA-PAVANI\",\"avatar_url\":\"https://avatars.githubusercontent.com/u/130973567?\"},\"repo\":{\"id\":673733623,\"name\":\"CHOWTHA-PAVANI/CodeClauseInternship_ProjectName\",\"url\":\"https://api.github.com/repos/CHOWTHA-PAVANI/CodeClauseInternship_ProjectName\"},\"payload\":{\"action\":\"opened\",\"number\":3,\"pull_request\":{\"url\":\"https://api.github.com/repos/CHOWTHA-PAVANI/CodeClauseInternship_ProjectName/pulls/3\",\"id\":1490717759,\"node_id\":\"PR_kwDOKChb985Y2ow_\",\"html_url\":\"https://github.com/CHOWTHA-PAVANI/CodeClauseInternship_ProjectName/pull/3\",\"diff_url\":\"https://github.com/CHOWTHA-PAVANI/CodeClauseInternship_ProjectName/pull/3.diff\",\"patch_url\":\"https://github.com/CHOWTHA-PAVANI/CodeClauseInternship_ProjectName/pull/3.patch\",\"issue_url\":\"https://api.github.com/repos/CHOWTHA-PAVANI/CodeClauseInternship_ProjectName/issues/3\",\"number\":3,\"state\":\"open\",\"locked\":false,\"title\":\"Add files via upload\",\"user\":{\"login\":\"CHOWTHA-PAVANI\",\"id\":130973567,\"node_id\":\"U_kgDOB85_fw\",\"avatar_url\":\"https://avatars.githubusercontent.com/u/130973567?v=4\",\"gravatar_id\":\"\",\"url\":\"https://api.github.com/users/CHOWTHA-PAVANI\",\"html_url\":\"https://github.com/CHOWTHA-PAVANI\",\"followers_url\":\"https://api.github.com/users/CHOWTHA-PAVANI/followers\",\"following_url\":\"https://api.github.com/users/CHOWTHA-PAVANI/following{/other_user}\",\"gists_url\":\"https://api.github.com/users/CHOWTHA-PAVANI/gists{/gist_id}\",\"starred_url\":\"https://api.github.com/users/CHOWTHA-PAVANI/starred{/owner}{/repo}\",\"subscriptions_url\":\"https://api.github.com/users/CHOWTHA-PAVANI/subscriptions\",\"organizations_url\":\"https://api.github.com/users/CHOWTHA-PAVANI/orgs\",\"repos_url\":\"https://api.github.com/users/CHOWTHA-PAVANI/repos\",\"events_url\":\"https://api.github.com/users/CHOWTHA-PAVANI/events{/privacy}\",\"received_events_url\":\"https://api.github.com/users/CHOWTHA-PAVANI/received_events\",\"type\":\"User\",\"site_admin\":false},\"body\":null,\"created_at\":\"2023-08-26T17:07:47Z\",\"updated_at\":\"2023-08-26T17:07:47Z\",\"closed_at\":null,\"merged_at\":null,\"merge_commit_sha\":null,\"assignee\":null,\"assignees\":[],\"requested_reviewers\":[],\"requested_teams\":[],\"labels\":[],\"milestone\":null,\"draft\":false,\"commits_url\":\"https://api.github.com/repos/CHOWTHA-PAVANI/CodeClauseInternship_ProjectName/pulls/3/commits\",\"review_comments_url\":\"https://api.github.com/repos/CHOWTHA-PAVANI/CodeClauseInternship_ProjectName/pulls/3/comments\",\"review_comment_url\":\"https://api.github.com/repos/CHOWTHA-PAVANI/CodeClauseInternship_ProjectName/pulls/comments{/number}\",\"comments_url\":\"https://api.github.com/repos/CHOWTHA-PAVANI/CodeClauseInternship_ProjectName/issues/3/comments\",\"statuses_url\":\"https://api.github.com/repos/CHOWTHA-PAVANI/CodeClauseInternship_ProjectName/statuses/7403840d7815c1a2b9b89230b654cab8bb23bcf4\",\"head\":{\"label\":\"CHOWTHA-PAVANI:task-3\",\"ref\":\"task-3\",\"sha\":\"7403840d7815c1a2b9b89230b654cab8bb23bcf4\",\"user\":{\"login\":\"CHOWTHA-PAVANI\",\"id\":130973567,\"node_id\":\"U_kgDOB85_fw\",\"avatar_url\":\"https://avatars.githubusercontent.com/u/130973567?v=4\",\"gravatar_id\":\"\",\"url\":\"https://api.github.com/users/CHOWTHA-PAVANI\",\"html_url\":\"https://github.com/CHOWTHA-PAVANI\",\"followers_url\":\"https://api.github.com/users/CHOWTHA-PAVANI/followers\",\"following_url\":\"https://api.github.com/users/CHOWTHA-PAVANI/following{/other_user}\",\"gists_url\":\"https://api.github.com/users/CHOWTHA-PAVANI/gists{/gist_id}\",\"starred_url\":\"https://api.github.com/users/CHOWTHA-PAVANI/starred{/owner}{/repo}\",\"subscriptions_url\":\"https://api.github.com/users/CHOWTHA-PAVANI/subscriptions\",\"organizations_url\":\"https://api.github.com/users/CHOWTHA-PAVANI/orgs\",\"repos_url\":\"https://api.github.com/users/CHOWTHA-PAVANI/repos\",\"events_url\":\"https://api.github.com/users/CHOWTHA-PAVANI/events{/privacy}\",\"received_events_url\":\"https://api.github.com/users/CHOWTHA-PAVANI/received_events\",\"type\":\"User\",\"site_admin\":false},\"repo\":{\"id\":673733623,\"node_id\":\"R_kgDOKChb9w\",\"name\":\"CodeClauseInternship_ProjectName\",\"full_name\":\"CHOWTHA-PAVANI/CodeClauseInternship_ProjectName\",\"private\":false,\"owner\":{\"login\":\"CHOWTHA-PAVANI\",\"id\":130973567,\"node_id\":\"U_kgDOB85_fw\",\"avatar_url\":\"https://avatars.githubusercontent.com/u/130973567?v=4\",\"gravatar_id\":\"\",\"url\":\"https://api.github.com/users/CHOWTHA-PAVANI\",\"html_url\":\"https://github.com/CHOWTHA-PAVANI\",\"followers_url\":\"https://api.github.com/users/CHOWTHA-PAVANI/followers\",\"following_url\":\"https://api.github.com/users/CHOWTHA-PAVANI/following{/other_user}\",\"gists_url\":\"https://api.github.com/users/CHOWTHA-PAVANI/gists{/gist_id}\",\"starred_url\":\"https://api.github.com/users/CHOWTHA-PAVANI/starred{/owner}{/repo}\",\"subscriptions_url\":\"https://api.github.com/users/CHOWTHA-PAVANI/subscriptions\",\"organizations_url\":\"https://api.github.com/users/CHOWTHA-PAVANI/orgs\",\"repos_url\":\"https://api.github.com/users/CHOWTHA-PAVANI/repos\",\"events_url\":\"https://api.github.com/users/CHOWTHA-PAVANI/events{/privacy}\",\"received_events_url\":\"https://api.github.com/users/CHOWTHA-PAVANI/received_events\",\"type\":\"User\",\"site_admin\":false},\"html_url\":\"https://github.com/CHOWTHA-PAVANI/CodeClauseInternship_ProjectName\",\"description\":null,\"fork\":false,\"url\":\"https://api.github.com/repos/CHOWTHA-PAVANI/CodeClauseInternship_ProjectName\",\"forks_url\":\"https://api.github.com/repos/CHOWTHA-PAVANI/CodeClauseInternship_ProjectName/forks\",\"keys_url\":\"https://api.github.com/repos/CHOWTHA-PAVANI/CodeClauseInternship_ProjectName/keys{/key_id}\",\"collaborators_url\":\"https://api.github.com/repos/CHOWTHA-PAVANI/CodeClauseInternship_ProjectName/collaborators{/collaborator}\",\"teams_url\":\"https://api.github.com/repos/CHOWTHA-PAVANI/CodeClauseInternship_ProjectName/teams\",\"hooks_url\":\"https://api.github.com/repos/CHOWTHA-PAVANI/CodeClauseInternship_ProjectName/hooks\",\"issue_events_url\":\"https://api.github.com/repos/CHOWTHA-PAVANI/CodeClauseInternship_ProjectName/issues/events{/number}\",\"events_url\":\"https://api.github.com/repos/CHOWTHA-PAVANI/CodeClauseInternship_ProjectName/events\",\"assignees_url\":\"https://api.github.com/repos/CHOWTHA-PAVANI/CodeClauseInternship_ProjectName/assignees{/user}\",\"branches_url\":\"https://api.github.com/repos/CHOWTHA-PAVANI/CodeClauseInternship_ProjectName/branches{/branch}\",\"tags_url\":\"https://api.github.com/repos/CHOWTHA-PAVANI/CodeClauseInternship_ProjectName/tags\",\"blobs_url\":\"https://api.github.com/repos/CHOWTHA-PAVANI/CodeClauseInternship_ProjectName/git/blobs{/sha}\",\"git_tags_url\":\"https://api.github.com/repos/CHOWTHA-PAVANI/CodeClauseInternship_ProjectName/git/tags{/sha}\",\"git_refs_url\":\"https://api.github.com/repos/CHOWTHA-PAVANI/CodeClauseInternship_ProjectName/git/refs{/sha}\",\"trees_url\":\"https://api.github.com/repos/CHOWTHA-PAVANI/CodeClauseInternship_ProjectName/git/trees{/sha}\",\"statuses_url\":\"https://api.github.com/repos/CHOWTHA-PAVANI/CodeClauseInternship_ProjectName/statuses/{sha}\",\"languages_url\":\"https://api.github.com/repos/CHOWTHA-PAVANI/CodeClauseInternship_ProjectName/languages\",\"stargazers_url\":\"https://api.github.com/repos/CHOWTHA-PAVANI/CodeClauseInternship_ProjectName/stargazers\",\"contributors_url\":\"https://api.github.com/repos/CHOWTHA-PAVANI/CodeClauseInternship_ProjectName/contributors\",\"subscribers_url\":\"https://api.github.com/repos/CHOWTHA-PAVANI/CodeClauseInternship_ProjectName/subscribers\",\"subscription_url\":\"https://api.github.com/repos/CHOWTHA-PAVANI/CodeClauseInternship_ProjectName/subscription\",\"commits_url\":\"https://api.github.com/repos/CHOWTHA-PAVANI/CodeClauseInternship_ProjectName/commits{/sha}\",\"git_commits_url\":\"https://api.github.com/repos/CHOWTHA-PAVANI/CodeClauseInternship_ProjectName/git/commits{/sha}\",\"comments_url\":\"https://api.github.com/repos/CHOWTHA-PAVANI/CodeClauseInternship_ProjectName/comments{/number}\",\"issue_comment_url\":\"https://api.github.com/repos/CHOWTHA-PAVANI/CodeClauseInternship_ProjectName/issues/comments{/number}\",\"contents_url\":\"https://api.github.com/repos/CHOWTHA-PAVANI/CodeClauseInternship_ProjectName/contents/{+path}\",\"compare_url\":\"https://api.github.com/repos/CHOWTHA-PAVANI/CodeClauseInternship_ProjectName/compare/{base}...{head}\",\"merges_url\":\"https://api.github.com/repos/CHOWTHA-PAVANI/CodeClauseInternship_ProjectName/merges\",\"archive_url\":\"https://api.github.com/repos/CHOWTHA-PAVANI/CodeClauseInternship_ProjectName/{archive_format}{/ref}\",\"downloads_url\":\"https://api.github.com/repos/CHOWTHA-PAVANI/CodeClauseInternship_ProjectName/downloads\",\"issues_url\":\"https://api.github.com/repos/CHOWTHA-PAVANI/CodeClauseInternship_ProjectName/issues{/number}\",\"pulls_url\":\"https://api.github.com/repos/CHOWTHA-PAVANI/CodeClauseInternship_ProjectName/pulls{/number}\",\"milestones_url\":\"https://api.github.com/repos/CHOWTHA-PAVANI/CodeClauseInternship_ProjectName/milestones{/number}\",\"notifications_url\":\"https://api.github.com/repos/CHOWTHA-PAVANI/CodeClauseInternship_ProjectName/notifications{?since,all,participating}\",\"labels_url\":\"https://api.github.com/repos/CHOWTHA-PAVANI/CodeClauseInternship_ProjectName/labels{/name}\",\"releases_url\":\"https://api.github.com/repos/CHOWTHA-PAVANI/CodeClauseInternship_ProjectName/releases{/id}\",\"deployments_url\":\"https://api.github.com/repos/CHOWTHA-PAVANI/CodeClauseInternship_ProjectName/deployments\",\"created_at\":\"2023-08-02T09:51:19Z\",\"updated_at\":\"2023-08-26T17:02:32Z\",\"pushed_at\":\"2023-08-26T17:07:47Z\",\"git_url\":\"git://github.com/CHOWTHA-PAVANI/CodeClauseInternship_ProjectName.git\",\"ssh_url\":\"git@github.com:CHOWTHA-PAVANI/CodeClauseInternship_ProjectName.git\",\"clone_url\":\"https://github.com/CHOWTHA-PAVANI/CodeClauseInternship_ProjectName.git\",\"svn_url\":\"https://github.com/CHOWTHA-PAVANI/CodeClauseInternship_ProjectName\",\"homepage\":null,\"size\":490,\"stargazers_count\":0,\"watchers_count\":0,\"language\":\"HTML\",\"has_issues\":true,\"has_projects\":true,\"has_downloads\":true,\"has_wiki\":true,\"has_pages\":false,\"has_discussions\":false,\"forks_count\":0,\"mirror_url\":null,\"archived\":false,\"disabled\":false,\"open_issues_count\":2,\"license\":null,\"allow_forking\":true,\"is_template\":false,\"web_commit_signoff_required\":false,\"topics\":[],\"visibility\":\"public\",\"forks\":0,\"open_issues\":2,\"watchers\":0,\"default_branch\":\"task-1\"}},\"base\":{\"label\":\"CHOWTHA-PAVANI:task-1\",\"ref\":\"task-1\",\"sha\":\"a0a539e8e630d3a782cde51969669ddbde91edbe\",\"user\":{\"login\":\"CHOWTHA-PAVANI\",\"id\":130973567,\"node_id\":\"U_kgDOB85_fw\",\"avatar_url\":\"https://avatars.githubusercontent.com/u/130973567?v=4\",\"gravatar_id\":\"\",\"url\":\"https://api.github.com/users/CHOWTHA-PAVANI\",\"html_url\":\"https://github.com/CHOWTHA-PAVANI\",\"followers_url\":\"https://api.github.com/users/CHOWTHA-PAVANI/followers\",\"following_url\":\"https://api.github.com/users/CHOWTHA-PAVANI/following{/other_user}\",\"gists_url\":\"https://api.github.com/users/CHOWTHA-PAVANI/gists{/gist_id}\",\"starred_url\":\"https://api.github.com/users/CHOWTHA-PAVANI/starred{/owner}{/repo}\",\"subscriptions_url\":\"https://api.github.com/users/CHOWTHA-PAVANI/subscriptions\",\"organizations_url\":\"https://api.github.com/users/CHOWTHA-PAVANI/orgs\",\"repos_url\":\"https://api.github.com/users/CHOWTHA-PAVANI/repos\",\"events_url\":\"https://api.github.com/users/CHOWTHA-PAVANI/events{/privacy}\",\"received_events_url\":\"https://api.github.com/users/CHOWTHA-PAVANI/received_events\",\"type\":\"User\",\"site_admin\":false},\"repo\":{\"id\":673733623,\"node_id\":\"R_kgDOKChb9w\",\"name\":\"CodeClauseInternship_ProjectName\",\"full_name\":\"CHOWTHA-PAVANI/CodeClauseInternship_ProjectName\",\"private\":false,\"owner\":{\"login\":\"CHOWTHA-PAVANI\",\"id\":130973567,\"node_id\":\"U_kgDOB85_fw\",\"avatar_url\":\"https://avatars.githubusercontent.com/u/130973567?v=4\",\"gravatar_id\":\"\",\"url\":\"https://api.github.com/users/CHOWTHA-PAVANI\",\"html_url\":\"https://github.com/CHOWTHA-PAVANI\",\"followers_url\":\"https://api.github.com/users/CHOWTHA-PAVANI/followers\",\"following_url\":\"https://api.github.com/users/CHOWTHA-PAVANI/following{/other_user}\",\"gists_url\":\"https://api.github.com/users/CHOWTHA-PAVANI/gists{/gist_id}\",\"starred_url\":\"https://api.github.com/users/CHOWTHA-PAVANI/starred{/owner}{/repo}\",\"subscriptions_url\":\"https://api.github.com/users/CHOWTHA-PAVANI/subscriptions\",\"organizations_url\":\"https://api.github.com/users/CHOWTHA-PAVANI/orgs\",\"repos_url\":\"https://api.github.com/users/CHOWTHA-PAVANI/repos\",\"events_url\":\"https://api.github.com/users/CHOWTHA-PAVANI/events{/privacy}\",\"received_events_url\":\"https://api.github.com/users/CHOWTHA-PAVANI/received_events\",\"type\":\"User\",\"site_admin\":false},\"html_url\":\"https://github.com/CHOWTHA-PAVANI/CodeClauseInternship_ProjectName\",\"description\":null,\"fork\":false,\"url\":\"https://api.github.com/repos/CHOWTHA-PAVANI/CodeClauseInternship_ProjectName\",\"forks_url\":\"https://api.github.com/repos/CHOWTHA-PAVANI/CodeClauseInternship_ProjectName/forks\",\"keys_url\":\"https://api.github.com/repos/CHOWTHA-PAVANI/CodeClauseInternship_ProjectName/keys{/key_id}\",\"collaborators_url\":\"https://api.github.com/repos/CHOWTHA-PAVANI/CodeClauseInternship_ProjectName/collaborators{/collaborator}\",\"teams_url\":\"https://api.github.com/repos/CHOWTHA-PAVANI/CodeClauseInternship_ProjectName/teams\",\"hooks_url\":\"https://api.github.com/repos/CHOWTHA-PAVANI/CodeClauseInternship_ProjectName/hooks\",\"issue_events_url\":\"https://api.github.com/repos/CHOWTHA-PAVANI/CodeClauseInternship_ProjectName/issues/events{/number}\",\"events_url\":\"https://api.github.com/repos/CHOWTHA-PAVANI/CodeClauseInternship_ProjectName/events\",\"assignees_url\":\"https://api.github.com/repos/CHOWTHA-PAVANI/CodeClauseInternship_ProjectName/assignees{/user}\",\"branches_url\":\"https://api.github.com/repos/CHOWTHA-PAVANI/CodeClauseInternship_ProjectName/branches{/branch}\",\"tags_url\":\"https://api.github.com/repos/CHOWTHA-PAVANI/CodeClauseInternship_ProjectName/tags\",\"blobs_url\":\"https://api.github.com/repos/CHOWTHA-PAVANI/CodeClauseInternship_ProjectName/git/blobs{/sha}\",\"git_tags_url\":\"https://api.github.com/repos/CHOWTHA-PAVANI/CodeClauseInternship_ProjectName/git/tags{/sha}\",\"git_refs_url\":\"https://api.github.com/repos/CHOWTHA-PAVANI/CodeClauseInternship_ProjectName/git/refs{/sha}\",\"trees_url\":\"https://api.github.com/repos/CHOWTHA-PAVANI/CodeClauseInternship_ProjectName/git/trees{/sha}\",\"statuses_url\":\"https://api.github.com/repos/CHOWTHA-PAVANI/CodeClauseInternship_ProjectName/statuses/{sha}\",\"languages_url\":\"https://api.github.com/repos/CHOWTHA-PAVANI/CodeClauseInternship_ProjectName/languages\",\"stargazers_url\":\"https://api.github.com/repos/CHOWTHA-PAVANI/CodeClauseInternship_ProjectName/stargazers\",\"contributors_url\":\"https://api.github.com/repos/CHOWTHA-PAVANI/CodeClauseInternship_ProjectName/contributors\",\"subscribers_url\":\"https://api.github.com/repos/CHOWTHA-PAVANI/CodeClauseInternship_ProjectName/subscribers\",\"subscription_url\":\"https://api.github.com/repos/CHOWTHA-PAVANI/CodeClauseInternship_ProjectName/subscription\",\"commits_url\":\"https://api.github.com/repos/CHOWTHA-PAVANI/CodeClauseInternship_ProjectName/commits{/sha}\",\"git_commits_url\":\"https://api.github.com/repos/CHOWTHA-PAVANI/CodeClauseInternship_ProjectName/git/commits{/sha}\",\"comments_url\":\"https://api.github.com/repos/CHOWTHA-PAVANI/CodeClauseInternship_ProjectName/comments{/number}\",\"issue_comment_url\":\"https://api.github.com/repos/CHOWTHA-PAVANI/CodeClauseInternship_ProjectName/issues/comments{/number}\",\"contents_url\":\"https://api.github.com/repos/CHOWTHA-PAVANI/CodeClauseInternship_ProjectName/contents/{+path}\",\"compare_url\":\"https://api.github.com/repos/CHOWTHA-PAVANI/CodeClauseInternship_ProjectName/compare/{base}...{head}\",\"merges_url\":\"https://api.github.com/repos/CHOWTHA-PAVANI/CodeClauseInternship_ProjectName/merges\",\"archive_url\":\"https://api.github.com/repos/CHOWTHA-PAVANI/CodeClauseInternship_ProjectName/{archive_format}{/ref}\",\"downloads_url\":\"https://api.github.com/repos/CHOWTHA-PAVANI/CodeClauseInternship_ProjectName/downloads\",\"issues_url\":\"https://api.github.com/repos/CHOWTHA-PAVANI/CodeClauseInternship_ProjectName/issues{/number}\",\"pulls_url\":\"https://api.github.com/repos/CHOWTHA-PAVANI/CodeClauseInternship_ProjectName/pulls{/number}\",\"milestones_url\":\"https://api.github.com/repos/CHOWTHA-PAVANI/CodeClauseInternship_ProjectName/milestones{/number}\",\"notifications_url\":\"https://api.github.com/repos/CHOWTHA-PAVANI/CodeClauseInternship_ProjectName/notifications{?since,all,participating}\",\"labels_url\":\"https://api.github.com/repos/CHOWTHA-PAVANI/CodeClauseInternship_ProjectName/labels{/name}\",\"releases_url\":\"https://api.github.com/repos/CHOWTHA-PAVANI/CodeClauseInternship_ProjectName/releases{/id}\",\"deployments_url\":\"https://api.github.com/repos/CHOWTHA-PAVANI/CodeClauseInternship_ProjectName/deployments\",\"created_at\":\"2023-08-02T09:51:19Z\",\"updated_at\":\"2023-08-26T17:02:32Z\",\"pushed_at\":\"2023-08-26T17:07:47Z\",\"git_url\":\"git://github.com/CHOWTHA-PAVANI/CodeClauseInternship_ProjectName.git\",\"ssh_url\":\"git@github.com:CHOWTHA-PAVANI/CodeClauseInternship_ProjectName.git\",\"clone_url\":\"https://github.com/CHOWTHA-PAVANI/CodeClauseInternship_ProjectName.git\",\"svn_url\":\"https://github.com/CHOWTHA-PAVANI/CodeClauseInternship_ProjectName\",\"homepage\":null,\"size\":490,\"stargazers_count\":0,\"watchers_count\":0,\"language\":\"HTML\",\"has_issues\":true,\"has_projects\":true,\"has_downloads\":true,\"has_wiki\":true,\"has_pages\":false,\"has_discussions\":false,\"forks_count\":0,\"mirror_url\":null,\"archived\":false,\"disabled\":false,\"open_issues_count\":2,\"license\":null,\"allow_forking\":true,\"is_template\":false,\"web_commit_signoff_required\":false,\"topics\":[],\"visibility\":\"public\",\"forks\":0,\"open_issues\":2,\"watchers\":0,\"default_branch\":\"task-1\"}},\"_links\":{\"self\":{\"href\":\"https://api.github.com/repos/CHOWTHA-PAVANI/CodeClauseInternship_ProjectName/pulls/3\"},\"html\":{\"href\":\"https://github.com/CHOWTHA-PAVANI/CodeClauseInternship_ProjectName/pull/3\"},\"issue\":{\"href\":\"https://api.github.com/repos/CHOWTHA-PAVANI/CodeClauseInternship_ProjectName/issues/3\"},\"comments\":{\"href\":\"https://api.github.com/repos/CHOWTHA-PAVANI/CodeClauseInternship_ProjectName/issues/3/comments\"},\"review_comments\":{\"href\":\"https://api.github.com/repos/CHOWTHA-PAVANI/CodeClauseInternship_ProjectName/pulls/3/comments\"},\"review_comment\":{\"href\":\"https://api.github.com/repos/CHOWTHA-PAVANI/CodeClauseInternship_ProjectName/pulls/comments{/number}\"},\"commits\":{\"href\":\"https://api.github.com/repos/CHOWTHA-PAVANI/CodeClauseInternship_ProjectName/pulls/3/commits\"},\"statuses\":{\"href\":\"https://api.github.com/repos/CHOWTHA-PAVANI/CodeClauseInternship_ProjectName/statuses/7403840d7815c1a2b9b89230b654cab8bb23bcf4\"}},\"author_association\":\"OWNER\",\"auto_merge\":null,\"active_lock_reason\":null,\"merged\":false,\"mergeable\":null,\"rebaseable\":null,\"mergeable_state\":\"unknown\",\"merged_by\":null,\"comments\":0,\"review_comments\":0,\"maintainer_can_modify\":false,\"commits\":1,\"additions\":0,\"deletions\":0,\"changed_files\":4}},\"public\":true,\"created_at\":\"2023-08-26T17:07:48Z\"},{\"id\":\"31393702251\",\"type\":\"PushEvent\",\"actor\":{\"id\":29139614,\"login\":\"renovate[bot]\",\"display_login\":\"renovate\",\"gravatar_id\":\"\",\"url\":\"https://api.github.com/users/renovate[bot]\",\"avatar_url\":\"https://avatars.githubusercontent.com/u/29139614?\"},\"repo\":{\"id\":362429892,\"name\":\"eliashaeussler/typo3-warming\",\"url\":\"https://api.github.com/repos/eliashaeussler/typo3-warming\"},\"payload\":{\"repository_id\":362429892,\"push_id\":14816511927,\"size\":2,\"distinct_size\":1,\"ref\":\"refs/heads/renovate/lock-file-maintenance\",\"head\":\"843020ddccce4b26aa490a3bc366810a4c8f9c77\",\"before\":\"844d31a54a579ee1e8ba8318abaf49de88b2c310\",\"commits\":[{\"sha\":\"894ac7b6742342ae787bd535f8886b4df6761358\",\"author\":{\"email\":\"elias@haeussler.dev\",\"name\":\"Elias Häußler\"},\"message\":\"[RELEASE] Release of EXT:warming 1.1.0\",\"distinct\":false,\"url\":\"https://api.github.com/repos/eliashaeussler/typo3-warming/commits/894ac7b6742342ae787bd535f8886b4df6761358\"},{\"sha\":\"843020ddccce4b26aa490a3bc366810a4c8f9c77\",\"author\":{\"email\":\"29139614+renovate[bot]@users.noreply.github.com\",\"name\":\"renovate[bot]\"},\"message\":\"[TASK] Update all dependencies\",\"distinct\":true,\"url\":\"https://api.github.com/repos/eliashaeussler/typo3-warming/commits/843020ddccce4b26aa490a3bc366810a4c8f9c77\"}]},\"public\":true,\"created_at\":\"2023-08-26T17:07:48Z\"},{\"id\":\"31393702267\",\"type\":\"PushEvent\",\"actor\":{\"id\":25347704,\"login\":\"cdash04\",\"display_login\":\"cdash04\",\"gravatar_id\":\"\",\"url\":\"https://api.github.com/users/cdash04\",\"avatar_url\":\"https://avatars.githubusercontent.com/u/25347704?\"},\"repo\":{\"id\":477162547,\"name\":\"cdash04/website\",\"url\":\"https://api.github.com/repos/cdash04/website\"},\"payload\":{\"repository_id\":477162547,\"push_id\":14816511938,\"size\":1,\"distinct_size\":1,\"ref\":\"refs/heads/main\",\"head\":\"5b73adf97df56eb0e809e3e4a9894bf7bea08836\",\"before\":\"7bd5d359e5425575885fe17a9c62b3e39c1131ac\",\"commits\":[{\"sha\":\"5b73adf97df56eb0e809e3e4a9894bf7bea08836\",\"author\":{\"email\":\"christophe.ashworth@zendesk.com\",\"name\":\"Christophe Duchesne-Ashworth\"},\"message\":\"add responsiveness improvement\",\"distinct\":true,\"url\":\"https://api.github.com/repos/cdash04/website/commits/5b73adf97df56eb0e809e3e4a9894bf7bea08836\"}]},\"public\":true,\"created_at\":\"2023-08-26T17:07:48Z\"},{\"id\":\"31393702255\",\"type\":\"CreateEvent\",\"actor\":{\"id\":127930504,\"login\":\"LuzinRoman\",\"display_login\":\"LuzinRoman\",\"gravatar_id\":\"\",\"url\":\"https://api.github.com/users/LuzinRoman\",\"avatar_url\":\"https://avatars.githubusercontent.com/u/127930504?\"},\"repo\":{\"id\":683468587,\"name\":\"LuzinRoman/Python\",\"url\":\"https://api.github.com/repos/LuzinRoman/Python\"},\"payload\":{\"ref\":null,\"ref_type\":\"repository\",\"master_branch\":\"main\",\"description\":null,\"pusher_type\":\"user\"},\"public\":true,\"created_at\":\"2023-08-26T17:07:48Z\"},{\"id\":\"31393702247\",\"type\":\"PushEvent\",\"actor\":{\"id\":41898282,\"login\":\"github-actions[bot]\",\"display_login\":\"github-actions\",\"gravatar_id\":\"\",\"url\":\"https://api.github.com/users/github-actions[bot]\",\"avatar_url\":\"https://avatars.githubusercontent.com/u/41898282?\"},\"repo\":{\"id\":616034077,\"name\":\"okxlin/appstore\",\"url\":\"https://api.github.com/repos/okxlin/appstore\"},\"payload\":{\"repository_id\":616034077,\"push_id\":14816511923,\"size\":1,\"distinct_size\":1,\"ref\":\"refs/heads/renovate/chaitin-safeline-detector-3.x\",\"head\":\"556cefeff3329133d9ff56cfea22bd4695975627\",\"before\":\"1bd8316eaf7481ff99b42bfa02d454d82e1c00be\",\"commits\":[{\"sha\":\"556cefeff3329133d9ff56cfea22bd4695975627\",\"author\":{\"email\":\"githubaction@githubaction.com\",\"name\":\"github-action update-app-version\"},\"message\":\"Update app version\",\"distinct\":true,\"url\":\"https://api.github.com/repos/okxlin/appstore/commits/556cefeff3329133d9ff56cfea22bd4695975627\"}]},\"public\":true,\"created_at\":\"2023-08-26T17:07:48Z\"},{\"id\":\"31393702249\",\"type\":\"PushEvent\",\"actor\":{\"id\":55878071,\"login\":\"joaocavacos\",\"display_login\":\"joaocavacos\",\"gravatar_id\":\"\",\"url\":\"https://api.github.com/users/joaocavacos\",\"avatar_url\":\"https://avatars.githubusercontent.com/u/55878071?\"},\"repo\":{\"id\":615545397,\"name\":\"joaocavacos/joaocavacos.github.io\",\"url\":\"https://api.github.com/repos/joaocavacos/joaocavacos.github.io\"},\"payload\":{\"repository_id\":615545397,\"push_id\":14816511931,\"size\":1,\"distinct_size\":1,\"ref\":\"refs/heads/main\",\"head\":\"28f745201842a08f5fe976ffee9e3351948ddac9\",\"before\":\"600c4fb8f19f861f84656bcfa37f043ed8c17796\",\"commits\":[{\"sha\":\"28f745201842a08f5fe976ffee9e3351948ddac9\",\"author\":{\"email\":\"cavacosdoesgaming@gmail.com\",\"name\":\"João Cavacos\"},\"message\":\"Update for my portfolio\",\"distinct\":true,\"url\":\"https://api.github.com/repos/joaocavacos/joaocavacos.github.io/commits/28f745201842a08f5fe976ffee9e3351948ddac9\"}]},\"public\":true,\"created_at\":\"2023-08-26T17:07:48Z\"},{\"id\":\"31393702243\",\"type\":\"PushEvent\",\"actor\":{\"id\":66690702,\"login\":\"github-classroom[bot]\",\"display_login\":\"github-classroom\",\"gravatar_id\":\"\",\"url\":\"https://api.github.com/users/github-classroom[bot]\",\"avatar_url\":\"https://avatars.githubusercontent.com/u/66690702?\"},\"repo\":{\"id\":683468477,\"name\":\"Exp-Intro-to-GitHub-Flow-Cohort-1/series-intro-to-github-flow-HridayDev\",\"url\":\"https://api.github.com/repos/Exp-Intro-to-GitHub-Flow-Cohort-1/series-intro-to-github-flow-HridayDev\"},\"payload\":{\"repository_id\":683468477,\"push_id\":14816511929,\"size\":1,\"distinct_size\":1,\"ref\":\"refs/heads/main\",\"head\":\"5485afc9eeaaea62481c0040ebf36541c4dc3947\",\"before\":\"f2b7b2e1810fe383bb972b61b9c824feb906dc09\",\"commits\":[{\"sha\":\"5485afc9eeaaea62481c0040ebf36541c4dc3947\",\"author\":{\"email\":\"66690702+github-classroom[bot]@users.noreply.github.com\",\"name\":\"github-classroom[bot]\"},\"message\":\"Update GitHub Classroom Autograding Workflow\",\"distinct\":true,\"url\":\"https://api.github.com/repos/Exp-Intro-to-GitHub-Flow-Cohort-1/series-intro-to-github-flow-HridayDev/commits/5485afc9eeaaea62481c0040ebf36541c4dc3947\"}]},\"public\":true,\"created_at\":\"2023-08-26T17:07:48Z\",\"org\":{\"id\":141875263,\"login\":\"Exp-Intro-to-GitHub-Flow-Cohort-1\",\"gravatar_id\":\"\",\"url\":\"https://api.github.com/orgs/Exp-Intro-to-GitHub-Flow-Cohort-1\",\"avatar_url\":\"https://avatars.githubusercontent.com/u/141875263?\"}},{\"id\":\"31393702236\",\"type\":\"PushEvent\",\"actor\":{\"id\":41898282,\"login\":\"github-actions[bot]\",\"display_login\":\"github-actions\",\"gravatar_id\":\"\",\"url\":\"https://api.github.com/users/github-actions[bot]\",\"avatar_url\":\"https://avatars.githubusercontent.com/u/41898282?\"},\"repo\":{\"id\":477192368,\"name\":\"herzog-network/herzog-network\",\"url\":\"https://api.github.com/repos/herzog-network/herzog-network\"},\"payload\":{\"repository_id\":477192368,\"push_id\":14816511921,\"size\":1,\"distinct_size\":1,\"ref\":\"refs/heads/master\",\"head\":\"bee7d73e33a77430c23e56643e5198da2b007a8c\",\"before\":\"756b448a71406f02b266f63f5550892b810e837d\",\"commits\":[{\"sha\":\"bee7d73e33a77430c23e56643e5198da2b007a8c\",\"author\":{\"email\":\"41898282+github-actions[bot]@users.noreply.github.com\",\"name\":\"github-actions[bot]\"},\"message\":\"Update web-performance.svg - [Skip GitHub Action]\",\"distinct\":true,\"url\":\"https://api.github.com/repos/herzog-network/herzog-network/commits/bee7d73e33a77430c23e56643e5198da2b007a8c\"}]},\"public\":true,\"created_at\":\"2023-08-26T17:07:48Z\"},{\"id\":\"31393702242\",\"type\":\"CreateEvent\",\"actor\":{\"id\":10810283,\"login\":\"direwolf-github\",\"display_login\":\"direwolf-github\",\"gravatar_id\":\"\",\"url\":\"https://api.github.com/users/direwolf-github\",\"avatar_url\":\"https://avatars.githubusercontent.com/u/10810283?\"},\"repo\":{\"id\":683468582,\"name\":\"direwolf-github/ephemeral-ci-9c3f1613\",\"url\":\"https://api.github.com/repos/direwolf-github/ephemeral-ci-9c3f1613\"},\"payload\":{\"ref\":\"master\",\"ref_type\":\"branch\",\"master_branch\":\"master\",\"description\":null,\"pusher_type\":\"user\"},\"public\":true,\"created_at\":\"2023-08-26T17:07:48Z\"}]'"
            ],
            "application/vnd.google.colaboratory.intrinsic+json": {
              "type": "string"
            }
          },
          "metadata": {},
          "execution_count": 8
        }
      ]
    },
    {
      "cell_type": "code",
      "source": [
        "data = r.json()\n",
        "type(data)"
      ],
      "metadata": {
        "colab": {
          "base_uri": "https://localhost:8080/"
        },
        "id": "uKhTy8lUiXJX",
        "outputId": "7db9bcc3-7d14-41b2-879f-33abfe6a8a2d"
      },
      "execution_count": null,
      "outputs": [
        {
          "output_type": "execute_result",
          "data": {
            "text/plain": [
              "list"
            ]
          },
          "metadata": {},
          "execution_count": 9
        }
      ]
    },
    {
      "cell_type": "code",
      "source": [
        "len(data)"
      ],
      "metadata": {
        "colab": {
          "base_uri": "https://localhost:8080/"
        },
        "id": "JUwNzqgL3fhh",
        "outputId": "319ec1c4-2254-406d-8279-2c85c6091687"
      },
      "execution_count": null,
      "outputs": [
        {
          "output_type": "execute_result",
          "data": {
            "text/plain": [
              "30"
            ]
          },
          "metadata": {},
          "execution_count": 13
        }
      ]
    },
    {
      "cell_type": "code",
      "source": [
        "data"
      ],
      "metadata": {
        "id": "Wz_s0Sv75S7T"
      },
      "execution_count": null,
      "outputs": []
    },
    {
      "cell_type": "code",
      "source": [
        "data."
      ],
      "metadata": {
        "id": "FasOD4u67_5r"
      },
      "execution_count": null,
      "outputs": []
    },
    {
      "cell_type": "code",
      "source": [
        "data[0].keys()"
      ],
      "metadata": {
        "colab": {
          "base_uri": "https://localhost:8080/"
        },
        "id": "c4uHisF42wdK",
        "outputId": "d4ace0c8-1dbd-41ad-fafe-f0fdfae29c5e"
      },
      "execution_count": null,
      "outputs": [
        {
          "output_type": "execute_result",
          "data": {
            "text/plain": [
              "dict_keys(['id', 'type', 'actor', 'repo', 'payload', 'public', 'created_at', 'org'])"
            ]
          },
          "metadata": {},
          "execution_count": 15
        }
      ]
    },
    {
      "cell_type": "code",
      "source": [
        "import pandas as pd\n",
        "df = pd.DataFrame(data)  # list to dataframe\n",
        "df.head()"
      ],
      "metadata": {
        "colab": {
          "base_uri": "https://localhost:8080/",
          "height": 431
        },
        "id": "eFxBp8SUiaFB",
        "outputId": "cd356764-47fa-44f2-a586-d1a74c0ae576"
      },
      "execution_count": null,
      "outputs": [
        {
          "output_type": "execute_result",
          "data": {
            "text/plain": [
              "            id                           type  \\\n",
              "0  31393702321  PullRequestReviewCommentEvent   \n",
              "1  31393702328                    CreateEvent   \n",
              "2  31393702313                      PushEvent   \n",
              "3  31393702312                      PushEvent   \n",
              "4  31393702301                    DeleteEvent   \n",
              "\n",
              "                                               actor  \\\n",
              "0  {'id': 194984, 'login': 'sideshowbarker', 'dis...   \n",
              "1  {'id': 10810283, 'login': 'direwolf-github', '...   \n",
              "2  {'id': 64309668, 'login': 'shaheedams', 'displ...   \n",
              "3  {'id': 46835298, 'login': 'zheniagnedchik', 'd...   \n",
              "4  {'id': 49699333, 'login': 'dependabot[bot]', '...   \n",
              "\n",
              "                                                repo  \\\n",
              "0  {'id': 320636477, 'name': 'WebKit/WebKit', 'ur...   \n",
              "1  {'id': 683468596, 'name': 'direwolf-github/eph...   \n",
              "2  {'id': 683466337, 'name': 'shaheedams/bill-gen...   \n",
              "3  {'id': 676833211, 'name': 'zheniagnedchik/hero...   \n",
              "4  {'id': 114226140, 'name': 'dictyBase/genomepag...   \n",
              "\n",
              "                                             payload  public  \\\n",
              "0  {'action': 'created', 'comment': {'url': 'http...    True   \n",
              "1  {'ref': None, 'ref_type': 'repository', 'maste...    True   \n",
              "2  {'repository_id': 683466337, 'push_id': 148165...    True   \n",
              "3  {'repository_id': 676833211, 'push_id': 148165...    True   \n",
              "4  {'ref': 'dependabot/npm_and_yarn/types/node-20...    True   \n",
              "\n",
              "             created_at                                                org  \n",
              "0  2023-08-26T17:07:47Z  {'id': 6458, 'login': 'WebKit', 'gravatar_id':...  \n",
              "1  2023-08-26T17:07:48Z                                                NaN  \n",
              "2  2023-08-26T17:07:48Z                                                NaN  \n",
              "3  2023-08-26T17:07:48Z                                                NaN  \n",
              "4  2023-08-26T17:07:48Z  {'id': 664001, 'login': 'dictyBase', 'gravatar...  "
            ],
            "text/html": [
              "\n",
              "  <div id=\"df-88e05ebe-18b9-4261-b2ea-a4a6dd7d3489\" class=\"colab-df-container\">\n",
              "    <div>\n",
              "<style scoped>\n",
              "    .dataframe tbody tr th:only-of-type {\n",
              "        vertical-align: middle;\n",
              "    }\n",
              "\n",
              "    .dataframe tbody tr th {\n",
              "        vertical-align: top;\n",
              "    }\n",
              "\n",
              "    .dataframe thead th {\n",
              "        text-align: right;\n",
              "    }\n",
              "</style>\n",
              "<table border=\"1\" class=\"dataframe\">\n",
              "  <thead>\n",
              "    <tr style=\"text-align: right;\">\n",
              "      <th></th>\n",
              "      <th>id</th>\n",
              "      <th>type</th>\n",
              "      <th>actor</th>\n",
              "      <th>repo</th>\n",
              "      <th>payload</th>\n",
              "      <th>public</th>\n",
              "      <th>created_at</th>\n",
              "      <th>org</th>\n",
              "    </tr>\n",
              "  </thead>\n",
              "  <tbody>\n",
              "    <tr>\n",
              "      <th>0</th>\n",
              "      <td>31393702321</td>\n",
              "      <td>PullRequestReviewCommentEvent</td>\n",
              "      <td>{'id': 194984, 'login': 'sideshowbarker', 'dis...</td>\n",
              "      <td>{'id': 320636477, 'name': 'WebKit/WebKit', 'ur...</td>\n",
              "      <td>{'action': 'created', 'comment': {'url': 'http...</td>\n",
              "      <td>True</td>\n",
              "      <td>2023-08-26T17:07:47Z</td>\n",
              "      <td>{'id': 6458, 'login': 'WebKit', 'gravatar_id':...</td>\n",
              "    </tr>\n",
              "    <tr>\n",
              "      <th>1</th>\n",
              "      <td>31393702328</td>\n",
              "      <td>CreateEvent</td>\n",
              "      <td>{'id': 10810283, 'login': 'direwolf-github', '...</td>\n",
              "      <td>{'id': 683468596, 'name': 'direwolf-github/eph...</td>\n",
              "      <td>{'ref': None, 'ref_type': 'repository', 'maste...</td>\n",
              "      <td>True</td>\n",
              "      <td>2023-08-26T17:07:48Z</td>\n",
              "      <td>NaN</td>\n",
              "    </tr>\n",
              "    <tr>\n",
              "      <th>2</th>\n",
              "      <td>31393702313</td>\n",
              "      <td>PushEvent</td>\n",
              "      <td>{'id': 64309668, 'login': 'shaheedams', 'displ...</td>\n",
              "      <td>{'id': 683466337, 'name': 'shaheedams/bill-gen...</td>\n",
              "      <td>{'repository_id': 683466337, 'push_id': 148165...</td>\n",
              "      <td>True</td>\n",
              "      <td>2023-08-26T17:07:48Z</td>\n",
              "      <td>NaN</td>\n",
              "    </tr>\n",
              "    <tr>\n",
              "      <th>3</th>\n",
              "      <td>31393702312</td>\n",
              "      <td>PushEvent</td>\n",
              "      <td>{'id': 46835298, 'login': 'zheniagnedchik', 'd...</td>\n",
              "      <td>{'id': 676833211, 'name': 'zheniagnedchik/hero...</td>\n",
              "      <td>{'repository_id': 676833211, 'push_id': 148165...</td>\n",
              "      <td>True</td>\n",
              "      <td>2023-08-26T17:07:48Z</td>\n",
              "      <td>NaN</td>\n",
              "    </tr>\n",
              "    <tr>\n",
              "      <th>4</th>\n",
              "      <td>31393702301</td>\n",
              "      <td>DeleteEvent</td>\n",
              "      <td>{'id': 49699333, 'login': 'dependabot[bot]', '...</td>\n",
              "      <td>{'id': 114226140, 'name': 'dictyBase/genomepag...</td>\n",
              "      <td>{'ref': 'dependabot/npm_and_yarn/types/node-20...</td>\n",
              "      <td>True</td>\n",
              "      <td>2023-08-26T17:07:48Z</td>\n",
              "      <td>{'id': 664001, 'login': 'dictyBase', 'gravatar...</td>\n",
              "    </tr>\n",
              "  </tbody>\n",
              "</table>\n",
              "</div>\n",
              "    <div class=\"colab-df-buttons\">\n",
              "\n",
              "  <div class=\"colab-df-container\">\n",
              "    <button class=\"colab-df-convert\" onclick=\"convertToInteractive('df-88e05ebe-18b9-4261-b2ea-a4a6dd7d3489')\"\n",
              "            title=\"Convert this dataframe to an interactive table.\"\n",
              "            style=\"display:none;\">\n",
              "\n",
              "  <svg xmlns=\"http://www.w3.org/2000/svg\" height=\"24px\" viewBox=\"0 -960 960 960\">\n",
              "    <path d=\"M120-120v-720h720v720H120Zm60-500h600v-160H180v160Zm220 220h160v-160H400v160Zm0 220h160v-160H400v160ZM180-400h160v-160H180v160Zm440 0h160v-160H620v160ZM180-180h160v-160H180v160Zm440 0h160v-160H620v160Z\"/>\n",
              "  </svg>\n",
              "    </button>\n",
              "\n",
              "  <style>\n",
              "    .colab-df-container {\n",
              "      display:flex;\n",
              "      gap: 12px;\n",
              "    }\n",
              "\n",
              "    .colab-df-convert {\n",
              "      background-color: #E8F0FE;\n",
              "      border: none;\n",
              "      border-radius: 50%;\n",
              "      cursor: pointer;\n",
              "      display: none;\n",
              "      fill: #1967D2;\n",
              "      height: 32px;\n",
              "      padding: 0 0 0 0;\n",
              "      width: 32px;\n",
              "    }\n",
              "\n",
              "    .colab-df-convert:hover {\n",
              "      background-color: #E2EBFA;\n",
              "      box-shadow: 0px 1px 2px rgba(60, 64, 67, 0.3), 0px 1px 3px 1px rgba(60, 64, 67, 0.15);\n",
              "      fill: #174EA6;\n",
              "    }\n",
              "\n",
              "    .colab-df-buttons div {\n",
              "      margin-bottom: 4px;\n",
              "    }\n",
              "\n",
              "    [theme=dark] .colab-df-convert {\n",
              "      background-color: #3B4455;\n",
              "      fill: #D2E3FC;\n",
              "    }\n",
              "\n",
              "    [theme=dark] .colab-df-convert:hover {\n",
              "      background-color: #434B5C;\n",
              "      box-shadow: 0px 1px 3px 1px rgba(0, 0, 0, 0.15);\n",
              "      filter: drop-shadow(0px 1px 2px rgba(0, 0, 0, 0.3));\n",
              "      fill: #FFFFFF;\n",
              "    }\n",
              "  </style>\n",
              "\n",
              "    <script>\n",
              "      const buttonEl =\n",
              "        document.querySelector('#df-88e05ebe-18b9-4261-b2ea-a4a6dd7d3489 button.colab-df-convert');\n",
              "      buttonEl.style.display =\n",
              "        google.colab.kernel.accessAllowed ? 'block' : 'none';\n",
              "\n",
              "      async function convertToInteractive(key) {\n",
              "        const element = document.querySelector('#df-88e05ebe-18b9-4261-b2ea-a4a6dd7d3489');\n",
              "        const dataTable =\n",
              "          await google.colab.kernel.invokeFunction('convertToInteractive',\n",
              "                                                    [key], {});\n",
              "        if (!dataTable) return;\n",
              "\n",
              "        const docLinkHtml = 'Like what you see? Visit the ' +\n",
              "          '<a target=\"_blank\" href=https://colab.research.google.com/notebooks/data_table.ipynb>data table notebook</a>'\n",
              "          + ' to learn more about interactive tables.';\n",
              "        element.innerHTML = '';\n",
              "        dataTable['output_type'] = 'display_data';\n",
              "        await google.colab.output.renderOutput(dataTable, element);\n",
              "        const docLink = document.createElement('div');\n",
              "        docLink.innerHTML = docLinkHtml;\n",
              "        element.appendChild(docLink);\n",
              "      }\n",
              "    </script>\n",
              "  </div>\n",
              "\n",
              "\n",
              "<div id=\"df-0c546cd3-5188-4100-bb0a-408bb89aea1a\">\n",
              "  <button class=\"colab-df-quickchart\" onclick=\"quickchart('df-0c546cd3-5188-4100-bb0a-408bb89aea1a')\"\n",
              "            title=\"Suggest charts.\"\n",
              "            style=\"display:none;\">\n",
              "\n",
              "<svg xmlns=\"http://www.w3.org/2000/svg\" height=\"24px\"viewBox=\"0 0 24 24\"\n",
              "     width=\"24px\">\n",
              "    <g>\n",
              "        <path d=\"M19 3H5c-1.1 0-2 .9-2 2v14c0 1.1.9 2 2 2h14c1.1 0 2-.9 2-2V5c0-1.1-.9-2-2-2zM9 17H7v-7h2v7zm4 0h-2V7h2v10zm4 0h-2v-4h2v4z\"/>\n",
              "    </g>\n",
              "</svg>\n",
              "  </button>\n",
              "\n",
              "<style>\n",
              "  .colab-df-quickchart {\n",
              "    background-color: #E8F0FE;\n",
              "    border: none;\n",
              "    border-radius: 50%;\n",
              "    cursor: pointer;\n",
              "    display: none;\n",
              "    fill: #1967D2;\n",
              "    height: 32px;\n",
              "    padding: 0 0 0 0;\n",
              "    width: 32px;\n",
              "  }\n",
              "\n",
              "  .colab-df-quickchart:hover {\n",
              "    background-color: #E2EBFA;\n",
              "    box-shadow: 0px 1px 2px rgba(60, 64, 67, 0.3), 0px 1px 3px 1px rgba(60, 64, 67, 0.15);\n",
              "    fill: #174EA6;\n",
              "  }\n",
              "\n",
              "  [theme=dark] .colab-df-quickchart {\n",
              "    background-color: #3B4455;\n",
              "    fill: #D2E3FC;\n",
              "  }\n",
              "\n",
              "  [theme=dark] .colab-df-quickchart:hover {\n",
              "    background-color: #434B5C;\n",
              "    box-shadow: 0px 1px 3px 1px rgba(0, 0, 0, 0.15);\n",
              "    filter: drop-shadow(0px 1px 2px rgba(0, 0, 0, 0.3));\n",
              "    fill: #FFFFFF;\n",
              "  }\n",
              "</style>\n",
              "\n",
              "  <script>\n",
              "    async function quickchart(key) {\n",
              "      const charts = await google.colab.kernel.invokeFunction(\n",
              "          'suggestCharts', [key], {});\n",
              "    }\n",
              "    (() => {\n",
              "      let quickchartButtonEl =\n",
              "        document.querySelector('#df-0c546cd3-5188-4100-bb0a-408bb89aea1a button');\n",
              "      quickchartButtonEl.style.display =\n",
              "        google.colab.kernel.accessAllowed ? 'block' : 'none';\n",
              "    })();\n",
              "  </script>\n",
              "</div>\n",
              "    </div>\n",
              "  </div>\n"
            ]
          },
          "metadata": {},
          "execution_count": 10
        }
      ]
    },
    {
      "cell_type": "code",
      "source": [
        "for content in df['actor'][:10]:\n",
        "    print(content)"
      ],
      "metadata": {
        "colab": {
          "base_uri": "https://localhost:8080/"
        },
        "id": "mVithZHXimvl",
        "outputId": "0f98dbbf-49d8-47ce-a64a-c568bf2d5298"
      },
      "execution_count": null,
      "outputs": [
        {
          "output_type": "stream",
          "name": "stdout",
          "text": [
            "{'id': 141315802, 'login': 'Joyfce', 'display_login': 'Joyfce', 'gravatar_id': '', 'url': 'https://api.github.com/users/Joyfce', 'avatar_url': 'https://avatars.githubusercontent.com/u/141315802?'}\n",
            "{'id': 86709039, 'login': 'very110', 'display_login': 'very110', 'gravatar_id': '', 'url': 'https://api.github.com/users/very110', 'avatar_url': 'https://avatars.githubusercontent.com/u/86709039?'}\n",
            "{'id': 41898282, 'login': 'github-actions[bot]', 'display_login': 'github-actions', 'gravatar_id': '', 'url': 'https://api.github.com/users/github-actions[bot]', 'avatar_url': 'https://avatars.githubusercontent.com/u/41898282?'}\n",
            "{'id': 41898282, 'login': 'github-actions[bot]', 'display_login': 'github-actions', 'gravatar_id': '', 'url': 'https://api.github.com/users/github-actions[bot]', 'avatar_url': 'https://avatars.githubusercontent.com/u/41898282?'}\n",
            "{'id': 80700348, 'login': 'githubvaladm', 'display_login': 'githubvaladm', 'gravatar_id': '', 'url': 'https://api.github.com/users/githubvaladm', 'avatar_url': 'https://avatars.githubusercontent.com/u/80700348?'}\n",
            "{'id': 3726984, 'login': 'matiaslizana', 'display_login': 'matiaslizana', 'gravatar_id': '', 'url': 'https://api.github.com/users/matiaslizana', 'avatar_url': 'https://avatars.githubusercontent.com/u/3726984?'}\n",
            "{'id': 8526086, 'login': 'MartinBernstorff', 'display_login': 'MartinBernstorff', 'gravatar_id': '', 'url': 'https://api.github.com/users/MartinBernstorff', 'avatar_url': 'https://avatars.githubusercontent.com/u/8526086?'}\n",
            "{'id': 2183506, 'login': 'odra', 'display_login': 'odra', 'gravatar_id': '', 'url': 'https://api.github.com/users/odra', 'avatar_url': 'https://avatars.githubusercontent.com/u/2183506?'}\n",
            "{'id': 41898282, 'login': 'github-actions[bot]', 'display_login': 'github-actions', 'gravatar_id': '', 'url': 'https://api.github.com/users/github-actions[bot]', 'avatar_url': 'https://avatars.githubusercontent.com/u/41898282?'}\n",
            "{'id': 53532178, 'login': 'bvv-1', 'display_login': 'bvv-1', 'gravatar_id': '', 'url': 'https://api.github.com/users/bvv-1', 'avatar_url': 'https://avatars.githubusercontent.com/u/53532178?'}\n"
          ]
        }
      ]
    },
    {
      "cell_type": "code",
      "source": [],
      "metadata": {
        "id": "-hK2GJ804V0K"
      },
      "execution_count": null,
      "outputs": []
    },
    {
      "cell_type": "code",
      "source": [
        "import json"
      ],
      "metadata": {
        "id": "nwiZxOSo4V3g"
      },
      "execution_count": null,
      "outputs": []
    },
    {
      "cell_type": "code",
      "source": [
        "# Load JSON data\n",
        "parsed_data = json.loads(data)"
      ],
      "metadata": {
        "colab": {
          "base_uri": "https://localhost:8080/",
          "height": 200
        },
        "id": "TKezcXrx4Zwo",
        "outputId": "f9b32347-5067-4e0d-a927-169f8d8ac8c9"
      },
      "execution_count": null,
      "outputs": [
        {
          "output_type": "error",
          "ename": "NameError",
          "evalue": "ignored",
          "traceback": [
            "\u001b[0;31m---------------------------------------------------------------------------\u001b[0m",
            "\u001b[0;31mNameError\u001b[0m                                 Traceback (most recent call last)",
            "\u001b[0;32m<ipython-input-1-73c325764c2e>\u001b[0m in \u001b[0;36m<cell line: 2>\u001b[0;34m()\u001b[0m\n\u001b[1;32m      1\u001b[0m \u001b[0;31m# Load JSON data\u001b[0m\u001b[0;34m\u001b[0m\u001b[0;34m\u001b[0m\u001b[0m\n\u001b[0;32m----> 2\u001b[0;31m \u001b[0mparsed_data\u001b[0m \u001b[0;34m=\u001b[0m \u001b[0mjson\u001b[0m\u001b[0;34m.\u001b[0m\u001b[0mloads\u001b[0m\u001b[0;34m(\u001b[0m\u001b[0mdata\u001b[0m\u001b[0;34m)\u001b[0m\u001b[0;34m\u001b[0m\u001b[0;34m\u001b[0m\u001b[0m\n\u001b[0m",
            "\u001b[0;31mNameError\u001b[0m: name 'json' is not defined"
          ]
        }
      ]
    },
    {
      "cell_type": "markdown",
      "source": [
        ">> ### json파일 읽고 tree 구조로 보는 방법"
      ],
      "metadata": {
        "id": "XrDUHlhv9BCO"
      }
    },
    {
      "cell_type": "code",
      "source": [
        "import json\n",
        "\n",
        "data = {\n",
        "    \"name\": \"John\",\n",
        "    \"age\": 30,\n",
        "    \"city\": \"New York\"\n",
        "}\n",
        "\n",
        "formatted_json = json.dumps(data, indent=2)  # 들여쓰기하면 보기가 좋음\n",
        "print(formatted_json)"
      ],
      "metadata": {
        "colab": {
          "base_uri": "https://localhost:8080/"
        },
        "id": "twuI8Wmf8gF1",
        "outputId": "38cae6c3-ad2a-4543-986c-6a2c73dc8f59"
      },
      "execution_count": null,
      "outputs": [
        {
          "output_type": "stream",
          "name": "stdout",
          "text": [
            "[\n",
            "  {\n",
            "    \"name\": \"John\",\n",
            "    \"age\": 30,\n",
            "    \"city\": \"New York\"\n",
            "  }\n",
            "]\n"
          ]
        }
      ]
    },
    {
      "cell_type": "code",
      "source": [
        "data = [{\n",
        "    \"name\": \"John\",\n",
        "    \"age\": 30,\n",
        "    \"city\": \"New York\"\n",
        "}]\n",
        "\n",
        "formatted_json = json.dumps(data, indent=2)  # 들여쓰기하면 보기가 좋음\n",
        "print(formatted_json)"
      ],
      "metadata": {
        "colab": {
          "base_uri": "https://localhost:8080/"
        },
        "id": "C6CNEzRo8xbA",
        "outputId": "116b585c-dfdd-4f96-94e5-fc303458613f"
      },
      "execution_count": null,
      "outputs": [
        {
          "output_type": "stream",
          "name": "stdout",
          "text": [
            "[\n",
            "  {\n",
            "    \"name\": \"John\",\n",
            "    \"age\": 30,\n",
            "    \"city\": \"New York\"\n",
            "  }\n",
            "]\n"
          ]
        }
      ]
    },
    {
      "cell_type": "markdown",
      "source": [
        ">> ### https://jsonviewer.stack.hu/\n",
        "- 크롬확장프로그램으로 설치하여 확인하기\n",
        "- TEXT 탭에 JSON 데이터를 입력하고 Viewer 탭으로 이동"
      ],
      "metadata": {
        "id": "pDWS95qI9HNN"
      }
    },
    {
      "cell_type": "code",
      "source": [
        "# Pretty-print the list of dictionaries (JSON data)\n",
        "print(json.dumps(data, indent=2))"
      ],
      "metadata": {
        "id": "Z7wXMpmH4ZzP"
      },
      "execution_count": null,
      "outputs": []
    },
    {
      "cell_type": "code",
      "source": [
        "import pprint\n",
        "pp = pprint.PrettyPrinter(indent=2)\n",
        "pp.pprint(data)"
      ],
      "metadata": {
        "id": "qFo3ju8R4Z2f"
      },
      "execution_count": null,
      "outputs": []
    },
    {
      "cell_type": "markdown",
      "source": [
        "<img src='https://images.ctfassets.net/vwq10xzbe6iz/5sBH4Agl614xM7exeLsTo7/9e84dce01735f155911e611c42c9793f/rest-api.png'>\n",
        "\n",
        "\n",
        "\n",
        "### HTTP verbs\n",
        "- There are 5 basic verb commands when making a HTTP request:\n",
        "\n",
        ">- GET: make a read only request to view either a single or list of multiple resources\n",
        "- POST: create a new resource based on the payload given in the body of the request\n",
        "- DELETE: destroy the given resource based on the id provided\n",
        "- PUT: update the entire fields of the resource based on the given body of the request or create a new one if not already exist\n",
        "- PATCH: update only the fields of the resource if it exists\n",
        "\n",
        "### http://httpbin.org/get 웹서버로 실습\n",
        "\n"
      ],
      "metadata": {
        "id": "ow2-w9-8lF7g"
      }
    },
    {
      "cell_type": "code",
      "source": [
        "'''\n",
        "{\n",
        "  \"args\": {},\n",
        "  \"headers\": {\n",
        "    \"Accept\": \"text/html,application/xhtml+xml,application/xml;q=0.9,image/avif,image/webp,image/apng,*/*;q=0.8,application/signed-exchange;v=b3;q=0.7\",\n",
        "    \"Accept-Encoding\": \"gzip, deflate\",\n",
        "    \"Accept-Language\": \"ko-KR,ko;q=0.9,en-US;q=0.8,en;q=0.7\",\n",
        "    \"Host\": \"httpbin.org\",\n",
        "    \"Upgrade-Insecure-Requests\": \"1\",\n",
        "    \"User-Agent\": \"Mozilla/5.0 (Windows NT 10.0; Win64; x64) AppleWebKit/537.36 (KHTML, like Gecko) Chrome/115.0.0.0 Safari/537.36\",\n",
        "    \"X-Amzn-Trace-Id\": \"Root=1-64d6350b-4d8c7710021da0ab4ccabacc\"\n",
        "  },\n",
        "  \"origin\": \"112.169.221.81\",\n",
        "  \"url\": \"http://httpbin.org/get\"\n",
        "}\n",
        "'''"
      ],
      "metadata": {
        "id": "RuWXI7V7v8rH",
        "colab": {
          "base_uri": "https://localhost:8080/",
          "height": 90
        },
        "outputId": "597bc3e1-1c76-467b-da3b-55acfb093cb4"
      },
      "execution_count": null,
      "outputs": [
        {
          "output_type": "execute_result",
          "data": {
            "text/plain": [
              "'\\n{\\n  \"args\": {}, \\n  \"headers\": {\\n    \"Accept\": \"text/html,application/xhtml+xml,application/xml;q=0.9,image/avif,image/webp,image/apng,*/*;q=0.8,application/signed-exchange;v=b3;q=0.7\", \\n    \"Accept-Encoding\": \"gzip, deflate\", \\n    \"Accept-Language\": \"ko-KR,ko;q=0.9,en-US;q=0.8,en;q=0.7\", \\n    \"Host\": \"httpbin.org\", \\n    \"Upgrade-Insecure-Requests\": \"1\", \\n    \"User-Agent\": \"Mozilla/5.0 (Windows NT 10.0; Win64; x64) AppleWebKit/537.36 (KHTML, like Gecko) Chrome/115.0.0.0 Safari/537.36\", \\n    \"X-Amzn-Trace-Id\": \"Root=1-64d6350b-4d8c7710021da0ab4ccabacc\"\\n  }, \\n  \"origin\": \"112.169.221.81\", \\n  \"url\": \"http://httpbin.org/get\"\\n}\\n'"
            ],
            "application/vnd.google.colaboratory.intrinsic+json": {
              "type": "string"
            }
          },
          "metadata": {},
          "execution_count": 46
        }
      ]
    },
    {
      "cell_type": "code",
      "source": [
        "r = requests.get('https://httpbin.org/')\n",
        "print(r)\n"
      ],
      "metadata": {
        "colab": {
          "base_uri": "https://localhost:8080/"
        },
        "id": "Gsd1YmfvlasT",
        "outputId": "85dc8b55-697b-4b91-d242-1cec350e6d2f"
      },
      "execution_count": null,
      "outputs": [
        {
          "output_type": "stream",
          "name": "stdout",
          "text": [
            "<Response [200]>\n"
          ]
        }
      ]
    },
    {
      "cell_type": "code",
      "source": [
        "print(r.text)"
      ],
      "metadata": {
        "id": "7-4w1y7ss77p"
      },
      "execution_count": null,
      "outputs": []
    },
    {
      "cell_type": "markdown",
      "source": [
        "## **1. Python Request GET**\n",
        "- 각각 GET, PUT, DELETE 메소드에 따라 다른 요청을 하는 것을 실습\n",
        "- Endpoint란 API가 서버에서 자원(resource)에 접근할 수 있도록 하는 URL"
      ],
      "metadata": {
        "id": "ciqo-2UDwehz"
      }
    },
    {
      "cell_type": "code",
      "source": [
        "url = 'https://httpbin.org/get'"
      ],
      "metadata": {
        "id": "GA6-65Y4wrD9"
      },
      "execution_count": null,
      "outputs": []
    },
    {
      "cell_type": "code",
      "source": [
        "http_get_request = requests.get(url, params={'names': 'james'})\n",
        "print(http_get_request.text)\n",
        "print(http_get_request.status_code)"
      ],
      "metadata": {
        "colab": {
          "base_uri": "https://localhost:8080/"
        },
        "id": "xDHrDdVmtiog",
        "outputId": "ac468e56-035b-4854-9e24-8382448396e4"
      },
      "execution_count": null,
      "outputs": [
        {
          "output_type": "stream",
          "name": "stdout",
          "text": [
            "{\n",
            "  \"args\": {\n",
            "    \"names\": \"james\"\n",
            "  }, \n",
            "  \"headers\": {\n",
            "    \"Accept\": \"*/*\", \n",
            "    \"Accept-Encoding\": \"gzip, deflate\", \n",
            "    \"Host\": \"httpbin.org\", \n",
            "    \"User-Agent\": \"python-requests/2.31.0\", \n",
            "    \"X-Amzn-Trace-Id\": \"Root=1-64d636aa-6d8eb0365906d31855e55630\"\n",
            "  }, \n",
            "  \"origin\": \"34.125.245.177\", \n",
            "  \"url\": \"https://httpbin.org/get?names=james\"\n",
            "}\n",
            "\n",
            "200\n"
          ]
        }
      ]
    },
    {
      "cell_type": "code",
      "source": [
        "pd.DataFrame(http_get_request.json())"
      ],
      "metadata": {
        "colab": {
          "base_uri": "https://localhost:8080/",
          "height": 237
        },
        "id": "PhZWwYc7x48a",
        "outputId": "09b67895-bb7c-49c8-aa1e-c8d49ddbb200"
      },
      "execution_count": null,
      "outputs": [
        {
          "output_type": "execute_result",
          "data": {
            "text/plain": [
              "                  args                                   headers  \\\n",
              "names            james                                       NaN   \n",
              "Accept             NaN                                       */*   \n",
              "Accept-Encoding    NaN                             gzip, deflate   \n",
              "Host               NaN                               httpbin.org   \n",
              "User-Agent         NaN                    python-requests/2.31.0   \n",
              "X-Amzn-Trace-Id    NaN  Root=1-64d636aa-6d8eb0365906d31855e55630   \n",
              "\n",
              "                         origin                                  url  \n",
              "names            34.125.245.177  https://httpbin.org/get?names=james  \n",
              "Accept           34.125.245.177  https://httpbin.org/get?names=james  \n",
              "Accept-Encoding  34.125.245.177  https://httpbin.org/get?names=james  \n",
              "Host             34.125.245.177  https://httpbin.org/get?names=james  \n",
              "User-Agent       34.125.245.177  https://httpbin.org/get?names=james  \n",
              "X-Amzn-Trace-Id  34.125.245.177  https://httpbin.org/get?names=james  "
            ],
            "text/html": [
              "\n",
              "\n",
              "  <div id=\"df-d91ae317-59b6-4679-bccc-34f4fb5d1e24\">\n",
              "    <div class=\"colab-df-container\">\n",
              "      <div>\n",
              "<style scoped>\n",
              "    .dataframe tbody tr th:only-of-type {\n",
              "        vertical-align: middle;\n",
              "    }\n",
              "\n",
              "    .dataframe tbody tr th {\n",
              "        vertical-align: top;\n",
              "    }\n",
              "\n",
              "    .dataframe thead th {\n",
              "        text-align: right;\n",
              "    }\n",
              "</style>\n",
              "<table border=\"1\" class=\"dataframe\">\n",
              "  <thead>\n",
              "    <tr style=\"text-align: right;\">\n",
              "      <th></th>\n",
              "      <th>args</th>\n",
              "      <th>headers</th>\n",
              "      <th>origin</th>\n",
              "      <th>url</th>\n",
              "    </tr>\n",
              "  </thead>\n",
              "  <tbody>\n",
              "    <tr>\n",
              "      <th>names</th>\n",
              "      <td>james</td>\n",
              "      <td>NaN</td>\n",
              "      <td>34.125.245.177</td>\n",
              "      <td>https://httpbin.org/get?names=james</td>\n",
              "    </tr>\n",
              "    <tr>\n",
              "      <th>Accept</th>\n",
              "      <td>NaN</td>\n",
              "      <td>*/*</td>\n",
              "      <td>34.125.245.177</td>\n",
              "      <td>https://httpbin.org/get?names=james</td>\n",
              "    </tr>\n",
              "    <tr>\n",
              "      <th>Accept-Encoding</th>\n",
              "      <td>NaN</td>\n",
              "      <td>gzip, deflate</td>\n",
              "      <td>34.125.245.177</td>\n",
              "      <td>https://httpbin.org/get?names=james</td>\n",
              "    </tr>\n",
              "    <tr>\n",
              "      <th>Host</th>\n",
              "      <td>NaN</td>\n",
              "      <td>httpbin.org</td>\n",
              "      <td>34.125.245.177</td>\n",
              "      <td>https://httpbin.org/get?names=james</td>\n",
              "    </tr>\n",
              "    <tr>\n",
              "      <th>User-Agent</th>\n",
              "      <td>NaN</td>\n",
              "      <td>python-requests/2.31.0</td>\n",
              "      <td>34.125.245.177</td>\n",
              "      <td>https://httpbin.org/get?names=james</td>\n",
              "    </tr>\n",
              "    <tr>\n",
              "      <th>X-Amzn-Trace-Id</th>\n",
              "      <td>NaN</td>\n",
              "      <td>Root=1-64d636aa-6d8eb0365906d31855e55630</td>\n",
              "      <td>34.125.245.177</td>\n",
              "      <td>https://httpbin.org/get?names=james</td>\n",
              "    </tr>\n",
              "  </tbody>\n",
              "</table>\n",
              "</div>\n",
              "      <button class=\"colab-df-convert\" onclick=\"convertToInteractive('df-d91ae317-59b6-4679-bccc-34f4fb5d1e24')\"\n",
              "              title=\"Convert this dataframe to an interactive table.\"\n",
              "              style=\"display:none;\">\n",
              "\n",
              "  <svg xmlns=\"http://www.w3.org/2000/svg\" height=\"24px\"viewBox=\"0 0 24 24\"\n",
              "       width=\"24px\">\n",
              "    <path d=\"M0 0h24v24H0V0z\" fill=\"none\"/>\n",
              "    <path d=\"M18.56 5.44l.94 2.06.94-2.06 2.06-.94-2.06-.94-.94-2.06-.94 2.06-2.06.94zm-11 1L8.5 8.5l.94-2.06 2.06-.94-2.06-.94L8.5 2.5l-.94 2.06-2.06.94zm10 10l.94 2.06.94-2.06 2.06-.94-2.06-.94-.94-2.06-.94 2.06-2.06.94z\"/><path d=\"M17.41 7.96l-1.37-1.37c-.4-.4-.92-.59-1.43-.59-.52 0-1.04.2-1.43.59L10.3 9.45l-7.72 7.72c-.78.78-.78 2.05 0 2.83L4 21.41c.39.39.9.59 1.41.59.51 0 1.02-.2 1.41-.59l7.78-7.78 2.81-2.81c.8-.78.8-2.07 0-2.86zM5.41 20L4 18.59l7.72-7.72 1.47 1.35L5.41 20z\"/>\n",
              "  </svg>\n",
              "      </button>\n",
              "\n",
              "\n",
              "\n",
              "    <div id=\"df-366b1cec-e642-4b74-a2a6-afe17af77c77\">\n",
              "      <button class=\"colab-df-quickchart\" onclick=\"quickchart('df-366b1cec-e642-4b74-a2a6-afe17af77c77')\"\n",
              "              title=\"Suggest charts.\"\n",
              "              style=\"display:none;\">\n",
              "\n",
              "<svg xmlns=\"http://www.w3.org/2000/svg\" height=\"24px\"viewBox=\"0 0 24 24\"\n",
              "     width=\"24px\">\n",
              "    <g>\n",
              "        <path d=\"M19 3H5c-1.1 0-2 .9-2 2v14c0 1.1.9 2 2 2h14c1.1 0 2-.9 2-2V5c0-1.1-.9-2-2-2zM9 17H7v-7h2v7zm4 0h-2V7h2v10zm4 0h-2v-4h2v4z\"/>\n",
              "    </g>\n",
              "</svg>\n",
              "      </button>\n",
              "    </div>\n",
              "\n",
              "<style>\n",
              "  .colab-df-quickchart {\n",
              "    background-color: #E8F0FE;\n",
              "    border: none;\n",
              "    border-radius: 50%;\n",
              "    cursor: pointer;\n",
              "    display: none;\n",
              "    fill: #1967D2;\n",
              "    height: 32px;\n",
              "    padding: 0 0 0 0;\n",
              "    width: 32px;\n",
              "  }\n",
              "\n",
              "  .colab-df-quickchart:hover {\n",
              "    background-color: #E2EBFA;\n",
              "    box-shadow: 0px 1px 2px rgba(60, 64, 67, 0.3), 0px 1px 3px 1px rgba(60, 64, 67, 0.15);\n",
              "    fill: #174EA6;\n",
              "  }\n",
              "\n",
              "  [theme=dark] .colab-df-quickchart {\n",
              "    background-color: #3B4455;\n",
              "    fill: #D2E3FC;\n",
              "  }\n",
              "\n",
              "  [theme=dark] .colab-df-quickchart:hover {\n",
              "    background-color: #434B5C;\n",
              "    box-shadow: 0px 1px 3px 1px rgba(0, 0, 0, 0.15);\n",
              "    filter: drop-shadow(0px 1px 2px rgba(0, 0, 0, 0.3));\n",
              "    fill: #FFFFFF;\n",
              "  }\n",
              "</style>\n",
              "\n",
              "    <script>\n",
              "      async function quickchart(key) {\n",
              "        const containerElement = document.querySelector('#' + key);\n",
              "        const charts = await google.colab.kernel.invokeFunction(\n",
              "            'suggestCharts', [key], {});\n",
              "      }\n",
              "    </script>\n",
              "\n",
              "      <script>\n",
              "\n",
              "function displayQuickchartButton(domScope) {\n",
              "  let quickchartButtonEl =\n",
              "    domScope.querySelector('#df-366b1cec-e642-4b74-a2a6-afe17af77c77 button.colab-df-quickchart');\n",
              "  quickchartButtonEl.style.display =\n",
              "    google.colab.kernel.accessAllowed ? 'block' : 'none';\n",
              "}\n",
              "\n",
              "        displayQuickchartButton(document);\n",
              "      </script>\n",
              "      <style>\n",
              "    .colab-df-container {\n",
              "      display:flex;\n",
              "      flex-wrap:wrap;\n",
              "      gap: 12px;\n",
              "    }\n",
              "\n",
              "    .colab-df-convert {\n",
              "      background-color: #E8F0FE;\n",
              "      border: none;\n",
              "      border-radius: 50%;\n",
              "      cursor: pointer;\n",
              "      display: none;\n",
              "      fill: #1967D2;\n",
              "      height: 32px;\n",
              "      padding: 0 0 0 0;\n",
              "      width: 32px;\n",
              "    }\n",
              "\n",
              "    .colab-df-convert:hover {\n",
              "      background-color: #E2EBFA;\n",
              "      box-shadow: 0px 1px 2px rgba(60, 64, 67, 0.3), 0px 1px 3px 1px rgba(60, 64, 67, 0.15);\n",
              "      fill: #174EA6;\n",
              "    }\n",
              "\n",
              "    [theme=dark] .colab-df-convert {\n",
              "      background-color: #3B4455;\n",
              "      fill: #D2E3FC;\n",
              "    }\n",
              "\n",
              "    [theme=dark] .colab-df-convert:hover {\n",
              "      background-color: #434B5C;\n",
              "      box-shadow: 0px 1px 3px 1px rgba(0, 0, 0, 0.15);\n",
              "      filter: drop-shadow(0px 1px 2px rgba(0, 0, 0, 0.3));\n",
              "      fill: #FFFFFF;\n",
              "    }\n",
              "  </style>\n",
              "\n",
              "      <script>\n",
              "        const buttonEl =\n",
              "          document.querySelector('#df-d91ae317-59b6-4679-bccc-34f4fb5d1e24 button.colab-df-convert');\n",
              "        buttonEl.style.display =\n",
              "          google.colab.kernel.accessAllowed ? 'block' : 'none';\n",
              "\n",
              "        async function convertToInteractive(key) {\n",
              "          const element = document.querySelector('#df-d91ae317-59b6-4679-bccc-34f4fb5d1e24');\n",
              "          const dataTable =\n",
              "            await google.colab.kernel.invokeFunction('convertToInteractive',\n",
              "                                                     [key], {});\n",
              "          if (!dataTable) return;\n",
              "\n",
              "          const docLinkHtml = 'Like what you see? Visit the ' +\n",
              "            '<a target=\"_blank\" href=https://colab.research.google.com/notebooks/data_table.ipynb>data table notebook</a>'\n",
              "            + ' to learn more about interactive tables.';\n",
              "          element.innerHTML = '';\n",
              "          dataTable['output_type'] = 'display_data';\n",
              "          await google.colab.output.renderOutput(dataTable, element);\n",
              "          const docLink = document.createElement('div');\n",
              "          docLink.innerHTML = docLinkHtml;\n",
              "          element.appendChild(docLink);\n",
              "        }\n",
              "      </script>\n",
              "    </div>\n",
              "  </div>\n"
            ]
          },
          "metadata": {},
          "execution_count": 56
        }
      ]
    },
    {
      "cell_type": "code",
      "source": [
        "pd.DataFrame(http_get_request.json()).index"
      ],
      "metadata": {
        "colab": {
          "base_uri": "https://localhost:8080/"
        },
        "id": "Os2J3XjuyCNm",
        "outputId": "5e2f09ed-cf8f-4301-b806-4be0f96b742a"
      },
      "execution_count": null,
      "outputs": [
        {
          "output_type": "execute_result",
          "data": {
            "text/plain": [
              "Index(['names', 'Accept', 'Accept-Encoding', 'Host', 'User-Agent',\n",
              "       'X-Amzn-Trace-Id'],\n",
              "      dtype='object')"
            ]
          },
          "metadata": {},
          "execution_count": 57
        }
      ]
    },
    {
      "cell_type": "markdown",
      "source": [
        "## **2. Python Request POST**"
      ],
      "metadata": {
        "id": "gNinaLGWyHcU"
      }
    },
    {
      "cell_type": "code",
      "source": [
        "url = 'https://httpbin.org/post'\n",
        "http_post_request = requests.post(url, data={'key': 'value'})\n",
        "print(http_post_request.text)\n",
        "print(http_post_request.status_code)"
      ],
      "metadata": {
        "colab": {
          "base_uri": "https://localhost:8080/"
        },
        "id": "dh1jpZ-ck-zE",
        "outputId": "f6859529-03c0-454e-9a9d-39be7f41c162"
      },
      "execution_count": null,
      "outputs": [
        {
          "output_type": "stream",
          "name": "stdout",
          "text": [
            "{\n",
            "  \"args\": {}, \n",
            "  \"data\": \"\", \n",
            "  \"files\": {}, \n",
            "  \"form\": {\n",
            "    \"key\": \"value\"\n",
            "  }, \n",
            "  \"headers\": {\n",
            "    \"Accept\": \"*/*\", \n",
            "    \"Accept-Encoding\": \"gzip, deflate\", \n",
            "    \"Content-Length\": \"9\", \n",
            "    \"Content-Type\": \"application/x-www-form-urlencoded\", \n",
            "    \"Host\": \"httpbin.org\", \n",
            "    \"User-Agent\": \"python-requests/2.31.0\", \n",
            "    \"X-Amzn-Trace-Id\": \"Root=1-64d63965-4496fbcf481ad44722935256\"\n",
            "  }, \n",
            "  \"json\": null, \n",
            "  \"origin\": \"34.125.245.177\", \n",
            "  \"url\": \"https://httpbin.org/post\"\n",
            "}\n",
            "\n",
            "200\n"
          ]
        }
      ]
    },
    {
      "cell_type": "code",
      "source": [
        "pd.DataFrame(http_post_request.json())"
      ],
      "metadata": {
        "colab": {
          "base_uri": "https://localhost:8080/",
          "height": 300
        },
        "id": "6FRTu_aulLS9",
        "outputId": "154434c9-2211-4811-f269-4ed4887af189"
      },
      "execution_count": null,
      "outputs": [
        {
          "output_type": "execute_result",
          "data": {
            "text/plain": [
              "                 args data  files   form  \\\n",
              "key               NaN         NaN  value   \n",
              "Accept            NaN         NaN    NaN   \n",
              "Accept-Encoding   NaN         NaN    NaN   \n",
              "Content-Length    NaN         NaN    NaN   \n",
              "Content-Type      NaN         NaN    NaN   \n",
              "Host              NaN         NaN    NaN   \n",
              "User-Agent        NaN         NaN    NaN   \n",
              "X-Amzn-Trace-Id   NaN         NaN    NaN   \n",
              "\n",
              "                                                  headers  json  \\\n",
              "key                                                   NaN  None   \n",
              "Accept                                                */*  None   \n",
              "Accept-Encoding                             gzip, deflate  None   \n",
              "Content-Length                                          9  None   \n",
              "Content-Type            application/x-www-form-urlencoded  None   \n",
              "Host                                          httpbin.org  None   \n",
              "User-Agent                         python-requests/2.31.0  None   \n",
              "X-Amzn-Trace-Id  Root=1-64d63842-694f0a6d5c0456140b3ce241  None   \n",
              "\n",
              "                         origin                       url  \n",
              "key              34.125.245.177  https://httpbin.org/post  \n",
              "Accept           34.125.245.177  https://httpbin.org/post  \n",
              "Accept-Encoding  34.125.245.177  https://httpbin.org/post  \n",
              "Content-Length   34.125.245.177  https://httpbin.org/post  \n",
              "Content-Type     34.125.245.177  https://httpbin.org/post  \n",
              "Host             34.125.245.177  https://httpbin.org/post  \n",
              "User-Agent       34.125.245.177  https://httpbin.org/post  \n",
              "X-Amzn-Trace-Id  34.125.245.177  https://httpbin.org/post  "
            ],
            "text/html": [
              "\n",
              "\n",
              "  <div id=\"df-8b74cc4f-b3fe-41c1-98fc-64ac95ff5340\">\n",
              "    <div class=\"colab-df-container\">\n",
              "      <div>\n",
              "<style scoped>\n",
              "    .dataframe tbody tr th:only-of-type {\n",
              "        vertical-align: middle;\n",
              "    }\n",
              "\n",
              "    .dataframe tbody tr th {\n",
              "        vertical-align: top;\n",
              "    }\n",
              "\n",
              "    .dataframe thead th {\n",
              "        text-align: right;\n",
              "    }\n",
              "</style>\n",
              "<table border=\"1\" class=\"dataframe\">\n",
              "  <thead>\n",
              "    <tr style=\"text-align: right;\">\n",
              "      <th></th>\n",
              "      <th>args</th>\n",
              "      <th>data</th>\n",
              "      <th>files</th>\n",
              "      <th>form</th>\n",
              "      <th>headers</th>\n",
              "      <th>json</th>\n",
              "      <th>origin</th>\n",
              "      <th>url</th>\n",
              "    </tr>\n",
              "  </thead>\n",
              "  <tbody>\n",
              "    <tr>\n",
              "      <th>key</th>\n",
              "      <td>NaN</td>\n",
              "      <td></td>\n",
              "      <td>NaN</td>\n",
              "      <td>value</td>\n",
              "      <td>NaN</td>\n",
              "      <td>None</td>\n",
              "      <td>34.125.245.177</td>\n",
              "      <td>https://httpbin.org/post</td>\n",
              "    </tr>\n",
              "    <tr>\n",
              "      <th>Accept</th>\n",
              "      <td>NaN</td>\n",
              "      <td></td>\n",
              "      <td>NaN</td>\n",
              "      <td>NaN</td>\n",
              "      <td>*/*</td>\n",
              "      <td>None</td>\n",
              "      <td>34.125.245.177</td>\n",
              "      <td>https://httpbin.org/post</td>\n",
              "    </tr>\n",
              "    <tr>\n",
              "      <th>Accept-Encoding</th>\n",
              "      <td>NaN</td>\n",
              "      <td></td>\n",
              "      <td>NaN</td>\n",
              "      <td>NaN</td>\n",
              "      <td>gzip, deflate</td>\n",
              "      <td>None</td>\n",
              "      <td>34.125.245.177</td>\n",
              "      <td>https://httpbin.org/post</td>\n",
              "    </tr>\n",
              "    <tr>\n",
              "      <th>Content-Length</th>\n",
              "      <td>NaN</td>\n",
              "      <td></td>\n",
              "      <td>NaN</td>\n",
              "      <td>NaN</td>\n",
              "      <td>9</td>\n",
              "      <td>None</td>\n",
              "      <td>34.125.245.177</td>\n",
              "      <td>https://httpbin.org/post</td>\n",
              "    </tr>\n",
              "    <tr>\n",
              "      <th>Content-Type</th>\n",
              "      <td>NaN</td>\n",
              "      <td></td>\n",
              "      <td>NaN</td>\n",
              "      <td>NaN</td>\n",
              "      <td>application/x-www-form-urlencoded</td>\n",
              "      <td>None</td>\n",
              "      <td>34.125.245.177</td>\n",
              "      <td>https://httpbin.org/post</td>\n",
              "    </tr>\n",
              "    <tr>\n",
              "      <th>Host</th>\n",
              "      <td>NaN</td>\n",
              "      <td></td>\n",
              "      <td>NaN</td>\n",
              "      <td>NaN</td>\n",
              "      <td>httpbin.org</td>\n",
              "      <td>None</td>\n",
              "      <td>34.125.245.177</td>\n",
              "      <td>https://httpbin.org/post</td>\n",
              "    </tr>\n",
              "    <tr>\n",
              "      <th>User-Agent</th>\n",
              "      <td>NaN</td>\n",
              "      <td></td>\n",
              "      <td>NaN</td>\n",
              "      <td>NaN</td>\n",
              "      <td>python-requests/2.31.0</td>\n",
              "      <td>None</td>\n",
              "      <td>34.125.245.177</td>\n",
              "      <td>https://httpbin.org/post</td>\n",
              "    </tr>\n",
              "    <tr>\n",
              "      <th>X-Amzn-Trace-Id</th>\n",
              "      <td>NaN</td>\n",
              "      <td></td>\n",
              "      <td>NaN</td>\n",
              "      <td>NaN</td>\n",
              "      <td>Root=1-64d63842-694f0a6d5c0456140b3ce241</td>\n",
              "      <td>None</td>\n",
              "      <td>34.125.245.177</td>\n",
              "      <td>https://httpbin.org/post</td>\n",
              "    </tr>\n",
              "  </tbody>\n",
              "</table>\n",
              "</div>\n",
              "      <button class=\"colab-df-convert\" onclick=\"convertToInteractive('df-8b74cc4f-b3fe-41c1-98fc-64ac95ff5340')\"\n",
              "              title=\"Convert this dataframe to an interactive table.\"\n",
              "              style=\"display:none;\">\n",
              "\n",
              "  <svg xmlns=\"http://www.w3.org/2000/svg\" height=\"24px\"viewBox=\"0 0 24 24\"\n",
              "       width=\"24px\">\n",
              "    <path d=\"M0 0h24v24H0V0z\" fill=\"none\"/>\n",
              "    <path d=\"M18.56 5.44l.94 2.06.94-2.06 2.06-.94-2.06-.94-.94-2.06-.94 2.06-2.06.94zm-11 1L8.5 8.5l.94-2.06 2.06-.94-2.06-.94L8.5 2.5l-.94 2.06-2.06.94zm10 10l.94 2.06.94-2.06 2.06-.94-2.06-.94-.94-2.06-.94 2.06-2.06.94z\"/><path d=\"M17.41 7.96l-1.37-1.37c-.4-.4-.92-.59-1.43-.59-.52 0-1.04.2-1.43.59L10.3 9.45l-7.72 7.72c-.78.78-.78 2.05 0 2.83L4 21.41c.39.39.9.59 1.41.59.51 0 1.02-.2 1.41-.59l7.78-7.78 2.81-2.81c.8-.78.8-2.07 0-2.86zM5.41 20L4 18.59l7.72-7.72 1.47 1.35L5.41 20z\"/>\n",
              "  </svg>\n",
              "      </button>\n",
              "\n",
              "\n",
              "\n",
              "    <div id=\"df-ff2a67c2-5715-4a35-a091-32891db9c436\">\n",
              "      <button class=\"colab-df-quickchart\" onclick=\"quickchart('df-ff2a67c2-5715-4a35-a091-32891db9c436')\"\n",
              "              title=\"Suggest charts.\"\n",
              "              style=\"display:none;\">\n",
              "\n",
              "<svg xmlns=\"http://www.w3.org/2000/svg\" height=\"24px\"viewBox=\"0 0 24 24\"\n",
              "     width=\"24px\">\n",
              "    <g>\n",
              "        <path d=\"M19 3H5c-1.1 0-2 .9-2 2v14c0 1.1.9 2 2 2h14c1.1 0 2-.9 2-2V5c0-1.1-.9-2-2-2zM9 17H7v-7h2v7zm4 0h-2V7h2v10zm4 0h-2v-4h2v4z\"/>\n",
              "    </g>\n",
              "</svg>\n",
              "      </button>\n",
              "    </div>\n",
              "\n",
              "<style>\n",
              "  .colab-df-quickchart {\n",
              "    background-color: #E8F0FE;\n",
              "    border: none;\n",
              "    border-radius: 50%;\n",
              "    cursor: pointer;\n",
              "    display: none;\n",
              "    fill: #1967D2;\n",
              "    height: 32px;\n",
              "    padding: 0 0 0 0;\n",
              "    width: 32px;\n",
              "  }\n",
              "\n",
              "  .colab-df-quickchart:hover {\n",
              "    background-color: #E2EBFA;\n",
              "    box-shadow: 0px 1px 2px rgba(60, 64, 67, 0.3), 0px 1px 3px 1px rgba(60, 64, 67, 0.15);\n",
              "    fill: #174EA6;\n",
              "  }\n",
              "\n",
              "  [theme=dark] .colab-df-quickchart {\n",
              "    background-color: #3B4455;\n",
              "    fill: #D2E3FC;\n",
              "  }\n",
              "\n",
              "  [theme=dark] .colab-df-quickchart:hover {\n",
              "    background-color: #434B5C;\n",
              "    box-shadow: 0px 1px 3px 1px rgba(0, 0, 0, 0.15);\n",
              "    filter: drop-shadow(0px 1px 2px rgba(0, 0, 0, 0.3));\n",
              "    fill: #FFFFFF;\n",
              "  }\n",
              "</style>\n",
              "\n",
              "    <script>\n",
              "      async function quickchart(key) {\n",
              "        const containerElement = document.querySelector('#' + key);\n",
              "        const charts = await google.colab.kernel.invokeFunction(\n",
              "            'suggestCharts', [key], {});\n",
              "      }\n",
              "    </script>\n",
              "\n",
              "      <script>\n",
              "\n",
              "function displayQuickchartButton(domScope) {\n",
              "  let quickchartButtonEl =\n",
              "    domScope.querySelector('#df-ff2a67c2-5715-4a35-a091-32891db9c436 button.colab-df-quickchart');\n",
              "  quickchartButtonEl.style.display =\n",
              "    google.colab.kernel.accessAllowed ? 'block' : 'none';\n",
              "}\n",
              "\n",
              "        displayQuickchartButton(document);\n",
              "      </script>\n",
              "      <style>\n",
              "    .colab-df-container {\n",
              "      display:flex;\n",
              "      flex-wrap:wrap;\n",
              "      gap: 12px;\n",
              "    }\n",
              "\n",
              "    .colab-df-convert {\n",
              "      background-color: #E8F0FE;\n",
              "      border: none;\n",
              "      border-radius: 50%;\n",
              "      cursor: pointer;\n",
              "      display: none;\n",
              "      fill: #1967D2;\n",
              "      height: 32px;\n",
              "      padding: 0 0 0 0;\n",
              "      width: 32px;\n",
              "    }\n",
              "\n",
              "    .colab-df-convert:hover {\n",
              "      background-color: #E2EBFA;\n",
              "      box-shadow: 0px 1px 2px rgba(60, 64, 67, 0.3), 0px 1px 3px 1px rgba(60, 64, 67, 0.15);\n",
              "      fill: #174EA6;\n",
              "    }\n",
              "\n",
              "    [theme=dark] .colab-df-convert {\n",
              "      background-color: #3B4455;\n",
              "      fill: #D2E3FC;\n",
              "    }\n",
              "\n",
              "    [theme=dark] .colab-df-convert:hover {\n",
              "      background-color: #434B5C;\n",
              "      box-shadow: 0px 1px 3px 1px rgba(0, 0, 0, 0.15);\n",
              "      filter: drop-shadow(0px 1px 2px rgba(0, 0, 0, 0.3));\n",
              "      fill: #FFFFFF;\n",
              "    }\n",
              "  </style>\n",
              "\n",
              "      <script>\n",
              "        const buttonEl =\n",
              "          document.querySelector('#df-8b74cc4f-b3fe-41c1-98fc-64ac95ff5340 button.colab-df-convert');\n",
              "        buttonEl.style.display =\n",
              "          google.colab.kernel.accessAllowed ? 'block' : 'none';\n",
              "\n",
              "        async function convertToInteractive(key) {\n",
              "          const element = document.querySelector('#df-8b74cc4f-b3fe-41c1-98fc-64ac95ff5340');\n",
              "          const dataTable =\n",
              "            await google.colab.kernel.invokeFunction('convertToInteractive',\n",
              "                                                     [key], {});\n",
              "          if (!dataTable) return;\n",
              "\n",
              "          const docLinkHtml = 'Like what you see? Visit the ' +\n",
              "            '<a target=\"_blank\" href=https://colab.research.google.com/notebooks/data_table.ipynb>data table notebook</a>'\n",
              "            + ' to learn more about interactive tables.';\n",
              "          element.innerHTML = '';\n",
              "          dataTable['output_type'] = 'display_data';\n",
              "          await google.colab.output.renderOutput(dataTable, element);\n",
              "          const docLink = document.createElement('div');\n",
              "          docLink.innerHTML = docLinkHtml;\n",
              "          element.appendChild(docLink);\n",
              "        }\n",
              "      </script>\n",
              "    </div>\n",
              "  </div>\n"
            ]
          },
          "metadata": {},
          "execution_count": 60
        }
      ]
    },
    {
      "cell_type": "code",
      "source": [
        "url"
      ],
      "metadata": {
        "colab": {
          "base_uri": "https://localhost:8080/",
          "height": 35
        },
        "id": "GwDfqPKQ0ZLT",
        "outputId": "1b1e9cae-daad-4205-ae68-c0fe97c3d130"
      },
      "execution_count": null,
      "outputs": [
        {
          "output_type": "execute_result",
          "data": {
            "text/plain": [
              "'https://httpbin.org/post'"
            ],
            "application/vnd.google.colaboratory.intrinsic+json": {
              "type": "string"
            }
          },
          "metadata": {},
          "execution_count": 69
        }
      ]
    },
    {
      "cell_type": "code",
      "source": [
        "data = {'name': 'cho sanggoo',\n",
        "        'age' : '57'}\n",
        "\n",
        "http_post_request = requests.post(url, json=data)\n",
        "print(http_post_request.text)\n",
        "print(http_post_request.status_code)"
      ],
      "metadata": {
        "colab": {
          "base_uri": "https://localhost:8080/"
        },
        "id": "a4YY2-Zjzkiv",
        "outputId": "7f3c630e-7873-4bf7-a5a0-b5cf3a8733d1"
      },
      "execution_count": null,
      "outputs": [
        {
          "output_type": "stream",
          "name": "stdout",
          "text": [
            "{\n",
            "  \"args\": {}, \n",
            "  \"data\": \"{\\\"name\\\": \\\"cho sanggoo\\\", \\\"age\\\": \\\"57\\\"}\", \n",
            "  \"files\": {}, \n",
            "  \"form\": {}, \n",
            "  \"headers\": {\n",
            "    \"Accept\": \"*/*\", \n",
            "    \"Accept-Encoding\": \"gzip, deflate\", \n",
            "    \"Content-Length\": \"36\", \n",
            "    \"Content-Type\": \"application/json\", \n",
            "    \"Host\": \"httpbin.org\", \n",
            "    \"User-Agent\": \"python-requests/2.31.0\", \n",
            "    \"X-Amzn-Trace-Id\": \"Root=1-64d639f1-26323d587985c15d29b02d09\"\n",
            "  }, \n",
            "  \"json\": {\n",
            "    \"age\": \"57\", \n",
            "    \"name\": \"cho sanggoo\"\n",
            "  }, \n",
            "  \"origin\": \"34.125.245.177\", \n",
            "  \"url\": \"https://httpbin.org/post\"\n",
            "}\n",
            "\n",
            "200\n"
          ]
        }
      ]
    },
    {
      "cell_type": "code",
      "source": [
        "pd.DataFrame(http_post_request.json())"
      ],
      "metadata": {
        "colab": {
          "base_uri": "https://localhost:8080/",
          "height": 375
        },
        "id": "tw0r9D03zkk7",
        "outputId": "8d5ac817-ea70-4754-beac-26573a12f3bb"
      },
      "execution_count": null,
      "outputs": [
        {
          "output_type": "execute_result",
          "data": {
            "text/plain": [
              "                 args                                  data  files  form  \\\n",
              "Accept            NaN  {\"name\": \"cho sanggoo\", \"age\": \"57\"}    NaN   NaN   \n",
              "Accept-Encoding   NaN  {\"name\": \"cho sanggoo\", \"age\": \"57\"}    NaN   NaN   \n",
              "Content-Length    NaN  {\"name\": \"cho sanggoo\", \"age\": \"57\"}    NaN   NaN   \n",
              "Content-Type      NaN  {\"name\": \"cho sanggoo\", \"age\": \"57\"}    NaN   NaN   \n",
              "Host              NaN  {\"name\": \"cho sanggoo\", \"age\": \"57\"}    NaN   NaN   \n",
              "User-Agent        NaN  {\"name\": \"cho sanggoo\", \"age\": \"57\"}    NaN   NaN   \n",
              "X-Amzn-Trace-Id   NaN  {\"name\": \"cho sanggoo\", \"age\": \"57\"}    NaN   NaN   \n",
              "age               NaN  {\"name\": \"cho sanggoo\", \"age\": \"57\"}    NaN   NaN   \n",
              "name              NaN  {\"name\": \"cho sanggoo\", \"age\": \"57\"}    NaN   NaN   \n",
              "\n",
              "                                                  headers         json  \\\n",
              "Accept                                                */*          NaN   \n",
              "Accept-Encoding                             gzip, deflate          NaN   \n",
              "Content-Length                                         36          NaN   \n",
              "Content-Type                             application/json          NaN   \n",
              "Host                                          httpbin.org          NaN   \n",
              "User-Agent                         python-requests/2.31.0          NaN   \n",
              "X-Amzn-Trace-Id  Root=1-64d639f1-26323d587985c15d29b02d09          NaN   \n",
              "age                                                   NaN           57   \n",
              "name                                                  NaN  cho sanggoo   \n",
              "\n",
              "                         origin                       url  \n",
              "Accept           34.125.245.177  https://httpbin.org/post  \n",
              "Accept-Encoding  34.125.245.177  https://httpbin.org/post  \n",
              "Content-Length   34.125.245.177  https://httpbin.org/post  \n",
              "Content-Type     34.125.245.177  https://httpbin.org/post  \n",
              "Host             34.125.245.177  https://httpbin.org/post  \n",
              "User-Agent       34.125.245.177  https://httpbin.org/post  \n",
              "X-Amzn-Trace-Id  34.125.245.177  https://httpbin.org/post  \n",
              "age              34.125.245.177  https://httpbin.org/post  \n",
              "name             34.125.245.177  https://httpbin.org/post  "
            ],
            "text/html": [
              "\n",
              "\n",
              "  <div id=\"df-222762e1-3eeb-4ac1-a16f-9ef11d85f2a1\">\n",
              "    <div class=\"colab-df-container\">\n",
              "      <div>\n",
              "<style scoped>\n",
              "    .dataframe tbody tr th:only-of-type {\n",
              "        vertical-align: middle;\n",
              "    }\n",
              "\n",
              "    .dataframe tbody tr th {\n",
              "        vertical-align: top;\n",
              "    }\n",
              "\n",
              "    .dataframe thead th {\n",
              "        text-align: right;\n",
              "    }\n",
              "</style>\n",
              "<table border=\"1\" class=\"dataframe\">\n",
              "  <thead>\n",
              "    <tr style=\"text-align: right;\">\n",
              "      <th></th>\n",
              "      <th>args</th>\n",
              "      <th>data</th>\n",
              "      <th>files</th>\n",
              "      <th>form</th>\n",
              "      <th>headers</th>\n",
              "      <th>json</th>\n",
              "      <th>origin</th>\n",
              "      <th>url</th>\n",
              "    </tr>\n",
              "  </thead>\n",
              "  <tbody>\n",
              "    <tr>\n",
              "      <th>Accept</th>\n",
              "      <td>NaN</td>\n",
              "      <td>{\"name\": \"cho sanggoo\", \"age\": \"57\"}</td>\n",
              "      <td>NaN</td>\n",
              "      <td>NaN</td>\n",
              "      <td>*/*</td>\n",
              "      <td>NaN</td>\n",
              "      <td>34.125.245.177</td>\n",
              "      <td>https://httpbin.org/post</td>\n",
              "    </tr>\n",
              "    <tr>\n",
              "      <th>Accept-Encoding</th>\n",
              "      <td>NaN</td>\n",
              "      <td>{\"name\": \"cho sanggoo\", \"age\": \"57\"}</td>\n",
              "      <td>NaN</td>\n",
              "      <td>NaN</td>\n",
              "      <td>gzip, deflate</td>\n",
              "      <td>NaN</td>\n",
              "      <td>34.125.245.177</td>\n",
              "      <td>https://httpbin.org/post</td>\n",
              "    </tr>\n",
              "    <tr>\n",
              "      <th>Content-Length</th>\n",
              "      <td>NaN</td>\n",
              "      <td>{\"name\": \"cho sanggoo\", \"age\": \"57\"}</td>\n",
              "      <td>NaN</td>\n",
              "      <td>NaN</td>\n",
              "      <td>36</td>\n",
              "      <td>NaN</td>\n",
              "      <td>34.125.245.177</td>\n",
              "      <td>https://httpbin.org/post</td>\n",
              "    </tr>\n",
              "    <tr>\n",
              "      <th>Content-Type</th>\n",
              "      <td>NaN</td>\n",
              "      <td>{\"name\": \"cho sanggoo\", \"age\": \"57\"}</td>\n",
              "      <td>NaN</td>\n",
              "      <td>NaN</td>\n",
              "      <td>application/json</td>\n",
              "      <td>NaN</td>\n",
              "      <td>34.125.245.177</td>\n",
              "      <td>https://httpbin.org/post</td>\n",
              "    </tr>\n",
              "    <tr>\n",
              "      <th>Host</th>\n",
              "      <td>NaN</td>\n",
              "      <td>{\"name\": \"cho sanggoo\", \"age\": \"57\"}</td>\n",
              "      <td>NaN</td>\n",
              "      <td>NaN</td>\n",
              "      <td>httpbin.org</td>\n",
              "      <td>NaN</td>\n",
              "      <td>34.125.245.177</td>\n",
              "      <td>https://httpbin.org/post</td>\n",
              "    </tr>\n",
              "    <tr>\n",
              "      <th>User-Agent</th>\n",
              "      <td>NaN</td>\n",
              "      <td>{\"name\": \"cho sanggoo\", \"age\": \"57\"}</td>\n",
              "      <td>NaN</td>\n",
              "      <td>NaN</td>\n",
              "      <td>python-requests/2.31.0</td>\n",
              "      <td>NaN</td>\n",
              "      <td>34.125.245.177</td>\n",
              "      <td>https://httpbin.org/post</td>\n",
              "    </tr>\n",
              "    <tr>\n",
              "      <th>X-Amzn-Trace-Id</th>\n",
              "      <td>NaN</td>\n",
              "      <td>{\"name\": \"cho sanggoo\", \"age\": \"57\"}</td>\n",
              "      <td>NaN</td>\n",
              "      <td>NaN</td>\n",
              "      <td>Root=1-64d639f1-26323d587985c15d29b02d09</td>\n",
              "      <td>NaN</td>\n",
              "      <td>34.125.245.177</td>\n",
              "      <td>https://httpbin.org/post</td>\n",
              "    </tr>\n",
              "    <tr>\n",
              "      <th>age</th>\n",
              "      <td>NaN</td>\n",
              "      <td>{\"name\": \"cho sanggoo\", \"age\": \"57\"}</td>\n",
              "      <td>NaN</td>\n",
              "      <td>NaN</td>\n",
              "      <td>NaN</td>\n",
              "      <td>57</td>\n",
              "      <td>34.125.245.177</td>\n",
              "      <td>https://httpbin.org/post</td>\n",
              "    </tr>\n",
              "    <tr>\n",
              "      <th>name</th>\n",
              "      <td>NaN</td>\n",
              "      <td>{\"name\": \"cho sanggoo\", \"age\": \"57\"}</td>\n",
              "      <td>NaN</td>\n",
              "      <td>NaN</td>\n",
              "      <td>NaN</td>\n",
              "      <td>cho sanggoo</td>\n",
              "      <td>34.125.245.177</td>\n",
              "      <td>https://httpbin.org/post</td>\n",
              "    </tr>\n",
              "  </tbody>\n",
              "</table>\n",
              "</div>\n",
              "      <button class=\"colab-df-convert\" onclick=\"convertToInteractive('df-222762e1-3eeb-4ac1-a16f-9ef11d85f2a1')\"\n",
              "              title=\"Convert this dataframe to an interactive table.\"\n",
              "              style=\"display:none;\">\n",
              "\n",
              "  <svg xmlns=\"http://www.w3.org/2000/svg\" height=\"24px\"viewBox=\"0 0 24 24\"\n",
              "       width=\"24px\">\n",
              "    <path d=\"M0 0h24v24H0V0z\" fill=\"none\"/>\n",
              "    <path d=\"M18.56 5.44l.94 2.06.94-2.06 2.06-.94-2.06-.94-.94-2.06-.94 2.06-2.06.94zm-11 1L8.5 8.5l.94-2.06 2.06-.94-2.06-.94L8.5 2.5l-.94 2.06-2.06.94zm10 10l.94 2.06.94-2.06 2.06-.94-2.06-.94-.94-2.06-.94 2.06-2.06.94z\"/><path d=\"M17.41 7.96l-1.37-1.37c-.4-.4-.92-.59-1.43-.59-.52 0-1.04.2-1.43.59L10.3 9.45l-7.72 7.72c-.78.78-.78 2.05 0 2.83L4 21.41c.39.39.9.59 1.41.59.51 0 1.02-.2 1.41-.59l7.78-7.78 2.81-2.81c.8-.78.8-2.07 0-2.86zM5.41 20L4 18.59l7.72-7.72 1.47 1.35L5.41 20z\"/>\n",
              "  </svg>\n",
              "      </button>\n",
              "\n",
              "\n",
              "\n",
              "    <div id=\"df-b9ae6083-91ce-4a47-9e4c-5f81e97f0b0d\">\n",
              "      <button class=\"colab-df-quickchart\" onclick=\"quickchart('df-b9ae6083-91ce-4a47-9e4c-5f81e97f0b0d')\"\n",
              "              title=\"Suggest charts.\"\n",
              "              style=\"display:none;\">\n",
              "\n",
              "<svg xmlns=\"http://www.w3.org/2000/svg\" height=\"24px\"viewBox=\"0 0 24 24\"\n",
              "     width=\"24px\">\n",
              "    <g>\n",
              "        <path d=\"M19 3H5c-1.1 0-2 .9-2 2v14c0 1.1.9 2 2 2h14c1.1 0 2-.9 2-2V5c0-1.1-.9-2-2-2zM9 17H7v-7h2v7zm4 0h-2V7h2v10zm4 0h-2v-4h2v4z\"/>\n",
              "    </g>\n",
              "</svg>\n",
              "      </button>\n",
              "    </div>\n",
              "\n",
              "<style>\n",
              "  .colab-df-quickchart {\n",
              "    background-color: #E8F0FE;\n",
              "    border: none;\n",
              "    border-radius: 50%;\n",
              "    cursor: pointer;\n",
              "    display: none;\n",
              "    fill: #1967D2;\n",
              "    height: 32px;\n",
              "    padding: 0 0 0 0;\n",
              "    width: 32px;\n",
              "  }\n",
              "\n",
              "  .colab-df-quickchart:hover {\n",
              "    background-color: #E2EBFA;\n",
              "    box-shadow: 0px 1px 2px rgba(60, 64, 67, 0.3), 0px 1px 3px 1px rgba(60, 64, 67, 0.15);\n",
              "    fill: #174EA6;\n",
              "  }\n",
              "\n",
              "  [theme=dark] .colab-df-quickchart {\n",
              "    background-color: #3B4455;\n",
              "    fill: #D2E3FC;\n",
              "  }\n",
              "\n",
              "  [theme=dark] .colab-df-quickchart:hover {\n",
              "    background-color: #434B5C;\n",
              "    box-shadow: 0px 1px 3px 1px rgba(0, 0, 0, 0.15);\n",
              "    filter: drop-shadow(0px 1px 2px rgba(0, 0, 0, 0.3));\n",
              "    fill: #FFFFFF;\n",
              "  }\n",
              "</style>\n",
              "\n",
              "    <script>\n",
              "      async function quickchart(key) {\n",
              "        const containerElement = document.querySelector('#' + key);\n",
              "        const charts = await google.colab.kernel.invokeFunction(\n",
              "            'suggestCharts', [key], {});\n",
              "      }\n",
              "    </script>\n",
              "\n",
              "      <script>\n",
              "\n",
              "function displayQuickchartButton(domScope) {\n",
              "  let quickchartButtonEl =\n",
              "    domScope.querySelector('#df-b9ae6083-91ce-4a47-9e4c-5f81e97f0b0d button.colab-df-quickchart');\n",
              "  quickchartButtonEl.style.display =\n",
              "    google.colab.kernel.accessAllowed ? 'block' : 'none';\n",
              "}\n",
              "\n",
              "        displayQuickchartButton(document);\n",
              "      </script>\n",
              "      <style>\n",
              "    .colab-df-container {\n",
              "      display:flex;\n",
              "      flex-wrap:wrap;\n",
              "      gap: 12px;\n",
              "    }\n",
              "\n",
              "    .colab-df-convert {\n",
              "      background-color: #E8F0FE;\n",
              "      border: none;\n",
              "      border-radius: 50%;\n",
              "      cursor: pointer;\n",
              "      display: none;\n",
              "      fill: #1967D2;\n",
              "      height: 32px;\n",
              "      padding: 0 0 0 0;\n",
              "      width: 32px;\n",
              "    }\n",
              "\n",
              "    .colab-df-convert:hover {\n",
              "      background-color: #E2EBFA;\n",
              "      box-shadow: 0px 1px 2px rgba(60, 64, 67, 0.3), 0px 1px 3px 1px rgba(60, 64, 67, 0.15);\n",
              "      fill: #174EA6;\n",
              "    }\n",
              "\n",
              "    [theme=dark] .colab-df-convert {\n",
              "      background-color: #3B4455;\n",
              "      fill: #D2E3FC;\n",
              "    }\n",
              "\n",
              "    [theme=dark] .colab-df-convert:hover {\n",
              "      background-color: #434B5C;\n",
              "      box-shadow: 0px 1px 3px 1px rgba(0, 0, 0, 0.15);\n",
              "      filter: drop-shadow(0px 1px 2px rgba(0, 0, 0, 0.3));\n",
              "      fill: #FFFFFF;\n",
              "    }\n",
              "  </style>\n",
              "\n",
              "      <script>\n",
              "        const buttonEl =\n",
              "          document.querySelector('#df-222762e1-3eeb-4ac1-a16f-9ef11d85f2a1 button.colab-df-convert');\n",
              "        buttonEl.style.display =\n",
              "          google.colab.kernel.accessAllowed ? 'block' : 'none';\n",
              "\n",
              "        async function convertToInteractive(key) {\n",
              "          const element = document.querySelector('#df-222762e1-3eeb-4ac1-a16f-9ef11d85f2a1');\n",
              "          const dataTable =\n",
              "            await google.colab.kernel.invokeFunction('convertToInteractive',\n",
              "                                                     [key], {});\n",
              "          if (!dataTable) return;\n",
              "\n",
              "          const docLinkHtml = 'Like what you see? Visit the ' +\n",
              "            '<a target=\"_blank\" href=https://colab.research.google.com/notebooks/data_table.ipynb>data table notebook</a>'\n",
              "            + ' to learn more about interactive tables.';\n",
              "          element.innerHTML = '';\n",
              "          dataTable['output_type'] = 'display_data';\n",
              "          await google.colab.output.renderOutput(dataTable, element);\n",
              "          const docLink = document.createElement('div');\n",
              "          docLink.innerHTML = docLinkHtml;\n",
              "          element.appendChild(docLink);\n",
              "        }\n",
              "      </script>\n",
              "    </div>\n",
              "  </div>\n"
            ]
          },
          "metadata": {},
          "execution_count": 71
        }
      ]
    },
    {
      "cell_type": "markdown",
      "source": [
        "## **3. Python Request PUT/DELETE**"
      ],
      "metadata": {
        "id": "sy2Jv4vOzknl"
      }
    },
    {
      "cell_type": "code",
      "source": [
        "r = requests.put('https://httpbin.org/put', data={'key': 'value'})\n",
        "print(r)\n",
        "r = requests.delete('https://httpbin.org/delete')\n",
        "print(r)"
      ],
      "metadata": {
        "colab": {
          "base_uri": "https://localhost:8080/"
        },
        "id": "ZIXxrFEXkF53",
        "outputId": "9b7a14bf-d1f3-4f72-de34-2d5f9d1bcc1f"
      },
      "execution_count": null,
      "outputs": [
        {
          "output_type": "stream",
          "name": "stdout",
          "text": [
            "<Response [200]>\n",
            "<Response [504]>\n"
          ]
        }
      ]
    },
    {
      "cell_type": "code",
      "source": [
        "r = requests.head('https://httpbin.org/get')\n",
        "print(r)\n",
        "print(r.text)"
      ],
      "metadata": {
        "colab": {
          "base_uri": "https://localhost:8080/"
        },
        "id": "uhafNDgb1Vcn",
        "outputId": "1f176419-5bcc-4342-86e4-1f06f808c32f"
      },
      "execution_count": null,
      "outputs": [
        {
          "output_type": "stream",
          "name": "stdout",
          "text": [
            "<Response [504]>\n",
            "\n",
            "<Response [504]>\n"
          ]
        }
      ]
    },
    {
      "cell_type": "code",
      "source": [
        "r = requests.options('https://httpbin.org/get')\n",
        "print(r)\n",
        "print(r.text)"
      ],
      "metadata": {
        "colab": {
          "base_uri": "https://localhost:8080/"
        },
        "id": "2LLDQkxo1nCn",
        "outputId": "3b6099c0-d1ae-4648-febc-45d9a036d29c"
      },
      "execution_count": null,
      "outputs": [
        {
          "output_type": "stream",
          "name": "stdout",
          "text": [
            "<Response [200]>\n",
            "\n"
          ]
        }
      ]
    },
    {
      "cell_type": "code",
      "source": [],
      "metadata": {
        "id": "vhFY_Bm6EVmv"
      },
      "execution_count": null,
      "outputs": []
    }
  ]
}