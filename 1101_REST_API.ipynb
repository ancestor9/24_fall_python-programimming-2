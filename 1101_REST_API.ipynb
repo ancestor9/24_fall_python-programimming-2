{
  "nbformat": 4,
  "nbformat_minor": 0,
  "metadata": {
    "colab": {
      "provenance": [],
      "authorship_tag": "ABX9TyOP1KRHzU2HD+3ktHxo3qC7",
      "include_colab_link": true
    },
    "kernelspec": {
      "name": "python3",
      "display_name": "Python 3"
    },
    "language_info": {
      "name": "python"
    }
  },
  "cells": [
    {
      "cell_type": "markdown",
      "metadata": {
        "id": "view-in-github",
        "colab_type": "text"
      },
      "source": [
        "<a href=\"https://colab.research.google.com/github/ancestor9/24_fall_python-programimming-2/blob/main/1101_REST_API.ipynb\" target=\"_parent\"><img src=\"https://colab.research.google.com/assets/colab-badge.svg\" alt=\"Open In Colab\"/></a>"
      ]
    },
    {
      "cell_type": "markdown",
      "source": [
        "### **[The birth-web](https://home.cern/science/computing/birth-web)**\n",
        "\n",
        "<img src='https://urbandesignlab.in/wp-content/uploads/2022/06/1-6.jpg' width=600>\n",
        "\n",
        "# REST API란?\n",
        "\n",
        "REST API는 웹 서비스를 설계하고 사용하는 방식 중 하나로, REST(Representational State Transfer) 아키텍처 스타일에 기반한 API(Application Programming Interface)를 의미합니다. REST API는 웹 상에서 다른 시스템 간에 데이터를 주고받기 위한 표준화된 방법을 제공하여, 서로 다른 시스템 간의 상호작용을 간단하고 효율적으로 만들어 줍니다. REST API의 주요 개념을 설명하면 다음과 같습니다:\n",
        "\n",
        "## 1. REST의 개념\n",
        "REST는 자원을 \"표현(representation)\"하고 상태를 \"전송(transfer)\"하는 아키텍처 스타일로서, 웹의 기본 프로토콜인 HTTP를 사용해 데이터를 전달합니다. RESTful 시스템은 클라이언트와 서버 간에 데이터를 주고받기 위한 규칙을 따르며, 클라이언트는 특정 자원을 요청하고 서버는 그에 대한 응답을 반환합니다.\n",
        "\n",
        "<img src='https://media.geeksforgeeks.org/wp-content/uploads/20230216170349/What-is-an-API.png' height=300>\n"
      ],
      "metadata": {
        "id": "ox6VLDObA8bR"
      }
    },
    {
      "cell_type": "markdown",
      "source": [
        "\n",
        "## 2. REST API의 구성 요소\n",
        "REST API는 다음과 같은 주요 구성 요소로 이루어져 있습니다.\n",
        "\n",
        "- **자원(Resource)**:  \n",
        "  REST에서 다루는 데이터의 모든 것을 자원이라고 부릅니다. 자원은 URL(예: `/products/123`)로 고유하게 식별됩니다.\n",
        "\n",
        "- **HTTP 메소드**:  \n",
        "  REST API는 자원에 대해 특정한 작업을 수행하기 위해 HTTP 메소드를 사용합니다.\n",
        "  - **GET**: 자원을 조회합니다.\n",
        "  - **POST**: 자원을 생성합니다.\n",
        "  - **PUT**: 자원을 전체적으로 업데이트합니다.\n",
        "  - **PATCH**: 자원을 부분적으로 업데이트합니다.\n",
        "  - **DELETE**: 자원을 삭제합니다.\n",
        "\n",
        "- **엔드포인트(Endpoint)**:  \n",
        "  자원에 접근할 수 있는 URL입니다. 예를 들어, `https://example.com/api/products`는 상품 자원에 대한 엔드포인트입니다.\n",
        "\n",
        "- **HTTP 상태 코드**:  \n",
        "  요청의 성공, 실패 등 결과를 알려주는 숫자 코드입니다.\n",
        "  - **200 OK**: 요청이 성공적으로 처리되었음을 의미합니다.\n",
        "  - **201 Created**: 새로운 자원이 성공적으로 생성되었음을 의미합니다.\n",
        "  - **400 Bad Request**: 잘못된 요청이 발생했음을 의미합니다.\n",
        "  - **404 Not Found**: 요청한 자원을 찾을 수 없음을 의미합니다.\n",
        "  - **500 Internal Server Error**: 서버에서 예기치 않은 오류가 발생했음을 의미합니다.\n",
        "\n",
        "<img src='https://miro.medium.com/v2/resize:fit:1100/format:webp/1*OcmVkcsM5BWRHrg8GC17iw.png' width = 700 height=200>\n",
        "\n",
        "### <font color='orange'>**An API is not a database. It is an access point to an app that can access a database.**"
      ],
      "metadata": {
        "id": "nXiInkTHVB8J"
      }
    },
    {
      "cell_type": "markdown",
      "source": [
        "\n",
        "## 3. REST API의 특징\n",
        "- **무상태(Stateless)**:  \n",
        "  각 요청은 독립적이며, 서버는 클라이언트의 이전 요청에 대한 상태를 저장하지 않습니다. 따라서 모든 요청은 필요한 정보를 자체적으로 포함해야 합니다.\n",
        "\n",
        "- **클라이언트-서버 구조**:  \n",
        "  RESTful 서비스는 클라이언트와 서버의 역할을 분리합니다. 클라이언트는 데이터를 요청하고, 서버는 요청을 처리하여 데이터를 반환합니다.\n",
        "\n",
        "- **캐시 가능(Cacheable)**:  \n",
        "  서버 응답이 캐시될 수 있어야 합니다. 캐싱을 통해 클라이언트의 요청에 대한 응답 속도를 높이고 서버의 부하를 줄일 수 있습니다.\n",
        "\n",
        "## 4. REST API의 장점\n",
        "- **간단한 구조**: REST는 HTTP 기반으로 동작하므로 HTTP 표준 메소드와 상태 코드를 사용하여 직관적으로 이해할 수 있습니다.\n",
        "- **유연성**: 다양한 클라이언트(웹 브라우저, 모바일 앱 등)에서 쉽게 사용할 수 있습니다.\n",
        "- **범용성**: RESTful API는 표준 HTTP 프로토콜을 사용하므로 대부분의 네트워크 환경에서 사용이 가능합니다.\n",
        "\n",
        "## 5. 예시\n",
        "예를 들어, 전자상거래 시스템에서 제품 정보를 조회하는 REST API 엔드포인트가 있다고 가정해 보겠습니다.\n",
        "\n",
        "- **GET 요청으로 제품 목록 조회**: `GET /api/products`\n",
        "- **GET 요청으로 특정 제품 조회**: `GET /api/products/123`\n",
        "- **POST 요청으로 새로운 제품 생성**: `POST /api/products`\n",
        "- **PUT 요청으로 기존 제품 정보 전체 수정**: `PUT /api/products/123`\n",
        "- **DELETE 요청으로 특정 제품 삭제**: `DELETE /api/products/123`\n",
        "\n",
        "이런 RESTful API를 통해, 클라이언트는 서버의 자원에 접근하거나 수정할 수 있습니다.\n",
        "\n",
        "## 6. REST API와 JSON\n",
        "REST API는 주로 **JSON** 형식으로 데이터를 주고받습니다. JSON은 사람이 읽고 쓰기 쉬우며 컴퓨터도 효율적으로 처리할 수 있어 REST API에서 데이터 포맷으로 많이 사용됩니다.\n",
        "\n",
        "## 요약\n",
        "REST API는 웹의 HTTP를 활용하여 서버와 클라이언트 간의 데이터를 주고받는 가장 보편적이고 간결한 방식입니다. REST는 상태를 유지하지 않으며, 특정 자원에 대해 URL을 통해 접근하고, 이를 조작하기 위해 HTTP 메소드를 사용합니다. 이를 통해 다양한 시스템 간의 원활한 통신을 가능하게 해줍니다.\n"
      ],
      "metadata": {
        "id": "NoO7v0eCVXsZ"
      }
    },
    {
      "cell_type": "markdown",
      "source": [
        "<img src='https://images.ctfassets.net/vwq10xzbe6iz/5sBH4Agl614xM7exeLsTo7/9e84dce01735f155911e611c42c9793f/rest-api.png' width=600 height=400>\n",
        "\n",
        "### **[HTTP_방식 연습_click](https://httpbin.org/)**\n",
        "### http://httpbin.org/get 웹서버로 실습\n",
        "### https://curlconverter.com/ curltopython\n"
      ],
      "metadata": {
        "id": "ow2-w9-8lF7g"
      }
    },
    {
      "cell_type": "code",
      "source": [
        "'''\n",
        "{\n",
        "  \"args\": {},\n",
        "  \"headers\": {\n",
        "    \"Accept\": \"text/html,application/xhtml+xml,application/xml;q=0.9,image/avif,image/webp,image/apng,*/*;q=0.8,application/signed-exchange;v=b3;q=0.7\",\n",
        "    \"Accept-Encoding\": \"gzip, deflate\",\n",
        "    \"Accept-Language\": \"ko-KR,ko;q=0.9,en-US;q=0.8,en;q=0.7\",\n",
        "    \"Host\": \"httpbin.org\",\n",
        "    \"Upgrade-Insecure-Requests\": \"1\",\n",
        "    \"User-Agent\": \"Mozilla/5.0 (Windows NT 10.0; Win64; x64) AppleWebKit/537.36 (KHTML, like Gecko) Chrome/115.0.0.0 Safari/537.36\",\n",
        "    \"X-Amzn-Trace-Id\": \"Root=1-64d6350b-4d8c7710021da0ab4ccabacc\"\n",
        "  },\n",
        "  \"origin\": \"112.169.221.81\",\n",
        "  \"url\": \"http://httpbin.org/get\"\n",
        "}\n",
        "'''"
      ],
      "metadata": {
        "id": "RuWXI7V7v8rH",
        "colab": {
          "base_uri": "https://localhost:8080/",
          "height": 90
        },
        "outputId": "42e72e55-24de-40ae-c42d-6fa41010e76e"
      },
      "execution_count": null,
      "outputs": [
        {
          "output_type": "execute_result",
          "data": {
            "text/plain": [
              "'\\n{\\n  \"args\": {},\\n  \"headers\": {\\n    \"Accept\": \"text/html,application/xhtml+xml,application/xml;q=0.9,image/avif,image/webp,image/apng,*/*;q=0.8,application/signed-exchange;v=b3;q=0.7\",\\n    \"Accept-Encoding\": \"gzip, deflate\",\\n    \"Accept-Language\": \"ko-KR,ko;q=0.9,en-US;q=0.8,en;q=0.7\",\\n    \"Host\": \"httpbin.org\",\\n    \"Upgrade-Insecure-Requests\": \"1\",\\n    \"User-Agent\": \"Mozilla/5.0 (Windows NT 10.0; Win64; x64) AppleWebKit/537.36 (KHTML, like Gecko) Chrome/115.0.0.0 Safari/537.36\",\\n    \"X-Amzn-Trace-Id\": \"Root=1-64d6350b-4d8c7710021da0ab4ccabacc\"\\n  },\\n  \"origin\": \"112.169.221.81\",\\n  \"url\": \"http://httpbin.org/get\"\\n}\\n'"
            ],
            "application/vnd.google.colaboratory.intrinsic+json": {
              "type": "string"
            }
          },
          "metadata": {},
          "execution_count": 1
        }
      ]
    },
    {
      "cell_type": "code",
      "source": [
        "import requests\n",
        "r = requests.get('https://httpbin.org/')\n",
        "print(r)\n"
      ],
      "metadata": {
        "colab": {
          "base_uri": "https://localhost:8080/"
        },
        "id": "Gsd1YmfvlasT",
        "outputId": "0f26b519-50c7-4344-a72c-7a807eaa5e16"
      },
      "execution_count": null,
      "outputs": [
        {
          "output_type": "stream",
          "name": "stdout",
          "text": [
            "<Response [200]>\n"
          ]
        }
      ]
    },
    {
      "cell_type": "code",
      "source": [
        "# header & body\n",
        "print(r.text)"
      ],
      "metadata": {
        "id": "7-4w1y7ss77p",
        "colab": {
          "base_uri": "https://localhost:8080/"
        },
        "outputId": "c823f0ee-aa89-4206-b59b-d67e76582a3b",
        "collapsed": true
      },
      "execution_count": null,
      "outputs": [
        {
          "output_type": "stream",
          "name": "stdout",
          "text": [
            "<!DOCTYPE html>\n",
            "<html lang=\"en\">\n",
            "\n",
            "<head>\n",
            "    <meta charset=\"UTF-8\">\n",
            "    <title>httpbin.org</title>\n",
            "    <link href=\"https://fonts.googleapis.com/css?family=Open+Sans:400,700|Source+Code+Pro:300,600|Titillium+Web:400,600,700\"\n",
            "        rel=\"stylesheet\">\n",
            "    <link rel=\"stylesheet\" type=\"text/css\" href=\"/flasgger_static/swagger-ui.css\">\n",
            "    <link rel=\"icon\" type=\"image/png\" href=\"/static/favicon.ico\" sizes=\"64x64 32x32 16x16\" />\n",
            "    <style>\n",
            "        html {\n",
            "            box-sizing: border-box;\n",
            "            overflow: -moz-scrollbars-vertical;\n",
            "            overflow-y: scroll;\n",
            "        }\n",
            "\n",
            "        *,\n",
            "        *:before,\n",
            "        *:after {\n",
            "            box-sizing: inherit;\n",
            "        }\n",
            "\n",
            "        body {\n",
            "            margin: 0;\n",
            "            background: #fafafa;\n",
            "        }\n",
            "    </style>\n",
            "</head>\n",
            "\n",
            "<body>\n",
            "    <a href=\"https://github.com/requests/httpbin\" class=\"github-corner\" aria-label=\"View source on Github\">\n",
            "        <svg width=\"80\" height=\"80\" viewBox=\"0 0 250 250\" style=\"fill:#151513; color:#fff; position: absolute; top: 0; border: 0; right: 0;\"\n",
            "            aria-hidden=\"true\">\n",
            "            <path d=\"M0,0 L115,115 L130,115 L142,142 L250,250 L250,0 Z\"></path>\n",
            "            <path d=\"M128.3,109.0 C113.8,99.7 119.0,89.6 119.0,89.6 C122.0,82.7 120.5,78.6 120.5,78.6 C119.2,72.0 123.4,76.3 123.4,76.3 C127.3,80.9 125.5,87.3 125.5,87.3 C122.9,97.6 130.6,101.9 134.4,103.2\"\n",
            "                fill=\"currentColor\" style=\"transform-origin: 130px 106px;\" class=\"octo-arm\"></path>\n",
            "            <path d=\"M115.0,115.0 C114.9,115.1 118.7,116.5 119.8,115.4 L133.7,101.6 C136.9,99.2 139.9,98.4 142.2,98.6 C133.8,88.0 127.5,74.4 143.8,58.0 C148.5,53.4 154.0,51.2 159.7,51.0 C160.3,49.4 163.2,43.6 171.4,40.1 C171.4,40.1 176.1,42.5 178.8,56.2 C183.1,58.6 187.2,61.8 190.9,65.4 C194.5,69.0 197.7,73.2 200.1,77.6 C213.8,80.2 216.3,84.9 216.3,84.9 C212.7,93.1 206.9,96.0 205.4,96.6 C205.1,102.4 203.0,107.8 198.3,112.5 C181.9,128.9 168.3,122.5 157.7,114.1 C157.9,116.9 156.7,120.9 152.7,124.9 L141.0,136.5 C139.8,137.7 141.6,141.9 141.8,141.8 Z\"\n",
            "                fill=\"currentColor\" class=\"octo-body\"></path>\n",
            "        </svg>\n",
            "    </a>\n",
            "    <svg xmlns=\"http://www.w3.org/2000/svg\" xmlns:xlink=\"http://www.w3.org/1999/xlink\" style=\"position:absolute;width:0;height:0\">\n",
            "        <defs>\n",
            "            <symbol viewBox=\"0 0 20 20\" id=\"unlocked\">\n",
            "                <path d=\"M15.8 8H14V5.6C14 2.703 12.665 1 10 1 7.334 1 6 2.703 6 5.6V6h2v-.801C8 3.754 8.797 3 10 3c1.203 0 2 .754 2 2.199V8H4c-.553 0-1 .646-1 1.199V17c0 .549.428 1.139.951 1.307l1.197.387C5.672 18.861 6.55 19 7.1 19h5.8c.549 0 1.428-.139 1.951-.307l1.196-.387c.524-.167.953-.757.953-1.306V9.199C17 8.646 16.352 8 15.8 8z\"></path>\n",
            "            </symbol>\n",
            "\n",
            "            <symbol viewBox=\"0 0 20 20\" id=\"locked\">\n",
            "                <path d=\"M15.8 8H14V5.6C14 2.703 12.665 1 10 1 7.334 1 6 2.703 6 5.6V8H4c-.553 0-1 .646-1 1.199V17c0 .549.428 1.139.951 1.307l1.197.387C5.672 18.861 6.55 19 7.1 19h5.8c.549 0 1.428-.139 1.951-.307l1.196-.387c.524-.167.953-.757.953-1.306V9.199C17 8.646 16.352 8 15.8 8zM12 8H8V5.199C8 3.754 8.797 3 10 3c1.203 0 2 .754 2 2.199V8z\"\n",
            "                />\n",
            "            </symbol>\n",
            "\n",
            "            <symbol viewBox=\"0 0 20 20\" id=\"close\">\n",
            "                <path d=\"M14.348 14.849c-.469.469-1.229.469-1.697 0L10 11.819l-2.651 3.029c-.469.469-1.229.469-1.697 0-.469-.469-.469-1.229 0-1.697l2.758-3.15-2.759-3.152c-.469-.469-.469-1.228 0-1.697.469-.469 1.228-.469 1.697 0L10 8.183l2.651-3.031c.469-.469 1.228-.469 1.697 0 .469.469.469 1.229 0 1.697l-2.758 3.152 2.758 3.15c.469.469.469 1.229 0 1.698z\"\n",
            "                />\n",
            "            </symbol>\n",
            "\n",
            "            <symbol viewBox=\"0 0 20 20\" id=\"large-arrow\">\n",
            "                <path d=\"M13.25 10L6.109 2.58c-.268-.27-.268-.707 0-.979.268-.27.701-.27.969 0l7.83 7.908c.268.271.268.709 0 .979l-7.83 7.908c-.268.271-.701.27-.969 0-.268-.269-.268-.707 0-.979L13.25 10z\"\n",
            "                />\n",
            "            </symbol>\n",
            "\n",
            "            <symbol viewBox=\"0 0 20 20\" id=\"large-arrow-down\">\n",
            "                <path d=\"M17.418 6.109c.272-.268.709-.268.979 0s.271.701 0 .969l-7.908 7.83c-.27.268-.707.268-.979 0l-7.908-7.83c-.27-.268-.27-.701 0-.969.271-.268.709-.268.979 0L10 13.25l7.418-7.141z\"\n",
            "                />\n",
            "            </symbol>\n",
            "\n",
            "\n",
            "            <symbol viewBox=\"0 0 24 24\" id=\"jump-to\">\n",
            "                <path d=\"M19 7v4H5.83l3.58-3.59L8 6l-6 6 6 6 1.41-1.41L5.83 13H21V7z\" />\n",
            "            </symbol>\n",
            "\n",
            "            <symbol viewBox=\"0 0 24 24\" id=\"expand\">\n",
            "                <path d=\"M10 18h4v-2h-4v2zM3 6v2h18V6H3zm3 7h12v-2H6v2z\" />\n",
            "            </symbol>\n",
            "\n",
            "        </defs>\n",
            "    </svg>\n",
            "\n",
            "\n",
            "    <div id=\"swagger-ui\">\n",
            "        <div data-reactroot=\"\" class=\"swagger-ui\">\n",
            "            <div>\n",
            "                <div class=\"information-container wrapper\">\n",
            "                    <section class=\"block col-12\">\n",
            "                        <div class=\"info\">\n",
            "                            <hgroup class=\"main\">\n",
            "                                <h2 class=\"title\">httpbin.org\n",
            "                                    <small>\n",
            "                                        <pre class=\"version\">0.9.2</pre>\n",
            "                                    </small>\n",
            "                                </h2>\n",
            "                                <pre class=\"base-url\">[ Base URL: httpbin.org/ ]</pre>\n",
            "                            </hgroup>\n",
            "                            <div class=\"description\">\n",
            "                                <div class=\"markdown\">\n",
            "                                    <p>A simple HTTP Request &amp; Response Service.\n",
            "                                        <br>\n",
            "                                        <br>\n",
            "                                        <b>Run locally: </b>\n",
            "                                        <code>$ docker run -p 80:80 kennethreitz/httpbin</code>\n",
            "                                    </p>\n",
            "                                </div>\n",
            "                            </div>\n",
            "                            <div>\n",
            "                                <div>\n",
            "                                    <a href=\"https://kennethreitz.org\" target=\"_blank\">the developer - Website</a>\n",
            "                                </div>\n",
            "                                <a href=\"mailto:me@kennethreitz.org\">Send email to the developer</a>\n",
            "                            </div>\n",
            "                        </div>\n",
            "                        <!-- ADDS THE LOADER SPINNER -->\n",
            "                        <div class=\"loading-container\">\n",
            "                            <div class=\"loading\"></div>\n",
            "                        </div>\n",
            "\n",
            "                    </section>\n",
            "                </div>\n",
            "            </div>\n",
            "        </div>\n",
            "    </div>\n",
            "\n",
            "\n",
            "    <div class='swagger-ui'>\n",
            "        <div class=\"wrapper\">\n",
            "            <section class=\"clear\">\n",
            "                <span style=\"float: right;\">\n",
            "                    [Powered by\n",
            "                    <a target=\"_blank\" href=\"https://github.com/rochacbruno/flasgger\">Flasgger</a>]\n",
            "                    <br>\n",
            "                </span>\n",
            "            </section>\n",
            "        </div>\n",
            "    </div>\n",
            "\n",
            "\n",
            "\n",
            "    <script src=\"/flasgger_static/swagger-ui-bundle.js\"> </script>\n",
            "    <script src=\"/flasgger_static/swagger-ui-standalone-preset.js\"> </script>\n",
            "    <script src='/flasgger_static/lib/jquery.min.js' type='text/javascript'></script>\n",
            "    <script>\n",
            "\n",
            "        window.onload = function () {\n",
            "            \n",
            "\n",
            "            fetch(\"/spec.json\")\n",
            "                .then(function (response) {\n",
            "                    response.json()\n",
            "                        .then(function (json) {\n",
            "                            var current_protocol = window.location.protocol.slice(0, -1);\n",
            "                            if (json.schemes[0] != current_protocol) {\n",
            "                                // Switches scheme to the current in use\n",
            "                                var other_protocol = json.schemes[0];\n",
            "                                json.schemes[0] = current_protocol;\n",
            "                                json.schemes[1] = other_protocol;\n",
            "\n",
            "                            }\n",
            "                            json.host = window.location.host;  // sets the current host\n",
            "\n",
            "                            const ui = SwaggerUIBundle({\n",
            "                                spec: json,\n",
            "                                validatorUrl: null,\n",
            "                                dom_id: '#swagger-ui',\n",
            "                                deepLinking: true,\n",
            "                                jsonEditor: true,\n",
            "                                docExpansion: \"none\",\n",
            "                                apisSorter: \"alpha\",\n",
            "                                //operationsSorter: \"alpha\",\n",
            "                                presets: [\n",
            "                                    SwaggerUIBundle.presets.apis,\n",
            "                                    // yay ES6 modules ↘\n",
            "                                    Array.isArray(SwaggerUIStandalonePreset) ? SwaggerUIStandalonePreset : SwaggerUIStandalonePreset.default\n",
            "                                ],\n",
            "                                plugins: [\n",
            "                                    SwaggerUIBundle.plugins.DownloadUrl\n",
            "                                ],\n",
            "            \n",
            "            // layout: \"StandaloneLayout\"  // uncomment to enable the green top header\n",
            "        })\n",
            "\n",
            "        window.ui = ui\n",
            "\n",
            "        // uncomment to rename the top brand if layout is enabled\n",
            "        // $(\".topbar-wrapper .link span\").replaceWith(\"<span>httpbin</span>\");\n",
            "        })\n",
            "    })\n",
            "}\n",
            "    </script>  <div class='swagger-ui'>\n",
            "    <div class=\"wrapper\">\n",
            "        <section class=\"block col-12 block-desktop col-12-desktop\">\n",
            "            <div>\n",
            "\n",
            "                <h2>Other Utilities</h2>\n",
            "\n",
            "                <ul>\n",
            "                    <li>\n",
            "                        <a href=\"/forms/post\">HTML form</a> that posts to /post /forms/post</li>\n",
            "                </ul>\n",
            "\n",
            "                <br />\n",
            "                <br />\n",
            "            </div>\n",
            "        </section>\n",
            "    </div>\n",
            "</div>\n",
            "</body>\n",
            "\n",
            "</html>\n"
          ]
        }
      ]
    },
    {
      "cell_type": "markdown",
      "source": [
        "- https://www.altexsoft.com/blog/rest-api-design/\n",
        "\n",
        "## **HTTP verbs**\n",
        "- There are 5 basic verb commands when making a HTTP request:\n",
        "\n",
        ">- GET: make a read only request to view either a single or list of multiple resources\n",
        "- POST: create a new resource based on the payload given in the body of the request\n",
        "- DELETE: destroy the given resource based on the id provided\n",
        "- PUT: update the entire fields of the resource based on the given body of the request or create a new one if not already exist\n",
        "- PATCH: update only the fields of the resource if it exists"
      ],
      "metadata": {
        "id": "znh9EOSY6n35"
      }
    },
    {
      "cell_type": "markdown",
      "source": [
        "## <font color='orange'>**1. Python Request GET**\n",
        "- GET는 HTTP Method의 하나로 페이지에 대한 정보를 요구하는 Method\n",
        "- Path & Query 호ㅓㄱ인하고 POST, PUT, DELETE 메소드에 따라 다른 요청을 하는 것을 실습\n",
        "- Endpoint란 API가 서버에서 자원(resource)에 접근할 수 있도록 하는 URL(돈 찾으러 은행가면 은행이 endpoint이고 창구은행원이 API)\n",
        "\n",
        "\n"
      ],
      "metadata": {
        "id": "ciqo-2UDwehz"
      }
    },
    {
      "cell_type": "code",
      "source": [
        "url = 'https://httpbin.org/get'  # endpoint  path"
      ],
      "metadata": {
        "id": "GA6-65Y4wrD9"
      },
      "execution_count": null,
      "outputs": []
    },
    {
      "cell_type": "code",
      "source": [
        "# header & body\n",
        "r = requests.get(url)\n",
        "print(r.text)"
      ],
      "metadata": {
        "colab": {
          "base_uri": "https://localhost:8080/"
        },
        "id": "y6KogFDoYEoa",
        "outputId": "3162d03a-38ef-460e-af53-0bcb3d1b9b68"
      },
      "execution_count": null,
      "outputs": [
        {
          "output_type": "stream",
          "name": "stdout",
          "text": [
            "{\n",
            "  \"args\": {}, \n",
            "  \"headers\": {\n",
            "    \"Accept\": \"*/*\", \n",
            "    \"Accept-Encoding\": \"gzip, deflate\", \n",
            "    \"Host\": \"httpbin.org\", \n",
            "    \"User-Agent\": \"python-requests/2.32.3\", \n",
            "    \"X-Amzn-Trace-Id\": \"Root=1-6722a83d-4c3adc12370af8bf0e2a09c7\"\n",
            "  }, \n",
            "  \"origin\": \"34.48.44.214\", \n",
            "  \"url\": \"https://httpbin.org/get\"\n",
            "}\n",
            "\n"
          ]
        }
      ]
    },
    {
      "cell_type": "markdown",
      "source": [
        "GET 요청에서 본문이 존재하지 않는 것은 자연스러운 상황입니다. 만약 본문을 포함한 요청을 하고 싶다면, POST 또는 PUT 같은 메소드를 사용하고 데이터를 요청 본문에 포함하여 전송하면 됩니다."
      ],
      "metadata": {
        "id": "VUSA7X0CY__l"
      }
    },
    {
      "cell_type": "code",
      "source": [
        "r.headers"
      ],
      "metadata": {
        "colab": {
          "base_uri": "https://localhost:8080/"
        },
        "id": "p5qc-drWZKqB",
        "outputId": "0534afed-dbbc-449a-9f54-2dbaaa435744"
      },
      "execution_count": null,
      "outputs": [
        {
          "output_type": "execute_result",
          "data": {
            "text/plain": [
              "{'Date': 'Wed, 30 Oct 2024 21:42:21 GMT', 'Content-Type': 'application/json', 'Content-Length': '306', 'Connection': 'keep-alive', 'Server': 'gunicorn/19.9.0', 'Access-Control-Allow-Origin': '*', 'Access-Control-Allow-Credentials': 'true'}"
            ]
          },
          "metadata": {},
          "execution_count": 14
        }
      ]
    },
    {
      "cell_type": "code",
      "source": [
        "r.content"
      ],
      "metadata": {
        "colab": {
          "base_uri": "https://localhost:8080/"
        },
        "id": "RJkW_2rIZRkw",
        "outputId": "6c0a3e2f-0751-4bfb-e2b7-8ab5b704544e"
      },
      "execution_count": null,
      "outputs": [
        {
          "output_type": "execute_result",
          "data": {
            "text/plain": [
              "b'{\\n  \"args\": {}, \\n  \"headers\": {\\n    \"Accept\": \"*/*\", \\n    \"Accept-Encoding\": \"gzip, deflate\", \\n    \"Host\": \"httpbin.org\", \\n    \"User-Agent\": \"python-requests/2.32.3\", \\n    \"X-Amzn-Trace-Id\": \"Root=1-6722a83d-4c3adc12370af8bf0e2a09c7\"\\n  }, \\n  \"origin\": \"34.48.44.214\", \\n  \"url\": \"https://httpbin.org/get\"\\n}\\n'"
            ]
          },
          "metadata": {},
          "execution_count": 15
        }
      ]
    },
    {
      "cell_type": "code",
      "source": [
        "requests.get(url).text"
      ],
      "metadata": {
        "colab": {
          "base_uri": "https://localhost:8080/",
          "height": 53
        },
        "id": "VbKYPgljB5ea",
        "outputId": "c96cd4b8-6c37-4e08-80f0-36486f6a6c1b"
      },
      "execution_count": null,
      "outputs": [
        {
          "output_type": "execute_result",
          "data": {
            "text/plain": [
              "'{\\n  \"args\": {}, \\n  \"headers\": {\\n    \"Accept\": \"*/*\", \\n    \"Accept-Encoding\": \"gzip, deflate\", \\n    \"Host\": \"httpbin.org\", \\n    \"User-Agent\": \"python-requests/2.32.3\", \\n    \"X-Amzn-Trace-Id\": \"Root=1-6722a979-37dbcbd879f0e8187ecda44d\"\\n  }, \\n  \"origin\": \"34.48.44.214\", \\n  \"url\": \"https://httpbin.org/get\"\\n}\\n'"
            ],
            "application/vnd.google.colaboratory.intrinsic+json": {
              "type": "string"
            }
          },
          "metadata": {},
          "execution_count": 16
        }
      ]
    },
    {
      "cell_type": "code",
      "source": [
        "print(requests.get(url).text)"
      ],
      "metadata": {
        "colab": {
          "base_uri": "https://localhost:8080/"
        },
        "id": "Lhi__iiajWVl",
        "outputId": "4acfe69b-07c3-4511-cd07-208f433bbbd7"
      },
      "execution_count": null,
      "outputs": [
        {
          "output_type": "stream",
          "name": "stdout",
          "text": [
            "{\n",
            "  \"args\": {}, \n",
            "  \"headers\": {\n",
            "    \"Accept\": \"*/*\", \n",
            "    \"Accept-Encoding\": \"gzip, deflate\", \n",
            "    \"Host\": \"httpbin.org\", \n",
            "    \"User-Agent\": \"python-requests/2.32.3\", \n",
            "    \"X-Amzn-Trace-Id\": \"Root=1-6722a986-5a1b3d1f5ef6fcac38f463ab\"\n",
            "  }, \n",
            "  \"origin\": \"34.48.44.214\", \n",
            "  \"url\": \"https://httpbin.org/get\"\n",
            "}\n",
            "\n"
          ]
        }
      ]
    },
    {
      "cell_type": "code",
      "source": [
        "print(type(requests.get(url).text))"
      ],
      "metadata": {
        "colab": {
          "base_uri": "https://localhost:8080/"
        },
        "id": "-svZagYwjo1M",
        "outputId": "93cd5f13-17e5-4f6c-d013-3001f4733ad0"
      },
      "execution_count": null,
      "outputs": [
        {
          "output_type": "stream",
          "name": "stdout",
          "text": [
            "<class 'str'>\n"
          ]
        }
      ]
    },
    {
      "cell_type": "code",
      "source": [
        "import json\n",
        "json.loads(requests.get(url).text)"
      ],
      "metadata": {
        "colab": {
          "base_uri": "https://localhost:8080/"
        },
        "id": "yvQDDfTiCLfH",
        "outputId": "ed9cd688-7144-49e5-f6dd-cc004102a4d9"
      },
      "execution_count": null,
      "outputs": [
        {
          "output_type": "execute_result",
          "data": {
            "text/plain": [
              "{'args': {},\n",
              " 'headers': {'Accept': '*/*',\n",
              "  'Accept-Encoding': 'gzip, deflate',\n",
              "  'Host': 'httpbin.org',\n",
              "  'User-Agent': 'python-requests/2.32.3',\n",
              "  'X-Amzn-Trace-Id': 'Root=1-6722a996-262491ae26744a35706823bc'},\n",
              " 'origin': '34.48.44.214',\n",
              " 'url': 'https://httpbin.org/get'}"
            ]
          },
          "metadata": {},
          "execution_count": 19
        }
      ]
    },
    {
      "cell_type": "code",
      "source": [
        "type(json.loads(requests.get(url).text))"
      ],
      "metadata": {
        "colab": {
          "base_uri": "https://localhost:8080/"
        },
        "id": "W5yX3NA2jvqZ",
        "outputId": "a2a4a9dd-1d46-4cc7-e0f4-79fcafb61531"
      },
      "execution_count": null,
      "outputs": [
        {
          "output_type": "execute_result",
          "data": {
            "text/plain": [
              "dict"
            ]
          },
          "metadata": {},
          "execution_count": 20
        }
      ]
    },
    {
      "cell_type": "code",
      "source": [
        "json.loads(requests.get(url).text)['headers']"
      ],
      "metadata": {
        "colab": {
          "base_uri": "https://localhost:8080/"
        },
        "id": "rPpbDou6kF3v",
        "outputId": "277d7050-57ca-4eda-b4bf-8c19992ef3e6"
      },
      "execution_count": null,
      "outputs": [
        {
          "output_type": "execute_result",
          "data": {
            "text/plain": [
              "{'Accept': '*/*',\n",
              " 'Accept-Encoding': 'gzip, deflate',\n",
              " 'Host': 'httpbin.org',\n",
              " 'User-Agent': 'python-requests/2.32.3',\n",
              " 'X-Amzn-Trace-Id': 'Root=1-6722a99a-43ef7d0d3cc3d41045cda6d4'}"
            ]
          },
          "metadata": {},
          "execution_count": 21
        }
      ]
    },
    {
      "cell_type": "markdown",
      "source": [
        ">> ##### **URL에 GET 요청을 보내고, 해당 요청에 URL 쿼리 매개변수 'names'에 'sangoo' 값을 포함하여 보내는 것을 의미**\n",
        "- https://api.example.com/data?names=sangoo (서버에 따라 다르지만 굳이 sanggoo가 없어도 된다)"
      ],
      "metadata": {
        "id": "o81P8g7UCxDK"
      }
    },
    {
      "cell_type": "code",
      "source": [
        "http_get_request = requests.get(url, params={'names': 'ancestor9'})\n",
        "print(http_get_request.text)"
      ],
      "metadata": {
        "colab": {
          "base_uri": "https://localhost:8080/"
        },
        "id": "jwvwJgs5Cbpg",
        "outputId": "41f9dc7f-9425-4212-e738-93fb0dbe9d35"
      },
      "execution_count": null,
      "outputs": [
        {
          "output_type": "stream",
          "name": "stdout",
          "text": [
            "{\n",
            "  \"args\": {\n",
            "    \"names\": \"ancestor9\"\n",
            "  }, \n",
            "  \"headers\": {\n",
            "    \"Accept\": \"*/*\", \n",
            "    \"Accept-Encoding\": \"gzip, deflate\", \n",
            "    \"Host\": \"httpbin.org\", \n",
            "    \"User-Agent\": \"python-requests/2.32.3\", \n",
            "    \"X-Amzn-Trace-Id\": \"Root=1-6722a9de-620e7d8206e619653d7b18e2\"\n",
            "  }, \n",
            "  \"origin\": \"34.48.44.214\", \n",
            "  \"url\": \"https://httpbin.org/get?names=ancestor9\"\n",
            "}\n",
            "\n"
          ]
        }
      ]
    },
    {
      "cell_type": "code",
      "source": [
        "http_get_request = requests.get(url, params={'names': 'ancestor9', 'address': 'moon'})\n",
        "print(http_get_request.text)"
      ],
      "metadata": {
        "colab": {
          "base_uri": "https://localhost:8080/"
        },
        "id": "zF6Fu9CQEbGG",
        "outputId": "dfee873e-fd4e-4818-d68f-cfb276168757"
      },
      "execution_count": null,
      "outputs": [
        {
          "output_type": "stream",
          "name": "stdout",
          "text": [
            "{\n",
            "  \"args\": {\n",
            "    \"address\": \"moon\", \n",
            "    \"names\": \"ancestor9\"\n",
            "  }, \n",
            "  \"headers\": {\n",
            "    \"Accept\": \"*/*\", \n",
            "    \"Accept-Encoding\": \"gzip, deflate\", \n",
            "    \"Host\": \"httpbin.org\", \n",
            "    \"User-Agent\": \"python-requests/2.32.3\", \n",
            "    \"X-Amzn-Trace-Id\": \"Root=1-6722a9f0-2490562d1316b55f155debea\"\n",
            "  }, \n",
            "  \"origin\": \"34.48.44.214\", \n",
            "  \"url\": \"https://httpbin.org/get?names=ancestor9&address=moon\"\n",
            "}\n",
            "\n"
          ]
        }
      ]
    },
    {
      "cell_type": "code",
      "source": [
        "print(http_get_request.status_code)"
      ],
      "metadata": {
        "colab": {
          "base_uri": "https://localhost:8080/"
        },
        "id": "xDHrDdVmtiog",
        "outputId": "85ce8f81-be36-4e88-aa37-0ad66e1e0bda"
      },
      "execution_count": null,
      "outputs": [
        {
          "output_type": "stream",
          "name": "stdout",
          "text": [
            "200\n"
          ]
        }
      ]
    },
    {
      "cell_type": "code",
      "source": [
        "http_get_request.json()"
      ],
      "metadata": {
        "colab": {
          "base_uri": "https://localhost:8080/"
        },
        "id": "wJ7YYy4rmBi-",
        "outputId": "08df27f0-470d-41a0-9474-3b0ef9a8d334"
      },
      "execution_count": null,
      "outputs": [
        {
          "output_type": "execute_result",
          "data": {
            "text/plain": [
              "{'args': {'address': 'moon', 'names': 'ancestor9'},\n",
              " 'headers': {'Accept': '*/*',\n",
              "  'Accept-Encoding': 'gzip, deflate',\n",
              "  'Host': 'httpbin.org',\n",
              "  'User-Agent': 'python-requests/2.32.3',\n",
              "  'X-Amzn-Trace-Id': 'Root=1-6722a9f0-2490562d1316b55f155debea'},\n",
              " 'origin': '34.48.44.214',\n",
              " 'url': 'https://httpbin.org/get?names=ancestor9&address=moon'}"
            ]
          },
          "metadata": {},
          "execution_count": 25
        }
      ]
    },
    {
      "cell_type": "code",
      "source": [
        "http_get_request.json().keys()"
      ],
      "metadata": {
        "colab": {
          "base_uri": "https://localhost:8080/"
        },
        "id": "3mS-8bcElt_q",
        "outputId": "9f59c6e2-7adf-49c9-d49d-130a2b48b11f"
      },
      "execution_count": null,
      "outputs": [
        {
          "output_type": "execute_result",
          "data": {
            "text/plain": [
              "dict_keys(['args', 'headers', 'origin', 'url'])"
            ]
          },
          "metadata": {},
          "execution_count": 26
        }
      ]
    },
    {
      "cell_type": "code",
      "source": [
        "for key in http_get_request.json().keys():\n",
        "    print(http_get_request.json()[key])"
      ],
      "metadata": {
        "colab": {
          "base_uri": "https://localhost:8080/"
        },
        "id": "w1wk2UuHmGtF",
        "outputId": "716ea39c-bad3-4172-f24d-a57613eeca31"
      },
      "execution_count": null,
      "outputs": [
        {
          "output_type": "stream",
          "name": "stdout",
          "text": [
            "{'address': 'moon', 'names': 'ancestor9'}\n",
            "{'Accept': '*/*', 'Accept-Encoding': 'gzip, deflate', 'Host': 'httpbin.org', 'User-Agent': 'python-requests/2.32.3', 'X-Amzn-Trace-Id': 'Root=1-6722a9f0-2490562d1316b55f155debea'}\n",
            "34.48.44.214\n",
            "https://httpbin.org/get?names=ancestor9&address=moon\n"
          ]
        }
      ]
    },
    {
      "cell_type": "markdown",
      "source": [
        "## <font color='orange'>**2. Python Request POST**\n",
        "- POST는 HTTP Method의 하나로 form형태로 정보를 보내는 Method"
      ],
      "metadata": {
        "id": "gNinaLGWyHcU"
      }
    },
    {
      "cell_type": "code",
      "source": [
        "url = 'https://httpbin.org/post'\n",
        "http_post_request = requests.post(url, data={'key': 'value'})\n",
        "print(http_post_request.text)\n",
        "print(http_post_request.status_code)"
      ],
      "metadata": {
        "colab": {
          "base_uri": "https://localhost:8080/"
        },
        "id": "dh1jpZ-ck-zE",
        "outputId": "db1a3862-d974-4b06-f45c-661ca9944861"
      },
      "execution_count": null,
      "outputs": [
        {
          "output_type": "stream",
          "name": "stdout",
          "text": [
            "{\n",
            "  \"args\": {}, \n",
            "  \"data\": \"\", \n",
            "  \"files\": {}, \n",
            "  \"form\": {\n",
            "    \"key\": \"value\"\n",
            "  }, \n",
            "  \"headers\": {\n",
            "    \"Accept\": \"*/*\", \n",
            "    \"Accept-Encoding\": \"gzip, deflate\", \n",
            "    \"Content-Length\": \"9\", \n",
            "    \"Content-Type\": \"application/x-www-form-urlencoded\", \n",
            "    \"Host\": \"httpbin.org\", \n",
            "    \"User-Agent\": \"python-requests/2.32.3\", \n",
            "    \"X-Amzn-Trace-Id\": \"Root=1-6722ab1a-5d72f0f61960764c162e70f6\"\n",
            "  }, \n",
            "  \"json\": null, \n",
            "  \"origin\": \"34.48.44.214\", \n",
            "  \"url\": \"https://httpbin.org/post\"\n",
            "}\n",
            "\n",
            "200\n"
          ]
        }
      ]
    },
    {
      "cell_type": "code",
      "source": [
        "# 쿼리 문자열 인수 추가\n",
        "params = {\n",
        "    'name': 'example',\n",
        "    'location': 'moon'\n",
        "}\n",
        "\n",
        "# POST 요청의 본문 데이터\n",
        "data = {\n",
        "    'key': 'value',\n",
        "    'message': 'Hello, World!'\n",
        "}\n",
        "\n",
        "# POST 요청 보내기\n",
        "http_post_request = requests.post(url, params=params, data=data)\n",
        "\n",
        "# 응답 출력\n",
        "print(http_post_request.text)\n"
      ],
      "metadata": {
        "colab": {
          "base_uri": "https://localhost:8080/"
        },
        "id": "GwDfqPKQ0ZLT",
        "outputId": "b1144f46-f3d1-4096-e196-b188de680dab"
      },
      "execution_count": null,
      "outputs": [
        {
          "output_type": "stream",
          "name": "stdout",
          "text": [
            "{\n",
            "  \"args\": {\n",
            "    \"location\": \"moon\", \n",
            "    \"name\": \"example\"\n",
            "  }, \n",
            "  \"data\": \"\", \n",
            "  \"files\": {}, \n",
            "  \"form\": {\n",
            "    \"key\": \"value\", \n",
            "    \"message\": \"Hello, World!\"\n",
            "  }, \n",
            "  \"headers\": {\n",
            "    \"Accept\": \"*/*\", \n",
            "    \"Accept-Encoding\": \"gzip, deflate\", \n",
            "    \"Content-Length\": \"35\", \n",
            "    \"Content-Type\": \"application/x-www-form-urlencoded\", \n",
            "    \"Host\": \"httpbin.org\", \n",
            "    \"User-Agent\": \"python-requests/2.32.3\", \n",
            "    \"X-Amzn-Trace-Id\": \"Root=1-6722ab53-150eefc277a4b2f635ae669a\"\n",
            "  }, \n",
            "  \"json\": null, \n",
            "  \"origin\": \"34.48.44.214\", \n",
            "  \"url\": \"https://httpbin.org/post?name=example&location=moon\"\n",
            "}\n",
            "\n"
          ]
        }
      ]
    },
    {
      "cell_type": "code",
      "source": [
        "data = {'name': 'cho sanggoo',\n",
        "        'age' : '57'}\n",
        "\n",
        "http_post_request = requests.post(url, json=data)\n",
        "print(http_post_request.text)\n",
        "print(http_post_request.status_code)"
      ],
      "metadata": {
        "colab": {
          "base_uri": "https://localhost:8080/"
        },
        "id": "a4YY2-Zjzkiv",
        "outputId": "0d01959e-d298-42b0-fa88-d54fe65a5fee"
      },
      "execution_count": null,
      "outputs": [
        {
          "output_type": "stream",
          "name": "stdout",
          "text": [
            "{\n",
            "  \"args\": {}, \n",
            "  \"data\": \"{\\\"name\\\": \\\"cho sanggoo\\\", \\\"age\\\": \\\"57\\\"}\", \n",
            "  \"files\": {}, \n",
            "  \"form\": {}, \n",
            "  \"headers\": {\n",
            "    \"Accept\": \"*/*\", \n",
            "    \"Accept-Encoding\": \"gzip, deflate\", \n",
            "    \"Content-Length\": \"36\", \n",
            "    \"Content-Type\": \"application/json\", \n",
            "    \"Host\": \"httpbin.org\", \n",
            "    \"User-Agent\": \"python-requests/2.32.3\", \n",
            "    \"X-Amzn-Trace-Id\": \"Root=1-6722ab69-5658ead81ec8e0672a99ceca\"\n",
            "  }, \n",
            "  \"json\": {\n",
            "    \"age\": \"57\", \n",
            "    \"name\": \"cho sanggoo\"\n",
            "  }, \n",
            "  \"origin\": \"34.48.44.214\", \n",
            "  \"url\": \"https://httpbin.org/post\"\n",
            "}\n",
            "\n",
            "200\n"
          ]
        }
      ]
    },
    {
      "cell_type": "code",
      "source": [
        "r = requests.put('https://httpbin.org/put', data={'key': 'value'})\n",
        "print(r)\n",
        "r = requests.delete('https://httpbin.org/delete')\n",
        "print(r)"
      ],
      "metadata": {
        "colab": {
          "base_uri": "https://localhost:8080/"
        },
        "id": "ZIXxrFEXkF53",
        "outputId": "ee28dce2-cac9-4e14-b316-9b58e7df1647"
      },
      "execution_count": null,
      "outputs": [
        {
          "output_type": "stream",
          "name": "stdout",
          "text": [
            "<Response [200]>\n",
            "<Response [200]>\n"
          ]
        }
      ]
    },
    {
      "cell_type": "markdown",
      "source": [
        "## <font color='orange'> **Sample 예제**"
      ],
      "metadata": {
        "id": "87n56dVh1fUa"
      }
    },
    {
      "cell_type": "code",
      "source": [
        "url = 'http://example.com/'  # Include the scheme (http or https)\n",
        "http_get_request = requests.get(url)"
      ],
      "metadata": {
        "id": "IIU78oO2xKA4"
      },
      "execution_count": null,
      "outputs": []
    },
    {
      "cell_type": "code",
      "source": [
        "print(http_get_request)"
      ],
      "metadata": {
        "colab": {
          "base_uri": "https://localhost:8080/"
        },
        "id": "RNTbC-eyxRLH",
        "outputId": "999ec1cf-dfe7-41f5-ac2e-769544f3e7e7"
      },
      "execution_count": null,
      "outputs": [
        {
          "output_type": "stream",
          "name": "stdout",
          "text": [
            "<Response [200]>\n"
          ]
        }
      ]
    },
    {
      "cell_type": "code",
      "source": [
        "print(http_get_request.text)"
      ],
      "metadata": {
        "colab": {
          "base_uri": "https://localhost:8080/"
        },
        "id": "WghZIceXd1B9",
        "outputId": "f5ecf9b7-0dfd-4d23-df62-b20e4eaa93c9"
      },
      "execution_count": null,
      "outputs": [
        {
          "output_type": "stream",
          "name": "stdout",
          "text": [
            "<!doctype html>\n",
            "<html>\n",
            "<head>\n",
            "    <title>Example Domain</title>\n",
            "\n",
            "    <meta charset=\"utf-8\" />\n",
            "    <meta http-equiv=\"Content-type\" content=\"text/html; charset=utf-8\" />\n",
            "    <meta name=\"viewport\" content=\"width=device-width, initial-scale=1\" />\n",
            "    <style type=\"text/css\">\n",
            "    body {\n",
            "        background-color: #f0f0f2;\n",
            "        margin: 0;\n",
            "        padding: 0;\n",
            "        font-family: -apple-system, system-ui, BlinkMacSystemFont, \"Segoe UI\", \"Open Sans\", \"Helvetica Neue\", Helvetica, Arial, sans-serif;\n",
            "        \n",
            "    }\n",
            "    div {\n",
            "        width: 600px;\n",
            "        margin: 5em auto;\n",
            "        padding: 2em;\n",
            "        background-color: #fdfdff;\n",
            "        border-radius: 0.5em;\n",
            "        box-shadow: 2px 3px 7px 2px rgba(0,0,0,0.02);\n",
            "    }\n",
            "    a:link, a:visited {\n",
            "        color: #38488f;\n",
            "        text-decoration: none;\n",
            "    }\n",
            "    @media (max-width: 700px) {\n",
            "        div {\n",
            "            margin: 0 auto;\n",
            "            width: auto;\n",
            "        }\n",
            "    }\n",
            "    </style>    \n",
            "</head>\n",
            "\n",
            "<body>\n",
            "<div>\n",
            "    <h1>Example Domain</h1>\n",
            "    <p>This domain is for use in illustrative examples in documents. You may use this\n",
            "    domain in literature without prior coordination or asking for permission.</p>\n",
            "    <p><a href=\"https://www.iana.org/domains/example\">More information...</a></p>\n",
            "</div>\n",
            "</body>\n",
            "</html>\n",
            "\n"
          ]
        }
      ]
    },
    {
      "cell_type": "code",
      "source": [
        "url ='http://openapi.seoul.go.kr:8088/6d4d776b466c656533356a4b4b5872/json/RealtimeCityAir/1/99'"
      ],
      "metadata": {
        "id": "gFMwYC3Add7L"
      },
      "execution_count": null,
      "outputs": []
    },
    {
      "cell_type": "code",
      "source": [
        "res = requests.get(url)\n",
        "res"
      ],
      "metadata": {
        "colab": {
          "base_uri": "https://localhost:8080/"
        },
        "id": "WuVfu7ODBN3n",
        "outputId": "cd0cf5f8-a62f-4099-85d6-0fe330d2478c"
      },
      "execution_count": null,
      "outputs": [
        {
          "output_type": "execute_result",
          "data": {
            "text/plain": [
              "<Response [200]>"
            ]
          },
          "metadata": {},
          "execution_count": 56
        }
      ]
    },
    {
      "cell_type": "code",
      "source": [
        "print(res.text)"
      ],
      "metadata": {
        "colab": {
          "base_uri": "https://localhost:8080/"
        },
        "id": "O92p7xjsc4h0",
        "outputId": "cb0a27e4-d54f-4132-f184-2e223ab3d851"
      },
      "execution_count": null,
      "outputs": [
        {
          "output_type": "stream",
          "name": "stdout",
          "text": [
            "{\"RealtimeCityAir\":{\"list_total_count\":25,\"RESULT\":{\"CODE\":\"INFO-000\",\"MESSAGE\":\"정상 처리되었습니다\"},\"row\":[{\"MSRDT\":\"202410310600\",\"MSRRGN_NM\":\"도심권\",\"MSRSTE_NM\":\"중구\",\"PM10\":26.0,\"PM25\":18.0,\"O3\":0.01,\"NO2\":0.021,\"CO\":0.5,\"SO2\":0.003,\"IDEX_NM\":\"보통\",\"IDEX_MVL\":61.0,\"ARPLT_MAIN\":\"PM-2.5\"},{\"MSRDT\":\"202410310600\",\"MSRRGN_NM\":\"도심권\",\"MSRSTE_NM\":\"종로구\",\"PM10\":28.0,\"PM25\":20.0,\"O3\":0.011,\"NO2\":0.03,\"CO\":0.5,\"SO2\":0.004,\"IDEX_NM\":\"보통\",\"IDEX_MVL\":69.0,\"ARPLT_MAIN\":\"PM-2.5\"},{\"MSRDT\":\"202410310600\",\"MSRRGN_NM\":\"도심권\",\"MSRSTE_NM\":\"용산구\",\"PM10\":32.0,\"PM25\":19.0,\"O3\":0.005,\"NO2\":0.034,\"CO\":0.5,\"SO2\":0.003,\"IDEX_NM\":\"보통\",\"IDEX_MVL\":64.0,\"ARPLT_MAIN\":\"PM-2.5\"},{\"MSRDT\":\"202410310600\",\"MSRRGN_NM\":\"서북권\",\"MSRSTE_NM\":\"은평구\",\"PM10\":19.0,\"PM25\":13.0,\"O3\":0.011,\"NO2\":0.017,\"CO\":0.5,\"SO2\":0.003,\"IDEX_NM\":\"보통\",\"IDEX_MVL\":51.0,\"ARPLT_MAIN\":\"PM-2.5\"},{\"MSRDT\":\"202410310600\",\"MSRRGN_NM\":\"서북권\",\"MSRSTE_NM\":\"서대문구\",\"PM10\":26.0,\"PM25\":17.0,\"O3\":0.018,\"NO2\":0.025,\"CO\":0.6,\"SO2\":0.003,\"IDEX_NM\":\"보통\",\"IDEX_MVL\":56.0,\"ARPLT_MAIN\":\"PM-2.5\"},{\"MSRDT\":\"202410310600\",\"MSRRGN_NM\":\"서북권\",\"MSRSTE_NM\":\"마포구\",\"PM10\":29.0,\"PM25\":18.0,\"O3\":0.018,\"NO2\":0.024,\"CO\":0.5,\"SO2\":0.003,\"IDEX_NM\":\"보통\",\"IDEX_MVL\":61.0,\"ARPLT_MAIN\":\"PM-2.5\"},{\"MSRDT\":\"202410310600\",\"MSRRGN_NM\":\"동북권\",\"MSRSTE_NM\":\"광진구\",\"PM10\":25.0,\"PM25\":16.0,\"O3\":0.012,\"NO2\":0.025,\"CO\":0.5,\"SO2\":0.003,\"IDEX_NM\":\"보통\",\"IDEX_MVL\":56.0,\"ARPLT_MAIN\":\"PM-2.5\"},{\"MSRDT\":\"202410310600\",\"MSRRGN_NM\":\"동북권\",\"MSRSTE_NM\":\"성동구\",\"PM10\":28.0,\"PM25\":18.0,\"O3\":0.006,\"NO2\":0.031,\"CO\":0.4,\"SO2\":0.003,\"IDEX_NM\":\"보통\",\"IDEX_MVL\":61.0,\"ARPLT_MAIN\":\"PM-2.5\"},{\"MSRDT\":\"202410310600\",\"MSRRGN_NM\":\"동북권\",\"MSRSTE_NM\":\"중랑구\",\"PM10\":26.0,\"PM25\":17.0,\"O3\":0.015,\"NO2\":0.019,\"CO\":0.4,\"SO2\":0.002,\"IDEX_NM\":\"보통\",\"IDEX_MVL\":64.0,\"ARPLT_MAIN\":\"PM-2.5\"},{\"MSRDT\":\"202410310600\",\"MSRRGN_NM\":\"동북권\",\"MSRSTE_NM\":\"동대문구\",\"PM10\":31.0,\"PM25\":20.0,\"O3\":0.009,\"NO2\":0.03,\"CO\":0.5,\"SO2\":0.003,\"IDEX_NM\":\"보통\",\"IDEX_MVL\":66.0,\"ARPLT_MAIN\":\"PM-2.5\"},{\"MSRDT\":\"202410310600\",\"MSRRGN_NM\":\"동북권\",\"MSRSTE_NM\":\"성북구\",\"PM10\":27.0,\"PM25\":20.0,\"O3\":0.002,\"NO2\":0.033,\"CO\":0.7,\"SO2\":0.003,\"IDEX_NM\":\"보통\",\"IDEX_MVL\":61.0,\"ARPLT_MAIN\":\"PM-2.5\"},{\"MSRDT\":\"202410310600\",\"MSRRGN_NM\":\"동북권\",\"MSRSTE_NM\":\"도봉구\",\"PM10\":28.0,\"PM25\":17.0,\"O3\":0.006,\"NO2\":0.025,\"CO\":0.6,\"SO2\":0.003,\"IDEX_NM\":\"보통\",\"IDEX_MVL\":54.0,\"ARPLT_MAIN\":\"PM-2.5\"},{\"MSRDT\":\"202410310600\",\"MSRRGN_NM\":\"동북권\",\"MSRSTE_NM\":\"강북구\",\"PM10\":22.0,\"PM25\":15.0,\"O3\":0.019,\"NO2\":0.013,\"CO\":0.5,\"SO2\":0.002,\"IDEX_NM\":\"보통\",\"IDEX_MVL\":54.0,\"ARPLT_MAIN\":\"PM-2.5\"},{\"MSRDT\":\"202410310600\",\"MSRRGN_NM\":\"동북권\",\"MSRSTE_NM\":\"노원구\",\"PM10\":29.0,\"PM25\":19.0,\"O3\":0.007,\"NO2\":0.026,\"CO\":0.5,\"SO2\":0.003,\"IDEX_NM\":\"보통\",\"IDEX_MVL\":64.0,\"ARPLT_MAIN\":\"PM-2.5\"},{\"MSRDT\":\"202410310600\",\"MSRRGN_NM\":\"서남권\",\"MSRSTE_NM\":\"강서구\",\"PM10\":33.0,\"PM25\":20.0,\"O3\":0.002,\"NO2\":0.028,\"CO\":0.6,\"SO2\":0.004,\"IDEX_NM\":\"보통\",\"IDEX_MVL\":64.0,\"ARPLT_MAIN\":\"PM-2.5\"},{\"MSRDT\":\"202410310600\",\"MSRRGN_NM\":\"서남권\",\"MSRSTE_NM\":\"구로구\",\"PM10\":34.0,\"PM25\":24.0,\"O3\":0.004,\"NO2\":0.028,\"CO\":0.5,\"SO2\":0.002,\"IDEX_NM\":\"보통\",\"IDEX_MVL\":74.0,\"ARPLT_MAIN\":\"PM-2.5\"},{\"MSRDT\":\"202410310600\",\"MSRRGN_NM\":\"서남권\",\"MSRSTE_NM\":\"영등포구\",\"PM10\":29.0,\"PM25\":19.0,\"O3\":0.007,\"NO2\":0.036,\"CO\":0.5,\"SO2\":0.003,\"IDEX_NM\":\"보통\",\"IDEX_MVL\":61.0,\"ARPLT_MAIN\":\"PM-2.5\"},{\"MSRDT\":\"202410310600\",\"MSRRGN_NM\":\"서남권\",\"MSRSTE_NM\":\"동작구\",\"PM10\":29.0,\"PM25\":19.0,\"O3\":0.003,\"NO2\":0.033,\"CO\":0.6,\"SO2\":0.003,\"IDEX_NM\":\"보통\",\"IDEX_MVL\":64.0,\"ARPLT_MAIN\":\"PM-2.5\"},{\"MSRDT\":\"202410310600\",\"MSRRGN_NM\":\"서남권\",\"MSRSTE_NM\":\"관악구\",\"PM10\":33.0,\"PM25\":20.0,\"O3\":0.006,\"NO2\":0.037,\"CO\":0.5,\"SO2\":0.003,\"IDEX_NM\":\"보통\",\"IDEX_MVL\":66.0,\"ARPLT_MAIN\":\"PM-2.5\"},{\"MSRDT\":\"202410310600\",\"MSRRGN_NM\":\"서남권\",\"MSRSTE_NM\":\"금천구\",\"PM10\":25.0,\"PM25\":20.0,\"O3\":0.007,\"NO2\":0.026,\"CO\":0.5,\"SO2\":0.003,\"IDEX_NM\":\"보통\",\"IDEX_MVL\":61.0,\"ARPLT_MAIN\":\"PM-2.5\"},{\"MSRDT\":\"202410310600\",\"MSRRGN_NM\":\"서남권\",\"MSRSTE_NM\":\"양천구\",\"PM10\":34.0,\"PM25\":21.0,\"O3\":0.002,\"NO2\":0.034,\"CO\":0.6,\"SO2\":0.002,\"IDEX_NM\":\"보통\",\"IDEX_MVL\":66.0,\"ARPLT_MAIN\":\"PM-2.5\"},{\"MSRDT\":\"202410310600\",\"MSRRGN_NM\":\"동남권\",\"MSRSTE_NM\":\"강남구\",\"PM10\":26.0,\"PM25\":17.0,\"O3\":0.014,\"NO2\":0.023,\"CO\":0.4,\"SO2\":0.002,\"IDEX_NM\":\"보통\",\"IDEX_MVL\":61.0,\"ARPLT_MAIN\":\"PM-2.5\"},{\"MSRDT\":\"202410310600\",\"MSRRGN_NM\":\"동남권\",\"MSRSTE_NM\":\"서초구\",\"PM10\":41.0,\"PM25\":26.0,\"O3\":0.005,\"NO2\":0.034,\"CO\":0.5,\"SO2\":0.002,\"IDEX_NM\":\"보통\",\"IDEX_MVL\":74.0,\"ARPLT_MAIN\":\"PM-2.5\"},{\"MSRDT\":\"202410310600\",\"MSRRGN_NM\":\"동남권\",\"MSRSTE_NM\":\"송파구\",\"PM10\":32.0,\"PM25\":20.0,\"O3\":0.002,\"NO2\":0.033,\"CO\":0.6,\"SO2\":0.002,\"IDEX_NM\":\"보통\",\"IDEX_MVL\":64.0,\"ARPLT_MAIN\":\"PM-2.5\"},{\"MSRDT\":\"202410310600\",\"MSRRGN_NM\":\"동남권\",\"MSRSTE_NM\":\"강동구\",\"PM10\":28.0,\"PM25\":18.0,\"O3\":0.005,\"NO2\":0.027,\"CO\":0.5,\"SO2\":0.002,\"IDEX_NM\":\"보통\",\"IDEX_MVL\":66.0,\"ARPLT_MAIN\":\"PM-2.5\"}]}}\n"
          ]
        }
      ]
    },
    {
      "cell_type": "code",
      "source": [
        "type(res.text)"
      ],
      "metadata": {
        "colab": {
          "base_uri": "https://localhost:8080/"
        },
        "id": "xtJuh5vxeiI7",
        "outputId": "ece13c20-cfd5-48f3-e318-2f633dca7e63"
      },
      "execution_count": null,
      "outputs": [
        {
          "output_type": "execute_result",
          "data": {
            "text/plain": [
              "str"
            ]
          },
          "metadata": {},
          "execution_count": 61
        }
      ]
    },
    {
      "cell_type": "code",
      "source": [
        "print(res.json())"
      ],
      "metadata": {
        "colab": {
          "base_uri": "https://localhost:8080/"
        },
        "id": "oVHFdO91c1rn",
        "outputId": "b3a05e36-236d-461c-e997-01d343a2564f"
      },
      "execution_count": null,
      "outputs": [
        {
          "output_type": "stream",
          "name": "stdout",
          "text": [
            "{'RealtimeCityAir': {'list_total_count': 25, 'RESULT': {'CODE': 'INFO-000', 'MESSAGE': '정상 처리되었습니다'}, 'row': [{'MSRDT': '202410310600', 'MSRRGN_NM': '도심권', 'MSRSTE_NM': '중구', 'PM10': 26.0, 'PM25': 18.0, 'O3': 0.01, 'NO2': 0.021, 'CO': 0.5, 'SO2': 0.003, 'IDEX_NM': '보통', 'IDEX_MVL': 61.0, 'ARPLT_MAIN': 'PM-2.5'}, {'MSRDT': '202410310600', 'MSRRGN_NM': '도심권', 'MSRSTE_NM': '종로구', 'PM10': 28.0, 'PM25': 20.0, 'O3': 0.011, 'NO2': 0.03, 'CO': 0.5, 'SO2': 0.004, 'IDEX_NM': '보통', 'IDEX_MVL': 69.0, 'ARPLT_MAIN': 'PM-2.5'}, {'MSRDT': '202410310600', 'MSRRGN_NM': '도심권', 'MSRSTE_NM': '용산구', 'PM10': 32.0, 'PM25': 19.0, 'O3': 0.005, 'NO2': 0.034, 'CO': 0.5, 'SO2': 0.003, 'IDEX_NM': '보통', 'IDEX_MVL': 64.0, 'ARPLT_MAIN': 'PM-2.5'}, {'MSRDT': '202410310600', 'MSRRGN_NM': '서북권', 'MSRSTE_NM': '은평구', 'PM10': 19.0, 'PM25': 13.0, 'O3': 0.011, 'NO2': 0.017, 'CO': 0.5, 'SO2': 0.003, 'IDEX_NM': '보통', 'IDEX_MVL': 51.0, 'ARPLT_MAIN': 'PM-2.5'}, {'MSRDT': '202410310600', 'MSRRGN_NM': '서북권', 'MSRSTE_NM': '서대문구', 'PM10': 26.0, 'PM25': 17.0, 'O3': 0.018, 'NO2': 0.025, 'CO': 0.6, 'SO2': 0.003, 'IDEX_NM': '보통', 'IDEX_MVL': 56.0, 'ARPLT_MAIN': 'PM-2.5'}, {'MSRDT': '202410310600', 'MSRRGN_NM': '서북권', 'MSRSTE_NM': '마포구', 'PM10': 29.0, 'PM25': 18.0, 'O3': 0.018, 'NO2': 0.024, 'CO': 0.5, 'SO2': 0.003, 'IDEX_NM': '보통', 'IDEX_MVL': 61.0, 'ARPLT_MAIN': 'PM-2.5'}, {'MSRDT': '202410310600', 'MSRRGN_NM': '동북권', 'MSRSTE_NM': '광진구', 'PM10': 25.0, 'PM25': 16.0, 'O3': 0.012, 'NO2': 0.025, 'CO': 0.5, 'SO2': 0.003, 'IDEX_NM': '보통', 'IDEX_MVL': 56.0, 'ARPLT_MAIN': 'PM-2.5'}, {'MSRDT': '202410310600', 'MSRRGN_NM': '동북권', 'MSRSTE_NM': '성동구', 'PM10': 28.0, 'PM25': 18.0, 'O3': 0.006, 'NO2': 0.031, 'CO': 0.4, 'SO2': 0.003, 'IDEX_NM': '보통', 'IDEX_MVL': 61.0, 'ARPLT_MAIN': 'PM-2.5'}, {'MSRDT': '202410310600', 'MSRRGN_NM': '동북권', 'MSRSTE_NM': '중랑구', 'PM10': 26.0, 'PM25': 17.0, 'O3': 0.015, 'NO2': 0.019, 'CO': 0.4, 'SO2': 0.002, 'IDEX_NM': '보통', 'IDEX_MVL': 64.0, 'ARPLT_MAIN': 'PM-2.5'}, {'MSRDT': '202410310600', 'MSRRGN_NM': '동북권', 'MSRSTE_NM': '동대문구', 'PM10': 31.0, 'PM25': 20.0, 'O3': 0.009, 'NO2': 0.03, 'CO': 0.5, 'SO2': 0.003, 'IDEX_NM': '보통', 'IDEX_MVL': 66.0, 'ARPLT_MAIN': 'PM-2.5'}, {'MSRDT': '202410310600', 'MSRRGN_NM': '동북권', 'MSRSTE_NM': '성북구', 'PM10': 27.0, 'PM25': 20.0, 'O3': 0.002, 'NO2': 0.033, 'CO': 0.7, 'SO2': 0.003, 'IDEX_NM': '보통', 'IDEX_MVL': 61.0, 'ARPLT_MAIN': 'PM-2.5'}, {'MSRDT': '202410310600', 'MSRRGN_NM': '동북권', 'MSRSTE_NM': '도봉구', 'PM10': 28.0, 'PM25': 17.0, 'O3': 0.006, 'NO2': 0.025, 'CO': 0.6, 'SO2': 0.003, 'IDEX_NM': '보통', 'IDEX_MVL': 54.0, 'ARPLT_MAIN': 'PM-2.5'}, {'MSRDT': '202410310600', 'MSRRGN_NM': '동북권', 'MSRSTE_NM': '강북구', 'PM10': 22.0, 'PM25': 15.0, 'O3': 0.019, 'NO2': 0.013, 'CO': 0.5, 'SO2': 0.002, 'IDEX_NM': '보통', 'IDEX_MVL': 54.0, 'ARPLT_MAIN': 'PM-2.5'}, {'MSRDT': '202410310600', 'MSRRGN_NM': '동북권', 'MSRSTE_NM': '노원구', 'PM10': 29.0, 'PM25': 19.0, 'O3': 0.007, 'NO2': 0.026, 'CO': 0.5, 'SO2': 0.003, 'IDEX_NM': '보통', 'IDEX_MVL': 64.0, 'ARPLT_MAIN': 'PM-2.5'}, {'MSRDT': '202410310600', 'MSRRGN_NM': '서남권', 'MSRSTE_NM': '강서구', 'PM10': 33.0, 'PM25': 20.0, 'O3': 0.002, 'NO2': 0.028, 'CO': 0.6, 'SO2': 0.004, 'IDEX_NM': '보통', 'IDEX_MVL': 64.0, 'ARPLT_MAIN': 'PM-2.5'}, {'MSRDT': '202410310600', 'MSRRGN_NM': '서남권', 'MSRSTE_NM': '구로구', 'PM10': 34.0, 'PM25': 24.0, 'O3': 0.004, 'NO2': 0.028, 'CO': 0.5, 'SO2': 0.002, 'IDEX_NM': '보통', 'IDEX_MVL': 74.0, 'ARPLT_MAIN': 'PM-2.5'}, {'MSRDT': '202410310600', 'MSRRGN_NM': '서남권', 'MSRSTE_NM': '영등포구', 'PM10': 29.0, 'PM25': 19.0, 'O3': 0.007, 'NO2': 0.036, 'CO': 0.5, 'SO2': 0.003, 'IDEX_NM': '보통', 'IDEX_MVL': 61.0, 'ARPLT_MAIN': 'PM-2.5'}, {'MSRDT': '202410310600', 'MSRRGN_NM': '서남권', 'MSRSTE_NM': '동작구', 'PM10': 29.0, 'PM25': 19.0, 'O3': 0.003, 'NO2': 0.033, 'CO': 0.6, 'SO2': 0.003, 'IDEX_NM': '보통', 'IDEX_MVL': 64.0, 'ARPLT_MAIN': 'PM-2.5'}, {'MSRDT': '202410310600', 'MSRRGN_NM': '서남권', 'MSRSTE_NM': '관악구', 'PM10': 33.0, 'PM25': 20.0, 'O3': 0.006, 'NO2': 0.037, 'CO': 0.5, 'SO2': 0.003, 'IDEX_NM': '보통', 'IDEX_MVL': 66.0, 'ARPLT_MAIN': 'PM-2.5'}, {'MSRDT': '202410310600', 'MSRRGN_NM': '서남권', 'MSRSTE_NM': '금천구', 'PM10': 25.0, 'PM25': 20.0, 'O3': 0.007, 'NO2': 0.026, 'CO': 0.5, 'SO2': 0.003, 'IDEX_NM': '보통', 'IDEX_MVL': 61.0, 'ARPLT_MAIN': 'PM-2.5'}, {'MSRDT': '202410310600', 'MSRRGN_NM': '서남권', 'MSRSTE_NM': '양천구', 'PM10': 34.0, 'PM25': 21.0, 'O3': 0.002, 'NO2': 0.034, 'CO': 0.6, 'SO2': 0.002, 'IDEX_NM': '보통', 'IDEX_MVL': 66.0, 'ARPLT_MAIN': 'PM-2.5'}, {'MSRDT': '202410310600', 'MSRRGN_NM': '동남권', 'MSRSTE_NM': '강남구', 'PM10': 26.0, 'PM25': 17.0, 'O3': 0.014, 'NO2': 0.023, 'CO': 0.4, 'SO2': 0.002, 'IDEX_NM': '보통', 'IDEX_MVL': 61.0, 'ARPLT_MAIN': 'PM-2.5'}, {'MSRDT': '202410310600', 'MSRRGN_NM': '동남권', 'MSRSTE_NM': '서초구', 'PM10': 41.0, 'PM25': 26.0, 'O3': 0.005, 'NO2': 0.034, 'CO': 0.5, 'SO2': 0.002, 'IDEX_NM': '보통', 'IDEX_MVL': 74.0, 'ARPLT_MAIN': 'PM-2.5'}, {'MSRDT': '202410310600', 'MSRRGN_NM': '동남권', 'MSRSTE_NM': '송파구', 'PM10': 32.0, 'PM25': 20.0, 'O3': 0.002, 'NO2': 0.033, 'CO': 0.6, 'SO2': 0.002, 'IDEX_NM': '보통', 'IDEX_MVL': 64.0, 'ARPLT_MAIN': 'PM-2.5'}, {'MSRDT': '202410310600', 'MSRRGN_NM': '동남권', 'MSRSTE_NM': '강동구', 'PM10': 28.0, 'PM25': 18.0, 'O3': 0.005, 'NO2': 0.027, 'CO': 0.5, 'SO2': 0.002, 'IDEX_NM': '보통', 'IDEX_MVL': 66.0, 'ARPLT_MAIN': 'PM-2.5'}]}}\n"
          ]
        }
      ]
    },
    {
      "cell_type": "code",
      "source": [
        "type(res.json())"
      ],
      "metadata": {
        "colab": {
          "base_uri": "https://localhost:8080/"
        },
        "id": "BUiWXo_hBPHv",
        "outputId": "bcfe6d74-24d6-4972-9a26-f8ed51f20b5e"
      },
      "execution_count": null,
      "outputs": [
        {
          "output_type": "execute_result",
          "data": {
            "text/plain": [
              "dict"
            ]
          },
          "metadata": {},
          "execution_count": 59
        }
      ]
    },
    {
      "cell_type": "markdown",
      "source": [
        "##@ 사전형은 데이터로 조작 가능 - callable\n",
        "- type(res.text())"
      ],
      "metadata": {
        "id": "Nbl1C8CLfJm5"
      }
    },
    {
      "cell_type": "code",
      "source": [
        "type(res.text())"
      ],
      "metadata": {
        "colab": {
          "base_uri": "https://localhost:8080/",
          "height": 145
        },
        "id": "XN3AA2Rrfe1Y",
        "outputId": "8cb70321-a1a3-476d-cb54-054e48b1a07c"
      },
      "execution_count": null,
      "outputs": [
        {
          "output_type": "error",
          "ename": "TypeError",
          "evalue": "'str' object is not callable",
          "traceback": [
            "\u001b[0;31m---------------------------------------------------------------------------\u001b[0m",
            "\u001b[0;31mTypeError\u001b[0m                                 Traceback (most recent call last)",
            "\u001b[0;32m<ipython-input-64-f4303aa3a9ee>\u001b[0m in \u001b[0;36m<cell line: 1>\u001b[0;34m()\u001b[0m\n\u001b[0;32m----> 1\u001b[0;31m \u001b[0mtype\u001b[0m\u001b[0;34m(\u001b[0m\u001b[0mres\u001b[0m\u001b[0;34m.\u001b[0m\u001b[0mtext\u001b[0m\u001b[0;34m(\u001b[0m\u001b[0;34m)\u001b[0m\u001b[0;34m)\u001b[0m\u001b[0;34m\u001b[0m\u001b[0;34m\u001b[0m\u001b[0m\n\u001b[0m",
            "\u001b[0;31mTypeError\u001b[0m: 'str' object is not callable"
          ]
        }
      ]
    },
    {
      "cell_type": "code",
      "source": [
        "resj = res.json()"
      ],
      "metadata": {
        "id": "zcr93449efoA"
      },
      "execution_count": null,
      "outputs": []
    },
    {
      "cell_type": "code",
      "source": [
        "import pandas as pd\n",
        "pd.DataFrame(resj)"
      ],
      "metadata": {
        "colab": {
          "base_uri": "https://localhost:8080/",
          "height": 663
        },
        "id": "MrHp5T07BReE",
        "outputId": "a5f31e14-66ce-4671-e3c2-dba3151968d6"
      },
      "execution_count": null,
      "outputs": [
        {
          "output_type": "execute_result",
          "data": {
            "text/plain": [
              "                                                    RealtimeCityAir\n",
              "list_total_count                                                 25\n",
              "RESULT                {'CODE': 'INFO-000', 'MESSAGE': '정상 처리되었습니다'}\n",
              "row               [{'MSRDT': '202410310600', 'MSRRGN_NM': '도심권',..."
            ],
            "text/html": [
              "\n",
              "  <div id=\"df-4317bbc2-91a9-4196-89ee-214fef5c2631\" class=\"colab-df-container\">\n",
              "    <div>\n",
              "<style scoped>\n",
              "    .dataframe tbody tr th:only-of-type {\n",
              "        vertical-align: middle;\n",
              "    }\n",
              "\n",
              "    .dataframe tbody tr th {\n",
              "        vertical-align: top;\n",
              "    }\n",
              "\n",
              "    .dataframe thead th {\n",
              "        text-align: right;\n",
              "    }\n",
              "</style>\n",
              "<table border=\"1\" class=\"dataframe\">\n",
              "  <thead>\n",
              "    <tr style=\"text-align: right;\">\n",
              "      <th></th>\n",
              "      <th>RealtimeCityAir</th>\n",
              "    </tr>\n",
              "  </thead>\n",
              "  <tbody>\n",
              "    <tr>\n",
              "      <th>list_total_count</th>\n",
              "      <td>25</td>\n",
              "    </tr>\n",
              "    <tr>\n",
              "      <th>RESULT</th>\n",
              "      <td>{'CODE': 'INFO-000', 'MESSAGE': '정상 처리되었습니다'}</td>\n",
              "    </tr>\n",
              "    <tr>\n",
              "      <th>row</th>\n",
              "      <td>[{'MSRDT': '202410310600', 'MSRRGN_NM': '도심권',...</td>\n",
              "    </tr>\n",
              "  </tbody>\n",
              "</table>\n",
              "</div>\n",
              "    <div class=\"colab-df-buttons\">\n",
              "\n",
              "  <div class=\"colab-df-container\">\n",
              "    <button class=\"colab-df-convert\" onclick=\"convertToInteractive('df-4317bbc2-91a9-4196-89ee-214fef5c2631')\"\n",
              "            title=\"Convert this dataframe to an interactive table.\"\n",
              "            style=\"display:none;\">\n",
              "\n",
              "  <svg xmlns=\"http://www.w3.org/2000/svg\" height=\"24px\" viewBox=\"0 -960 960 960\">\n",
              "    <path d=\"M120-120v-720h720v720H120Zm60-500h600v-160H180v160Zm220 220h160v-160H400v160Zm0 220h160v-160H400v160ZM180-400h160v-160H180v160Zm440 0h160v-160H620v160ZM180-180h160v-160H180v160Zm440 0h160v-160H620v160Z\"/>\n",
              "  </svg>\n",
              "    </button>\n",
              "\n",
              "  <style>\n",
              "    .colab-df-container {\n",
              "      display:flex;\n",
              "      gap: 12px;\n",
              "    }\n",
              "\n",
              "    .colab-df-convert {\n",
              "      background-color: #E8F0FE;\n",
              "      border: none;\n",
              "      border-radius: 50%;\n",
              "      cursor: pointer;\n",
              "      display: none;\n",
              "      fill: #1967D2;\n",
              "      height: 32px;\n",
              "      padding: 0 0 0 0;\n",
              "      width: 32px;\n",
              "    }\n",
              "\n",
              "    .colab-df-convert:hover {\n",
              "      background-color: #E2EBFA;\n",
              "      box-shadow: 0px 1px 2px rgba(60, 64, 67, 0.3), 0px 1px 3px 1px rgba(60, 64, 67, 0.15);\n",
              "      fill: #174EA6;\n",
              "    }\n",
              "\n",
              "    .colab-df-buttons div {\n",
              "      margin-bottom: 4px;\n",
              "    }\n",
              "\n",
              "    [theme=dark] .colab-df-convert {\n",
              "      background-color: #3B4455;\n",
              "      fill: #D2E3FC;\n",
              "    }\n",
              "\n",
              "    [theme=dark] .colab-df-convert:hover {\n",
              "      background-color: #434B5C;\n",
              "      box-shadow: 0px 1px 3px 1px rgba(0, 0, 0, 0.15);\n",
              "      filter: drop-shadow(0px 1px 2px rgba(0, 0, 0, 0.3));\n",
              "      fill: #FFFFFF;\n",
              "    }\n",
              "  </style>\n",
              "\n",
              "    <script>\n",
              "      const buttonEl =\n",
              "        document.querySelector('#df-4317bbc2-91a9-4196-89ee-214fef5c2631 button.colab-df-convert');\n",
              "      buttonEl.style.display =\n",
              "        google.colab.kernel.accessAllowed ? 'block' : 'none';\n",
              "\n",
              "      async function convertToInteractive(key) {\n",
              "        const element = document.querySelector('#df-4317bbc2-91a9-4196-89ee-214fef5c2631');\n",
              "        const dataTable =\n",
              "          await google.colab.kernel.invokeFunction('convertToInteractive',\n",
              "                                                    [key], {});\n",
              "        if (!dataTable) return;\n",
              "\n",
              "        const docLinkHtml = 'Like what you see? Visit the ' +\n",
              "          '<a target=\"_blank\" href=https://colab.research.google.com/notebooks/data_table.ipynb>data table notebook</a>'\n",
              "          + ' to learn more about interactive tables.';\n",
              "        element.innerHTML = '';\n",
              "        dataTable['output_type'] = 'display_data';\n",
              "        await google.colab.output.renderOutput(dataTable, element);\n",
              "        const docLink = document.createElement('div');\n",
              "        docLink.innerHTML = docLinkHtml;\n",
              "        element.appendChild(docLink);\n",
              "      }\n",
              "    </script>\n",
              "  </div>\n",
              "\n",
              "\n",
              "<div id=\"df-84bf414f-39f2-438c-9f7c-e782ff20fcb5\">\n",
              "  <button class=\"colab-df-quickchart\" onclick=\"quickchart('df-84bf414f-39f2-438c-9f7c-e782ff20fcb5')\"\n",
              "            title=\"Suggest charts\"\n",
              "            style=\"display:none;\">\n",
              "\n",
              "<svg xmlns=\"http://www.w3.org/2000/svg\" height=\"24px\"viewBox=\"0 0 24 24\"\n",
              "     width=\"24px\">\n",
              "    <g>\n",
              "        <path d=\"M19 3H5c-1.1 0-2 .9-2 2v14c0 1.1.9 2 2 2h14c1.1 0 2-.9 2-2V5c0-1.1-.9-2-2-2zM9 17H7v-7h2v7zm4 0h-2V7h2v10zm4 0h-2v-4h2v4z\"/>\n",
              "    </g>\n",
              "</svg>\n",
              "  </button>\n",
              "\n",
              "<style>\n",
              "  .colab-df-quickchart {\n",
              "      --bg-color: #E8F0FE;\n",
              "      --fill-color: #1967D2;\n",
              "      --hover-bg-color: #E2EBFA;\n",
              "      --hover-fill-color: #174EA6;\n",
              "      --disabled-fill-color: #AAA;\n",
              "      --disabled-bg-color: #DDD;\n",
              "  }\n",
              "\n",
              "  [theme=dark] .colab-df-quickchart {\n",
              "      --bg-color: #3B4455;\n",
              "      --fill-color: #D2E3FC;\n",
              "      --hover-bg-color: #434B5C;\n",
              "      --hover-fill-color: #FFFFFF;\n",
              "      --disabled-bg-color: #3B4455;\n",
              "      --disabled-fill-color: #666;\n",
              "  }\n",
              "\n",
              "  .colab-df-quickchart {\n",
              "    background-color: var(--bg-color);\n",
              "    border: none;\n",
              "    border-radius: 50%;\n",
              "    cursor: pointer;\n",
              "    display: none;\n",
              "    fill: var(--fill-color);\n",
              "    height: 32px;\n",
              "    padding: 0;\n",
              "    width: 32px;\n",
              "  }\n",
              "\n",
              "  .colab-df-quickchart:hover {\n",
              "    background-color: var(--hover-bg-color);\n",
              "    box-shadow: 0 1px 2px rgba(60, 64, 67, 0.3), 0 1px 3px 1px rgba(60, 64, 67, 0.15);\n",
              "    fill: var(--button-hover-fill-color);\n",
              "  }\n",
              "\n",
              "  .colab-df-quickchart-complete:disabled,\n",
              "  .colab-df-quickchart-complete:disabled:hover {\n",
              "    background-color: var(--disabled-bg-color);\n",
              "    fill: var(--disabled-fill-color);\n",
              "    box-shadow: none;\n",
              "  }\n",
              "\n",
              "  .colab-df-spinner {\n",
              "    border: 2px solid var(--fill-color);\n",
              "    border-color: transparent;\n",
              "    border-bottom-color: var(--fill-color);\n",
              "    animation:\n",
              "      spin 1s steps(1) infinite;\n",
              "  }\n",
              "\n",
              "  @keyframes spin {\n",
              "    0% {\n",
              "      border-color: transparent;\n",
              "      border-bottom-color: var(--fill-color);\n",
              "      border-left-color: var(--fill-color);\n",
              "    }\n",
              "    20% {\n",
              "      border-color: transparent;\n",
              "      border-left-color: var(--fill-color);\n",
              "      border-top-color: var(--fill-color);\n",
              "    }\n",
              "    30% {\n",
              "      border-color: transparent;\n",
              "      border-left-color: var(--fill-color);\n",
              "      border-top-color: var(--fill-color);\n",
              "      border-right-color: var(--fill-color);\n",
              "    }\n",
              "    40% {\n",
              "      border-color: transparent;\n",
              "      border-right-color: var(--fill-color);\n",
              "      border-top-color: var(--fill-color);\n",
              "    }\n",
              "    60% {\n",
              "      border-color: transparent;\n",
              "      border-right-color: var(--fill-color);\n",
              "    }\n",
              "    80% {\n",
              "      border-color: transparent;\n",
              "      border-right-color: var(--fill-color);\n",
              "      border-bottom-color: var(--fill-color);\n",
              "    }\n",
              "    90% {\n",
              "      border-color: transparent;\n",
              "      border-bottom-color: var(--fill-color);\n",
              "    }\n",
              "  }\n",
              "</style>\n",
              "\n",
              "  <script>\n",
              "    async function quickchart(key) {\n",
              "      const quickchartButtonEl =\n",
              "        document.querySelector('#' + key + ' button');\n",
              "      quickchartButtonEl.disabled = true;  // To prevent multiple clicks.\n",
              "      quickchartButtonEl.classList.add('colab-df-spinner');\n",
              "      try {\n",
              "        const charts = await google.colab.kernel.invokeFunction(\n",
              "            'suggestCharts', [key], {});\n",
              "      } catch (error) {\n",
              "        console.error('Error during call to suggestCharts:', error);\n",
              "      }\n",
              "      quickchartButtonEl.classList.remove('colab-df-spinner');\n",
              "      quickchartButtonEl.classList.add('colab-df-quickchart-complete');\n",
              "    }\n",
              "    (() => {\n",
              "      let quickchartButtonEl =\n",
              "        document.querySelector('#df-84bf414f-39f2-438c-9f7c-e782ff20fcb5 button');\n",
              "      quickchartButtonEl.style.display =\n",
              "        google.colab.kernel.accessAllowed ? 'block' : 'none';\n",
              "    })();\n",
              "  </script>\n",
              "</div>\n",
              "\n",
              "    </div>\n",
              "  </div>\n"
            ],
            "application/vnd.google.colaboratory.intrinsic+json": {
              "type": "dataframe",
              "summary": "{\n  \"name\": \"pd\",\n  \"rows\": 3,\n  \"fields\": [\n    {\n      \"column\": \"RealtimeCityAir\",\n      \"properties\": {\n        \"dtype\": \"object\",\n        \"semantic_type\": \"\",\n        \"description\": \"\"\n      }\n    }\n  ]\n}"
            }
          },
          "metadata": {},
          "execution_count": 63
        }
      ]
    },
    {
      "cell_type": "code",
      "source": [
        "resj['RealtimeCityAir']"
      ],
      "metadata": {
        "colab": {
          "base_uri": "https://localhost:8080/"
        },
        "collapsed": true,
        "id": "KqOB09uzfmoH",
        "outputId": "a0716a44-9365-4033-af96-29d6a588fa47"
      },
      "execution_count": null,
      "outputs": [
        {
          "output_type": "execute_result",
          "data": {
            "text/plain": [
              "{'list_total_count': 25,\n",
              " 'RESULT': {'CODE': 'INFO-000', 'MESSAGE': '정상 처리되었습니다'},\n",
              " 'row': [{'MSRDT': '202410310600',\n",
              "   'MSRRGN_NM': '도심권',\n",
              "   'MSRSTE_NM': '중구',\n",
              "   'PM10': 26.0,\n",
              "   'PM25': 18.0,\n",
              "   'O3': 0.01,\n",
              "   'NO2': 0.021,\n",
              "   'CO': 0.5,\n",
              "   'SO2': 0.003,\n",
              "   'IDEX_NM': '보통',\n",
              "   'IDEX_MVL': 61.0,\n",
              "   'ARPLT_MAIN': 'PM-2.5'},\n",
              "  {'MSRDT': '202410310600',\n",
              "   'MSRRGN_NM': '도심권',\n",
              "   'MSRSTE_NM': '종로구',\n",
              "   'PM10': 28.0,\n",
              "   'PM25': 20.0,\n",
              "   'O3': 0.011,\n",
              "   'NO2': 0.03,\n",
              "   'CO': 0.5,\n",
              "   'SO2': 0.004,\n",
              "   'IDEX_NM': '보통',\n",
              "   'IDEX_MVL': 69.0,\n",
              "   'ARPLT_MAIN': 'PM-2.5'},\n",
              "  {'MSRDT': '202410310600',\n",
              "   'MSRRGN_NM': '도심권',\n",
              "   'MSRSTE_NM': '용산구',\n",
              "   'PM10': 32.0,\n",
              "   'PM25': 19.0,\n",
              "   'O3': 0.005,\n",
              "   'NO2': 0.034,\n",
              "   'CO': 0.5,\n",
              "   'SO2': 0.003,\n",
              "   'IDEX_NM': '보통',\n",
              "   'IDEX_MVL': 64.0,\n",
              "   'ARPLT_MAIN': 'PM-2.5'},\n",
              "  {'MSRDT': '202410310600',\n",
              "   'MSRRGN_NM': '서북권',\n",
              "   'MSRSTE_NM': '은평구',\n",
              "   'PM10': 19.0,\n",
              "   'PM25': 13.0,\n",
              "   'O3': 0.011,\n",
              "   'NO2': 0.017,\n",
              "   'CO': 0.5,\n",
              "   'SO2': 0.003,\n",
              "   'IDEX_NM': '보통',\n",
              "   'IDEX_MVL': 51.0,\n",
              "   'ARPLT_MAIN': 'PM-2.5'},\n",
              "  {'MSRDT': '202410310600',\n",
              "   'MSRRGN_NM': '서북권',\n",
              "   'MSRSTE_NM': '서대문구',\n",
              "   'PM10': 26.0,\n",
              "   'PM25': 17.0,\n",
              "   'O3': 0.018,\n",
              "   'NO2': 0.025,\n",
              "   'CO': 0.6,\n",
              "   'SO2': 0.003,\n",
              "   'IDEX_NM': '보통',\n",
              "   'IDEX_MVL': 56.0,\n",
              "   'ARPLT_MAIN': 'PM-2.5'},\n",
              "  {'MSRDT': '202410310600',\n",
              "   'MSRRGN_NM': '서북권',\n",
              "   'MSRSTE_NM': '마포구',\n",
              "   'PM10': 29.0,\n",
              "   'PM25': 18.0,\n",
              "   'O3': 0.018,\n",
              "   'NO2': 0.024,\n",
              "   'CO': 0.5,\n",
              "   'SO2': 0.003,\n",
              "   'IDEX_NM': '보통',\n",
              "   'IDEX_MVL': 61.0,\n",
              "   'ARPLT_MAIN': 'PM-2.5'},\n",
              "  {'MSRDT': '202410310600',\n",
              "   'MSRRGN_NM': '동북권',\n",
              "   'MSRSTE_NM': '광진구',\n",
              "   'PM10': 25.0,\n",
              "   'PM25': 16.0,\n",
              "   'O3': 0.012,\n",
              "   'NO2': 0.025,\n",
              "   'CO': 0.5,\n",
              "   'SO2': 0.003,\n",
              "   'IDEX_NM': '보통',\n",
              "   'IDEX_MVL': 56.0,\n",
              "   'ARPLT_MAIN': 'PM-2.5'},\n",
              "  {'MSRDT': '202410310600',\n",
              "   'MSRRGN_NM': '동북권',\n",
              "   'MSRSTE_NM': '성동구',\n",
              "   'PM10': 28.0,\n",
              "   'PM25': 18.0,\n",
              "   'O3': 0.006,\n",
              "   'NO2': 0.031,\n",
              "   'CO': 0.4,\n",
              "   'SO2': 0.003,\n",
              "   'IDEX_NM': '보통',\n",
              "   'IDEX_MVL': 61.0,\n",
              "   'ARPLT_MAIN': 'PM-2.5'},\n",
              "  {'MSRDT': '202410310600',\n",
              "   'MSRRGN_NM': '동북권',\n",
              "   'MSRSTE_NM': '중랑구',\n",
              "   'PM10': 26.0,\n",
              "   'PM25': 17.0,\n",
              "   'O3': 0.015,\n",
              "   'NO2': 0.019,\n",
              "   'CO': 0.4,\n",
              "   'SO2': 0.002,\n",
              "   'IDEX_NM': '보통',\n",
              "   'IDEX_MVL': 64.0,\n",
              "   'ARPLT_MAIN': 'PM-2.5'},\n",
              "  {'MSRDT': '202410310600',\n",
              "   'MSRRGN_NM': '동북권',\n",
              "   'MSRSTE_NM': '동대문구',\n",
              "   'PM10': 31.0,\n",
              "   'PM25': 20.0,\n",
              "   'O3': 0.009,\n",
              "   'NO2': 0.03,\n",
              "   'CO': 0.5,\n",
              "   'SO2': 0.003,\n",
              "   'IDEX_NM': '보통',\n",
              "   'IDEX_MVL': 66.0,\n",
              "   'ARPLT_MAIN': 'PM-2.5'},\n",
              "  {'MSRDT': '202410310600',\n",
              "   'MSRRGN_NM': '동북권',\n",
              "   'MSRSTE_NM': '성북구',\n",
              "   'PM10': 27.0,\n",
              "   'PM25': 20.0,\n",
              "   'O3': 0.002,\n",
              "   'NO2': 0.033,\n",
              "   'CO': 0.7,\n",
              "   'SO2': 0.003,\n",
              "   'IDEX_NM': '보통',\n",
              "   'IDEX_MVL': 61.0,\n",
              "   'ARPLT_MAIN': 'PM-2.5'},\n",
              "  {'MSRDT': '202410310600',\n",
              "   'MSRRGN_NM': '동북권',\n",
              "   'MSRSTE_NM': '도봉구',\n",
              "   'PM10': 28.0,\n",
              "   'PM25': 17.0,\n",
              "   'O3': 0.006,\n",
              "   'NO2': 0.025,\n",
              "   'CO': 0.6,\n",
              "   'SO2': 0.003,\n",
              "   'IDEX_NM': '보통',\n",
              "   'IDEX_MVL': 54.0,\n",
              "   'ARPLT_MAIN': 'PM-2.5'},\n",
              "  {'MSRDT': '202410310600',\n",
              "   'MSRRGN_NM': '동북권',\n",
              "   'MSRSTE_NM': '강북구',\n",
              "   'PM10': 22.0,\n",
              "   'PM25': 15.0,\n",
              "   'O3': 0.019,\n",
              "   'NO2': 0.013,\n",
              "   'CO': 0.5,\n",
              "   'SO2': 0.002,\n",
              "   'IDEX_NM': '보통',\n",
              "   'IDEX_MVL': 54.0,\n",
              "   'ARPLT_MAIN': 'PM-2.5'},\n",
              "  {'MSRDT': '202410310600',\n",
              "   'MSRRGN_NM': '동북권',\n",
              "   'MSRSTE_NM': '노원구',\n",
              "   'PM10': 29.0,\n",
              "   'PM25': 19.0,\n",
              "   'O3': 0.007,\n",
              "   'NO2': 0.026,\n",
              "   'CO': 0.5,\n",
              "   'SO2': 0.003,\n",
              "   'IDEX_NM': '보통',\n",
              "   'IDEX_MVL': 64.0,\n",
              "   'ARPLT_MAIN': 'PM-2.5'},\n",
              "  {'MSRDT': '202410310600',\n",
              "   'MSRRGN_NM': '서남권',\n",
              "   'MSRSTE_NM': '강서구',\n",
              "   'PM10': 33.0,\n",
              "   'PM25': 20.0,\n",
              "   'O3': 0.002,\n",
              "   'NO2': 0.028,\n",
              "   'CO': 0.6,\n",
              "   'SO2': 0.004,\n",
              "   'IDEX_NM': '보통',\n",
              "   'IDEX_MVL': 64.0,\n",
              "   'ARPLT_MAIN': 'PM-2.5'},\n",
              "  {'MSRDT': '202410310600',\n",
              "   'MSRRGN_NM': '서남권',\n",
              "   'MSRSTE_NM': '구로구',\n",
              "   'PM10': 34.0,\n",
              "   'PM25': 24.0,\n",
              "   'O3': 0.004,\n",
              "   'NO2': 0.028,\n",
              "   'CO': 0.5,\n",
              "   'SO2': 0.002,\n",
              "   'IDEX_NM': '보통',\n",
              "   'IDEX_MVL': 74.0,\n",
              "   'ARPLT_MAIN': 'PM-2.5'},\n",
              "  {'MSRDT': '202410310600',\n",
              "   'MSRRGN_NM': '서남권',\n",
              "   'MSRSTE_NM': '영등포구',\n",
              "   'PM10': 29.0,\n",
              "   'PM25': 19.0,\n",
              "   'O3': 0.007,\n",
              "   'NO2': 0.036,\n",
              "   'CO': 0.5,\n",
              "   'SO2': 0.003,\n",
              "   'IDEX_NM': '보통',\n",
              "   'IDEX_MVL': 61.0,\n",
              "   'ARPLT_MAIN': 'PM-2.5'},\n",
              "  {'MSRDT': '202410310600',\n",
              "   'MSRRGN_NM': '서남권',\n",
              "   'MSRSTE_NM': '동작구',\n",
              "   'PM10': 29.0,\n",
              "   'PM25': 19.0,\n",
              "   'O3': 0.003,\n",
              "   'NO2': 0.033,\n",
              "   'CO': 0.6,\n",
              "   'SO2': 0.003,\n",
              "   'IDEX_NM': '보통',\n",
              "   'IDEX_MVL': 64.0,\n",
              "   'ARPLT_MAIN': 'PM-2.5'},\n",
              "  {'MSRDT': '202410310600',\n",
              "   'MSRRGN_NM': '서남권',\n",
              "   'MSRSTE_NM': '관악구',\n",
              "   'PM10': 33.0,\n",
              "   'PM25': 20.0,\n",
              "   'O3': 0.006,\n",
              "   'NO2': 0.037,\n",
              "   'CO': 0.5,\n",
              "   'SO2': 0.003,\n",
              "   'IDEX_NM': '보통',\n",
              "   'IDEX_MVL': 66.0,\n",
              "   'ARPLT_MAIN': 'PM-2.5'},\n",
              "  {'MSRDT': '202410310600',\n",
              "   'MSRRGN_NM': '서남권',\n",
              "   'MSRSTE_NM': '금천구',\n",
              "   'PM10': 25.0,\n",
              "   'PM25': 20.0,\n",
              "   'O3': 0.007,\n",
              "   'NO2': 0.026,\n",
              "   'CO': 0.5,\n",
              "   'SO2': 0.003,\n",
              "   'IDEX_NM': '보통',\n",
              "   'IDEX_MVL': 61.0,\n",
              "   'ARPLT_MAIN': 'PM-2.5'},\n",
              "  {'MSRDT': '202410310600',\n",
              "   'MSRRGN_NM': '서남권',\n",
              "   'MSRSTE_NM': '양천구',\n",
              "   'PM10': 34.0,\n",
              "   'PM25': 21.0,\n",
              "   'O3': 0.002,\n",
              "   'NO2': 0.034,\n",
              "   'CO': 0.6,\n",
              "   'SO2': 0.002,\n",
              "   'IDEX_NM': '보통',\n",
              "   'IDEX_MVL': 66.0,\n",
              "   'ARPLT_MAIN': 'PM-2.5'},\n",
              "  {'MSRDT': '202410310600',\n",
              "   'MSRRGN_NM': '동남권',\n",
              "   'MSRSTE_NM': '강남구',\n",
              "   'PM10': 26.0,\n",
              "   'PM25': 17.0,\n",
              "   'O3': 0.014,\n",
              "   'NO2': 0.023,\n",
              "   'CO': 0.4,\n",
              "   'SO2': 0.002,\n",
              "   'IDEX_NM': '보통',\n",
              "   'IDEX_MVL': 61.0,\n",
              "   'ARPLT_MAIN': 'PM-2.5'},\n",
              "  {'MSRDT': '202410310600',\n",
              "   'MSRRGN_NM': '동남권',\n",
              "   'MSRSTE_NM': '서초구',\n",
              "   'PM10': 41.0,\n",
              "   'PM25': 26.0,\n",
              "   'O3': 0.005,\n",
              "   'NO2': 0.034,\n",
              "   'CO': 0.5,\n",
              "   'SO2': 0.002,\n",
              "   'IDEX_NM': '보통',\n",
              "   'IDEX_MVL': 74.0,\n",
              "   'ARPLT_MAIN': 'PM-2.5'},\n",
              "  {'MSRDT': '202410310600',\n",
              "   'MSRRGN_NM': '동남권',\n",
              "   'MSRSTE_NM': '송파구',\n",
              "   'PM10': 32.0,\n",
              "   'PM25': 20.0,\n",
              "   'O3': 0.002,\n",
              "   'NO2': 0.033,\n",
              "   'CO': 0.6,\n",
              "   'SO2': 0.002,\n",
              "   'IDEX_NM': '보통',\n",
              "   'IDEX_MVL': 64.0,\n",
              "   'ARPLT_MAIN': 'PM-2.5'},\n",
              "  {'MSRDT': '202410310600',\n",
              "   'MSRRGN_NM': '동남권',\n",
              "   'MSRSTE_NM': '강동구',\n",
              "   'PM10': 28.0,\n",
              "   'PM25': 18.0,\n",
              "   'O3': 0.005,\n",
              "   'NO2': 0.027,\n",
              "   'CO': 0.5,\n",
              "   'SO2': 0.002,\n",
              "   'IDEX_NM': '보통',\n",
              "   'IDEX_MVL': 66.0,\n",
              "   'ARPLT_MAIN': 'PM-2.5'}]}"
            ]
          },
          "metadata": {},
          "execution_count": 65
        }
      ]
    },
    {
      "cell_type": "code",
      "source": [
        "resj['RealtimeCityAir']['row']"
      ],
      "metadata": {
        "colab": {
          "base_uri": "https://localhost:8080/"
        },
        "collapsed": true,
        "id": "SVQ5_NHcfrFo",
        "outputId": "4d1c7a59-7c9a-4853-da0f-14043a8a7086"
      },
      "execution_count": null,
      "outputs": [
        {
          "output_type": "execute_result",
          "data": {
            "text/plain": [
              "[{'MSRDT': '202410310600',\n",
              "  'MSRRGN_NM': '도심권',\n",
              "  'MSRSTE_NM': '중구',\n",
              "  'PM10': 26.0,\n",
              "  'PM25': 18.0,\n",
              "  'O3': 0.01,\n",
              "  'NO2': 0.021,\n",
              "  'CO': 0.5,\n",
              "  'SO2': 0.003,\n",
              "  'IDEX_NM': '보통',\n",
              "  'IDEX_MVL': 61.0,\n",
              "  'ARPLT_MAIN': 'PM-2.5'},\n",
              " {'MSRDT': '202410310600',\n",
              "  'MSRRGN_NM': '도심권',\n",
              "  'MSRSTE_NM': '종로구',\n",
              "  'PM10': 28.0,\n",
              "  'PM25': 20.0,\n",
              "  'O3': 0.011,\n",
              "  'NO2': 0.03,\n",
              "  'CO': 0.5,\n",
              "  'SO2': 0.004,\n",
              "  'IDEX_NM': '보통',\n",
              "  'IDEX_MVL': 69.0,\n",
              "  'ARPLT_MAIN': 'PM-2.5'},\n",
              " {'MSRDT': '202410310600',\n",
              "  'MSRRGN_NM': '도심권',\n",
              "  'MSRSTE_NM': '용산구',\n",
              "  'PM10': 32.0,\n",
              "  'PM25': 19.0,\n",
              "  'O3': 0.005,\n",
              "  'NO2': 0.034,\n",
              "  'CO': 0.5,\n",
              "  'SO2': 0.003,\n",
              "  'IDEX_NM': '보통',\n",
              "  'IDEX_MVL': 64.0,\n",
              "  'ARPLT_MAIN': 'PM-2.5'},\n",
              " {'MSRDT': '202410310600',\n",
              "  'MSRRGN_NM': '서북권',\n",
              "  'MSRSTE_NM': '은평구',\n",
              "  'PM10': 19.0,\n",
              "  'PM25': 13.0,\n",
              "  'O3': 0.011,\n",
              "  'NO2': 0.017,\n",
              "  'CO': 0.5,\n",
              "  'SO2': 0.003,\n",
              "  'IDEX_NM': '보통',\n",
              "  'IDEX_MVL': 51.0,\n",
              "  'ARPLT_MAIN': 'PM-2.5'},\n",
              " {'MSRDT': '202410310600',\n",
              "  'MSRRGN_NM': '서북권',\n",
              "  'MSRSTE_NM': '서대문구',\n",
              "  'PM10': 26.0,\n",
              "  'PM25': 17.0,\n",
              "  'O3': 0.018,\n",
              "  'NO2': 0.025,\n",
              "  'CO': 0.6,\n",
              "  'SO2': 0.003,\n",
              "  'IDEX_NM': '보통',\n",
              "  'IDEX_MVL': 56.0,\n",
              "  'ARPLT_MAIN': 'PM-2.5'},\n",
              " {'MSRDT': '202410310600',\n",
              "  'MSRRGN_NM': '서북권',\n",
              "  'MSRSTE_NM': '마포구',\n",
              "  'PM10': 29.0,\n",
              "  'PM25': 18.0,\n",
              "  'O3': 0.018,\n",
              "  'NO2': 0.024,\n",
              "  'CO': 0.5,\n",
              "  'SO2': 0.003,\n",
              "  'IDEX_NM': '보통',\n",
              "  'IDEX_MVL': 61.0,\n",
              "  'ARPLT_MAIN': 'PM-2.5'},\n",
              " {'MSRDT': '202410310600',\n",
              "  'MSRRGN_NM': '동북권',\n",
              "  'MSRSTE_NM': '광진구',\n",
              "  'PM10': 25.0,\n",
              "  'PM25': 16.0,\n",
              "  'O3': 0.012,\n",
              "  'NO2': 0.025,\n",
              "  'CO': 0.5,\n",
              "  'SO2': 0.003,\n",
              "  'IDEX_NM': '보통',\n",
              "  'IDEX_MVL': 56.0,\n",
              "  'ARPLT_MAIN': 'PM-2.5'},\n",
              " {'MSRDT': '202410310600',\n",
              "  'MSRRGN_NM': '동북권',\n",
              "  'MSRSTE_NM': '성동구',\n",
              "  'PM10': 28.0,\n",
              "  'PM25': 18.0,\n",
              "  'O3': 0.006,\n",
              "  'NO2': 0.031,\n",
              "  'CO': 0.4,\n",
              "  'SO2': 0.003,\n",
              "  'IDEX_NM': '보통',\n",
              "  'IDEX_MVL': 61.0,\n",
              "  'ARPLT_MAIN': 'PM-2.5'},\n",
              " {'MSRDT': '202410310600',\n",
              "  'MSRRGN_NM': '동북권',\n",
              "  'MSRSTE_NM': '중랑구',\n",
              "  'PM10': 26.0,\n",
              "  'PM25': 17.0,\n",
              "  'O3': 0.015,\n",
              "  'NO2': 0.019,\n",
              "  'CO': 0.4,\n",
              "  'SO2': 0.002,\n",
              "  'IDEX_NM': '보통',\n",
              "  'IDEX_MVL': 64.0,\n",
              "  'ARPLT_MAIN': 'PM-2.5'},\n",
              " {'MSRDT': '202410310600',\n",
              "  'MSRRGN_NM': '동북권',\n",
              "  'MSRSTE_NM': '동대문구',\n",
              "  'PM10': 31.0,\n",
              "  'PM25': 20.0,\n",
              "  'O3': 0.009,\n",
              "  'NO2': 0.03,\n",
              "  'CO': 0.5,\n",
              "  'SO2': 0.003,\n",
              "  'IDEX_NM': '보통',\n",
              "  'IDEX_MVL': 66.0,\n",
              "  'ARPLT_MAIN': 'PM-2.5'},\n",
              " {'MSRDT': '202410310600',\n",
              "  'MSRRGN_NM': '동북권',\n",
              "  'MSRSTE_NM': '성북구',\n",
              "  'PM10': 27.0,\n",
              "  'PM25': 20.0,\n",
              "  'O3': 0.002,\n",
              "  'NO2': 0.033,\n",
              "  'CO': 0.7,\n",
              "  'SO2': 0.003,\n",
              "  'IDEX_NM': '보통',\n",
              "  'IDEX_MVL': 61.0,\n",
              "  'ARPLT_MAIN': 'PM-2.5'},\n",
              " {'MSRDT': '202410310600',\n",
              "  'MSRRGN_NM': '동북권',\n",
              "  'MSRSTE_NM': '도봉구',\n",
              "  'PM10': 28.0,\n",
              "  'PM25': 17.0,\n",
              "  'O3': 0.006,\n",
              "  'NO2': 0.025,\n",
              "  'CO': 0.6,\n",
              "  'SO2': 0.003,\n",
              "  'IDEX_NM': '보통',\n",
              "  'IDEX_MVL': 54.0,\n",
              "  'ARPLT_MAIN': 'PM-2.5'},\n",
              " {'MSRDT': '202410310600',\n",
              "  'MSRRGN_NM': '동북권',\n",
              "  'MSRSTE_NM': '강북구',\n",
              "  'PM10': 22.0,\n",
              "  'PM25': 15.0,\n",
              "  'O3': 0.019,\n",
              "  'NO2': 0.013,\n",
              "  'CO': 0.5,\n",
              "  'SO2': 0.002,\n",
              "  'IDEX_NM': '보통',\n",
              "  'IDEX_MVL': 54.0,\n",
              "  'ARPLT_MAIN': 'PM-2.5'},\n",
              " {'MSRDT': '202410310600',\n",
              "  'MSRRGN_NM': '동북권',\n",
              "  'MSRSTE_NM': '노원구',\n",
              "  'PM10': 29.0,\n",
              "  'PM25': 19.0,\n",
              "  'O3': 0.007,\n",
              "  'NO2': 0.026,\n",
              "  'CO': 0.5,\n",
              "  'SO2': 0.003,\n",
              "  'IDEX_NM': '보통',\n",
              "  'IDEX_MVL': 64.0,\n",
              "  'ARPLT_MAIN': 'PM-2.5'},\n",
              " {'MSRDT': '202410310600',\n",
              "  'MSRRGN_NM': '서남권',\n",
              "  'MSRSTE_NM': '강서구',\n",
              "  'PM10': 33.0,\n",
              "  'PM25': 20.0,\n",
              "  'O3': 0.002,\n",
              "  'NO2': 0.028,\n",
              "  'CO': 0.6,\n",
              "  'SO2': 0.004,\n",
              "  'IDEX_NM': '보통',\n",
              "  'IDEX_MVL': 64.0,\n",
              "  'ARPLT_MAIN': 'PM-2.5'},\n",
              " {'MSRDT': '202410310600',\n",
              "  'MSRRGN_NM': '서남권',\n",
              "  'MSRSTE_NM': '구로구',\n",
              "  'PM10': 34.0,\n",
              "  'PM25': 24.0,\n",
              "  'O3': 0.004,\n",
              "  'NO2': 0.028,\n",
              "  'CO': 0.5,\n",
              "  'SO2': 0.002,\n",
              "  'IDEX_NM': '보통',\n",
              "  'IDEX_MVL': 74.0,\n",
              "  'ARPLT_MAIN': 'PM-2.5'},\n",
              " {'MSRDT': '202410310600',\n",
              "  'MSRRGN_NM': '서남권',\n",
              "  'MSRSTE_NM': '영등포구',\n",
              "  'PM10': 29.0,\n",
              "  'PM25': 19.0,\n",
              "  'O3': 0.007,\n",
              "  'NO2': 0.036,\n",
              "  'CO': 0.5,\n",
              "  'SO2': 0.003,\n",
              "  'IDEX_NM': '보통',\n",
              "  'IDEX_MVL': 61.0,\n",
              "  'ARPLT_MAIN': 'PM-2.5'},\n",
              " {'MSRDT': '202410310600',\n",
              "  'MSRRGN_NM': '서남권',\n",
              "  'MSRSTE_NM': '동작구',\n",
              "  'PM10': 29.0,\n",
              "  'PM25': 19.0,\n",
              "  'O3': 0.003,\n",
              "  'NO2': 0.033,\n",
              "  'CO': 0.6,\n",
              "  'SO2': 0.003,\n",
              "  'IDEX_NM': '보통',\n",
              "  'IDEX_MVL': 64.0,\n",
              "  'ARPLT_MAIN': 'PM-2.5'},\n",
              " {'MSRDT': '202410310600',\n",
              "  'MSRRGN_NM': '서남권',\n",
              "  'MSRSTE_NM': '관악구',\n",
              "  'PM10': 33.0,\n",
              "  'PM25': 20.0,\n",
              "  'O3': 0.006,\n",
              "  'NO2': 0.037,\n",
              "  'CO': 0.5,\n",
              "  'SO2': 0.003,\n",
              "  'IDEX_NM': '보통',\n",
              "  'IDEX_MVL': 66.0,\n",
              "  'ARPLT_MAIN': 'PM-2.5'},\n",
              " {'MSRDT': '202410310600',\n",
              "  'MSRRGN_NM': '서남권',\n",
              "  'MSRSTE_NM': '금천구',\n",
              "  'PM10': 25.0,\n",
              "  'PM25': 20.0,\n",
              "  'O3': 0.007,\n",
              "  'NO2': 0.026,\n",
              "  'CO': 0.5,\n",
              "  'SO2': 0.003,\n",
              "  'IDEX_NM': '보통',\n",
              "  'IDEX_MVL': 61.0,\n",
              "  'ARPLT_MAIN': 'PM-2.5'},\n",
              " {'MSRDT': '202410310600',\n",
              "  'MSRRGN_NM': '서남권',\n",
              "  'MSRSTE_NM': '양천구',\n",
              "  'PM10': 34.0,\n",
              "  'PM25': 21.0,\n",
              "  'O3': 0.002,\n",
              "  'NO2': 0.034,\n",
              "  'CO': 0.6,\n",
              "  'SO2': 0.002,\n",
              "  'IDEX_NM': '보통',\n",
              "  'IDEX_MVL': 66.0,\n",
              "  'ARPLT_MAIN': 'PM-2.5'},\n",
              " {'MSRDT': '202410310600',\n",
              "  'MSRRGN_NM': '동남권',\n",
              "  'MSRSTE_NM': '강남구',\n",
              "  'PM10': 26.0,\n",
              "  'PM25': 17.0,\n",
              "  'O3': 0.014,\n",
              "  'NO2': 0.023,\n",
              "  'CO': 0.4,\n",
              "  'SO2': 0.002,\n",
              "  'IDEX_NM': '보통',\n",
              "  'IDEX_MVL': 61.0,\n",
              "  'ARPLT_MAIN': 'PM-2.5'},\n",
              " {'MSRDT': '202410310600',\n",
              "  'MSRRGN_NM': '동남권',\n",
              "  'MSRSTE_NM': '서초구',\n",
              "  'PM10': 41.0,\n",
              "  'PM25': 26.0,\n",
              "  'O3': 0.005,\n",
              "  'NO2': 0.034,\n",
              "  'CO': 0.5,\n",
              "  'SO2': 0.002,\n",
              "  'IDEX_NM': '보통',\n",
              "  'IDEX_MVL': 74.0,\n",
              "  'ARPLT_MAIN': 'PM-2.5'},\n",
              " {'MSRDT': '202410310600',\n",
              "  'MSRRGN_NM': '동남권',\n",
              "  'MSRSTE_NM': '송파구',\n",
              "  'PM10': 32.0,\n",
              "  'PM25': 20.0,\n",
              "  'O3': 0.002,\n",
              "  'NO2': 0.033,\n",
              "  'CO': 0.6,\n",
              "  'SO2': 0.002,\n",
              "  'IDEX_NM': '보통',\n",
              "  'IDEX_MVL': 64.0,\n",
              "  'ARPLT_MAIN': 'PM-2.5'},\n",
              " {'MSRDT': '202410310600',\n",
              "  'MSRRGN_NM': '동남권',\n",
              "  'MSRSTE_NM': '강동구',\n",
              "  'PM10': 28.0,\n",
              "  'PM25': 18.0,\n",
              "  'O3': 0.005,\n",
              "  'NO2': 0.027,\n",
              "  'CO': 0.5,\n",
              "  'SO2': 0.002,\n",
              "  'IDEX_NM': '보통',\n",
              "  'IDEX_MVL': 66.0,\n",
              "  'ARPLT_MAIN': 'PM-2.5'}]"
            ]
          },
          "metadata": {},
          "execution_count": 66
        }
      ]
    },
    {
      "cell_type": "code",
      "source": [
        "resj['RealtimeCityAir']['row'][0]"
      ],
      "metadata": {
        "colab": {
          "base_uri": "https://localhost:8080/"
        },
        "id": "aQJthuUHcfUb",
        "outputId": "6d2554ba-a3e8-4374-ccab-bd11269e5379"
      },
      "execution_count": null,
      "outputs": [
        {
          "output_type": "execute_result",
          "data": {
            "text/plain": [
              "{'MSRDT': '202410310600',\n",
              " 'MSRRGN_NM': '도심권',\n",
              " 'MSRSTE_NM': '중구',\n",
              " 'PM10': 26.0,\n",
              " 'PM25': 18.0,\n",
              " 'O3': 0.01,\n",
              " 'NO2': 0.021,\n",
              " 'CO': 0.5,\n",
              " 'SO2': 0.003,\n",
              " 'IDEX_NM': '보통',\n",
              " 'IDEX_MVL': 61.0,\n",
              " 'ARPLT_MAIN': 'PM-2.5'}"
            ]
          },
          "metadata": {},
          "execution_count": 67
        }
      ]
    },
    {
      "cell_type": "code",
      "source": [
        "resj['RealtimeCityAir']['row'][0]['NO2']"
      ],
      "metadata": {
        "colab": {
          "base_uri": "https://localhost:8080/"
        },
        "id": "JMsPlhBbf3io",
        "outputId": "20a168ac-b2c3-4b28-d4b6-38d44eddc570"
      },
      "execution_count": null,
      "outputs": [
        {
          "output_type": "execute_result",
          "data": {
            "text/plain": [
              "0.021"
            ]
          },
          "metadata": {},
          "execution_count": 69
        }
      ]
    },
    {
      "cell_type": "markdown",
      "source": [
        "### 딕셔너리 callable - 계층구조로 drill down이 가능\n",
        "### pd.json.normalize() 함수는 계층화된 구조의 데이터를 펴준다"
      ],
      "metadata": {
        "id": "QI3Zi68igAwd"
      }
    },
    {
      "cell_type": "code",
      "source": [
        "pd.json_normalize(resj['RealtimeCityAir']['row'])"
      ],
      "metadata": {
        "colab": {
          "base_uri": "https://localhost:8080/",
          "height": 833
        },
        "id": "500DLO8FBh12",
        "outputId": "5c4f2e2e-ae1a-430c-e630-b04b546a1426"
      },
      "execution_count": null,
      "outputs": [
        {
          "output_type": "execute_result",
          "data": {
            "text/plain": [
              "           MSRDT MSRRGN_NM MSRSTE_NM  PM10  PM25     O3    NO2   CO    SO2  \\\n",
              "0   202410310600       도심권        중구  26.0  18.0  0.010  0.021  0.5  0.003   \n",
              "1   202410310600       도심권       종로구  28.0  20.0  0.011  0.030  0.5  0.004   \n",
              "2   202410310600       도심권       용산구  32.0  19.0  0.005  0.034  0.5  0.003   \n",
              "3   202410310600       서북권       은평구  19.0  13.0  0.011  0.017  0.5  0.003   \n",
              "4   202410310600       서북권      서대문구  26.0  17.0  0.018  0.025  0.6  0.003   \n",
              "5   202410310600       서북권       마포구  29.0  18.0  0.018  0.024  0.5  0.003   \n",
              "6   202410310600       동북권       광진구  25.0  16.0  0.012  0.025  0.5  0.003   \n",
              "7   202410310600       동북권       성동구  28.0  18.0  0.006  0.031  0.4  0.003   \n",
              "8   202410310600       동북권       중랑구  26.0  17.0  0.015  0.019  0.4  0.002   \n",
              "9   202410310600       동북권      동대문구  31.0  20.0  0.009  0.030  0.5  0.003   \n",
              "10  202410310600       동북권       성북구  27.0  20.0  0.002  0.033  0.7  0.003   \n",
              "11  202410310600       동북권       도봉구  28.0  17.0  0.006  0.025  0.6  0.003   \n",
              "12  202410310600       동북권       강북구  22.0  15.0  0.019  0.013  0.5  0.002   \n",
              "13  202410310600       동북권       노원구  29.0  19.0  0.007  0.026  0.5  0.003   \n",
              "14  202410310600       서남권       강서구  33.0  20.0  0.002  0.028  0.6  0.004   \n",
              "15  202410310600       서남권       구로구  34.0  24.0  0.004  0.028  0.5  0.002   \n",
              "16  202410310600       서남권      영등포구  29.0  19.0  0.007  0.036  0.5  0.003   \n",
              "17  202410310600       서남권       동작구  29.0  19.0  0.003  0.033  0.6  0.003   \n",
              "18  202410310600       서남권       관악구  33.0  20.0  0.006  0.037  0.5  0.003   \n",
              "19  202410310600       서남권       금천구  25.0  20.0  0.007  0.026  0.5  0.003   \n",
              "20  202410310600       서남권       양천구  34.0  21.0  0.002  0.034  0.6  0.002   \n",
              "21  202410310600       동남권       강남구  26.0  17.0  0.014  0.023  0.4  0.002   \n",
              "22  202410310600       동남권       서초구  41.0  26.0  0.005  0.034  0.5  0.002   \n",
              "23  202410310600       동남권       송파구  32.0  20.0  0.002  0.033  0.6  0.002   \n",
              "24  202410310600       동남권       강동구  28.0  18.0  0.005  0.027  0.5  0.002   \n",
              "\n",
              "   IDEX_NM  IDEX_MVL ARPLT_MAIN  \n",
              "0       보통      61.0     PM-2.5  \n",
              "1       보통      69.0     PM-2.5  \n",
              "2       보통      64.0     PM-2.5  \n",
              "3       보통      51.0     PM-2.5  \n",
              "4       보통      56.0     PM-2.5  \n",
              "5       보통      61.0     PM-2.5  \n",
              "6       보통      56.0     PM-2.5  \n",
              "7       보통      61.0     PM-2.5  \n",
              "8       보통      64.0     PM-2.5  \n",
              "9       보통      66.0     PM-2.5  \n",
              "10      보통      61.0     PM-2.5  \n",
              "11      보통      54.0     PM-2.5  \n",
              "12      보통      54.0     PM-2.5  \n",
              "13      보통      64.0     PM-2.5  \n",
              "14      보통      64.0     PM-2.5  \n",
              "15      보통      74.0     PM-2.5  \n",
              "16      보통      61.0     PM-2.5  \n",
              "17      보통      64.0     PM-2.5  \n",
              "18      보통      66.0     PM-2.5  \n",
              "19      보통      61.0     PM-2.5  \n",
              "20      보통      66.0     PM-2.5  \n",
              "21      보통      61.0     PM-2.5  \n",
              "22      보통      74.0     PM-2.5  \n",
              "23      보통      64.0     PM-2.5  \n",
              "24      보통      66.0     PM-2.5  "
            ],
            "text/html": [
              "\n",
              "  <div id=\"df-8fef8efe-b051-46ef-86ad-46271cf1afd7\" class=\"colab-df-container\">\n",
              "    <div>\n",
              "<style scoped>\n",
              "    .dataframe tbody tr th:only-of-type {\n",
              "        vertical-align: middle;\n",
              "    }\n",
              "\n",
              "    .dataframe tbody tr th {\n",
              "        vertical-align: top;\n",
              "    }\n",
              "\n",
              "    .dataframe thead th {\n",
              "        text-align: right;\n",
              "    }\n",
              "</style>\n",
              "<table border=\"1\" class=\"dataframe\">\n",
              "  <thead>\n",
              "    <tr style=\"text-align: right;\">\n",
              "      <th></th>\n",
              "      <th>MSRDT</th>\n",
              "      <th>MSRRGN_NM</th>\n",
              "      <th>MSRSTE_NM</th>\n",
              "      <th>PM10</th>\n",
              "      <th>PM25</th>\n",
              "      <th>O3</th>\n",
              "      <th>NO2</th>\n",
              "      <th>CO</th>\n",
              "      <th>SO2</th>\n",
              "      <th>IDEX_NM</th>\n",
              "      <th>IDEX_MVL</th>\n",
              "      <th>ARPLT_MAIN</th>\n",
              "    </tr>\n",
              "  </thead>\n",
              "  <tbody>\n",
              "    <tr>\n",
              "      <th>0</th>\n",
              "      <td>202410310600</td>\n",
              "      <td>도심권</td>\n",
              "      <td>중구</td>\n",
              "      <td>26.0</td>\n",
              "      <td>18.0</td>\n",
              "      <td>0.010</td>\n",
              "      <td>0.021</td>\n",
              "      <td>0.5</td>\n",
              "      <td>0.003</td>\n",
              "      <td>보통</td>\n",
              "      <td>61.0</td>\n",
              "      <td>PM-2.5</td>\n",
              "    </tr>\n",
              "    <tr>\n",
              "      <th>1</th>\n",
              "      <td>202410310600</td>\n",
              "      <td>도심권</td>\n",
              "      <td>종로구</td>\n",
              "      <td>28.0</td>\n",
              "      <td>20.0</td>\n",
              "      <td>0.011</td>\n",
              "      <td>0.030</td>\n",
              "      <td>0.5</td>\n",
              "      <td>0.004</td>\n",
              "      <td>보통</td>\n",
              "      <td>69.0</td>\n",
              "      <td>PM-2.5</td>\n",
              "    </tr>\n",
              "    <tr>\n",
              "      <th>2</th>\n",
              "      <td>202410310600</td>\n",
              "      <td>도심권</td>\n",
              "      <td>용산구</td>\n",
              "      <td>32.0</td>\n",
              "      <td>19.0</td>\n",
              "      <td>0.005</td>\n",
              "      <td>0.034</td>\n",
              "      <td>0.5</td>\n",
              "      <td>0.003</td>\n",
              "      <td>보통</td>\n",
              "      <td>64.0</td>\n",
              "      <td>PM-2.5</td>\n",
              "    </tr>\n",
              "    <tr>\n",
              "      <th>3</th>\n",
              "      <td>202410310600</td>\n",
              "      <td>서북권</td>\n",
              "      <td>은평구</td>\n",
              "      <td>19.0</td>\n",
              "      <td>13.0</td>\n",
              "      <td>0.011</td>\n",
              "      <td>0.017</td>\n",
              "      <td>0.5</td>\n",
              "      <td>0.003</td>\n",
              "      <td>보통</td>\n",
              "      <td>51.0</td>\n",
              "      <td>PM-2.5</td>\n",
              "    </tr>\n",
              "    <tr>\n",
              "      <th>4</th>\n",
              "      <td>202410310600</td>\n",
              "      <td>서북권</td>\n",
              "      <td>서대문구</td>\n",
              "      <td>26.0</td>\n",
              "      <td>17.0</td>\n",
              "      <td>0.018</td>\n",
              "      <td>0.025</td>\n",
              "      <td>0.6</td>\n",
              "      <td>0.003</td>\n",
              "      <td>보통</td>\n",
              "      <td>56.0</td>\n",
              "      <td>PM-2.5</td>\n",
              "    </tr>\n",
              "    <tr>\n",
              "      <th>5</th>\n",
              "      <td>202410310600</td>\n",
              "      <td>서북권</td>\n",
              "      <td>마포구</td>\n",
              "      <td>29.0</td>\n",
              "      <td>18.0</td>\n",
              "      <td>0.018</td>\n",
              "      <td>0.024</td>\n",
              "      <td>0.5</td>\n",
              "      <td>0.003</td>\n",
              "      <td>보통</td>\n",
              "      <td>61.0</td>\n",
              "      <td>PM-2.5</td>\n",
              "    </tr>\n",
              "    <tr>\n",
              "      <th>6</th>\n",
              "      <td>202410310600</td>\n",
              "      <td>동북권</td>\n",
              "      <td>광진구</td>\n",
              "      <td>25.0</td>\n",
              "      <td>16.0</td>\n",
              "      <td>0.012</td>\n",
              "      <td>0.025</td>\n",
              "      <td>0.5</td>\n",
              "      <td>0.003</td>\n",
              "      <td>보통</td>\n",
              "      <td>56.0</td>\n",
              "      <td>PM-2.5</td>\n",
              "    </tr>\n",
              "    <tr>\n",
              "      <th>7</th>\n",
              "      <td>202410310600</td>\n",
              "      <td>동북권</td>\n",
              "      <td>성동구</td>\n",
              "      <td>28.0</td>\n",
              "      <td>18.0</td>\n",
              "      <td>0.006</td>\n",
              "      <td>0.031</td>\n",
              "      <td>0.4</td>\n",
              "      <td>0.003</td>\n",
              "      <td>보통</td>\n",
              "      <td>61.0</td>\n",
              "      <td>PM-2.5</td>\n",
              "    </tr>\n",
              "    <tr>\n",
              "      <th>8</th>\n",
              "      <td>202410310600</td>\n",
              "      <td>동북권</td>\n",
              "      <td>중랑구</td>\n",
              "      <td>26.0</td>\n",
              "      <td>17.0</td>\n",
              "      <td>0.015</td>\n",
              "      <td>0.019</td>\n",
              "      <td>0.4</td>\n",
              "      <td>0.002</td>\n",
              "      <td>보통</td>\n",
              "      <td>64.0</td>\n",
              "      <td>PM-2.5</td>\n",
              "    </tr>\n",
              "    <tr>\n",
              "      <th>9</th>\n",
              "      <td>202410310600</td>\n",
              "      <td>동북권</td>\n",
              "      <td>동대문구</td>\n",
              "      <td>31.0</td>\n",
              "      <td>20.0</td>\n",
              "      <td>0.009</td>\n",
              "      <td>0.030</td>\n",
              "      <td>0.5</td>\n",
              "      <td>0.003</td>\n",
              "      <td>보통</td>\n",
              "      <td>66.0</td>\n",
              "      <td>PM-2.5</td>\n",
              "    </tr>\n",
              "    <tr>\n",
              "      <th>10</th>\n",
              "      <td>202410310600</td>\n",
              "      <td>동북권</td>\n",
              "      <td>성북구</td>\n",
              "      <td>27.0</td>\n",
              "      <td>20.0</td>\n",
              "      <td>0.002</td>\n",
              "      <td>0.033</td>\n",
              "      <td>0.7</td>\n",
              "      <td>0.003</td>\n",
              "      <td>보통</td>\n",
              "      <td>61.0</td>\n",
              "      <td>PM-2.5</td>\n",
              "    </tr>\n",
              "    <tr>\n",
              "      <th>11</th>\n",
              "      <td>202410310600</td>\n",
              "      <td>동북권</td>\n",
              "      <td>도봉구</td>\n",
              "      <td>28.0</td>\n",
              "      <td>17.0</td>\n",
              "      <td>0.006</td>\n",
              "      <td>0.025</td>\n",
              "      <td>0.6</td>\n",
              "      <td>0.003</td>\n",
              "      <td>보통</td>\n",
              "      <td>54.0</td>\n",
              "      <td>PM-2.5</td>\n",
              "    </tr>\n",
              "    <tr>\n",
              "      <th>12</th>\n",
              "      <td>202410310600</td>\n",
              "      <td>동북권</td>\n",
              "      <td>강북구</td>\n",
              "      <td>22.0</td>\n",
              "      <td>15.0</td>\n",
              "      <td>0.019</td>\n",
              "      <td>0.013</td>\n",
              "      <td>0.5</td>\n",
              "      <td>0.002</td>\n",
              "      <td>보통</td>\n",
              "      <td>54.0</td>\n",
              "      <td>PM-2.5</td>\n",
              "    </tr>\n",
              "    <tr>\n",
              "      <th>13</th>\n",
              "      <td>202410310600</td>\n",
              "      <td>동북권</td>\n",
              "      <td>노원구</td>\n",
              "      <td>29.0</td>\n",
              "      <td>19.0</td>\n",
              "      <td>0.007</td>\n",
              "      <td>0.026</td>\n",
              "      <td>0.5</td>\n",
              "      <td>0.003</td>\n",
              "      <td>보통</td>\n",
              "      <td>64.0</td>\n",
              "      <td>PM-2.5</td>\n",
              "    </tr>\n",
              "    <tr>\n",
              "      <th>14</th>\n",
              "      <td>202410310600</td>\n",
              "      <td>서남권</td>\n",
              "      <td>강서구</td>\n",
              "      <td>33.0</td>\n",
              "      <td>20.0</td>\n",
              "      <td>0.002</td>\n",
              "      <td>0.028</td>\n",
              "      <td>0.6</td>\n",
              "      <td>0.004</td>\n",
              "      <td>보통</td>\n",
              "      <td>64.0</td>\n",
              "      <td>PM-2.5</td>\n",
              "    </tr>\n",
              "    <tr>\n",
              "      <th>15</th>\n",
              "      <td>202410310600</td>\n",
              "      <td>서남권</td>\n",
              "      <td>구로구</td>\n",
              "      <td>34.0</td>\n",
              "      <td>24.0</td>\n",
              "      <td>0.004</td>\n",
              "      <td>0.028</td>\n",
              "      <td>0.5</td>\n",
              "      <td>0.002</td>\n",
              "      <td>보통</td>\n",
              "      <td>74.0</td>\n",
              "      <td>PM-2.5</td>\n",
              "    </tr>\n",
              "    <tr>\n",
              "      <th>16</th>\n",
              "      <td>202410310600</td>\n",
              "      <td>서남권</td>\n",
              "      <td>영등포구</td>\n",
              "      <td>29.0</td>\n",
              "      <td>19.0</td>\n",
              "      <td>0.007</td>\n",
              "      <td>0.036</td>\n",
              "      <td>0.5</td>\n",
              "      <td>0.003</td>\n",
              "      <td>보통</td>\n",
              "      <td>61.0</td>\n",
              "      <td>PM-2.5</td>\n",
              "    </tr>\n",
              "    <tr>\n",
              "      <th>17</th>\n",
              "      <td>202410310600</td>\n",
              "      <td>서남권</td>\n",
              "      <td>동작구</td>\n",
              "      <td>29.0</td>\n",
              "      <td>19.0</td>\n",
              "      <td>0.003</td>\n",
              "      <td>0.033</td>\n",
              "      <td>0.6</td>\n",
              "      <td>0.003</td>\n",
              "      <td>보통</td>\n",
              "      <td>64.0</td>\n",
              "      <td>PM-2.5</td>\n",
              "    </tr>\n",
              "    <tr>\n",
              "      <th>18</th>\n",
              "      <td>202410310600</td>\n",
              "      <td>서남권</td>\n",
              "      <td>관악구</td>\n",
              "      <td>33.0</td>\n",
              "      <td>20.0</td>\n",
              "      <td>0.006</td>\n",
              "      <td>0.037</td>\n",
              "      <td>0.5</td>\n",
              "      <td>0.003</td>\n",
              "      <td>보통</td>\n",
              "      <td>66.0</td>\n",
              "      <td>PM-2.5</td>\n",
              "    </tr>\n",
              "    <tr>\n",
              "      <th>19</th>\n",
              "      <td>202410310600</td>\n",
              "      <td>서남권</td>\n",
              "      <td>금천구</td>\n",
              "      <td>25.0</td>\n",
              "      <td>20.0</td>\n",
              "      <td>0.007</td>\n",
              "      <td>0.026</td>\n",
              "      <td>0.5</td>\n",
              "      <td>0.003</td>\n",
              "      <td>보통</td>\n",
              "      <td>61.0</td>\n",
              "      <td>PM-2.5</td>\n",
              "    </tr>\n",
              "    <tr>\n",
              "      <th>20</th>\n",
              "      <td>202410310600</td>\n",
              "      <td>서남권</td>\n",
              "      <td>양천구</td>\n",
              "      <td>34.0</td>\n",
              "      <td>21.0</td>\n",
              "      <td>0.002</td>\n",
              "      <td>0.034</td>\n",
              "      <td>0.6</td>\n",
              "      <td>0.002</td>\n",
              "      <td>보통</td>\n",
              "      <td>66.0</td>\n",
              "      <td>PM-2.5</td>\n",
              "    </tr>\n",
              "    <tr>\n",
              "      <th>21</th>\n",
              "      <td>202410310600</td>\n",
              "      <td>동남권</td>\n",
              "      <td>강남구</td>\n",
              "      <td>26.0</td>\n",
              "      <td>17.0</td>\n",
              "      <td>0.014</td>\n",
              "      <td>0.023</td>\n",
              "      <td>0.4</td>\n",
              "      <td>0.002</td>\n",
              "      <td>보통</td>\n",
              "      <td>61.0</td>\n",
              "      <td>PM-2.5</td>\n",
              "    </tr>\n",
              "    <tr>\n",
              "      <th>22</th>\n",
              "      <td>202410310600</td>\n",
              "      <td>동남권</td>\n",
              "      <td>서초구</td>\n",
              "      <td>41.0</td>\n",
              "      <td>26.0</td>\n",
              "      <td>0.005</td>\n",
              "      <td>0.034</td>\n",
              "      <td>0.5</td>\n",
              "      <td>0.002</td>\n",
              "      <td>보통</td>\n",
              "      <td>74.0</td>\n",
              "      <td>PM-2.5</td>\n",
              "    </tr>\n",
              "    <tr>\n",
              "      <th>23</th>\n",
              "      <td>202410310600</td>\n",
              "      <td>동남권</td>\n",
              "      <td>송파구</td>\n",
              "      <td>32.0</td>\n",
              "      <td>20.0</td>\n",
              "      <td>0.002</td>\n",
              "      <td>0.033</td>\n",
              "      <td>0.6</td>\n",
              "      <td>0.002</td>\n",
              "      <td>보통</td>\n",
              "      <td>64.0</td>\n",
              "      <td>PM-2.5</td>\n",
              "    </tr>\n",
              "    <tr>\n",
              "      <th>24</th>\n",
              "      <td>202410310600</td>\n",
              "      <td>동남권</td>\n",
              "      <td>강동구</td>\n",
              "      <td>28.0</td>\n",
              "      <td>18.0</td>\n",
              "      <td>0.005</td>\n",
              "      <td>0.027</td>\n",
              "      <td>0.5</td>\n",
              "      <td>0.002</td>\n",
              "      <td>보통</td>\n",
              "      <td>66.0</td>\n",
              "      <td>PM-2.5</td>\n",
              "    </tr>\n",
              "  </tbody>\n",
              "</table>\n",
              "</div>\n",
              "    <div class=\"colab-df-buttons\">\n",
              "\n",
              "  <div class=\"colab-df-container\">\n",
              "    <button class=\"colab-df-convert\" onclick=\"convertToInteractive('df-8fef8efe-b051-46ef-86ad-46271cf1afd7')\"\n",
              "            title=\"Convert this dataframe to an interactive table.\"\n",
              "            style=\"display:none;\">\n",
              "\n",
              "  <svg xmlns=\"http://www.w3.org/2000/svg\" height=\"24px\" viewBox=\"0 -960 960 960\">\n",
              "    <path d=\"M120-120v-720h720v720H120Zm60-500h600v-160H180v160Zm220 220h160v-160H400v160Zm0 220h160v-160H400v160ZM180-400h160v-160H180v160Zm440 0h160v-160H620v160ZM180-180h160v-160H180v160Zm440 0h160v-160H620v160Z\"/>\n",
              "  </svg>\n",
              "    </button>\n",
              "\n",
              "  <style>\n",
              "    .colab-df-container {\n",
              "      display:flex;\n",
              "      gap: 12px;\n",
              "    }\n",
              "\n",
              "    .colab-df-convert {\n",
              "      background-color: #E8F0FE;\n",
              "      border: none;\n",
              "      border-radius: 50%;\n",
              "      cursor: pointer;\n",
              "      display: none;\n",
              "      fill: #1967D2;\n",
              "      height: 32px;\n",
              "      padding: 0 0 0 0;\n",
              "      width: 32px;\n",
              "    }\n",
              "\n",
              "    .colab-df-convert:hover {\n",
              "      background-color: #E2EBFA;\n",
              "      box-shadow: 0px 1px 2px rgba(60, 64, 67, 0.3), 0px 1px 3px 1px rgba(60, 64, 67, 0.15);\n",
              "      fill: #174EA6;\n",
              "    }\n",
              "\n",
              "    .colab-df-buttons div {\n",
              "      margin-bottom: 4px;\n",
              "    }\n",
              "\n",
              "    [theme=dark] .colab-df-convert {\n",
              "      background-color: #3B4455;\n",
              "      fill: #D2E3FC;\n",
              "    }\n",
              "\n",
              "    [theme=dark] .colab-df-convert:hover {\n",
              "      background-color: #434B5C;\n",
              "      box-shadow: 0px 1px 3px 1px rgba(0, 0, 0, 0.15);\n",
              "      filter: drop-shadow(0px 1px 2px rgba(0, 0, 0, 0.3));\n",
              "      fill: #FFFFFF;\n",
              "    }\n",
              "  </style>\n",
              "\n",
              "    <script>\n",
              "      const buttonEl =\n",
              "        document.querySelector('#df-8fef8efe-b051-46ef-86ad-46271cf1afd7 button.colab-df-convert');\n",
              "      buttonEl.style.display =\n",
              "        google.colab.kernel.accessAllowed ? 'block' : 'none';\n",
              "\n",
              "      async function convertToInteractive(key) {\n",
              "        const element = document.querySelector('#df-8fef8efe-b051-46ef-86ad-46271cf1afd7');\n",
              "        const dataTable =\n",
              "          await google.colab.kernel.invokeFunction('convertToInteractive',\n",
              "                                                    [key], {});\n",
              "        if (!dataTable) return;\n",
              "\n",
              "        const docLinkHtml = 'Like what you see? Visit the ' +\n",
              "          '<a target=\"_blank\" href=https://colab.research.google.com/notebooks/data_table.ipynb>data table notebook</a>'\n",
              "          + ' to learn more about interactive tables.';\n",
              "        element.innerHTML = '';\n",
              "        dataTable['output_type'] = 'display_data';\n",
              "        await google.colab.output.renderOutput(dataTable, element);\n",
              "        const docLink = document.createElement('div');\n",
              "        docLink.innerHTML = docLinkHtml;\n",
              "        element.appendChild(docLink);\n",
              "      }\n",
              "    </script>\n",
              "  </div>\n",
              "\n",
              "\n",
              "<div id=\"df-246919d0-6f63-48fe-a8b8-3396c5c91b2e\">\n",
              "  <button class=\"colab-df-quickchart\" onclick=\"quickchart('df-246919d0-6f63-48fe-a8b8-3396c5c91b2e')\"\n",
              "            title=\"Suggest charts\"\n",
              "            style=\"display:none;\">\n",
              "\n",
              "<svg xmlns=\"http://www.w3.org/2000/svg\" height=\"24px\"viewBox=\"0 0 24 24\"\n",
              "     width=\"24px\">\n",
              "    <g>\n",
              "        <path d=\"M19 3H5c-1.1 0-2 .9-2 2v14c0 1.1.9 2 2 2h14c1.1 0 2-.9 2-2V5c0-1.1-.9-2-2-2zM9 17H7v-7h2v7zm4 0h-2V7h2v10zm4 0h-2v-4h2v4z\"/>\n",
              "    </g>\n",
              "</svg>\n",
              "  </button>\n",
              "\n",
              "<style>\n",
              "  .colab-df-quickchart {\n",
              "      --bg-color: #E8F0FE;\n",
              "      --fill-color: #1967D2;\n",
              "      --hover-bg-color: #E2EBFA;\n",
              "      --hover-fill-color: #174EA6;\n",
              "      --disabled-fill-color: #AAA;\n",
              "      --disabled-bg-color: #DDD;\n",
              "  }\n",
              "\n",
              "  [theme=dark] .colab-df-quickchart {\n",
              "      --bg-color: #3B4455;\n",
              "      --fill-color: #D2E3FC;\n",
              "      --hover-bg-color: #434B5C;\n",
              "      --hover-fill-color: #FFFFFF;\n",
              "      --disabled-bg-color: #3B4455;\n",
              "      --disabled-fill-color: #666;\n",
              "  }\n",
              "\n",
              "  .colab-df-quickchart {\n",
              "    background-color: var(--bg-color);\n",
              "    border: none;\n",
              "    border-radius: 50%;\n",
              "    cursor: pointer;\n",
              "    display: none;\n",
              "    fill: var(--fill-color);\n",
              "    height: 32px;\n",
              "    padding: 0;\n",
              "    width: 32px;\n",
              "  }\n",
              "\n",
              "  .colab-df-quickchart:hover {\n",
              "    background-color: var(--hover-bg-color);\n",
              "    box-shadow: 0 1px 2px rgba(60, 64, 67, 0.3), 0 1px 3px 1px rgba(60, 64, 67, 0.15);\n",
              "    fill: var(--button-hover-fill-color);\n",
              "  }\n",
              "\n",
              "  .colab-df-quickchart-complete:disabled,\n",
              "  .colab-df-quickchart-complete:disabled:hover {\n",
              "    background-color: var(--disabled-bg-color);\n",
              "    fill: var(--disabled-fill-color);\n",
              "    box-shadow: none;\n",
              "  }\n",
              "\n",
              "  .colab-df-spinner {\n",
              "    border: 2px solid var(--fill-color);\n",
              "    border-color: transparent;\n",
              "    border-bottom-color: var(--fill-color);\n",
              "    animation:\n",
              "      spin 1s steps(1) infinite;\n",
              "  }\n",
              "\n",
              "  @keyframes spin {\n",
              "    0% {\n",
              "      border-color: transparent;\n",
              "      border-bottom-color: var(--fill-color);\n",
              "      border-left-color: var(--fill-color);\n",
              "    }\n",
              "    20% {\n",
              "      border-color: transparent;\n",
              "      border-left-color: var(--fill-color);\n",
              "      border-top-color: var(--fill-color);\n",
              "    }\n",
              "    30% {\n",
              "      border-color: transparent;\n",
              "      border-left-color: var(--fill-color);\n",
              "      border-top-color: var(--fill-color);\n",
              "      border-right-color: var(--fill-color);\n",
              "    }\n",
              "    40% {\n",
              "      border-color: transparent;\n",
              "      border-right-color: var(--fill-color);\n",
              "      border-top-color: var(--fill-color);\n",
              "    }\n",
              "    60% {\n",
              "      border-color: transparent;\n",
              "      border-right-color: var(--fill-color);\n",
              "    }\n",
              "    80% {\n",
              "      border-color: transparent;\n",
              "      border-right-color: var(--fill-color);\n",
              "      border-bottom-color: var(--fill-color);\n",
              "    }\n",
              "    90% {\n",
              "      border-color: transparent;\n",
              "      border-bottom-color: var(--fill-color);\n",
              "    }\n",
              "  }\n",
              "</style>\n",
              "\n",
              "  <script>\n",
              "    async function quickchart(key) {\n",
              "      const quickchartButtonEl =\n",
              "        document.querySelector('#' + key + ' button');\n",
              "      quickchartButtonEl.disabled = true;  // To prevent multiple clicks.\n",
              "      quickchartButtonEl.classList.add('colab-df-spinner');\n",
              "      try {\n",
              "        const charts = await google.colab.kernel.invokeFunction(\n",
              "            'suggestCharts', [key], {});\n",
              "      } catch (error) {\n",
              "        console.error('Error during call to suggestCharts:', error);\n",
              "      }\n",
              "      quickchartButtonEl.classList.remove('colab-df-spinner');\n",
              "      quickchartButtonEl.classList.add('colab-df-quickchart-complete');\n",
              "    }\n",
              "    (() => {\n",
              "      let quickchartButtonEl =\n",
              "        document.querySelector('#df-246919d0-6f63-48fe-a8b8-3396c5c91b2e button');\n",
              "      quickchartButtonEl.style.display =\n",
              "        google.colab.kernel.accessAllowed ? 'block' : 'none';\n",
              "    })();\n",
              "  </script>\n",
              "</div>\n",
              "\n",
              "    </div>\n",
              "  </div>\n"
            ],
            "application/vnd.google.colaboratory.intrinsic+json": {
              "type": "dataframe",
              "summary": "{\n  \"name\": \"pd\",\n  \"rows\": 25,\n  \"fields\": [\n    {\n      \"column\": \"MSRDT\",\n      \"properties\": {\n        \"dtype\": \"object\",\n        \"num_unique_values\": 1,\n        \"samples\": [\n          \"202410310600\"\n        ],\n        \"semantic_type\": \"\",\n        \"description\": \"\"\n      }\n    },\n    {\n      \"column\": \"MSRRGN_NM\",\n      \"properties\": {\n        \"dtype\": \"category\",\n        \"num_unique_values\": 5,\n        \"samples\": [\n          \"\\uc11c\\ubd81\\uad8c\"\n        ],\n        \"semantic_type\": \"\",\n        \"description\": \"\"\n      }\n    },\n    {\n      \"column\": \"MSRSTE_NM\",\n      \"properties\": {\n        \"dtype\": \"string\",\n        \"num_unique_values\": 25,\n        \"samples\": [\n          \"\\uc911\\ub791\\uad6c\"\n        ],\n        \"semantic_type\": \"\",\n        \"description\": \"\"\n      }\n    },\n    {\n      \"column\": \"PM10\",\n      \"properties\": {\n        \"dtype\": \"number\",\n        \"std\": 4.43471156521669,\n        \"min\": 19.0,\n        \"max\": 41.0,\n        \"num_unique_values\": 12,\n        \"samples\": [\n          34.0\n        ],\n        \"semantic_type\": \"\",\n        \"description\": \"\"\n      }\n    },\n    {\n      \"column\": \"PM25\",\n      \"properties\": {\n        \"dtype\": \"number\",\n        \"std\": 2.6248809496813372,\n        \"min\": 13.0,\n        \"max\": 26.0,\n        \"num_unique_values\": 10,\n        \"samples\": [\n          21.0\n        ],\n        \"semantic_type\": \"\",\n        \"description\": \"\"\n      }\n    },\n    {\n      \"column\": \"O3\",\n      \"properties\": {\n        \"dtype\": \"number\",\n        \"std\": 0.005285830114561005,\n        \"min\": 0.002,\n        \"max\": 0.019,\n        \"num_unique_values\": 14,\n        \"samples\": [\n          0.019\n        ],\n        \"semantic_type\": \"\",\n        \"description\": \"\"\n      }\n    },\n    {\n      \"column\": \"NO2\",\n      \"properties\": {\n        \"dtype\": \"number\",\n        \"std\": 0.00610819122163018,\n        \"min\": 0.013,\n        \"max\": 0.037,\n        \"num_unique_values\": 16,\n        \"samples\": [\n          0.021\n        ],\n        \"semantic_type\": \"\",\n        \"description\": \"\"\n      }\n    },\n    {\n      \"column\": \"CO\",\n      \"properties\": {\n        \"dtype\": \"number\",\n        \"std\": 0.07071067811865471,\n        \"min\": 0.4,\n        \"max\": 0.7,\n        \"num_unique_values\": 4,\n        \"samples\": [\n          0.6\n        ],\n        \"semantic_type\": \"\",\n        \"description\": \"\"\n      }\n    },\n    {\n      \"column\": \"SO2\",\n      \"properties\": {\n        \"dtype\": \"number\",\n        \"std\": 0.0005972157622389639,\n        \"min\": 0.002,\n        \"max\": 0.004,\n        \"num_unique_values\": 3,\n        \"samples\": [\n          0.003\n        ],\n        \"semantic_type\": \"\",\n        \"description\": \"\"\n      }\n    },\n    {\n      \"column\": \"IDEX_NM\",\n      \"properties\": {\n        \"dtype\": \"category\",\n        \"num_unique_values\": 1,\n        \"samples\": [\n          \"\\ubcf4\\ud1b5\"\n        ],\n        \"semantic_type\": \"\",\n        \"description\": \"\"\n      }\n    },\n    {\n      \"column\": \"IDEX_MVL\",\n      \"properties\": {\n        \"dtype\": \"number\",\n        \"std\": 5.576139644353729,\n        \"min\": 51.0,\n        \"max\": 74.0,\n        \"num_unique_values\": 8,\n        \"samples\": [\n          69.0\n        ],\n        \"semantic_type\": \"\",\n        \"description\": \"\"\n      }\n    },\n    {\n      \"column\": \"ARPLT_MAIN\",\n      \"properties\": {\n        \"dtype\": \"category\",\n        \"num_unique_values\": 1,\n        \"samples\": [\n          \"PM-2.5\"\n        ],\n        \"semantic_type\": \"\",\n        \"description\": \"\"\n      }\n    }\n  ]\n}"
            }
          },
          "metadata": {},
          "execution_count": 70
        }
      ]
    }
  ]
}